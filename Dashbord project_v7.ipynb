{
 "cells": [
  {
   "cell_type": "code",
   "execution_count": 46,
   "metadata": {},
   "outputs": [],
   "source": [
    "# Import librarais Projet SID 21\n",
    "# bibliothéque basique\n",
    "import numpy as np \n",
    "import pandas as pd\n",
    "# bibliotéque connection oracle database\n",
    "\n",
    "# bibliothéque dash\n",
    "import dash\n",
    "import dash_bootstrap_components as dbc\n",
    "import dash_core_components as dcc\n",
    "import dash_html_components as html\n",
    "from dash.dependencies import Input, Output\n",
    "#### pour les graphes\n",
    "import plotly.graph_objects as go\n",
    "from plotly.subplots import make_subplots\n",
    "### word cloud\n",
    "from wordcloud import WordCloud, STOPWORDS\n",
    "import plotly.graph_objs as go"
   ]
  },
  {
   "cell_type": "markdown",
   "metadata": {},
   "source": [
    "# Partie I) connection avec oracle et récuperation des données."
   ]
  },
  {
   "cell_type": "code",
   "execution_count": null,
   "metadata": {},
   "outputs": [],
   "source": [
    "## oracle"
   ]
  },
  {
   "cell_type": "code",
   "execution_count": 45,
   "metadata": {},
   "outputs": [],
   "source": [
    "# import data\n",
    "df=pd.read_csv('/home/sid2020-7/M1 S2/Projet Dashbord/Dashboard_V7.csv')"
   ]
  },
  {
   "cell_type": "markdown",
   "metadata": {},
   "source": [
    "# Partie I I ) Nettoyage des données."
   ]
  },
  {
   "cell_type": "code",
   "execution_count": 47,
   "metadata": {},
   "outputs": [],
   "source": [
    "\n",
    "### fonction pour netoyer le colonne keywords\n",
    "def keywords(txt):\n",
    "    b = []\n",
    "    txt=str(txt)\n",
    "    for i in range(0,len(txt.lower().split('], ['))):\n",
    "        if i ==0:\n",
    "            c = txt.lower().split('], [')[i].replace(\"'\",\"\").replace(\",\",\"\")\n",
    "            b.append(c[2:])\n",
    "        elif i == len(txt.lower().split('], ['))-1:\n",
    "            c = txt.lower().split('], [')[i].replace(\"'\",\"\").replace(\",\",\"\")\n",
    "            b.append(c[:-2])\n",
    "        else:\n",
    "            b.append(txt.lower().split('], [')[i].replace(\"'\",\"\").replace(\",\",\"\"))\n",
    "    return(b)\n",
    "\n",
    "# fonction pour nettoyer l'abstract\n",
    "from nltk.corpus import stopwords\n",
    "import unicodedata\n",
    "from string import punctuation \n",
    "\n",
    "# netoyage de text\n",
    "def preprocess_text(sen):\n",
    "    stop = stopwords.words('english')\n",
    "    punctuations=punctuation+\"’”“‘…„—᾿‐–‑′•›‹⁄―‚→（）『』》《。↓↵'͞ʻʿ'\"+'″￼'\n",
    "    sen=str(sen)\n",
    "    sen = sen[0:1000]\n",
    "    sentence = sen.lower()\n",
    "    sentence = str(sentence).strip()\n",
    "    sentence = \" \".join(sentence.split())\n",
    "    for p in punctuations:\n",
    "        sentence = sentence.replace(p,\" \")\n",
    "    sentence = ''.join((c for c in unicodedata.normalize('NFD', sentence) if unicodedata.category(c) != 'Mn'))\n",
    "    sentence = ''.join([i for i in sentence if not i.isdigit()])\n",
    "\n",
    "    sentence = ' '.join([w for w in sentence.split() if len(w)>1])\n",
    "    sentence = ' '.join([w for w in sentence.split() if len(w)<50])\n",
    "\n",
    "    return sentence\n",
    "\n",
    "def taille(colonne):\n",
    "    return(len(str(colonne).split(\" \")))"
   ]
  },
  {
   "cell_type": "code",
   "execution_count": 48,
   "metadata": {},
   "outputs": [
    {
     "data": {
      "text/html": [
       "<div>\n",
       "<style scoped>\n",
       "    .dataframe tbody tr th:only-of-type {\n",
       "        vertical-align: middle;\n",
       "    }\n",
       "\n",
       "    .dataframe tbody tr th {\n",
       "        vertical-align: top;\n",
       "    }\n",
       "\n",
       "    .dataframe thead th {\n",
       "        text-align: right;\n",
       "    }\n",
       "</style>\n",
       "<table border=\"1\" class=\"dataframe\">\n",
       "  <thead>\n",
       "    <tr style=\"text-align: right;\">\n",
       "      <th></th>\n",
       "      <th>Annee</th>\n",
       "      <th>Pays</th>\n",
       "      <th>new_keywords</th>\n",
       "      <th>taille</th>\n",
       "      <th>net_text</th>\n",
       "    </tr>\n",
       "  </thead>\n",
       "  <tbody>\n",
       "    <tr>\n",
       "      <th>0</th>\n",
       "      <td>2009</td>\n",
       "      <td>taiwan</td>\n",
       "      <td>[algorithms, artificial intelligence, bayes th...</td>\n",
       "      <td>302</td>\n",
       "      <td>accurate grading for prostatic carcinoma in pa...</td>\n",
       "    </tr>\n",
       "    <tr>\n",
       "      <th>1</th>\n",
       "      <td>2014</td>\n",
       "      <td>taiwan</td>\n",
       "      <td>[atp binding cassette transporter subfamily g ...</td>\n",
       "      <td>130</td>\n",
       "      <td>background breast cancer resistant protein has...</td>\n",
       "    </tr>\n",
       "    <tr>\n",
       "      <th>2</th>\n",
       "      <td>2007</td>\n",
       "      <td>japan</td>\n",
       "      <td>[algorithms, artificial intelligence, elastici...</td>\n",
       "      <td>173</td>\n",
       "      <td>we have developed thoracoscopic surgical navig...</td>\n",
       "    </tr>\n",
       "    <tr>\n",
       "      <th>3</th>\n",
       "      <td>2011</td>\n",
       "      <td>iran</td>\n",
       "      <td>[adult, brain mapping methods, case control st...</td>\n",
       "      <td>187</td>\n",
       "      <td>schizophrenia is often considered as dysconnec...</td>\n",
       "    </tr>\n",
       "    <tr>\n",
       "      <th>4</th>\n",
       "      <td>2011</td>\n",
       "      <td>canada</td>\n",
       "      <td>[algorithms, artificial intelligence, atherosc...</td>\n",
       "      <td>143</td>\n",
       "      <td>purpose three dimensional ultrasound us of the...</td>\n",
       "    </tr>\n",
       "    <tr>\n",
       "      <th>...</th>\n",
       "      <td>...</td>\n",
       "      <td>...</td>\n",
       "      <td>...</td>\n",
       "      <td>...</td>\n",
       "      <td>...</td>\n",
       "    </tr>\n",
       "    <tr>\n",
       "      <th>9986</th>\n",
       "      <td>2018</td>\n",
       "      <td>non renseigne</td>\n",
       "      <td>[algorithms, humans, image interpretation comp...</td>\n",
       "      <td>355</td>\n",
       "      <td>automated methods for detecting clinically sig...</td>\n",
       "    </tr>\n",
       "    <tr>\n",
       "      <th>9987</th>\n",
       "      <td>2019</td>\n",
       "      <td>japan</td>\n",
       "      <td>[anemia aplastic diagnosis, automation, diagno...</td>\n",
       "      <td>266</td>\n",
       "      <td>detection of dysmorphic cells in peripheral bl...</td>\n",
       "    </tr>\n",
       "    <tr>\n",
       "      <th>9988</th>\n",
       "      <td>2019</td>\n",
       "      <td>non renseigne</td>\n",
       "      <td>[databases factual, dermoscopy methods, humans...</td>\n",
       "      <td>273</td>\n",
       "      <td>the presence of certain clinical dermoscopic f...</td>\n",
       "    </tr>\n",
       "    <tr>\n",
       "      <th>9989</th>\n",
       "      <td>2009</td>\n",
       "      <td>korea</td>\n",
       "      <td>[algorithms, bile duct neoplasms diagnosis, bi...</td>\n",
       "      <td>196</td>\n",
       "      <td>cholangiocarcinoma cancer of the bile ducts is...</td>\n",
       "    </tr>\n",
       "    <tr>\n",
       "      <th>9990</th>\n",
       "      <td>2019</td>\n",
       "      <td>brazil</td>\n",
       "      <td>[animals, brain metabolism, brain physiology, ...</td>\n",
       "      <td>179</td>\n",
       "      <td>dopamine has major behavioral impact related t...</td>\n",
       "    </tr>\n",
       "  </tbody>\n",
       "</table>\n",
       "<p>9991 rows × 5 columns</p>\n",
       "</div>"
      ],
      "text/plain": [
       "      Annee           Pays                                       new_keywords  \\\n",
       "0      2009         taiwan  [algorithms, artificial intelligence, bayes th...   \n",
       "1      2014         taiwan  [atp binding cassette transporter subfamily g ...   \n",
       "2      2007          japan  [algorithms, artificial intelligence, elastici...   \n",
       "3      2011           iran  [adult, brain mapping methods, case control st...   \n",
       "4      2011         canada  [algorithms, artificial intelligence, atherosc...   \n",
       "...     ...            ...                                                ...   \n",
       "9986   2018  non renseigne  [algorithms, humans, image interpretation comp...   \n",
       "9987   2019          japan  [anemia aplastic diagnosis, automation, diagno...   \n",
       "9988   2019  non renseigne  [databases factual, dermoscopy methods, humans...   \n",
       "9989   2009          korea  [algorithms, bile duct neoplasms diagnosis, bi...   \n",
       "9990   2019         brazil  [animals, brain metabolism, brain physiology, ...   \n",
       "\n",
       "      taille                                           net_text  \n",
       "0        302  accurate grading for prostatic carcinoma in pa...  \n",
       "1        130  background breast cancer resistant protein has...  \n",
       "2        173  we have developed thoracoscopic surgical navig...  \n",
       "3        187  schizophrenia is often considered as dysconnec...  \n",
       "4        143  purpose three dimensional ultrasound us of the...  \n",
       "...      ...                                                ...  \n",
       "9986     355  automated methods for detecting clinically sig...  \n",
       "9987     266  detection of dysmorphic cells in peripheral bl...  \n",
       "9988     273  the presence of certain clinical dermoscopic f...  \n",
       "9989     196  cholangiocarcinoma cancer of the bile ducts is...  \n",
       "9990     179  dopamine has major behavioral impact related t...  \n",
       "\n",
       "[9991 rows x 5 columns]"
      ]
     },
     "execution_count": 48,
     "metadata": {},
     "output_type": "execute_result"
    }
   ],
   "source": [
    "## apliquer netoyege et extaction de mots clés comme texte sur la dataframe\n",
    "df['new_keywords']=df['keywords'].apply(keywords)\n",
    "df['taille']=df['Abstract'].apply(taille)\n",
    "df['txt']=df['Abstract'].astype(str) + df['new_keywords'].astype(str) \n",
    "df['net_text']=df['txt'].apply(preprocess_text)\n",
    "df.drop(df.columns.difference(['Annee','Pays','taille','net_text','new_keywords']), 1, inplace=True)\n"
   ]
  },
  {
   "cell_type": "code",
   "execution_count": 49,
   "metadata": {},
   "outputs": [],
   "source": [
    "#######################################################################\n",
    "## l'occurence des thermes dans chaque articles.\n",
    "\n",
    "domaine=['drug design','detection','diagnostic','patient care']\n",
    "\n",
    "AI_methodes=['artificial intelligence','support vector machine','imaging methods','decision tree','classification'\n",
    "            ,'deep learning','robotic', 'logistic regression','neural networks','component analysis','data mining']\n",
    "maladie=['cancer','schizophrenia',\"diabetes\",\"asthma\",\"cardiovascular\",\"alzheimer\",\"neurodegenerative\"]\n",
    "\n",
    "# pour les des maladies\n",
    "for e in maladie:\n",
    "    df[e]=df.net_text.str.count(e)\n",
    "### pour les methodes de l'intellegence artificielle\n",
    "for e in AI_methodes:\n",
    "    df[e]=df.net_text.str.count(e)\n",
    "\n",
    "### pour domaine d'application\n",
    "for e in domaine:\n",
    "    df[e]=df.net_text.str.count(e)"
   ]
  },
  {
   "cell_type": "markdown",
   "metadata": {},
   "source": [
    "# Parie III ) Traçage des graphes."
   ]
  },
  {
   "cell_type": "markdown",
   "metadata": {},
   "source": [
    "## graphes articles par payes"
   ]
  },
  {
   "cell_type": "code",
   "execution_count": 50,
   "metadata": {},
   "outputs": [
    {
     "data": {
      "text/plain": [
       "array([19,  2, 10, 11,  3,  7,  5,  7,  2,  7,  2,  4,  3,  3,  2,  5, 23])"
      ]
     },
     "execution_count": 50,
     "metadata": {},
     "output_type": "execute_result"
    }
   ],
   "source": [
    "### preparations des datas pour le plot camembert main page payes articles\n",
    "# cardiovascular'\n",
    "df1p= df[df['cardiovascular'] >1]\n",
    "df1p = df1p.groupby(['Pays']).cardiovascular.sum().reset_index()\n",
    "df1p = df1p.dropna()\n",
    "### preparation des labels pour pie graphes\n",
    "df1p.loc[df1p['cardiovascular'] < 4 , 'Pays'] = 'Autre Pays'\n",
    "df1p.loc[df1p['Pays'] == 'non renseigne' , 'Pays'] = 'Autre Pays'\n",
    "df1p\n",
    "l1=df1p.groupby('Pays')['cardiovascular'].sum()\n",
    "l1.index\n",
    "l1.values\n",
    "\n",
    "# 'count_cancer'\n",
    "df2p= df[df['cancer'] >1]\n",
    "df2p = df2p.groupby(['Pays']).cancer.sum().reset_index()\n",
    "df2p = df2p.dropna()\n",
    "### preparation des labels pour pie graphes\n",
    "df2p.loc[df2p['cancer'] < 50 , 'Pays'] = 'Autre Pays'\n",
    "df2p.loc[df2p['Pays'] == 'non renseigne' , 'Pays'] = 'Autre Pays'\n",
    "df2p\n",
    "l2=df2p.groupby('Pays')['cancer'].sum()\n",
    "l2.index\n",
    "l2.values\n",
    "\n",
    "\n",
    "# schizophrenia\n",
    "df3p= df[df['schizophrenia'] >1]\n",
    "df3p = df3p.groupby(['Pays']).schizophrenia.sum().reset_index()\n",
    "df3p = df3p.dropna()\n",
    "### preparation des labels pour pie graphes\n",
    "df3p.loc[df3p['schizophrenia'] < 20 , 'Pays'] = 'Autre Pays'\n",
    "df3p.loc[df3p['Pays'] == 'non renseigne' , 'Pays'] = 'Autre Pays'\n",
    "l3=df3p.groupby('Pays')['schizophrenia'].sum()\n",
    "l3.index\n",
    "l3.values\n",
    "\n",
    "\n",
    "# diabetes\n",
    "df4p= df[df['diabetes'] >1]\n",
    "df4p = df4p.groupby(['Pays']).diabetes.sum().reset_index()\n",
    "df4p = df4p.dropna()\n",
    "### preparation des labels pour pie graphes\n",
    "df4p.loc[df4p['diabetes'] < 5 , 'Pays'] = 'Autre Pays'\n",
    "df4p.loc[df4p['Pays'] == 'non renseigne' , 'Pays'] = 'Autre Pays'\n",
    "l4=df4p.groupby('Pays')['diabetes'].sum()\n",
    "l4.index\n",
    "l4.values\n",
    "\n",
    "\n",
    "# neurodegenerative\n",
    "df5p= df[df['neurodegenerative'] >1]\n",
    "df5p = df5p.groupby(['Pays']).neurodegenerative.sum().reset_index()\n",
    "df5p = df5p.dropna()\n",
    "### preparation des labels pour pie graphes\n",
    "df5p.loc[df5p['neurodegenerative'] <2 , 'Pays'] = 'Autre Pays'\n",
    "df5p.loc[df5p['Pays'] == 'non renseigne' , 'Pays'] = 'Autre Pays'\n",
    "l5=df5p.groupby('Pays')['neurodegenerative'].sum()\n",
    "l5.index\n",
    "l5.values\n",
    "\n",
    "\n",
    "# diabetes\n",
    "df6p= df[df['asthma'] >1]\n",
    "df6p = df6p.groupby(['Pays']).asthma.sum().reset_index()\n",
    "df6p = df6p.dropna()\n",
    "### preparation des labels pour pie graphes\n",
    "df6p.loc[df6p['asthma'] < 2 , 'Pays'] = 'Autre Pays'\n",
    "df6p.loc[df6p['Pays'] == 'non renseigne' , 'Pays'] = 'Autre Pays'\n",
    "l6=df6p.groupby('Pays')['asthma'].sum()\n",
    "l6.index\n",
    "l6.values\n"
   ]
  },
  {
   "cell_type": "code",
   "execution_count": 51,
   "metadata": {},
   "outputs": [
    {
     "data": {
      "application/vnd.plotly.v1+json": {
       "config": {
        "plotlyServerURL": "https://plot.ly"
       },
       "data": [
        {
         "domain": {
          "x": [
           0,
           0.2888888888888889
          ],
          "y": [
           0.625,
           1
          ]
         },
         "labels": [
          "Autre Pays",
          "africa",
          "canada",
          "china",
          "india",
          "israel",
          "italy",
          "korea",
          "malaysia",
          "netherlands",
          "spain",
          "uk",
          "usa"
         ],
         "type": "pie",
         "values": [
          76,
          4,
          8,
          26,
          7,
          4,
          10,
          10,
          8,
          9,
          5,
          23,
          21
         ]
        },
        {
         "domain": {
          "x": [
           0.35555555555555557,
           0.6444444444444445
          ],
          "y": [
           0.625,
           1
          ]
         },
         "labels": [
          "Autre Pays",
          "america",
          "australia",
          "brazil",
          "canada",
          "china",
          "france",
          "germany",
          "india",
          "iran",
          "italy",
          "japan",
          "kingdom",
          "korea",
          "netherlands",
          "spain",
          "states",
          "taiwan",
          "turkey",
          "uk",
          "usa"
         ],
         "type": "pie",
         "values": [
          1517,
          90,
          70,
          73,
          123,
          927,
          61,
          167,
          309,
          91,
          141,
          158,
          54,
          153,
          98,
          76,
          106,
          144,
          71,
          166,
          1035
         ]
        },
        {
         "domain": {
          "x": [
           0.7111111111111111,
           1
          ],
          "y": [
           0.625,
           1
          ]
         },
         "labels": [
          "Autre Pays",
          "canada",
          "china",
          "germany",
          "usa"
         ],
         "type": "pie",
         "values": [
          217,
          33,
          60,
          37,
          120
         ]
        },
        {
         "domain": {
          "x": [
           0,
           0.2888888888888889
          ],
          "y": [
           0,
           0.375
          ]
         },
         "labels": [
          "Autre Pays",
          "america",
          "australia",
          "bangladesh",
          "california",
          "canada",
          "china",
          "denmark",
          "germany",
          "india",
          "israel",
          "italy",
          "japan",
          "singapore",
          "spain",
          "states",
          "sweden",
          "switzerland",
          "taiwan",
          "thessaloniki",
          "turkey",
          "uk",
          "usa"
         ],
         "type": "pie",
         "values": [
          122,
          10,
          36,
          14,
          6,
          5,
          67,
          10,
          12,
          51,
          11,
          21,
          13,
          13,
          13,
          10,
          11,
          5,
          10,
          5,
          7,
          7,
          64
         ]
        },
        {
         "domain": {
          "x": [
           0.35555555555555557,
           0.6444444444444445
          ],
          "y": [
           0,
           0.375
          ]
         },
         "labels": [
          "Autre Pays",
          "cambridge",
          "canada",
          "china",
          "germany",
          "greece",
          "iran",
          "italy",
          "kingdom",
          "portugal",
          "singapore",
          "taiwan",
          "thailand",
          "uk",
          "usa"
         ],
         "type": "pie",
         "values": [
          4,
          4,
          2,
          6,
          4,
          3,
          2,
          8,
          2,
          2,
          4,
          2,
          2,
          9,
          10
         ]
        },
        {
         "domain": {
          "x": [
           0.7111111111111111,
           1
          ],
          "y": [
           0,
           0.375
          ]
         },
         "labels": [
          "Autre Pays",
          "belgium",
          "brazil",
          "china",
          "india",
          "iran",
          "italy",
          "kingdom",
          "malawi",
          "malaysia",
          "netherlands",
          "pennsylvania",
          "spain",
          "sweden",
          "taiwan",
          "uk",
          "usa"
         ],
         "type": "pie",
         "values": [
          19,
          2,
          10,
          11,
          3,
          7,
          5,
          7,
          2,
          7,
          2,
          4,
          3,
          3,
          2,
          5,
          23
         ]
        }
       ],
       "layout": {
        "annotations": [
         {
          "font": {
           "size": 16
          },
          "showarrow": false,
          "text": "Maladie Cardiovasculaire",
          "x": 0.14444444444444446,
          "xanchor": "center",
          "xref": "paper",
          "y": 1,
          "yanchor": "bottom",
          "yref": "paper"
         },
         {
          "font": {
           "size": 16
          },
          "showarrow": false,
          "text": "Maladie cancer",
          "x": 0.5,
          "xanchor": "center",
          "xref": "paper",
          "y": 1,
          "yanchor": "bottom",
          "yref": "paper"
         },
         {
          "font": {
           "size": 16
          },
          "showarrow": false,
          "text": "Maladie schizophrenia",
          "x": 0.8555555555555556,
          "xanchor": "center",
          "xref": "paper",
          "y": 1,
          "yanchor": "bottom",
          "yref": "paper"
         },
         {
          "font": {
           "size": 16
          },
          "showarrow": false,
          "text": "Maladie diabetes",
          "x": 0.14444444444444446,
          "xanchor": "center",
          "xref": "paper",
          "y": 0.375,
          "yanchor": "bottom",
          "yref": "paper"
         },
         {
          "font": {
           "size": 16
          },
          "showarrow": false,
          "text": "Maladie neurodegenerative",
          "x": 0.5,
          "xanchor": "center",
          "xref": "paper",
          "y": 0.375,
          "yanchor": "bottom",
          "yref": "paper"
         },
         {
          "font": {
           "size": 16
          },
          "showarrow": false,
          "text": "Maladie asthme",
          "x": 0.8555555555555556,
          "xanchor": "center",
          "xref": "paper",
          "y": 0.375,
          "yanchor": "bottom",
          "yref": "paper"
         }
        ],
        "autosize": true,
        "height": 800,
        "template": {
         "data": {
          "bar": [
           {
            "error_x": {
             "color": "#2a3f5f"
            },
            "error_y": {
             "color": "#2a3f5f"
            },
            "marker": {
             "line": {
              "color": "#E5ECF6",
              "width": 0.5
             }
            },
            "type": "bar"
           }
          ],
          "barpolar": [
           {
            "marker": {
             "line": {
              "color": "#E5ECF6",
              "width": 0.5
             }
            },
            "type": "barpolar"
           }
          ],
          "carpet": [
           {
            "aaxis": {
             "endlinecolor": "#2a3f5f",
             "gridcolor": "white",
             "linecolor": "white",
             "minorgridcolor": "white",
             "startlinecolor": "#2a3f5f"
            },
            "baxis": {
             "endlinecolor": "#2a3f5f",
             "gridcolor": "white",
             "linecolor": "white",
             "minorgridcolor": "white",
             "startlinecolor": "#2a3f5f"
            },
            "type": "carpet"
           }
          ],
          "choropleth": [
           {
            "colorbar": {
             "outlinewidth": 0,
             "ticks": ""
            },
            "type": "choropleth"
           }
          ],
          "contour": [
           {
            "colorbar": {
             "outlinewidth": 0,
             "ticks": ""
            },
            "colorscale": [
             [
              0,
              "#0d0887"
             ],
             [
              0.1111111111111111,
              "#46039f"
             ],
             [
              0.2222222222222222,
              "#7201a8"
             ],
             [
              0.3333333333333333,
              "#9c179e"
             ],
             [
              0.4444444444444444,
              "#bd3786"
             ],
             [
              0.5555555555555556,
              "#d8576b"
             ],
             [
              0.6666666666666666,
              "#ed7953"
             ],
             [
              0.7777777777777778,
              "#fb9f3a"
             ],
             [
              0.8888888888888888,
              "#fdca26"
             ],
             [
              1,
              "#f0f921"
             ]
            ],
            "type": "contour"
           }
          ],
          "contourcarpet": [
           {
            "colorbar": {
             "outlinewidth": 0,
             "ticks": ""
            },
            "type": "contourcarpet"
           }
          ],
          "heatmap": [
           {
            "colorbar": {
             "outlinewidth": 0,
             "ticks": ""
            },
            "colorscale": [
             [
              0,
              "#0d0887"
             ],
             [
              0.1111111111111111,
              "#46039f"
             ],
             [
              0.2222222222222222,
              "#7201a8"
             ],
             [
              0.3333333333333333,
              "#9c179e"
             ],
             [
              0.4444444444444444,
              "#bd3786"
             ],
             [
              0.5555555555555556,
              "#d8576b"
             ],
             [
              0.6666666666666666,
              "#ed7953"
             ],
             [
              0.7777777777777778,
              "#fb9f3a"
             ],
             [
              0.8888888888888888,
              "#fdca26"
             ],
             [
              1,
              "#f0f921"
             ]
            ],
            "type": "heatmap"
           }
          ],
          "heatmapgl": [
           {
            "colorbar": {
             "outlinewidth": 0,
             "ticks": ""
            },
            "colorscale": [
             [
              0,
              "#0d0887"
             ],
             [
              0.1111111111111111,
              "#46039f"
             ],
             [
              0.2222222222222222,
              "#7201a8"
             ],
             [
              0.3333333333333333,
              "#9c179e"
             ],
             [
              0.4444444444444444,
              "#bd3786"
             ],
             [
              0.5555555555555556,
              "#d8576b"
             ],
             [
              0.6666666666666666,
              "#ed7953"
             ],
             [
              0.7777777777777778,
              "#fb9f3a"
             ],
             [
              0.8888888888888888,
              "#fdca26"
             ],
             [
              1,
              "#f0f921"
             ]
            ],
            "type": "heatmapgl"
           }
          ],
          "histogram": [
           {
            "marker": {
             "colorbar": {
              "outlinewidth": 0,
              "ticks": ""
             }
            },
            "type": "histogram"
           }
          ],
          "histogram2d": [
           {
            "colorbar": {
             "outlinewidth": 0,
             "ticks": ""
            },
            "colorscale": [
             [
              0,
              "#0d0887"
             ],
             [
              0.1111111111111111,
              "#46039f"
             ],
             [
              0.2222222222222222,
              "#7201a8"
             ],
             [
              0.3333333333333333,
              "#9c179e"
             ],
             [
              0.4444444444444444,
              "#bd3786"
             ],
             [
              0.5555555555555556,
              "#d8576b"
             ],
             [
              0.6666666666666666,
              "#ed7953"
             ],
             [
              0.7777777777777778,
              "#fb9f3a"
             ],
             [
              0.8888888888888888,
              "#fdca26"
             ],
             [
              1,
              "#f0f921"
             ]
            ],
            "type": "histogram2d"
           }
          ],
          "histogram2dcontour": [
           {
            "colorbar": {
             "outlinewidth": 0,
             "ticks": ""
            },
            "colorscale": [
             [
              0,
              "#0d0887"
             ],
             [
              0.1111111111111111,
              "#46039f"
             ],
             [
              0.2222222222222222,
              "#7201a8"
             ],
             [
              0.3333333333333333,
              "#9c179e"
             ],
             [
              0.4444444444444444,
              "#bd3786"
             ],
             [
              0.5555555555555556,
              "#d8576b"
             ],
             [
              0.6666666666666666,
              "#ed7953"
             ],
             [
              0.7777777777777778,
              "#fb9f3a"
             ],
             [
              0.8888888888888888,
              "#fdca26"
             ],
             [
              1,
              "#f0f921"
             ]
            ],
            "type": "histogram2dcontour"
           }
          ],
          "mesh3d": [
           {
            "colorbar": {
             "outlinewidth": 0,
             "ticks": ""
            },
            "type": "mesh3d"
           }
          ],
          "parcoords": [
           {
            "line": {
             "colorbar": {
              "outlinewidth": 0,
              "ticks": ""
             }
            },
            "type": "parcoords"
           }
          ],
          "pie": [
           {
            "automargin": true,
            "type": "pie"
           }
          ],
          "scatter": [
           {
            "marker": {
             "colorbar": {
              "outlinewidth": 0,
              "ticks": ""
             }
            },
            "type": "scatter"
           }
          ],
          "scatter3d": [
           {
            "line": {
             "colorbar": {
              "outlinewidth": 0,
              "ticks": ""
             }
            },
            "marker": {
             "colorbar": {
              "outlinewidth": 0,
              "ticks": ""
             }
            },
            "type": "scatter3d"
           }
          ],
          "scattercarpet": [
           {
            "marker": {
             "colorbar": {
              "outlinewidth": 0,
              "ticks": ""
             }
            },
            "type": "scattercarpet"
           }
          ],
          "scattergeo": [
           {
            "marker": {
             "colorbar": {
              "outlinewidth": 0,
              "ticks": ""
             }
            },
            "type": "scattergeo"
           }
          ],
          "scattergl": [
           {
            "marker": {
             "colorbar": {
              "outlinewidth": 0,
              "ticks": ""
             }
            },
            "type": "scattergl"
           }
          ],
          "scattermapbox": [
           {
            "marker": {
             "colorbar": {
              "outlinewidth": 0,
              "ticks": ""
             }
            },
            "type": "scattermapbox"
           }
          ],
          "scatterpolar": [
           {
            "marker": {
             "colorbar": {
              "outlinewidth": 0,
              "ticks": ""
             }
            },
            "type": "scatterpolar"
           }
          ],
          "scatterpolargl": [
           {
            "marker": {
             "colorbar": {
              "outlinewidth": 0,
              "ticks": ""
             }
            },
            "type": "scatterpolargl"
           }
          ],
          "scatterternary": [
           {
            "marker": {
             "colorbar": {
              "outlinewidth": 0,
              "ticks": ""
             }
            },
            "type": "scatterternary"
           }
          ],
          "surface": [
           {
            "colorbar": {
             "outlinewidth": 0,
             "ticks": ""
            },
            "colorscale": [
             [
              0,
              "#0d0887"
             ],
             [
              0.1111111111111111,
              "#46039f"
             ],
             [
              0.2222222222222222,
              "#7201a8"
             ],
             [
              0.3333333333333333,
              "#9c179e"
             ],
             [
              0.4444444444444444,
              "#bd3786"
             ],
             [
              0.5555555555555556,
              "#d8576b"
             ],
             [
              0.6666666666666666,
              "#ed7953"
             ],
             [
              0.7777777777777778,
              "#fb9f3a"
             ],
             [
              0.8888888888888888,
              "#fdca26"
             ],
             [
              1,
              "#f0f921"
             ]
            ],
            "type": "surface"
           }
          ],
          "table": [
           {
            "cells": {
             "fill": {
              "color": "#EBF0F8"
             },
             "line": {
              "color": "white"
             }
            },
            "header": {
             "fill": {
              "color": "#C8D4E3"
             },
             "line": {
              "color": "white"
             }
            },
            "type": "table"
           }
          ]
         },
         "layout": {
          "annotationdefaults": {
           "arrowcolor": "#2a3f5f",
           "arrowhead": 0,
           "arrowwidth": 1
          },
          "autotypenumbers": "strict",
          "coloraxis": {
           "colorbar": {
            "outlinewidth": 0,
            "ticks": ""
           }
          },
          "colorscale": {
           "diverging": [
            [
             0,
             "#8e0152"
            ],
            [
             0.1,
             "#c51b7d"
            ],
            [
             0.2,
             "#de77ae"
            ],
            [
             0.3,
             "#f1b6da"
            ],
            [
             0.4,
             "#fde0ef"
            ],
            [
             0.5,
             "#f7f7f7"
            ],
            [
             0.6,
             "#e6f5d0"
            ],
            [
             0.7,
             "#b8e186"
            ],
            [
             0.8,
             "#7fbc41"
            ],
            [
             0.9,
             "#4d9221"
            ],
            [
             1,
             "#276419"
            ]
           ],
           "sequential": [
            [
             0,
             "#0d0887"
            ],
            [
             0.1111111111111111,
             "#46039f"
            ],
            [
             0.2222222222222222,
             "#7201a8"
            ],
            [
             0.3333333333333333,
             "#9c179e"
            ],
            [
             0.4444444444444444,
             "#bd3786"
            ],
            [
             0.5555555555555556,
             "#d8576b"
            ],
            [
             0.6666666666666666,
             "#ed7953"
            ],
            [
             0.7777777777777778,
             "#fb9f3a"
            ],
            [
             0.8888888888888888,
             "#fdca26"
            ],
            [
             1,
             "#f0f921"
            ]
           ],
           "sequentialminus": [
            [
             0,
             "#0d0887"
            ],
            [
             0.1111111111111111,
             "#46039f"
            ],
            [
             0.2222222222222222,
             "#7201a8"
            ],
            [
             0.3333333333333333,
             "#9c179e"
            ],
            [
             0.4444444444444444,
             "#bd3786"
            ],
            [
             0.5555555555555556,
             "#d8576b"
            ],
            [
             0.6666666666666666,
             "#ed7953"
            ],
            [
             0.7777777777777778,
             "#fb9f3a"
            ],
            [
             0.8888888888888888,
             "#fdca26"
            ],
            [
             1,
             "#f0f921"
            ]
           ]
          },
          "colorway": [
           "#636efa",
           "#EF553B",
           "#00cc96",
           "#ab63fa",
           "#FFA15A",
           "#19d3f3",
           "#FF6692",
           "#B6E880",
           "#FF97FF",
           "#FECB52"
          ],
          "font": {
           "color": "#2a3f5f"
          },
          "geo": {
           "bgcolor": "white",
           "lakecolor": "white",
           "landcolor": "#E5ECF6",
           "showlakes": true,
           "showland": true,
           "subunitcolor": "white"
          },
          "hoverlabel": {
           "align": "left"
          },
          "hovermode": "closest",
          "mapbox": {
           "style": "light"
          },
          "paper_bgcolor": "white",
          "plot_bgcolor": "#E5ECF6",
          "polar": {
           "angularaxis": {
            "gridcolor": "white",
            "linecolor": "white",
            "ticks": ""
           },
           "bgcolor": "#E5ECF6",
           "radialaxis": {
            "gridcolor": "white",
            "linecolor": "white",
            "ticks": ""
           }
          },
          "scene": {
           "xaxis": {
            "backgroundcolor": "#E5ECF6",
            "gridcolor": "white",
            "gridwidth": 2,
            "linecolor": "white",
            "showbackground": true,
            "ticks": "",
            "zerolinecolor": "white"
           },
           "yaxis": {
            "backgroundcolor": "#E5ECF6",
            "gridcolor": "white",
            "gridwidth": 2,
            "linecolor": "white",
            "showbackground": true,
            "ticks": "",
            "zerolinecolor": "white"
           },
           "zaxis": {
            "backgroundcolor": "#E5ECF6",
            "gridcolor": "white",
            "gridwidth": 2,
            "linecolor": "white",
            "showbackground": true,
            "ticks": "",
            "zerolinecolor": "white"
           }
          },
          "shapedefaults": {
           "line": {
            "color": "#2a3f5f"
           }
          },
          "ternary": {
           "aaxis": {
            "gridcolor": "white",
            "linecolor": "white",
            "ticks": ""
           },
           "baxis": {
            "gridcolor": "white",
            "linecolor": "white",
            "ticks": ""
           },
           "bgcolor": "#E5ECF6",
           "caxis": {
            "gridcolor": "white",
            "linecolor": "white",
            "ticks": ""
           }
          },
          "title": {
           "x": 0.05
          },
          "xaxis": {
           "automargin": true,
           "gridcolor": "white",
           "linecolor": "white",
           "ticks": "",
           "title": {
            "standoff": 15
           },
           "zerolinecolor": "white",
           "zerolinewidth": 2
          },
          "yaxis": {
           "automargin": true,
           "gridcolor": "white",
           "linecolor": "white",
           "ticks": "",
           "title": {
            "standoff": 15
           },
           "zerolinecolor": "white",
           "zerolinewidth": 2
          }
         }
        },
        "title": {
         "text": "Informations Génerales sur la publication des articles par Pays "
        },
        "width": 1200,
        "yaxis": {
         "automargin": true
        }
       }
      },
      "text/html": [
       "<div>                            <div id=\"86cf01d8-6b64-4793-b4af-8811766a41cf\" class=\"plotly-graph-div\" style=\"height:800px; width:1200px;\"></div>            <script type=\"text/javascript\">                require([\"plotly\"], function(Plotly) {                    window.PLOTLYENV=window.PLOTLYENV || {};                                    if (document.getElementById(\"86cf01d8-6b64-4793-b4af-8811766a41cf\")) {                    Plotly.newPlot(                        \"86cf01d8-6b64-4793-b4af-8811766a41cf\",                        [{\"domain\": {\"x\": [0.0, 0.2888888888888889], \"y\": [0.625, 1.0]}, \"labels\": [\"Autre Pays\", \"africa\", \"canada\", \"china\", \"india\", \"israel\", \"italy\", \"korea\", \"malaysia\", \"netherlands\", \"spain\", \"uk\", \"usa\"], \"type\": \"pie\", \"values\": [76, 4, 8, 26, 7, 4, 10, 10, 8, 9, 5, 23, 21]}, {\"domain\": {\"x\": [0.35555555555555557, 0.6444444444444445], \"y\": [0.625, 1.0]}, \"labels\": [\"Autre Pays\", \"america\", \"australia\", \"brazil\", \"canada\", \"china\", \"france\", \"germany\", \"india\", \"iran\", \"italy\", \"japan\", \"kingdom\", \"korea\", \"netherlands\", \"spain\", \"states\", \"taiwan\", \"turkey\", \"uk\", \"usa\"], \"type\": \"pie\", \"values\": [1517, 90, 70, 73, 123, 927, 61, 167, 309, 91, 141, 158, 54, 153, 98, 76, 106, 144, 71, 166, 1035]}, {\"domain\": {\"x\": [0.7111111111111111, 1.0], \"y\": [0.625, 1.0]}, \"labels\": [\"Autre Pays\", \"canada\", \"china\", \"germany\", \"usa\"], \"type\": \"pie\", \"values\": [217, 33, 60, 37, 120]}, {\"domain\": {\"x\": [0.0, 0.2888888888888889], \"y\": [0.0, 0.375]}, \"labels\": [\"Autre Pays\", \"america\", \"australia\", \"bangladesh\", \"california\", \"canada\", \"china\", \"denmark\", \"germany\", \"india\", \"israel\", \"italy\", \"japan\", \"singapore\", \"spain\", \"states\", \"sweden\", \"switzerland\", \"taiwan\", \"thessaloniki\", \"turkey\", \"uk\", \"usa\"], \"type\": \"pie\", \"values\": [122, 10, 36, 14, 6, 5, 67, 10, 12, 51, 11, 21, 13, 13, 13, 10, 11, 5, 10, 5, 7, 7, 64]}, {\"domain\": {\"x\": [0.35555555555555557, 0.6444444444444445], \"y\": [0.0, 0.375]}, \"labels\": [\"Autre Pays\", \"cambridge\", \"canada\", \"china\", \"germany\", \"greece\", \"iran\", \"italy\", \"kingdom\", \"portugal\", \"singapore\", \"taiwan\", \"thailand\", \"uk\", \"usa\"], \"type\": \"pie\", \"values\": [4, 4, 2, 6, 4, 3, 2, 8, 2, 2, 4, 2, 2, 9, 10]}, {\"domain\": {\"x\": [0.7111111111111111, 1.0], \"y\": [0.0, 0.375]}, \"labels\": [\"Autre Pays\", \"belgium\", \"brazil\", \"china\", \"india\", \"iran\", \"italy\", \"kingdom\", \"malawi\", \"malaysia\", \"netherlands\", \"pennsylvania\", \"spain\", \"sweden\", \"taiwan\", \"uk\", \"usa\"], \"type\": \"pie\", \"values\": [19, 2, 10, 11, 3, 7, 5, 7, 2, 7, 2, 4, 3, 3, 2, 5, 23]}],                        {\"annotations\": [{\"font\": {\"size\": 16}, \"showarrow\": false, \"text\": \"Maladie Cardiovasculaire\", \"x\": 0.14444444444444446, \"xanchor\": \"center\", \"xref\": \"paper\", \"y\": 1.0, \"yanchor\": \"bottom\", \"yref\": \"paper\"}, {\"font\": {\"size\": 16}, \"showarrow\": false, \"text\": \"Maladie cancer\", \"x\": 0.5, \"xanchor\": \"center\", \"xref\": \"paper\", \"y\": 1.0, \"yanchor\": \"bottom\", \"yref\": \"paper\"}, {\"font\": {\"size\": 16}, \"showarrow\": false, \"text\": \"Maladie schizophrenia\", \"x\": 0.8555555555555556, \"xanchor\": \"center\", \"xref\": \"paper\", \"y\": 1.0, \"yanchor\": \"bottom\", \"yref\": \"paper\"}, {\"font\": {\"size\": 16}, \"showarrow\": false, \"text\": \"Maladie diabetes\", \"x\": 0.14444444444444446, \"xanchor\": \"center\", \"xref\": \"paper\", \"y\": 0.375, \"yanchor\": \"bottom\", \"yref\": \"paper\"}, {\"font\": {\"size\": 16}, \"showarrow\": false, \"text\": \"Maladie neurodegenerative\", \"x\": 0.5, \"xanchor\": \"center\", \"xref\": \"paper\", \"y\": 0.375, \"yanchor\": \"bottom\", \"yref\": \"paper\"}, {\"font\": {\"size\": 16}, \"showarrow\": false, \"text\": \"Maladie asthme\", \"x\": 0.8555555555555556, \"xanchor\": \"center\", \"xref\": \"paper\", \"y\": 0.375, \"yanchor\": \"bottom\", \"yref\": \"paper\"}], \"autosize\": true, \"height\": 800, \"template\": {\"data\": {\"bar\": [{\"error_x\": {\"color\": \"#2a3f5f\"}, \"error_y\": {\"color\": \"#2a3f5f\"}, \"marker\": {\"line\": {\"color\": \"#E5ECF6\", \"width\": 0.5}}, \"type\": \"bar\"}], \"barpolar\": [{\"marker\": {\"line\": {\"color\": \"#E5ECF6\", \"width\": 0.5}}, \"type\": \"barpolar\"}], \"carpet\": [{\"aaxis\": {\"endlinecolor\": \"#2a3f5f\", \"gridcolor\": \"white\", \"linecolor\": \"white\", \"minorgridcolor\": \"white\", \"startlinecolor\": \"#2a3f5f\"}, \"baxis\": {\"endlinecolor\": \"#2a3f5f\", \"gridcolor\": \"white\", \"linecolor\": \"white\", \"minorgridcolor\": \"white\", \"startlinecolor\": \"#2a3f5f\"}, \"type\": \"carpet\"}], \"choropleth\": [{\"colorbar\": {\"outlinewidth\": 0, \"ticks\": \"\"}, \"type\": \"choropleth\"}], \"contour\": [{\"colorbar\": {\"outlinewidth\": 0, \"ticks\": \"\"}, \"colorscale\": [[0.0, \"#0d0887\"], [0.1111111111111111, \"#46039f\"], [0.2222222222222222, \"#7201a8\"], [0.3333333333333333, \"#9c179e\"], [0.4444444444444444, \"#bd3786\"], [0.5555555555555556, \"#d8576b\"], [0.6666666666666666, \"#ed7953\"], [0.7777777777777778, \"#fb9f3a\"], [0.8888888888888888, \"#fdca26\"], [1.0, \"#f0f921\"]], \"type\": \"contour\"}], \"contourcarpet\": [{\"colorbar\": {\"outlinewidth\": 0, \"ticks\": \"\"}, \"type\": \"contourcarpet\"}], \"heatmap\": [{\"colorbar\": {\"outlinewidth\": 0, \"ticks\": \"\"}, \"colorscale\": [[0.0, \"#0d0887\"], [0.1111111111111111, \"#46039f\"], [0.2222222222222222, \"#7201a8\"], [0.3333333333333333, \"#9c179e\"], [0.4444444444444444, \"#bd3786\"], [0.5555555555555556, \"#d8576b\"], [0.6666666666666666, \"#ed7953\"], [0.7777777777777778, \"#fb9f3a\"], [0.8888888888888888, \"#fdca26\"], [1.0, \"#f0f921\"]], \"type\": \"heatmap\"}], \"heatmapgl\": [{\"colorbar\": {\"outlinewidth\": 0, \"ticks\": \"\"}, \"colorscale\": [[0.0, \"#0d0887\"], [0.1111111111111111, \"#46039f\"], [0.2222222222222222, \"#7201a8\"], [0.3333333333333333, \"#9c179e\"], [0.4444444444444444, \"#bd3786\"], [0.5555555555555556, \"#d8576b\"], [0.6666666666666666, \"#ed7953\"], [0.7777777777777778, \"#fb9f3a\"], [0.8888888888888888, \"#fdca26\"], [1.0, \"#f0f921\"]], \"type\": \"heatmapgl\"}], \"histogram\": [{\"marker\": {\"colorbar\": {\"outlinewidth\": 0, \"ticks\": \"\"}}, \"type\": \"histogram\"}], \"histogram2d\": [{\"colorbar\": {\"outlinewidth\": 0, \"ticks\": \"\"}, \"colorscale\": [[0.0, \"#0d0887\"], [0.1111111111111111, \"#46039f\"], [0.2222222222222222, \"#7201a8\"], [0.3333333333333333, \"#9c179e\"], [0.4444444444444444, \"#bd3786\"], [0.5555555555555556, \"#d8576b\"], [0.6666666666666666, \"#ed7953\"], [0.7777777777777778, \"#fb9f3a\"], [0.8888888888888888, \"#fdca26\"], [1.0, \"#f0f921\"]], \"type\": \"histogram2d\"}], \"histogram2dcontour\": [{\"colorbar\": {\"outlinewidth\": 0, \"ticks\": \"\"}, \"colorscale\": [[0.0, \"#0d0887\"], [0.1111111111111111, \"#46039f\"], [0.2222222222222222, \"#7201a8\"], [0.3333333333333333, \"#9c179e\"], [0.4444444444444444, \"#bd3786\"], [0.5555555555555556, \"#d8576b\"], [0.6666666666666666, \"#ed7953\"], [0.7777777777777778, \"#fb9f3a\"], [0.8888888888888888, \"#fdca26\"], [1.0, \"#f0f921\"]], \"type\": \"histogram2dcontour\"}], \"mesh3d\": [{\"colorbar\": {\"outlinewidth\": 0, \"ticks\": \"\"}, \"type\": \"mesh3d\"}], \"parcoords\": [{\"line\": {\"colorbar\": {\"outlinewidth\": 0, \"ticks\": \"\"}}, \"type\": \"parcoords\"}], \"pie\": [{\"automargin\": true, \"type\": \"pie\"}], \"scatter\": [{\"marker\": {\"colorbar\": {\"outlinewidth\": 0, \"ticks\": \"\"}}, \"type\": \"scatter\"}], \"scatter3d\": [{\"line\": {\"colorbar\": {\"outlinewidth\": 0, \"ticks\": \"\"}}, \"marker\": {\"colorbar\": {\"outlinewidth\": 0, \"ticks\": \"\"}}, \"type\": \"scatter3d\"}], \"scattercarpet\": [{\"marker\": {\"colorbar\": {\"outlinewidth\": 0, \"ticks\": \"\"}}, \"type\": \"scattercarpet\"}], \"scattergeo\": [{\"marker\": {\"colorbar\": {\"outlinewidth\": 0, \"ticks\": \"\"}}, \"type\": \"scattergeo\"}], \"scattergl\": [{\"marker\": {\"colorbar\": {\"outlinewidth\": 0, \"ticks\": \"\"}}, \"type\": \"scattergl\"}], \"scattermapbox\": [{\"marker\": {\"colorbar\": {\"outlinewidth\": 0, \"ticks\": \"\"}}, \"type\": \"scattermapbox\"}], \"scatterpolar\": [{\"marker\": {\"colorbar\": {\"outlinewidth\": 0, \"ticks\": \"\"}}, \"type\": \"scatterpolar\"}], \"scatterpolargl\": [{\"marker\": {\"colorbar\": {\"outlinewidth\": 0, \"ticks\": \"\"}}, \"type\": \"scatterpolargl\"}], \"scatterternary\": [{\"marker\": {\"colorbar\": {\"outlinewidth\": 0, \"ticks\": \"\"}}, \"type\": \"scatterternary\"}], \"surface\": [{\"colorbar\": {\"outlinewidth\": 0, \"ticks\": \"\"}, \"colorscale\": [[0.0, \"#0d0887\"], [0.1111111111111111, \"#46039f\"], [0.2222222222222222, \"#7201a8\"], [0.3333333333333333, \"#9c179e\"], [0.4444444444444444, \"#bd3786\"], [0.5555555555555556, \"#d8576b\"], [0.6666666666666666, \"#ed7953\"], [0.7777777777777778, \"#fb9f3a\"], [0.8888888888888888, \"#fdca26\"], [1.0, \"#f0f921\"]], \"type\": \"surface\"}], \"table\": [{\"cells\": {\"fill\": {\"color\": \"#EBF0F8\"}, \"line\": {\"color\": \"white\"}}, \"header\": {\"fill\": {\"color\": \"#C8D4E3\"}, \"line\": {\"color\": \"white\"}}, \"type\": \"table\"}]}, \"layout\": {\"annotationdefaults\": {\"arrowcolor\": \"#2a3f5f\", \"arrowhead\": 0, \"arrowwidth\": 1}, \"autotypenumbers\": \"strict\", \"coloraxis\": {\"colorbar\": {\"outlinewidth\": 0, \"ticks\": \"\"}}, \"colorscale\": {\"diverging\": [[0, \"#8e0152\"], [0.1, \"#c51b7d\"], [0.2, \"#de77ae\"], [0.3, \"#f1b6da\"], [0.4, \"#fde0ef\"], [0.5, \"#f7f7f7\"], [0.6, \"#e6f5d0\"], [0.7, \"#b8e186\"], [0.8, \"#7fbc41\"], [0.9, \"#4d9221\"], [1, \"#276419\"]], \"sequential\": [[0.0, \"#0d0887\"], [0.1111111111111111, \"#46039f\"], [0.2222222222222222, \"#7201a8\"], [0.3333333333333333, \"#9c179e\"], [0.4444444444444444, \"#bd3786\"], [0.5555555555555556, \"#d8576b\"], [0.6666666666666666, \"#ed7953\"], [0.7777777777777778, \"#fb9f3a\"], [0.8888888888888888, \"#fdca26\"], [1.0, \"#f0f921\"]], \"sequentialminus\": [[0.0, \"#0d0887\"], [0.1111111111111111, \"#46039f\"], [0.2222222222222222, \"#7201a8\"], [0.3333333333333333, \"#9c179e\"], [0.4444444444444444, \"#bd3786\"], [0.5555555555555556, \"#d8576b\"], [0.6666666666666666, \"#ed7953\"], [0.7777777777777778, \"#fb9f3a\"], [0.8888888888888888, \"#fdca26\"], [1.0, \"#f0f921\"]]}, \"colorway\": [\"#636efa\", \"#EF553B\", \"#00cc96\", \"#ab63fa\", \"#FFA15A\", \"#19d3f3\", \"#FF6692\", \"#B6E880\", \"#FF97FF\", \"#FECB52\"], \"font\": {\"color\": \"#2a3f5f\"}, \"geo\": {\"bgcolor\": \"white\", \"lakecolor\": \"white\", \"landcolor\": \"#E5ECF6\", \"showlakes\": true, \"showland\": true, \"subunitcolor\": \"white\"}, \"hoverlabel\": {\"align\": \"left\"}, \"hovermode\": \"closest\", \"mapbox\": {\"style\": \"light\"}, \"paper_bgcolor\": \"white\", \"plot_bgcolor\": \"#E5ECF6\", \"polar\": {\"angularaxis\": {\"gridcolor\": \"white\", \"linecolor\": \"white\", \"ticks\": \"\"}, \"bgcolor\": \"#E5ECF6\", \"radialaxis\": {\"gridcolor\": \"white\", \"linecolor\": \"white\", \"ticks\": \"\"}}, \"scene\": {\"xaxis\": {\"backgroundcolor\": \"#E5ECF6\", \"gridcolor\": \"white\", \"gridwidth\": 2, \"linecolor\": \"white\", \"showbackground\": true, \"ticks\": \"\", \"zerolinecolor\": \"white\"}, \"yaxis\": {\"backgroundcolor\": \"#E5ECF6\", \"gridcolor\": \"white\", \"gridwidth\": 2, \"linecolor\": \"white\", \"showbackground\": true, \"ticks\": \"\", \"zerolinecolor\": \"white\"}, \"zaxis\": {\"backgroundcolor\": \"#E5ECF6\", \"gridcolor\": \"white\", \"gridwidth\": 2, \"linecolor\": \"white\", \"showbackground\": true, \"ticks\": \"\", \"zerolinecolor\": \"white\"}}, \"shapedefaults\": {\"line\": {\"color\": \"#2a3f5f\"}}, \"ternary\": {\"aaxis\": {\"gridcolor\": \"white\", \"linecolor\": \"white\", \"ticks\": \"\"}, \"baxis\": {\"gridcolor\": \"white\", \"linecolor\": \"white\", \"ticks\": \"\"}, \"bgcolor\": \"#E5ECF6\", \"caxis\": {\"gridcolor\": \"white\", \"linecolor\": \"white\", \"ticks\": \"\"}}, \"title\": {\"x\": 0.05}, \"xaxis\": {\"automargin\": true, \"gridcolor\": \"white\", \"linecolor\": \"white\", \"ticks\": \"\", \"title\": {\"standoff\": 15}, \"zerolinecolor\": \"white\", \"zerolinewidth\": 2}, \"yaxis\": {\"automargin\": true, \"gridcolor\": \"white\", \"linecolor\": \"white\", \"ticks\": \"\", \"title\": {\"standoff\": 15}, \"zerolinecolor\": \"white\", \"zerolinewidth\": 2}}}, \"title\": {\"text\": \"Informations G\\u00e9nerales sur la publication des articles par Pays \"}, \"width\": 1200, \"yaxis\": {\"automargin\": true}},                        {\"responsive\": true}                    ).then(function(){\n",
       "                            \n",
       "var gd = document.getElementById('86cf01d8-6b64-4793-b4af-8811766a41cf');\n",
       "var x = new MutationObserver(function (mutations, observer) {{\n",
       "        var display = window.getComputedStyle(gd).display;\n",
       "        if (!display || display === 'none') {{\n",
       "            console.log([gd, 'removed!']);\n",
       "            Plotly.purge(gd);\n",
       "            observer.disconnect();\n",
       "        }}\n",
       "}});\n",
       "\n",
       "// Listen for the removal of the full notebook cells\n",
       "var notebookContainer = gd.closest('#notebook-container');\n",
       "if (notebookContainer) {{\n",
       "    x.observe(notebookContainer, {childList: true});\n",
       "}}\n",
       "\n",
       "// Listen for the clearing of the current output cell\n",
       "var outputEl = gd.closest('.output');\n",
       "if (outputEl) {{\n",
       "    x.observe(outputEl, {childList: true});\n",
       "}}\n",
       "\n",
       "                        })                };                });            </script>        </div>"
      ]
     },
     "metadata": {},
     "output_type": "display_data"
    }
   ],
   "source": [
    "\n",
    "fig_p = make_subplots(2, 3, specs=[[{'type':'domain'},  {'type':'domain'},  {'type':'domain'}],\n",
    "                                   [ {'type':'domain'}, {'type':'domain'}, {'type':'domain'}]],\n",
    "                    subplot_titles=['Maladie Cardiovasculaire','Maladie cancer','Maladie schizophrenia',\n",
    "                                    'Maladie diabetes','Maladie neurodegenerative','Maladie asthme',])\n",
    "\n",
    "\n",
    "fig_p.add_trace(go.Pie(labels=l1.index, values=l1.values), 1, 1)\n",
    "fig_p.add_trace(go.Pie(labels=l2.index, values=l2.values), 1, 2)\n",
    "\n",
    "fig_p.add_trace(go.Pie(labels=l3.index, values=l3.values), 1, 3)\n",
    "fig_p.add_trace(go.Pie(labels=l4.index, values=l4.values), 2, 1)\n",
    "\n",
    "fig_p.add_trace(go.Pie(labels=l5.index, values=l5.values), 2, 2)\n",
    "fig_p.add_trace(go.Pie(labels=l6.index, values=l6.values), 2, 3)\n",
    "\n",
    "fig_p.update_layout(title_text='Informations Génerales sur la publication des articles par Pays ')\n",
    "fig_p.update_yaxes(automargin=True)\n",
    "fig_p['layout'].update(width=1200, height=800, autosize=True)\n",
    "fig_p.show()\n"
   ]
  },
  {
   "cell_type": "markdown",
   "metadata": {},
   "source": [
    "## graphes pour chaque maladie et thermes IA"
   ]
  },
  {
   "cell_type": "code",
   "execution_count": 52,
   "metadata": {},
   "outputs": [],
   "source": [
    "# creation de fonction pour extrait le nombre d'occurence des mots clés dans des articles pour chaque maladie.\n",
    "from collections import defaultdict\n",
    "def sentenses2vocabs(sents,th,n):\n",
    "    fullcount=defaultdict(int)\n",
    "    for x in sents:\n",
    "        for w in x.split():\n",
    "            fullcount[w]+=1\n",
    "    vocabset = set(key for key, value in fullcount.items() if value >= th)\n",
    "    vocab={}\n",
    "    for i,x in enumerate(vocabset):\n",
    "        if i>=n: ### les mots qu'ont plus que 100 fois dans le texte de tout les articles\n",
    "            vocab[x]=i\n",
    "    return vocab\n",
    "\n"
   ]
  },
  {
   "cell_type": "code",
   "execution_count": 61,
   "metadata": {},
   "outputs": [
    {
     "data": {
      "text/plain": [
       "Layout({\n",
       "    'annotations': [{'font': {'size': 16},\n",
       "                     'showarrow': False,\n",
       "                     'text': 'Algorithmes et Methodes I.A',\n",
       "                     'x': 0.225,\n",
       "                     'xanchor': 'center',\n",
       "                     'xref': 'paper',\n",
       "                     'y': 1.0,\n",
       "                     'yanchor': 'bottom',\n",
       "                     'yref': 'paper'},\n",
       "                    {'font': {'size': 16},\n",
       "                     'showarrow': False,\n",
       "                     'text': 'nombre articles cardiovascular',\n",
       "                     'x': 0.775,\n",
       "                     'xanchor': 'center',\n",
       "                     'xref': 'paper',\n",
       "                     'y': 1.0,\n",
       "                     'yanchor': 'bottom',\n",
       "                     'yref': 'paper'},\n",
       "                    {'font': {'size': 16},\n",
       "                     'showarrow': False,\n",
       "                     'text': 'Mots clés',\n",
       "                     'x': 0.225,\n",
       "                     'xanchor': 'center',\n",
       "                     'xref': 'paper',\n",
       "                     'y': 0.375,\n",
       "                     'yanchor': 'bottom',\n",
       "                     'yref': 'paper'},\n",
       "                    {'font': {'size': 16},\n",
       "                     'showarrow': False,\n",
       "                     'text': 'Domaine d application',\n",
       "                     'x': 0.775,\n",
       "                     'xanchor': 'center',\n",
       "                     'xref': 'paper',\n",
       "                     'y': 0.375,\n",
       "                     'yanchor': 'bottom',\n",
       "                     'yref': 'paper'}],\n",
       "    'autosize': True,\n",
       "    'height': 800,\n",
       "    'template': '...',\n",
       "    'width': 1200,\n",
       "    'xaxis': {'anchor': 'y', 'domain': [0.0, 0.45]},\n",
       "    'xaxis2': {'anchor': 'y2', 'domain': [0.55, 1.0]},\n",
       "    'xaxis3': {'anchor': 'y3', 'domain': [0.0, 0.45]},\n",
       "    'xaxis4': {'anchor': 'y4', 'domain': [0.55, 1.0]},\n",
       "    'yaxis': {'anchor': 'x', 'automargin': True, 'domain': [0.625, 1.0]},\n",
       "    'yaxis2': {'anchor': 'x2', 'automargin': True, 'domain': [0.625, 1.0]},\n",
       "    'yaxis3': {'anchor': 'x3', 'automargin': True, 'domain': [0.0, 0.375]},\n",
       "    'yaxis4': {'anchor': 'x4', 'automargin': True, 'domain': [0.0, 0.375]}\n",
       "})"
      ]
     },
     "execution_count": 61,
     "metadata": {},
     "output_type": "execute_result"
    }
   ],
   "source": [
    "# graphes cardiovascular\n",
    "\n",
    "\n",
    "df1= df[df['cardiovascular'] >1]\n",
    "# articles  cardiovascular\n",
    "df1 = df1.groupby(['Annee']).cardiovascular.sum().reset_index()\n",
    "# mots clés cardiovascular\n",
    "df1_k=df[df['cardiovascular'] >2]\n",
    "d_key1=sentenses2vocabs(df1_k['new_keywords'].sum(axis=0),th=2,n=150)\n",
    "## domaine\n",
    "domaine=['drug design','detection','diagnostic','patient care']\n",
    "df11= df[df['cardiovascular'] >1]\n",
    "domaine1=(df11['drug design'].sum(),df11['detection'].sum(),df11['diagnostic'].sum(),df11['patient care'].sum())\n",
    "# algorithmes et methodes I A\n",
    "AI_methodes\n",
    "domaine2=[]\n",
    "for e in AI_methodes:\n",
    "    domaine2.append(df11[e].sum())\n",
    "\n",
    "\n",
    "fig1 = make_subplots(rows=2, cols=2, subplot_titles=['Algorithmes et Methodes I.A', 'nombre articles cardiovascular', 'Mots clés','Domaine d application'])\n",
    "fig1.add_bar(x=AI_methodes,y=domaine2, row=1, col=1)\n",
    "fig1.add_scatter(x=df1['Annee'], y=df1['cardiovascular'], row=1,col=2)\n",
    "fig1.add_bar(x=list(d_key1.keys()), y=list(d_key1.values()), row=2,col=1)\n",
    "fig1.add_bar(x=domaine, y= domaine1, row=2, col=2)\n",
    "fig1.update_yaxes(automargin=True)\n",
    "fig1['layout'].update(width=1200, height=800, autosize=True)\n"
   ]
  },
  {
   "cell_type": "code",
   "execution_count": 60,
   "metadata": {},
   "outputs": [
    {
     "data": {
      "text/plain": [
       "Layout({\n",
       "    'annotations': [{'font': {'size': 16},\n",
       "                     'showarrow': False,\n",
       "                     'text': 'Algorithmes et Methodes I.A',\n",
       "                     'x': 0.225,\n",
       "                     'xanchor': 'center',\n",
       "                     'xref': 'paper',\n",
       "                     'y': 1.0,\n",
       "                     'yanchor': 'bottom',\n",
       "                     'yref': 'paper'},\n",
       "                    {'font': {'size': 16},\n",
       "                     'showarrow': False,\n",
       "                     'text': 'articles cancer',\n",
       "                     'x': 0.775,\n",
       "                     'xanchor': 'center',\n",
       "                     'xref': 'paper',\n",
       "                     'y': 1.0,\n",
       "                     'yanchor': 'bottom',\n",
       "                     'yref': 'paper'},\n",
       "                    {'font': {'size': 16},\n",
       "                     'showarrow': False,\n",
       "                     'text': 'mots clés',\n",
       "                     'x': 0.225,\n",
       "                     'xanchor': 'center',\n",
       "                     'xref': 'paper',\n",
       "                     'y': 0.375,\n",
       "                     'yanchor': 'bottom',\n",
       "                     'yref': 'paper'},\n",
       "                    {'font': {'size': 16},\n",
       "                     'showarrow': False,\n",
       "                     'text': 'domaine d application',\n",
       "                     'x': 0.775,\n",
       "                     'xanchor': 'center',\n",
       "                     'xref': 'paper',\n",
       "                     'y': 0.375,\n",
       "                     'yanchor': 'bottom',\n",
       "                     'yref': 'paper'}],\n",
       "    'autosize': True,\n",
       "    'height': 800,\n",
       "    'template': '...',\n",
       "    'width': 1200,\n",
       "    'xaxis': {'anchor': 'y', 'domain': [0.0, 0.45]},\n",
       "    'xaxis2': {'anchor': 'y2', 'domain': [0.55, 1.0]},\n",
       "    'xaxis3': {'anchor': 'y3', 'domain': [0.0, 0.45]},\n",
       "    'xaxis4': {'anchor': 'y4', 'domain': [0.55, 1.0]},\n",
       "    'yaxis': {'anchor': 'x', 'automargin': True, 'domain': [0.625, 1.0]},\n",
       "    'yaxis2': {'anchor': 'x2', 'automargin': True, 'domain': [0.625, 1.0]},\n",
       "    'yaxis3': {'anchor': 'x3', 'automargin': True, 'domain': [0.0, 0.375]},\n",
       "    'yaxis4': {'anchor': 'x4', 'automargin': True, 'domain': [0.0, 0.375]}\n",
       "})"
      ]
     },
     "execution_count": 60,
     "metadata": {},
     "output_type": "execute_result"
    }
   ],
   "source": [
    "\n",
    "# graphes cancer'\n",
    "df2= df[df['cancer'] >1]\n",
    "# articles cancer\n",
    "df2 = df2.groupby(['Annee']).cancer.sum().reset_index()\n",
    "\n",
    "# mots clés cancer\n",
    "df2_k=df[df['cancer']>3]\n",
    "d_key2=sentenses2vocabs(df2_k['new_keywords'].sum(axis=0),th=2,n=650)\n",
    "## domaine\n",
    "domaine=['drug design','detection','diagnostic','patient care']\n",
    "df22= df[df['cancer'] >1]\n",
    "domaine1=(df22['drug design'].sum(),df22['detection'].sum(),df22['diagnostic'].sum(),df22['patient care'].sum())\n",
    "# algorithmes et methodes I A\n",
    "AI_methodes\n",
    "domaine2=[]\n",
    "for e in AI_methodes:\n",
    "    domaine2.append(df22[e].sum())\n",
    "\n",
    "\n",
    "fig2 = make_subplots(rows=2, cols=2, subplot_titles=['Algorithmes et Methodes I.A','articles cancer','mots clés', 'domaine d application'])\n",
    "fig2.add_bar(x=AI_methodes, y= domaine2, row=1, col=1)\n",
    "fig2.add_scatter(x=df2['Annee'], y= df2['cancer'], row=1, col=2)\n",
    "fig2.add_bar(x=list(d_key2.keys()), y=list(d_key2.values()), row=2,col=1)\n",
    "fig2.add_bar(x=domaine, y=domaine1, row=2,col=2)\n",
    "fig2.update_yaxes(automargin=True)\n",
    "fig2['layout'].update(width=1200, height=800, autosize=True)\n"
   ]
  },
  {
   "cell_type": "code",
   "execution_count": 59,
   "metadata": {},
   "outputs": [
    {
     "data": {
      "text/plain": [
       "Layout({\n",
       "    'annotations': [{'font': {'size': 16},\n",
       "                     'showarrow': False,\n",
       "                     'text': 'Algorithmes et Methodes I.A',\n",
       "                     'x': 0.225,\n",
       "                     'xanchor': 'center',\n",
       "                     'xref': 'paper',\n",
       "                     'y': 1.0,\n",
       "                     'yanchor': 'bottom',\n",
       "                     'yref': 'paper'},\n",
       "                    {'font': {'size': 16},\n",
       "                     'showarrow': False,\n",
       "                     'text': 'articles schizophrenia',\n",
       "                     'x': 0.775,\n",
       "                     'xanchor': 'center',\n",
       "                     'xref': 'paper',\n",
       "                     'y': 1.0,\n",
       "                     'yanchor': 'bottom',\n",
       "                     'yref': 'paper'},\n",
       "                    {'font': {'size': 16},\n",
       "                     'showarrow': False,\n",
       "                     'text': 'mots clés',\n",
       "                     'x': 0.225,\n",
       "                     'xanchor': 'center',\n",
       "                     'xref': 'paper',\n",
       "                     'y': 0.375,\n",
       "                     'yanchor': 'bottom',\n",
       "                     'yref': 'paper'},\n",
       "                    {'font': {'size': 16},\n",
       "                     'showarrow': False,\n",
       "                     'text': 'domaine d application',\n",
       "                     'x': 0.775,\n",
       "                     'xanchor': 'center',\n",
       "                     'xref': 'paper',\n",
       "                     'y': 0.375,\n",
       "                     'yanchor': 'bottom',\n",
       "                     'yref': 'paper'}],\n",
       "    'autosize': True,\n",
       "    'height': 800,\n",
       "    'template': '...',\n",
       "    'width': 1200,\n",
       "    'xaxis': {'anchor': 'y', 'domain': [0.0, 0.45]},\n",
       "    'xaxis2': {'anchor': 'y2', 'domain': [0.55, 1.0]},\n",
       "    'xaxis3': {'anchor': 'y3', 'domain': [0.0, 0.45]},\n",
       "    'xaxis4': {'anchor': 'y4', 'domain': [0.55, 1.0]},\n",
       "    'yaxis': {'anchor': 'x', 'automargin': True, 'domain': [0.625, 1.0]},\n",
       "    'yaxis2': {'anchor': 'x2', 'automargin': True, 'domain': [0.625, 1.0]},\n",
       "    'yaxis3': {'anchor': 'x3', 'automargin': True, 'domain': [0.0, 0.375]},\n",
       "    'yaxis4': {'anchor': 'x4', 'automargin': True, 'domain': [0.0, 0.375]}\n",
       "})"
      ]
     },
     "execution_count": 59,
     "metadata": {},
     "output_type": "execute_result"
    }
   ],
   "source": [
    "# Graphes schizophrenia.\n",
    "\n",
    "# articles\n",
    "df3= df[df['schizophrenia'] >3]\n",
    "df3 = df3.groupby(['Annee']).schizophrenia.sum().reset_index()\n",
    "# mots clés\n",
    "df3_k=df[df['schizophrenia']>2]\n",
    "d_key3=sentenses2vocabs(df3_k['new_keywords'].sum(axis=0),th=2,n=200)\n",
    "## domaine\n",
    "domaine=['drug design','detection','diagnostic','patient care']\n",
    "df22= df[df['schizophrenia'] >1]\n",
    "domaine1=(df22['drug design'].sum(),df22['detection'].sum(),df22['diagnostic'].sum(),df22['patient care'].sum())\n",
    "# algorithmes et methodes I A\n",
    "AI_methodes\n",
    "domaine2=[]\n",
    "for e in AI_methodes:\n",
    "    domaine2.append(df22[e].sum())\n",
    "\n",
    "\n",
    "\n",
    "fig3 = make_subplots(rows=2, cols=2, subplot_titles=['Algorithmes et Methodes I.A', 'articles schizophrenia','mots clés', 'domaine d application'])\n",
    "fig3.add_bar(x=AI_methodes, y= domaine2, row=1, col=1)\n",
    "fig3.add_scatter(x=df3['Annee'], y= df3['schizophrenia'], row=1, col=2)\n",
    "fig3.add_bar(x=list(d_key3.keys()), y=list(d_key3.values()), row=2,col=1)\n",
    "fig3.add_bar(x=domaine, y=domaine1, row=2,col=2)\n",
    "fig3.update_yaxes(automargin=True)\n",
    "fig3['layout'].update(width=1200, height=800, autosize=True)\n"
   ]
  },
  {
   "cell_type": "code",
   "execution_count": 58,
   "metadata": {},
   "outputs": [
    {
     "data": {
      "text/plain": [
       "Layout({\n",
       "    'annotations': [{'font': {'size': 16},\n",
       "                     'showarrow': False,\n",
       "                     'text': 'Algorithmes et Methodes I.A',\n",
       "                     'x': 0.225,\n",
       "                     'xanchor': 'center',\n",
       "                     'xref': 'paper',\n",
       "                     'y': 1.0,\n",
       "                     'yanchor': 'bottom',\n",
       "                     'yref': 'paper'},\n",
       "                    {'font': {'size': 16},\n",
       "                     'showarrow': False,\n",
       "                     'text': 'articles diabetes',\n",
       "                     'x': 0.775,\n",
       "                     'xanchor': 'center',\n",
       "                     'xref': 'paper',\n",
       "                     'y': 1.0,\n",
       "                     'yanchor': 'bottom',\n",
       "                     'yref': 'paper'},\n",
       "                    {'font': {'size': 16},\n",
       "                     'showarrow': False,\n",
       "                     'text': 'mots clés diabetes',\n",
       "                     'x': 0.225,\n",
       "                     'xanchor': 'center',\n",
       "                     'xref': 'paper',\n",
       "                     'y': 0.375,\n",
       "                     'yanchor': 'bottom',\n",
       "                     'yref': 'paper'},\n",
       "                    {'font': {'size': 16},\n",
       "                     'showarrow': False,\n",
       "                     'text': 'domaine d application',\n",
       "                     'x': 0.775,\n",
       "                     'xanchor': 'center',\n",
       "                     'xref': 'paper',\n",
       "                     'y': 0.375,\n",
       "                     'yanchor': 'bottom',\n",
       "                     'yref': 'paper'}],\n",
       "    'autosize': True,\n",
       "    'height': 800,\n",
       "    'template': '...',\n",
       "    'width': 1200,\n",
       "    'xaxis': {'anchor': 'y', 'domain': [0.0, 0.45]},\n",
       "    'xaxis2': {'anchor': 'y2', 'domain': [0.55, 1.0]},\n",
       "    'xaxis3': {'anchor': 'y3', 'domain': [0.0, 0.45]},\n",
       "    'xaxis4': {'anchor': 'y4', 'domain': [0.55, 1.0]},\n",
       "    'yaxis': {'anchor': 'x', 'automargin': True, 'domain': [0.625, 1.0]},\n",
       "    'yaxis2': {'anchor': 'x2', 'automargin': True, 'domain': [0.625, 1.0]},\n",
       "    'yaxis3': {'anchor': 'x3', 'automargin': True, 'domain': [0.0, 0.375]},\n",
       "    'yaxis4': {'anchor': 'x4', 'automargin': True, 'domain': [0.0, 0.375]}\n",
       "})"
      ]
     },
     "execution_count": 58,
     "metadata": {},
     "output_type": "execute_result"
    }
   ],
   "source": [
    "# graphe diabetes\n",
    "df4= df[df['diabetes'] >= 1]\n",
    "df4 = df4.groupby(['Annee']).diabetes.sum().reset_index()\n",
    "\n",
    "# mots clés\n",
    "df4_k=df[df['diabetes']>1]\n",
    "d_key4=sentenses2vocabs(df4_k['new_keywords'].sum(axis=0),th=2,n=400)\n",
    "## domaine\n",
    "domaine=['drug design','detection','diagnostic','patient care']\n",
    "df22= df[df['diabetes'] >1]\n",
    "domaine1=(df22['drug design'].sum(),df22['detection'].sum(),df22['diagnostic'].sum(),df22['patient care'].sum())\n",
    "# algorithmes et methodes I A\n",
    "AI_methodes\n",
    "domaine2=[]\n",
    "for e in AI_methodes:\n",
    "    domaine2.append(df11[e].sum())\n",
    "\n",
    "fig4 = make_subplots(rows=2, cols=2, subplot_titles=['Algorithmes et Methodes I.A', 'articles diabetes', 'mots clés diabetes','domaine d application'])\n",
    "fig4.add_bar(x=AI_methodes, y= domaine2, row=1, col=1)\n",
    "fig4.add_scatter(x=df4['Annee'], y= df4['diabetes'], row=1, col=2)\n",
    "fig4.add_bar(x=list(d_key4.keys()), y=list(d_key4.values()), row=2,col=1)\n",
    "fig4.add_bar(x=domaine, y=domaine1, row=2,col=2)\n",
    "fig4.update_yaxes(automargin=True)\n",
    "fig4['layout'].update(width=1200, height=800, autosize=True)\n"
   ]
  },
  {
   "cell_type": "code",
   "execution_count": 57,
   "metadata": {},
   "outputs": [
    {
     "data": {
      "text/plain": [
       "Layout({\n",
       "    'annotations': [{'font': {'size': 16},\n",
       "                     'showarrow': False,\n",
       "                     'text': 'Algorithmes et Methodes I.A',\n",
       "                     'x': 0.225,\n",
       "                     'xanchor': 'center',\n",
       "                     'xref': 'paper',\n",
       "                     'y': 1.0,\n",
       "                     'yanchor': 'bottom',\n",
       "                     'yref': 'paper'},\n",
       "                    {'font': {'size': 16},\n",
       "                     'showarrow': False,\n",
       "                     'text': 'Articles neurodegenerative',\n",
       "                     'x': 0.775,\n",
       "                     'xanchor': 'center',\n",
       "                     'xref': 'paper',\n",
       "                     'y': 1.0,\n",
       "                     'yanchor': 'bottom',\n",
       "                     'yref': 'paper'},\n",
       "                    {'font': {'size': 16},\n",
       "                     'showarrow': False,\n",
       "                     'text': 'mot clés',\n",
       "                     'x': 0.225,\n",
       "                     'xanchor': 'center',\n",
       "                     'xref': 'paper',\n",
       "                     'y': 0.375,\n",
       "                     'yanchor': 'bottom',\n",
       "                     'yref': 'paper'},\n",
       "                    {'font': {'size': 16},\n",
       "                     'showarrow': False,\n",
       "                     'text': 'domaine d application',\n",
       "                     'x': 0.775,\n",
       "                     'xanchor': 'center',\n",
       "                     'xref': 'paper',\n",
       "                     'y': 0.375,\n",
       "                     'yanchor': 'bottom',\n",
       "                     'yref': 'paper'}],\n",
       "    'autosize': True,\n",
       "    'height': 800,\n",
       "    'template': '...',\n",
       "    'width': 1200,\n",
       "    'xaxis': {'anchor': 'y', 'domain': [0.0, 0.45]},\n",
       "    'xaxis2': {'anchor': 'y2', 'domain': [0.55, 1.0]},\n",
       "    'xaxis3': {'anchor': 'y3', 'domain': [0.0, 0.45]},\n",
       "    'xaxis4': {'anchor': 'y4', 'domain': [0.55, 1.0]},\n",
       "    'yaxis': {'anchor': 'x', 'automargin': True, 'domain': [0.625, 1.0]},\n",
       "    'yaxis2': {'anchor': 'x2', 'automargin': True, 'domain': [0.625, 1.0]},\n",
       "    'yaxis3': {'anchor': 'x3', 'automargin': True, 'domain': [0.0, 0.375]},\n",
       "    'yaxis4': {'anchor': 'x4', 'automargin': True, 'domain': [0.0, 0.375]}\n",
       "})"
      ]
     },
     "execution_count": 57,
     "metadata": {},
     "output_type": "execute_result"
    }
   ],
   "source": [
    "# graphe  neurodegenerative\n",
    "# articles\n",
    "\n",
    "# mots clés\n",
    "df5_k=df[df[\"neurodegenerative\"]>1]\n",
    "d_key5=sentenses2vocabs(df5_k['new_keywords'].sum(axis=0),th=2,n=100)\n",
    "# articles\n",
    "df5= df[df['neurodegenerative'] >= 1]\n",
    "df5 = df5.groupby(['Annee']).neurodegenerative.sum().reset_index()\n",
    "### domaine\n",
    "domaine=['drug design','detection','diagnostic','patient care']\n",
    "df22= df[df[\"neurodegenerative\"] >1]\n",
    "domaine1=(df22['drug design'].sum(),df22['detection'].sum(),df22['diagnostic'].sum(),df22['patient care'].sum())\n",
    "# algorithmes et methodes I A\n",
    "AI_methodes\n",
    "domaine2=[]\n",
    "for e in AI_methodes:\n",
    "    domaine2.append(df11[e].sum())\n",
    "\n",
    "fig5 = make_subplots(rows=2, cols=2, subplot_titles=['Algorithmes et Methodes I.A', 'Articles neurodegenerative', 'mot clés','domaine d application'])\n",
    "\n",
    "fig5.add_bar(x=AI_methodes, y= domaine2, row=1, col=1)\n",
    "fig5.add_scatter(x=df5['Annee'], y= df5['neurodegenerative'], row=1, col=2)\n",
    "fig5.add_bar(x=list(d_key5.keys()), y=list(d_key5.values()), row=2,col=1)\n",
    "fig5.add_bar(x=domaine, y=domaine1, row=2,col=2)\n",
    "fig5.update_yaxes(automargin=True)\n",
    "fig5['layout'].update(width=1200, height=800, autosize=True)\n"
   ]
  },
  {
   "cell_type": "code",
   "execution_count": 62,
   "metadata": {},
   "outputs": [
    {
     "data": {
      "text/plain": [
       "Layout({\n",
       "    'annotations': [{'font': {'size': 16},\n",
       "                     'showarrow': False,\n",
       "                     'text': 'articles asthma',\n",
       "                     'x': 0.225,\n",
       "                     'xanchor': 'center',\n",
       "                     'xref': 'paper',\n",
       "                     'y': 1.0,\n",
       "                     'yanchor': 'bottom',\n",
       "                     'yref': 'paper'},\n",
       "                    {'font': {'size': 16},\n",
       "                     'showarrow': False,\n",
       "                     'text': 'Algorithmes et Methodes I.A',\n",
       "                     'x': 0.775,\n",
       "                     'xanchor': 'center',\n",
       "                     'xref': 'paper',\n",
       "                     'y': 1.0,\n",
       "                     'yanchor': 'bottom',\n",
       "                     'yref': 'paper'},\n",
       "                    {'font': {'size': 16},\n",
       "                     'showarrow': False,\n",
       "                     'text': 'mots clés',\n",
       "                     'x': 0.225,\n",
       "                     'xanchor': 'center',\n",
       "                     'xref': 'paper',\n",
       "                     'y': 0.375,\n",
       "                     'yanchor': 'bottom',\n",
       "                     'yref': 'paper'},\n",
       "                    {'font': {'size': 16},\n",
       "                     'showarrow': False,\n",
       "                     'text': 'domaine d application',\n",
       "                     'x': 0.775,\n",
       "                     'xanchor': 'center',\n",
       "                     'xref': 'paper',\n",
       "                     'y': 0.375,\n",
       "                     'yanchor': 'bottom',\n",
       "                     'yref': 'paper'}],\n",
       "    'autosize': True,\n",
       "    'height': 800,\n",
       "    'template': '...',\n",
       "    'width': 1200,\n",
       "    'xaxis': {'anchor': 'y', 'domain': [0.0, 0.45]},\n",
       "    'xaxis2': {'anchor': 'y2', 'domain': [0.55, 1.0]},\n",
       "    'xaxis3': {'anchor': 'y3', 'domain': [0.0, 0.45]},\n",
       "    'xaxis4': {'anchor': 'y4', 'domain': [0.55, 1.0]},\n",
       "    'yaxis': {'anchor': 'x', 'automargin': True, 'domain': [0.625, 1.0]},\n",
       "    'yaxis2': {'anchor': 'x2', 'automargin': True, 'domain': [0.625, 1.0]},\n",
       "    'yaxis3': {'anchor': 'x3', 'automargin': True, 'domain': [0.0, 0.375]},\n",
       "    'yaxis4': {'anchor': 'x4', 'automargin': True, 'domain': [0.0, 0.375]}\n",
       "})"
      ]
     },
     "execution_count": 62,
     "metadata": {},
     "output_type": "execute_result"
    }
   ],
   "source": [
    "# asthma\n",
    "\n",
    "# 'count_asthma'\n",
    "df6=df[df['asthma']>1]\n",
    "df6 = df6.groupby(['Annee']).asthma.sum().reset_index()\n",
    "df6_k=df[df['asthma']>1]\n",
    "d_key6=sentenses2vocabs(df6_k['new_keywords'].sum(axis=0),th=2,n=100)\n",
    "### domaine\n",
    "domaine=['drug design','detection','diagnostic','patient care']\n",
    "df22= df[df[\"asthma\"] >1]\n",
    "domaine1=(df22['drug design'].sum(),df22['detection'].sum(),df22['diagnostic'].sum(),df22['patient care'].sum())\n",
    "# algorithmes et methodes I A\n",
    "AI_methodes\n",
    "domaine2=[]\n",
    "for e in AI_methodes:\n",
    "    domaine2.append(df11[e].sum())\n",
    "\n",
    "\n",
    "fig6 = make_subplots(rows=2, cols=2, subplot_titles=['articles asthma','Algorithmes et Methodes I.A','mots clés','domaine d application'])\n",
    "fig6.add_scatter(x=df6['Annee'], y= df6['asthma'], row=1, col=1)\n",
    "fig6.add_bar(x=AI_methodes, y=domaine2, row=1,col=2)\n",
    "fig6.add_bar(x=list(d_key6.keys()), y=list(d_key6.values()), row=2,col=1)\n",
    "fig6.add_bar(x=domaine, y=domaine1, row=2,col=2)\n",
    "fig6.update_yaxes(automargin=True)\n",
    "fig6['layout'].update(width=1200, height=800, autosize=True)\n"
   ]
  },
  {
   "cell_type": "code",
   "execution_count": 66,
   "metadata": {},
   "outputs": [
    {
     "data": {
      "text/plain": [
       "Layout({\n",
       "    'annotations': [{'font': {'size': 16},\n",
       "                     'showarrow': False,\n",
       "                     'text': 'Algorithmes et Methodes I.A',\n",
       "                     'x': 0.225,\n",
       "                     'xanchor': 'center',\n",
       "                     'xref': 'paper',\n",
       "                     'y': 1.0,\n",
       "                     'yanchor': 'bottom',\n",
       "                     'yref': 'paper'},\n",
       "                    {'font': {'size': 16},\n",
       "                     'showarrow': False,\n",
       "                     'text': 'articles alzheimer',\n",
       "                     'x': 0.775,\n",
       "                     'xanchor': 'center',\n",
       "                     'xref': 'paper',\n",
       "                     'y': 1.0,\n",
       "                     'yanchor': 'bottom',\n",
       "                     'yref': 'paper'},\n",
       "                    {'font': {'size': 16},\n",
       "                     'showarrow': False,\n",
       "                     'text': 'mots clés',\n",
       "                     'x': 0.225,\n",
       "                     'xanchor': 'center',\n",
       "                     'xref': 'paper',\n",
       "                     'y': 0.375,\n",
       "                     'yanchor': 'bottom',\n",
       "                     'yref': 'paper'},\n",
       "                    {'font': {'size': 16},\n",
       "                     'showarrow': False,\n",
       "                     'text': 'domaine d appilcation',\n",
       "                     'x': 0.775,\n",
       "                     'xanchor': 'center',\n",
       "                     'xref': 'paper',\n",
       "                     'y': 0.375,\n",
       "                     'yanchor': 'bottom',\n",
       "                     'yref': 'paper'}],\n",
       "    'autosize': True,\n",
       "    'height': 800,\n",
       "    'template': '...',\n",
       "    'width': 1200,\n",
       "    'xaxis': {'anchor': 'y', 'domain': [0.0, 0.45]},\n",
       "    'xaxis2': {'anchor': 'y2', 'domain': [0.55, 1.0]},\n",
       "    'xaxis3': {'anchor': 'y3', 'domain': [0.0, 0.45]},\n",
       "    'xaxis4': {'anchor': 'y4', 'domain': [0.55, 1.0]},\n",
       "    'yaxis': {'anchor': 'x', 'automargin': True, 'domain': [0.625, 1.0]},\n",
       "    'yaxis2': {'anchor': 'x2', 'automargin': True, 'domain': [0.625, 1.0]},\n",
       "    'yaxis3': {'anchor': 'x3', 'automargin': True, 'domain': [0.0, 0.375]},\n",
       "    'yaxis4': {'anchor': 'x4', 'automargin': True, 'domain': [0.0, 0.375]}\n",
       "})"
      ]
     },
     "execution_count": 66,
     "metadata": {},
     "output_type": "execute_result"
    }
   ],
   "source": [
    "# graphes alzheimer\n",
    "\n",
    "# mots clés\n",
    "df7=df[df['alzheimer']>1]\n",
    "d_key7=sentenses2vocabs(df7['new_keywords'].sum(axis=0),th=2,n=320)\n",
    "# articles\n",
    "df7 = df7.groupby(['Annee']).alzheimer.sum().reset_index()\n",
    "### domaine\n",
    "domaine=['drug design','detection','diagnostic','patient care']\n",
    "df22= df[df['alzheimer'] >1]\n",
    "domaine1=(df22['drug design'].sum(),df22['detection'].sum(),df22['diagnostic'].sum(),df22['patient care'].sum())\n",
    "# algorithmes et methodes I A\n",
    "AI_methodes\n",
    "domaine2=[]\n",
    "for e in AI_methodes:\n",
    "    domaine2.append(df11[e].sum())\n",
    "\n",
    "fig7 = make_subplots(rows=2, cols=2, subplot_titles=['Algorithmes et Methodes I.A','articles alzheimer', 'mots clés','domaine d appilcation'])\n",
    "fig7.add_bar(x=AI_methodes, y= domaine2, row=1, col=1)\n",
    "fig7.add_scatter(x=df7['Annee'], y= df7['alzheimer'], row=1, col=2)\n",
    "fig7.add_bar(x=list(d_key7.keys()), y=list(d_key7.values()), row=2,col=1)\n",
    "fig7.add_bar(x=domaine, y=domaine1, row=2,col=2)\n",
    "\n",
    "fig7.update_yaxes(automargin=True)\n",
    "\n",
    "fig7['layout'].update(width=1200, height=800, autosize=True)"
   ]
  },
  {
   "cell_type": "markdown",
   "metadata": {},
   "source": [
    "## Graphe générale des articles des maladie en fonctions des années des therme IA et Pays"
   ]
  },
  {
   "cell_type": "code",
   "execution_count": 64,
   "metadata": {},
   "outputs": [],
   "source": [
    "import plotly.express as px \n",
    "dfh=df.copy()\n",
    "dfh['I.A'] = dfh.loc[dfh['cancer']>=0,AI_methodes].sum(axis=1)\n",
    "dfh['Maladie'] = dfh.loc[dfh['I.A']>0,maladie].sum(axis=1)\n",
    "dfh['I.A'].fillna(0, inplace=True)\n",
    "dfh['Maladie'].fillna(0, inplace=True)\n",
    "dfh=dfh[dfh['Maladie']>2]\n",
    "fig_map = px.scatter(dfh, x=\"Annee\", y=\"Pays\", \n",
    "                 color=\"I.A\", \n",
    "                 size=\"I.A\",  \n",
    "                 hover_data=maladie+AI_methodes) \n",
    "  \n"
   ]
  },
  {
   "cell_type": "markdown",
   "metadata": {},
   "source": [
    "## nuage des mots dans tout les abstract"
   ]
  },
  {
   "cell_type": "code",
   "execution_count": 67,
   "metadata": {},
   "outputs": [
    {
     "data": {
      "text/plain": [
       "Layout({\n",
       "    'autosize': True,\n",
       "    'height': 800,\n",
       "    'template': '...',\n",
       "    'width': 1200,\n",
       "    'xaxis': {'showgrid': False, 'showticklabels': False, 'zeroline': False},\n",
       "    'yaxis': {'showgrid': False, 'showticklabels': False, 'zeroline': False}\n",
       "})"
      ]
     },
     "execution_count": 67,
     "metadata": {},
     "output_type": "execute_result"
    }
   ],
   "source": [
    "# github \n",
    "def plotly_wordcloud(text):\n",
    "    wc = WordCloud(stopwords = set(STOPWORDS),\n",
    "                   max_words = 200,\n",
    "                   max_font_size = 100)\n",
    "    wc.generate(text)\n",
    "    \n",
    "    word_list=[]\n",
    "    freq_list=[]\n",
    "    fontsize_list=[]\n",
    "    position_list=[]\n",
    "    orientation_list=[]\n",
    "    color_list=[]\n",
    "\n",
    "    for (word, freq), fontsize, position, orientation, color in wc.layout_:\n",
    "        word_list.append(word)\n",
    "        freq_list.append(freq)\n",
    "        fontsize_list.append(fontsize)\n",
    "        position_list.append(position)\n",
    "        orientation_list.append(orientation)\n",
    "        color_list.append(color)\n",
    "        \n",
    "    # get the positions\n",
    "    x=[]\n",
    "    y=[]\n",
    "    for i in position_list:\n",
    "        x.append(i[0])\n",
    "        y.append(i[1])\n",
    "            \n",
    "    # get the relative occurence frequencies\n",
    "    new_freq_list = []\n",
    "    for i in freq_list:\n",
    "        new_freq_list.append(i*100)\n",
    "    new_freq_list\n",
    "    \n",
    "    trace = go.Scatter(x=x, \n",
    "                       y=y, \n",
    "                       textfont = dict(size=new_freq_list,\n",
    "                                       color=color_list),\n",
    "                       hoverinfo='text',\n",
    "                       hovertext=['{0}{1}'.format(w, f) for w, f in zip(word_list, freq_list)],\n",
    "                       mode='text',  \n",
    "                       text=word_list\n",
    "                      )\n",
    "    \n",
    "    layout = go.Layout({'xaxis': {'showgrid': False, 'showticklabels': False, 'zeroline': False},\n",
    "                        'yaxis': {'showgrid': False, 'showticklabels': False, 'zeroline': False}})\n",
    "    \n",
    "    fig = go.Figure(data=[trace], layout=layout)\n",
    "    \n",
    "    return fig\n",
    "### application sur tout la dataframe\n",
    "T=[]\n",
    "for k in range(len(df)):\n",
    "    T.append(df['net_text'][k])\n",
    "    \n",
    "figwc=plotly_wordcloud(str(T))\n",
    "figwc['layout'].update(width=1200, height=800, autosize=True)\n"
   ]
  },
  {
   "cell_type": "markdown",
   "metadata": {},
   "source": [
    "# Pratie VI ) Configuration Dash BoostRAP et construire pages HTML"
   ]
  },
  {
   "cell_type": "code",
   "execution_count": null,
   "metadata": {},
   "outputs": [],
   "source": [
    "\n",
    "app = dash.Dash(external_stylesheets=[dbc.themes.BOOTSTRAP])\n",
    "\n",
    "# the style arguments for the sidebar. We use position:fixed and a fixed width\n",
    "SIDEBAR_STYLE = {\n",
    "    \"position\": \"fixed\",\n",
    "    \"top\": 0,\n",
    "    \"left\": 0,\n",
    "    \"bottom\": 0,\n",
    "    \"width\": \"16rem\",\n",
    "    \"padding\": \"2rem 1rem\",\n",
    "    \"background-color\": \"#C0C0C0\",\n",
    "}\n",
    "\n",
    "# the styles for the main content position it to the right of the sidebar and\n",
    "# add some padding.\n",
    "CONTENT_STYLE = {\n",
    "    \"margin-left\": \"18rem\",\n",
    "    \"margin-right\": \"2rem\",\n",
    "    \"padding\": \"2rem 1rem\",\n",
    "}\n",
    "sidebar = html.Div(\n",
    "    [\n",
    "        html.H1(\"Projet Dashbord M1 SID\", className=\"display-4\"),\n",
    "        html.Hr(),\n",
    "        html.P(\n",
    "            \"la contribution de I.A dans les maladies incurables\", className=\"lead\"\n",
    "        ),\n",
    "        dbc.Nav(\n",
    "            [\n",
    "                dbc.NavLink(\"Premieres Graphes et Analyse\", href=\"/\", active=\"exact\"),\n",
    "                dbc.NavLink(\"Cardiovasculaire & I.A \", href=\"page-1\", active=\"exact\"),\n",
    "                dbc.NavLink(\"Cancer & I.A\", href=\"/page-2\", active=\"exact\"),\n",
    "                dbc.NavLink(\"Schizophrenia & I.A\", href=\"/page-3\", active=\"exact\"),\n",
    "                dbc.NavLink(\"Diabetes  & I.A\", href=\"/page-4\", active=\"exact\"),\n",
    "                dbc.NavLink(\"Deurodegenerative & I.A \", href=\"/page-5\", active=\"exact\"),\n",
    "                dbc.NavLink(\"Asthma & I.A \", href=\"/page-6\", active=\"exact\"),\n",
    "                dbc.NavLink(\"Alzheimer & I.A \", href=\"/page-7\", active=\"exact\"),\n",
    "                dbc.NavLink(\"Algorithmes I.A et Maladies\", href=\"/page-8\", active=\"exact\"),\n",
    "                dbc.NavLink(\"Nuage des mots totale\", href=\"/page-9\", active=\"exact\"),\n",
    "            ],\n",
    "            vertical=True,\n",
    "            pills=True,\n",
    "        ),\n",
    "    ],\n",
    "    style=SIDEBAR_STYLE,\n",
    ")\n",
    "\n",
    "content = html.Div(id=\"page-content\", style=CONTENT_STYLE)\n",
    "\n",
    "app.layout = html.Div([dcc.Location(id=\"url\"), sidebar, content])\n"
   ]
  },
  {
   "cell_type": "code",
   "execution_count": null,
   "metadata": {},
   "outputs": [],
   "source": [
    "##### main page\n",
    "p_g = html.P([html.Div(children=[\n",
    "    # All elements from the top of the page\n",
    "    html.Div([\n",
    "            html.H1(children='Graphes des publications des articles des maladies incurables selon les pays'),\n",
    "            dcc.Graph(id='graph1',figure=fig_p\n",
    "            ),  \n",
    "        ])\n",
    "   ])\n",
    "])\n",
    "\n",
    "############\n",
    "px1 = html.P([html.Div(children=[\n",
    "    # All elements from the top of the page\n",
    "    html.Div([\n",
    "            html.H1(children='Cardiovascular diseas'),\n",
    "            dcc.Graph(id='graph1',figure=fig1\n",
    "            ),  \n",
    "        ])\n",
    "   ])\n",
    "])\n",
    "\n",
    "###############\n",
    "px2 = html.P([html.Div(children=[\n",
    "    # All elements from the top of the page\n",
    "    html.Div([\n",
    "            html.H1(children='Cancer'),\n",
    "            dcc.Graph(id='graph1',figure=fig2\n",
    "            ),  \n",
    "        ])\n",
    "   ])\n",
    "])\n",
    "######\n",
    "px3 = html.P([html.Div(children=[\n",
    "    # All elements from the top of the page\n",
    "    html.Div([\n",
    "            html.H1(children='Schizophrenia'),\n",
    "            dcc.Graph(id='graph1',figure=fig3\n",
    "            ),  \n",
    "        ])\n",
    "   ])\n",
    "])\n",
    "\n",
    "#####\n",
    "px4 = html.P([html.Div(children=[\n",
    "    # All elements from the top of the page\n",
    "    html.Div([\n",
    "            html.H1(children='Diabetes'),\n",
    "            dcc.Graph(id='graph1',figure=fig4\n",
    "            ),  \n",
    "        ])\n",
    "   ])\n",
    "])\n",
    "\n",
    "#####\n",
    "px5 = html.P([html.Div(children=[\n",
    "    # All elements from the top of the page\n",
    "    html.Div([\n",
    "            html.H1(children='Neurodegenerative'),\n",
    "            dcc.Graph(id='graph1',figure=fig5\n",
    "            ),  \n",
    "        ])\n",
    "   ])\n",
    "])\n",
    "\n",
    "\n",
    "######\n",
    "px6 = html.P([html.Div(children=[\n",
    "    # All elements from the top of the page\n",
    "    html.Div([\n",
    "            html.H1(children='Asthma'),\n",
    "            dcc.Graph(id='graph1',figure=fig6\n",
    "            ),\n",
    "        ])\n",
    "   ])\n",
    "])\n",
    "\n",
    "\n",
    "#######\n",
    "px7 = html.P([html.Div(children=[\n",
    "    # All elements from the top of the page\n",
    "    html.Div([\n",
    "            html.H1(children='Alzheimer'),\n",
    "            dcc.Graph(id='graph1',figure=fig7\n",
    "            ),\n",
    "        ])\n",
    "   ])\n",
    "])\n",
    "#######\n",
    "px8 = html.P([html.Div(children=[\n",
    "    # All elements from the top of the page\n",
    "    html.Div([\n",
    "            html.H1(children='Graphe générale des articles des maladie en fonctions des années, des algorithmes I.A et Pays'),\n",
    "            dcc.Graph(id='graph1',figure=fig_map\n",
    "            ),\n",
    "        ])\n",
    "   ])\n",
    "])\n",
    "\n",
    "#######\n",
    "px9 = html.P([html.Div(children=[\n",
    "    # All elements from the top of the page\n",
    "    html.Div([\n",
    "            html.H1(children='Nuage des mots dans notre scrapping abstracts'),\n",
    "            dcc.Graph(id='graph1',figure=figwc\n",
    "            ),\n",
    "        ])\n",
    "   ])\n",
    "])\n"
   ]
  },
  {
   "cell_type": "code",
   "execution_count": null,
   "metadata": {},
   "outputs": [
    {
     "name": "stdout",
     "output_type": "stream",
     "text": [
      "Dash is running on http://127.0.0.1:8050/\n",
      "\n",
      " * Serving Flask app \"__main__\" (lazy loading)\n",
      " * Environment: production\n",
      "\u001b[31m   WARNING: This is a development server. Do not use it in a production deployment.\u001b[0m\n",
      "\u001b[2m   Use a production WSGI server instead.\u001b[0m\n",
      " * Debug mode: off\n"
     ]
    },
    {
     "name": "stderr",
     "output_type": "stream",
     "text": [
      " * Running on http://127.0.0.1:8050/ (Press CTRL+C to quit)\n",
      "127.0.0.1 - - [20/Mar/2021 04:12:50] \"\u001b[37mGET / HTTP/1.1\u001b[0m\" 200 -\n",
      "127.0.0.1 - - [20/Mar/2021 04:12:51] \"\u001b[37mGET /_dash-dependencies HTTP/1.1\u001b[0m\" 200 -\n",
      "127.0.0.1 - - [20/Mar/2021 04:12:51] \"\u001b[37mGET /_dash-layout HTTP/1.1\u001b[0m\" 200 -\n",
      "127.0.0.1 - - [20/Mar/2021 04:12:51] \"\u001b[37mPOST /_dash-update-component HTTP/1.1\u001b[0m\" 200 -\n",
      "127.0.0.1 - - [20/Mar/2021 04:12:51] \"\u001b[37mGET /_dash-component-suites/dash_core_components/async-plotlyjs.v1_15_0m1611086576.js HTTP/1.1\u001b[0m\" 200 -\n",
      "127.0.0.1 - - [20/Mar/2021 04:12:53] \"\u001b[37mPOST /_dash-update-component HTTP/1.1\u001b[0m\" 200 -\n",
      "127.0.0.1 - - [20/Mar/2021 04:12:56] \"\u001b[37mPOST /_dash-update-component HTTP/1.1\u001b[0m\" 200 -\n",
      "127.0.0.1 - - [20/Mar/2021 04:12:57] \"\u001b[37mPOST /_dash-update-component HTTP/1.1\u001b[0m\" 200 -\n",
      "127.0.0.1 - - [20/Mar/2021 04:12:58] \"\u001b[37mPOST /_dash-update-component HTTP/1.1\u001b[0m\" 200 -\n",
      "127.0.0.1 - - [20/Mar/2021 04:12:59] \"\u001b[37mPOST /_dash-update-component HTTP/1.1\u001b[0m\" 200 -\n",
      "127.0.0.1 - - [20/Mar/2021 04:13:01] \"\u001b[37mPOST /_dash-update-component HTTP/1.1\u001b[0m\" 200 -\n",
      "127.0.0.1 - - [20/Mar/2021 04:13:02] \"\u001b[37mPOST /_dash-update-component HTTP/1.1\u001b[0m\" 200 -\n",
      "127.0.0.1 - - [20/Mar/2021 04:13:03] \"\u001b[37mPOST /_dash-update-component HTTP/1.1\u001b[0m\" 200 -\n",
      "127.0.0.1 - - [20/Mar/2021 04:13:06] \"\u001b[37mPOST /_dash-update-component HTTP/1.1\u001b[0m\" 200 -\n",
      "127.0.0.1 - - [20/Mar/2021 04:13:10] \"\u001b[37mPOST /_dash-update-component HTTP/1.1\u001b[0m\" 200 -\n"
     ]
    }
   ],
   "source": [
    "# 5 Run app\n",
    "@app.callback(Output(\"page-content\", \"children\"), [Input(\"url\", \"pathname\")])\n",
    "def render_page_content(pathname):\n",
    "    if pathname == \"/\":\n",
    "        return p_g\n",
    "    elif pathname == \"/page-1\":\n",
    "        return px1\n",
    "    elif pathname == \"/page-2\":\n",
    "        return px2\n",
    "    elif pathname == \"/page-3\":\n",
    "        return px3\n",
    "    elif pathname == \"/page-4\":\n",
    "        return px4\n",
    "    elif pathname == \"/page-5\":\n",
    "        return px5\n",
    "    elif pathname == \"/page-6\":\n",
    "        return px6\n",
    "    elif pathname == \"/page-7\":\n",
    "        return px7\n",
    "    elif pathname == \"/page-8\":\n",
    "        return px8\n",
    "    elif pathname == \"/page-9\":\n",
    "        return px9\n",
    "        \n",
    "        \n",
    "    # If the user tries to reach a different page, return a 404 message\n",
    "    return dbc.Jumbotron(\n",
    "        [\n",
    "            html.H1(\"404: Not found\", className=\"text-danger\"),\n",
    "            html.Hr(),\n",
    "            html.P(f\"The pathname {pathname} was not recognised...\"),\n",
    "        ]\n",
    "    )\n",
    "\n",
    "if __name__ == '__main__':\n",
    "    app.run_server(debug=False)"
   ]
  },
  {
   "cell_type": "code",
   "execution_count": 3,
   "metadata": {},
   "outputs": [],
   "source": []
  },
  {
   "cell_type": "code",
   "execution_count": null,
   "metadata": {},
   "outputs": [],
   "source": [
    "\n"
   ]
  },
  {
   "cell_type": "code",
   "execution_count": null,
   "metadata": {},
   "outputs": [
    {
     "name": "stdout",
     "output_type": "stream",
     "text": [
      "Dash is running on http://127.0.0.1:8050/\n",
      "\n",
      " * Serving Flask app \"__main__\" (lazy loading)\n",
      " * Environment: production\n",
      "\u001b[31m   WARNING: This is a development server. Do not use it in a production deployment.\u001b[0m\n",
      "\u001b[2m   Use a production WSGI server instead.\u001b[0m\n",
      " * Debug mode: off\n"
     ]
    },
    {
     "name": "stderr",
     "output_type": "stream",
     "text": [
      " * Running on http://127.0.0.1:8050/ (Press CTRL+C to quit)\n",
      "127.0.0.1 - - [24/Feb/2021 22:21:44] \"\u001b[37mGET / HTTP/1.1\u001b[0m\" 200 -\n",
      "127.0.0.1 - - [24/Feb/2021 22:21:44] \"\u001b[37mGET /_dash-layout HTTP/1.1\u001b[0m\" 200 -\n",
      "127.0.0.1 - - [24/Feb/2021 22:21:44] \"\u001b[37mGET /_dash-dependencies HTTP/1.1\u001b[0m\" 200 -\n",
      "127.0.0.1 - - [24/Feb/2021 22:21:44] \"\u001b[37mPOST /_dash-update-component HTTP/1.1\u001b[0m\" 200 -\n",
      "127.0.0.1 - - [24/Feb/2021 22:21:46] \"\u001b[37mPOST /_dash-update-component HTTP/1.1\u001b[0m\" 200 -\n"
     ]
    }
   ],
   "source": []
  }
 ],
 "metadata": {
  "kernelspec": {
   "display_name": "Python 3",
   "language": "python",
   "name": "python3"
  },
  "language_info": {
   "codemirror_mode": {
    "name": "ipython",
    "version": 3
   },
   "file_extension": ".py",
   "mimetype": "text/x-python",
   "name": "python",
   "nbconvert_exporter": "python",
   "pygments_lexer": "ipython3",
   "version": "3.8.3"
  }
 },
 "nbformat": 4,
 "nbformat_minor": 4
}
