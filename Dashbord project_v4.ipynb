{
 "cells": [
  {
   "cell_type": "code",
   "execution_count": 70,
   "metadata": {},
   "outputs": [],
   "source": [
    "# Import librarais Projet SID 21\n",
    "import dash\n",
    "import numpy as np # linear algebra\n",
    "import pandas as pd # data processing, CSV file I/O (e.g. pd.read_csv)\n",
    "import dash_bootstrap_components as dbc\n",
    "import dash_core_components as dcc\n",
    "import dash_html_components as html\n",
    "import pandas as pd\n",
    "from dash.dependencies import Input, Output\n",
    "from sklearn import datasets\n",
    "from sklearn.cluster import KMeans\n",
    "import dash\n",
    "import dash_core_components as dcc\n",
    "import dash_html_components as html\n",
    "from dash.dependencies import Input, Output\n",
    "import pandas as pd\n",
    "#### pour les graphes\n",
    "\n",
    "import plotly.graph_objects as go\n",
    "from plotly.subplots import make_subplots\n",
    "### word cloud\n",
    "from wordcloud import WordCloud, STOPWORDS\n",
    "import plotly.graph_objs as go"
   ]
  },
  {
   "cell_type": "markdown",
   "metadata": {},
   "source": [
    "# 1 Dash Forme"
   ]
  },
  {
   "cell_type": "code",
   "execution_count": 71,
   "metadata": {},
   "outputs": [],
   "source": [
    "\n",
    "app = dash.Dash(external_stylesheets=[dbc.themes.BOOTSTRAP])\n",
    "\n",
    "# the style arguments for the sidebar. We use position:fixed and a fixed width\n",
    "SIDEBAR_STYLE = {\n",
    "    \"position\": \"fixed\",\n",
    "    \"top\": 0,\n",
    "    \"left\": 0,\n",
    "    \"bottom\": 0,\n",
    "    \"width\": \"16rem\",\n",
    "    \"padding\": \"2rem 1rem\",\n",
    "    \"background-color\": \"#C0C0C0\",\n",
    "}\n",
    "\n",
    "# the styles for the main content position it to the right of the sidebar and\n",
    "# add some padding.\n",
    "CONTENT_STYLE = {\n",
    "    \"margin-left\": \"18rem\",\n",
    "    \"margin-right\": \"2rem\",\n",
    "    \"padding\": \"2rem 1rem\",\n",
    "}\n",
    "sidebar = html.Div(\n",
    "    [\n",
    "        html.H1(\"Projet Dashbord M1 SID\", className=\"display-4\"),\n",
    "        html.Hr(),\n",
    "        html.P(\n",
    "            \"la contribution de I.A dans les maladies incurables\", className=\"lead\"\n",
    "        ),\n",
    "        dbc.Nav(\n",
    "            [\n",
    "                dbc.NavLink(\"Premieres Graphes et Analyse\", href=\"/\", active=\"exact\"),\n",
    "                dbc.NavLink(\"Cardiovascular disease\", href=\"page-1\", active=\"exact\"),\n",
    "                dbc.NavLink(\"Cancer & IA articles\", href=\"/page-2\", active=\"exact\"),\n",
    "                dbc.NavLink(\"Schizophrenia & IA articles\", href=\"/page-3\", active=\"exact\"),\n",
    "                dbc.NavLink(\"Diabetes  & IA articles\", href=\"/page-4\", active=\"exact\"),\n",
    "                dbc.NavLink(\"AIDS & IA articles\", href=\"/page-5\", active=\"exact\"),\n",
    "                dbc.NavLink(\"Asthma & IA articles\", href=\"/page-6\", active=\"exact\"),\n",
    "                dbc.NavLink(\"Alzheimer & IA articles\", href=\"/page-7\", active=\"exact\"),\n",
    "                dbc.NavLink(\"Nuage des mots totale\", href=\"/page-8\", active=\"exact\"),\n",
    "            ],\n",
    "            vertical=True,\n",
    "            pills=True,\n",
    "        ),\n",
    "    ],\n",
    "    style=SIDEBAR_STYLE,\n",
    ")\n",
    "\n",
    "content = html.Div(id=\"page-content\", style=CONTENT_STYLE)\n",
    "\n",
    "app.layout = html.Div([dcc.Location(id=\"url\"), sidebar, content])\n"
   ]
  },
  {
   "cell_type": "markdown",
   "metadata": {},
   "source": [
    "# 2 Data Processing"
   ]
  },
  {
   "cell_type": "code",
   "execution_count": 4,
   "metadata": {},
   "outputs": [],
   "source": [
    "# (cardiovascular disease OR cancer OR asthma OR alzheimer\n",
    "# OR diabetes OR AIDS OR schizophrenia OR Neurodegenerative Diseases)"
   ]
  },
  {
   "cell_type": "code",
   "execution_count": 72,
   "metadata": {},
   "outputs": [],
   "source": [
    "df=pd.read_csv('/home/sid2020-7/M1 S2/Projet Dashbord/Dashboard_V7.csv')\n",
    "### for keywords later\n",
    "\n",
    "def keywords(txt):\n",
    "    b = []\n",
    "    txt=str(txt)\n",
    "    for i in range(0,len(txt.lower().split('], ['))):\n",
    "        if i ==0:\n",
    "            c = txt.lower().split('], [')[i].replace(\"'\",\"\").replace(\",\",\"\")\n",
    "            b.append(c[2:])\n",
    "        elif i == len(txt.lower().split('], ['))-1:\n",
    "            c = txt.lower().split('], [')[i].replace(\"'\",\"\").replace(\",\",\"\")\n",
    "            b.append(c[:-2])\n",
    "        else:\n",
    "            b.append(txt.lower().split('], [')[i].replace(\"'\",\"\").replace(\",\",\"\"))\n",
    "    return(b)\n"
   ]
  },
  {
   "cell_type": "code",
   "execution_count": 73,
   "metadata": {},
   "outputs": [],
   "source": [
    "df['new_keywords']=df['keywords'].apply(keywords)\n"
   ]
  },
  {
   "cell_type": "code",
   "execution_count": 74,
   "metadata": {},
   "outputs": [],
   "source": [
    "df['count_cancer']=df.Abstract.str.count(\"cancer\")\n",
    "df['count_schizophrenia']=df.Abstract.str.count(\"schizophrenia\")\n",
    "df['count_diabetes']=df.Abstract.str.count(\"diabetes\")\n",
    "df['count_AIDS']=df.Abstract.str.count(\"AIDS\")\n",
    "df['count_asthma']=df.Abstract.str.count(\"asthma\")\n",
    "df['count_cardiovascular']=df.Abstract.str.count(\"cardiovascular\")\n",
    "lower = [str(df['Abstract'][i]).lower() for i in range(0,len(df))]\n",
    "df['Abstract_lower'] = lower\n",
    "\n",
    "df['count_alzheimer']=df.Abstract_lower.str.count(\"alzheimer\")\n",
    "# df.head()\n",
    "# df_dat_them=df[['Annee','count_cardiovascular','count_cancer','count_schizophrenia','count_diabetes','count_AIDS','count_asthma']]\n"
   ]
  },
  {
   "cell_type": "code",
   "execution_count": 75,
   "metadata": {},
   "outputs": [],
   "source": [
    "# make a dicionary of keywords for the whole keywords articles \"par maladie\"\n",
    "from collections import defaultdict\n",
    "\n",
    "def sentenses2vocabs(sents,th,n):\n",
    "    fullcount=defaultdict(int)\n",
    "    for x in sents:\n",
    "        for w in x.split():\n",
    "            fullcount[w]+=1\n",
    "    vocabset = set(key for key, value in fullcount.items() if value >= th)\n",
    "    vocab={}\n",
    "    for i,x in enumerate(vocabset):\n",
    "        if i>=n: ### les mots qu'ont plus que 100 fois dans le texte de tout les articles\n",
    "            vocab[x]=i\n",
    "    return vocab"
   ]
  },
  {
   "cell_type": "code",
   "execution_count": 76,
   "metadata": {},
   "outputs": [],
   "source": [
    "### for keywords\n",
    "\n",
    "df_keywords=df[['new_keywords','count_cardiovascular','count_cancer','count_schizophrenia','count_diabetes','count_AIDS','count_asthma','count_alzheimer']]\n",
    "            # cardiovascular'\n",
    "df1_k=df_keywords[['new_keywords','count_cardiovascular']]\n",
    "df1_k=df1_k[df1_k['count_cardiovascular']>2]\n",
    "d_key1=sentenses2vocabs(df1_k['new_keywords'].sum(axis=0),th=2,n=80)\n",
    "# df4_k['new_keywords'].sum(axis=0) pour concatoner les list string\n",
    "            #_cancer'\n",
    "df2_k=df_keywords[['new_keywords','count_cancer']]\n",
    "df2_k=df2_k[df2_k['count_cancer']>3]\n",
    "d_key2=sentenses2vocabs(df2_k['new_keywords'].sum(axis=0),th=2,n=700)\n",
    "            # schizophrenia\n",
    "df3_k=df_keywords[['new_keywords','count_schizophrenia']]\n",
    "df3_k=df3_k[df3_k['count_schizophrenia']>2]\n",
    "\n",
    "d_key3=sentenses2vocabs(df3_k['new_keywords'].sum(axis=0),th=2,n=200)\n",
    "            # diabetes'\n",
    "df4_k=df_keywords[['new_keywords','count_diabetes']]\n",
    "df4_k=df4_k[df4_k['count_diabetes']>1]\n",
    "d_key4=sentenses2vocabs(df4_k['new_keywords'].sum(axis=0),th=2,n=300)\n",
    "            # AIDS'\n",
    "df5_k=df_keywords[['new_keywords','count_AIDS']]\n",
    "df5_k=df5_k[df5_k['count_AIDS']>1]\n",
    "d_key5=sentenses2vocabs(df5_k['new_keywords'].sum(axis=0),th=2,n=20)\n",
    "            # asthma\n",
    "df6_k=df_keywords[['new_keywords','count_asthma']]\n",
    "df6_k=df6_k[df6_k['count_asthma']>1]\n",
    "d_key6=sentenses2vocabs(df6_k['new_keywords'].sum(axis=0),th=2,n=80)\n",
    "            # cardiovascular'\n",
    "df7_k=df_keywords[['new_keywords','count_alzheimer']]\n",
    "df7_k=df7_k[df7_k['count_alzheimer']>1]\n",
    "d_key7=sentenses2vocabs(df7_k['new_keywords'].sum(axis=0),th=2,n=230)"
   ]
  },
  {
   "cell_type": "code",
   "execution_count": 77,
   "metadata": {},
   "outputs": [
    {
     "data": {
      "text/plain": [
       "{'cohort': 230,\n",
       " 'neuroimaging': 231,\n",
       " 'subtraction': 232,\n",
       " 'symptoms': 233,\n",
       " 'association': 234,\n",
       " 'roc': 235,\n",
       " 'adolescent': 236,\n",
       " 'nervous': 237,\n",
       " 'radioisotopes': 238,\n",
       " 'wide': 239,\n",
       " 'differential': 240,\n",
       " 'decision': 241,\n",
       " 'matter': 242,\n",
       " 'principal': 243,\n",
       " 'anatomic': 244,\n",
       " 'amyloid': 245,\n",
       " 'severity': 246,\n",
       " 'schedule': 247,\n",
       " 'reproducibility': 248,\n",
       " 'information': 249,\n",
       " 'united': 250,\n",
       " 'sensitivity': 251,\n",
       " 'metabolism': 252,\n",
       " 'topic': 253,\n",
       " 'case': 254,\n",
       " 'pathology': 255,\n",
       " 'pattern': 256,\n",
       " 'predictive': 257,\n",
       " 'animals': 258}"
      ]
     },
     "execution_count": 77,
     "metadata": {},
     "output_type": "execute_result"
    }
   ],
   "source": [
    "d_key7"
   ]
  },
  {
   "cell_type": "code",
   "execution_count": 78,
   "metadata": {},
   "outputs": [
    {
     "data": {
      "text/plain": [
       "array([12.,  2.,  7., 11.,  2.,  8.,  2.,  6., 11.,  3.,  2.,  5., 18.])"
      ]
     },
     "execution_count": 78,
     "metadata": {},
     "output_type": "execute_result"
    }
   ],
   "source": [
    "### preparations des datas pour le plot camembert main page payes articles\n",
    "\n",
    "df_datp=df[['Pays','count_cardiovascular','count_cancer','count_schizophrenia','count_diabetes','count_AIDS','count_asthma']]\n",
    "# cardiovascular'\n",
    "df1p=df_datp[['Pays','count_cardiovascular']]\n",
    "df1p= df1p[df1p['count_cardiovascular'] >1]\n",
    "df1p = df1p.groupby(['Pays']).count_cardiovascular.sum().reset_index()\n",
    "df1p = df1p.dropna()\n",
    "### preparation des labels pour pie graphes\n",
    "df1p.loc[df1p['count_cardiovascular'] < 4 , 'Pays'] = 'Autre Pays'\n",
    "df1p.loc[df1p['Pays'] == 'non renseigne' , 'Pays'] = 'Autre Pays'\n",
    "df1p\n",
    "l1=df1p.groupby('Pays')['count_cardiovascular'].sum()\n",
    "l1.index\n",
    "l1.values\n",
    "\n",
    "# 'count_cancer'\n",
    "df2p=df_datp[['Pays','count_cancer']]\n",
    "df2p= df2p[df2p['count_cancer'] >1]\n",
    "df2p = df2p.groupby(['Pays']).count_cancer.sum().reset_index()\n",
    "df2p = df2p.dropna()\n",
    "### preparation des labels pour pie graphes\n",
    "df2p.loc[df2p['count_cancer'] < 50 , 'Pays'] = 'Autre Pays'\n",
    "df2p.loc[df2p['Pays'] == 'non renseigne' , 'Pays'] = 'Autre Pays'\n",
    "df2p\n",
    "l2=df2p.groupby('Pays')['count_cancer'].sum()\n",
    "l2.index\n",
    "l2.values\n",
    "\n",
    "\n",
    "# schizophrenia\n",
    "df3p=df_datp[['Pays','count_schizophrenia']]\n",
    "df3p= df3p[df3p['count_schizophrenia'] >1]\n",
    "df3p = df3p.groupby(['Pays']).count_schizophrenia.sum().reset_index()\n",
    "df3p = df3p.dropna()\n",
    "### preparation des labels pour pie graphes\n",
    "df3p.loc[df3p['count_schizophrenia'] < 20 , 'Pays'] = 'Autre Pays'\n",
    "df3p.loc[df3p['Pays'] == 'non renseigne' , 'Pays'] = 'Autre Pays'\n",
    "l3=df3p.groupby('Pays')['count_schizophrenia'].sum()\n",
    "l3.index\n",
    "l3.values\n",
    "\n",
    "\n",
    "# diabetes\n",
    "df4p=df_datp[['Pays','count_diabetes']]\n",
    "df4p= df4p[df4p['count_diabetes'] >1]\n",
    "df4p = df4p.groupby(['Pays']).count_diabetes.sum().reset_index()\n",
    "df4p = df4p.dropna()\n",
    "### preparation des labels pour pie graphes\n",
    "df4p.loc[df4p['count_diabetes'] < 5 , 'Pays'] = 'Autre Pays'\n",
    "df4p.loc[df4p['Pays'] == 'non renseigne' , 'Pays'] = 'Autre Pays'\n",
    "l4=df4p.groupby('Pays')['count_diabetes'].sum()\n",
    "l4.index\n",
    "l4.values\n",
    "\n",
    "\n",
    "# AIDS\n",
    "df5p=df_datp[['Pays','count_AIDS']]\n",
    "df5p= df5p[df5p['count_AIDS'] >1]\n",
    "df5p = df5p.groupby(['Pays']).count_AIDS.sum().reset_index()\n",
    "df5p = df5p.dropna()\n",
    "### preparation des labels pour pie graphes\n",
    "df5p.loc[df5p['count_AIDS'] <2 , 'Pays'] = 'Autre Pays'\n",
    "df5p.loc[df5p['Pays'] == 'non renseigne' , 'Pays'] = 'Autre Pays'\n",
    "l5=df5p.groupby('Pays')['count_AIDS'].sum()\n",
    "l5.index\n",
    "l5.values\n",
    "\n",
    "\n",
    "# diabetes\n",
    "df6p=df_datp[['Pays','count_asthma']]\n",
    "df6p= df6p[df6p['count_asthma'] >1]\n",
    "df6p = df6p.groupby(['Pays']).count_asthma.sum().reset_index()\n",
    "df6p = df6p.dropna()\n",
    "### preparation des labels pour pie graphes\n",
    "df6p.loc[df6p['count_asthma'] < 2 , 'Pays'] = 'Autre Pays'\n",
    "df6p.loc[df6p['Pays'] == 'non renseigne' , 'Pays'] = 'Autre Pays'\n",
    "l6=df6p.groupby('Pays')['count_asthma'].sum()\n",
    "l6.index\n",
    "l6.values\n"
   ]
  },
  {
   "cell_type": "code",
   "execution_count": 83,
   "metadata": {},
   "outputs": [
    {
     "data": {
      "application/vnd.plotly.v1+json": {
       "config": {
        "plotlyServerURL": "https://plot.ly"
       },
       "data": [
        {
         "domain": {
          "x": [
           0,
           0.2888888888888889
          ],
          "y": [
           0.625,
           1
          ]
         },
         "labels": [
          "Autre Pays",
          "africa",
          "canada",
          "china",
          "india",
          "korea",
          "netherlands",
          "spain",
          "uk",
          "usa"
         ],
         "type": "pie",
         "values": [
          64,
          4,
          9,
          22,
          9,
          10,
          9,
          7,
          8,
          24
         ]
        },
        {
         "domain": {
          "x": [
           0.35555555555555557,
           0.6444444444444445
          ],
          "y": [
           0.625,
           1
          ]
         },
         "labels": [
          "Autre Pays",
          "america",
          "australia",
          "brazil",
          "canada",
          "china",
          "france",
          "germany",
          "greece",
          "india",
          "iran",
          "italy",
          "japan",
          "kingdom",
          "korea",
          "netherlands",
          "singapore",
          "spain",
          "states",
          "taiwan",
          "turkey",
          "uk",
          "usa"
         ],
         "type": "pie",
         "values": [
          1694,
          107,
          74,
          85,
          148,
          1175,
          77,
          216,
          50,
          335,
          111,
          173,
          170,
          65,
          175,
          130,
          61,
          97,
          118,
          153,
          94,
          190,
          1275
         ]
        },
        {
         "domain": {
          "x": [
           0.7111111111111111,
           1
          ],
          "y": [
           0.625,
           1
          ]
         },
         "labels": [
          "Autre Pays",
          "canada",
          "china",
          "germany",
          "usa"
         ],
         "type": "pie",
         "values": [
          189,
          32,
          76,
          60,
          147
         ]
        },
        {
         "domain": {
          "x": [
           0,
           0.2888888888888889
          ],
          "y": [
           0,
           0.375
          ]
         },
         "labels": [
          "Autre Pays",
          "america",
          "australia",
          "bangladesh",
          "china",
          "deutschland",
          "finland",
          "germany",
          "india",
          "italy",
          "japan",
          "mexico",
          "pakistan",
          "singapore",
          "spain",
          "states",
          "sweden",
          "turkey",
          "uk",
          "usa"
         ],
         "type": "pie",
         "values": [
          89,
          10,
          28,
          8,
          35,
          6,
          6,
          13,
          50,
          7,
          16,
          5,
          6,
          10,
          17,
          6,
          5,
          6,
          9,
          50
         ]
        },
        {
         "domain": {
          "x": [
           0.35555555555555557,
           0.6444444444444445
          ],
          "y": [
           0,
           0.375
          ]
         },
         "labels": [
          "Autre Pays",
          "australia",
          "botswana",
          "canada",
          "china",
          "spain",
          "usa"
         ],
         "type": "pie",
         "values": [
          2,
          5,
          3,
          5,
          5,
          5,
          3
         ]
        },
        {
         "domain": {
          "x": [
           0.7111111111111111,
           1
          ],
          "y": [
           0,
           0.375
          ]
         },
         "labels": [
          "Autre Pays",
          "america",
          "brazil",
          "china",
          "india",
          "iran",
          "italy",
          "kingdom",
          "malaysia",
          "spain",
          "taiwan",
          "uk",
          "usa"
         ],
         "type": "pie",
         "values": [
          12,
          2,
          7,
          11,
          2,
          8,
          2,
          6,
          11,
          3,
          2,
          5,
          18
         ]
        }
       ],
       "layout": {
        "annotations": [
         {
          "font": {
           "size": 16
          },
          "showarrow": false,
          "text": "Pays par Articles Cardiovasculaire",
          "x": 0.14444444444444446,
          "xanchor": "center",
          "xref": "paper",
          "y": 1,
          "yanchor": "bottom",
          "yref": "paper"
         },
         {
          "font": {
           "size": 16
          },
          "showarrow": false,
          "text": "Pays par Articles cancer",
          "x": 0.5,
          "xanchor": "center",
          "xref": "paper",
          "y": 1,
          "yanchor": "bottom",
          "yref": "paper"
         },
         {
          "font": {
           "size": 16
          },
          "showarrow": false,
          "text": "Pays par Articles schizophrenia",
          "x": 0.8555555555555556,
          "xanchor": "center",
          "xref": "paper",
          "y": 1,
          "yanchor": "bottom",
          "yref": "paper"
         },
         {
          "font": {
           "size": 16
          },
          "showarrow": false,
          "text": "Pays par Articles diabetes",
          "x": 0.14444444444444446,
          "xanchor": "center",
          "xref": "paper",
          "y": 0.375,
          "yanchor": "bottom",
          "yref": "paper"
         },
         {
          "font": {
           "size": 16
          },
          "showarrow": false,
          "text": "Pays par Articles AIDS",
          "x": 0.5,
          "xanchor": "center",
          "xref": "paper",
          "y": 0.375,
          "yanchor": "bottom",
          "yref": "paper"
         },
         {
          "font": {
           "size": 16
          },
          "showarrow": false,
          "text": "Pays par Articles asthma",
          "x": 0.8555555555555556,
          "xanchor": "center",
          "xref": "paper",
          "y": 0.375,
          "yanchor": "bottom",
          "yref": "paper"
         }
        ],
        "autosize": true,
        "height": 800,
        "template": {
         "data": {
          "bar": [
           {
            "error_x": {
             "color": "#2a3f5f"
            },
            "error_y": {
             "color": "#2a3f5f"
            },
            "marker": {
             "line": {
              "color": "#E5ECF6",
              "width": 0.5
             }
            },
            "type": "bar"
           }
          ],
          "barpolar": [
           {
            "marker": {
             "line": {
              "color": "#E5ECF6",
              "width": 0.5
             }
            },
            "type": "barpolar"
           }
          ],
          "carpet": [
           {
            "aaxis": {
             "endlinecolor": "#2a3f5f",
             "gridcolor": "white",
             "linecolor": "white",
             "minorgridcolor": "white",
             "startlinecolor": "#2a3f5f"
            },
            "baxis": {
             "endlinecolor": "#2a3f5f",
             "gridcolor": "white",
             "linecolor": "white",
             "minorgridcolor": "white",
             "startlinecolor": "#2a3f5f"
            },
            "type": "carpet"
           }
          ],
          "choropleth": [
           {
            "colorbar": {
             "outlinewidth": 0,
             "ticks": ""
            },
            "type": "choropleth"
           }
          ],
          "contour": [
           {
            "colorbar": {
             "outlinewidth": 0,
             "ticks": ""
            },
            "colorscale": [
             [
              0,
              "#0d0887"
             ],
             [
              0.1111111111111111,
              "#46039f"
             ],
             [
              0.2222222222222222,
              "#7201a8"
             ],
             [
              0.3333333333333333,
              "#9c179e"
             ],
             [
              0.4444444444444444,
              "#bd3786"
             ],
             [
              0.5555555555555556,
              "#d8576b"
             ],
             [
              0.6666666666666666,
              "#ed7953"
             ],
             [
              0.7777777777777778,
              "#fb9f3a"
             ],
             [
              0.8888888888888888,
              "#fdca26"
             ],
             [
              1,
              "#f0f921"
             ]
            ],
            "type": "contour"
           }
          ],
          "contourcarpet": [
           {
            "colorbar": {
             "outlinewidth": 0,
             "ticks": ""
            },
            "type": "contourcarpet"
           }
          ],
          "heatmap": [
           {
            "colorbar": {
             "outlinewidth": 0,
             "ticks": ""
            },
            "colorscale": [
             [
              0,
              "#0d0887"
             ],
             [
              0.1111111111111111,
              "#46039f"
             ],
             [
              0.2222222222222222,
              "#7201a8"
             ],
             [
              0.3333333333333333,
              "#9c179e"
             ],
             [
              0.4444444444444444,
              "#bd3786"
             ],
             [
              0.5555555555555556,
              "#d8576b"
             ],
             [
              0.6666666666666666,
              "#ed7953"
             ],
             [
              0.7777777777777778,
              "#fb9f3a"
             ],
             [
              0.8888888888888888,
              "#fdca26"
             ],
             [
              1,
              "#f0f921"
             ]
            ],
            "type": "heatmap"
           }
          ],
          "heatmapgl": [
           {
            "colorbar": {
             "outlinewidth": 0,
             "ticks": ""
            },
            "colorscale": [
             [
              0,
              "#0d0887"
             ],
             [
              0.1111111111111111,
              "#46039f"
             ],
             [
              0.2222222222222222,
              "#7201a8"
             ],
             [
              0.3333333333333333,
              "#9c179e"
             ],
             [
              0.4444444444444444,
              "#bd3786"
             ],
             [
              0.5555555555555556,
              "#d8576b"
             ],
             [
              0.6666666666666666,
              "#ed7953"
             ],
             [
              0.7777777777777778,
              "#fb9f3a"
             ],
             [
              0.8888888888888888,
              "#fdca26"
             ],
             [
              1,
              "#f0f921"
             ]
            ],
            "type": "heatmapgl"
           }
          ],
          "histogram": [
           {
            "marker": {
             "colorbar": {
              "outlinewidth": 0,
              "ticks": ""
             }
            },
            "type": "histogram"
           }
          ],
          "histogram2d": [
           {
            "colorbar": {
             "outlinewidth": 0,
             "ticks": ""
            },
            "colorscale": [
             [
              0,
              "#0d0887"
             ],
             [
              0.1111111111111111,
              "#46039f"
             ],
             [
              0.2222222222222222,
              "#7201a8"
             ],
             [
              0.3333333333333333,
              "#9c179e"
             ],
             [
              0.4444444444444444,
              "#bd3786"
             ],
             [
              0.5555555555555556,
              "#d8576b"
             ],
             [
              0.6666666666666666,
              "#ed7953"
             ],
             [
              0.7777777777777778,
              "#fb9f3a"
             ],
             [
              0.8888888888888888,
              "#fdca26"
             ],
             [
              1,
              "#f0f921"
             ]
            ],
            "type": "histogram2d"
           }
          ],
          "histogram2dcontour": [
           {
            "colorbar": {
             "outlinewidth": 0,
             "ticks": ""
            },
            "colorscale": [
             [
              0,
              "#0d0887"
             ],
             [
              0.1111111111111111,
              "#46039f"
             ],
             [
              0.2222222222222222,
              "#7201a8"
             ],
             [
              0.3333333333333333,
              "#9c179e"
             ],
             [
              0.4444444444444444,
              "#bd3786"
             ],
             [
              0.5555555555555556,
              "#d8576b"
             ],
             [
              0.6666666666666666,
              "#ed7953"
             ],
             [
              0.7777777777777778,
              "#fb9f3a"
             ],
             [
              0.8888888888888888,
              "#fdca26"
             ],
             [
              1,
              "#f0f921"
             ]
            ],
            "type": "histogram2dcontour"
           }
          ],
          "mesh3d": [
           {
            "colorbar": {
             "outlinewidth": 0,
             "ticks": ""
            },
            "type": "mesh3d"
           }
          ],
          "parcoords": [
           {
            "line": {
             "colorbar": {
              "outlinewidth": 0,
              "ticks": ""
             }
            },
            "type": "parcoords"
           }
          ],
          "pie": [
           {
            "automargin": true,
            "type": "pie"
           }
          ],
          "scatter": [
           {
            "marker": {
             "colorbar": {
              "outlinewidth": 0,
              "ticks": ""
             }
            },
            "type": "scatter"
           }
          ],
          "scatter3d": [
           {
            "line": {
             "colorbar": {
              "outlinewidth": 0,
              "ticks": ""
             }
            },
            "marker": {
             "colorbar": {
              "outlinewidth": 0,
              "ticks": ""
             }
            },
            "type": "scatter3d"
           }
          ],
          "scattercarpet": [
           {
            "marker": {
             "colorbar": {
              "outlinewidth": 0,
              "ticks": ""
             }
            },
            "type": "scattercarpet"
           }
          ],
          "scattergeo": [
           {
            "marker": {
             "colorbar": {
              "outlinewidth": 0,
              "ticks": ""
             }
            },
            "type": "scattergeo"
           }
          ],
          "scattergl": [
           {
            "marker": {
             "colorbar": {
              "outlinewidth": 0,
              "ticks": ""
             }
            },
            "type": "scattergl"
           }
          ],
          "scattermapbox": [
           {
            "marker": {
             "colorbar": {
              "outlinewidth": 0,
              "ticks": ""
             }
            },
            "type": "scattermapbox"
           }
          ],
          "scatterpolar": [
           {
            "marker": {
             "colorbar": {
              "outlinewidth": 0,
              "ticks": ""
             }
            },
            "type": "scatterpolar"
           }
          ],
          "scatterpolargl": [
           {
            "marker": {
             "colorbar": {
              "outlinewidth": 0,
              "ticks": ""
             }
            },
            "type": "scatterpolargl"
           }
          ],
          "scatterternary": [
           {
            "marker": {
             "colorbar": {
              "outlinewidth": 0,
              "ticks": ""
             }
            },
            "type": "scatterternary"
           }
          ],
          "surface": [
           {
            "colorbar": {
             "outlinewidth": 0,
             "ticks": ""
            },
            "colorscale": [
             [
              0,
              "#0d0887"
             ],
             [
              0.1111111111111111,
              "#46039f"
             ],
             [
              0.2222222222222222,
              "#7201a8"
             ],
             [
              0.3333333333333333,
              "#9c179e"
             ],
             [
              0.4444444444444444,
              "#bd3786"
             ],
             [
              0.5555555555555556,
              "#d8576b"
             ],
             [
              0.6666666666666666,
              "#ed7953"
             ],
             [
              0.7777777777777778,
              "#fb9f3a"
             ],
             [
              0.8888888888888888,
              "#fdca26"
             ],
             [
              1,
              "#f0f921"
             ]
            ],
            "type": "surface"
           }
          ],
          "table": [
           {
            "cells": {
             "fill": {
              "color": "#EBF0F8"
             },
             "line": {
              "color": "white"
             }
            },
            "header": {
             "fill": {
              "color": "#C8D4E3"
             },
             "line": {
              "color": "white"
             }
            },
            "type": "table"
           }
          ]
         },
         "layout": {
          "annotationdefaults": {
           "arrowcolor": "#2a3f5f",
           "arrowhead": 0,
           "arrowwidth": 1
          },
          "autotypenumbers": "strict",
          "coloraxis": {
           "colorbar": {
            "outlinewidth": 0,
            "ticks": ""
           }
          },
          "colorscale": {
           "diverging": [
            [
             0,
             "#8e0152"
            ],
            [
             0.1,
             "#c51b7d"
            ],
            [
             0.2,
             "#de77ae"
            ],
            [
             0.3,
             "#f1b6da"
            ],
            [
             0.4,
             "#fde0ef"
            ],
            [
             0.5,
             "#f7f7f7"
            ],
            [
             0.6,
             "#e6f5d0"
            ],
            [
             0.7,
             "#b8e186"
            ],
            [
             0.8,
             "#7fbc41"
            ],
            [
             0.9,
             "#4d9221"
            ],
            [
             1,
             "#276419"
            ]
           ],
           "sequential": [
            [
             0,
             "#0d0887"
            ],
            [
             0.1111111111111111,
             "#46039f"
            ],
            [
             0.2222222222222222,
             "#7201a8"
            ],
            [
             0.3333333333333333,
             "#9c179e"
            ],
            [
             0.4444444444444444,
             "#bd3786"
            ],
            [
             0.5555555555555556,
             "#d8576b"
            ],
            [
             0.6666666666666666,
             "#ed7953"
            ],
            [
             0.7777777777777778,
             "#fb9f3a"
            ],
            [
             0.8888888888888888,
             "#fdca26"
            ],
            [
             1,
             "#f0f921"
            ]
           ],
           "sequentialminus": [
            [
             0,
             "#0d0887"
            ],
            [
             0.1111111111111111,
             "#46039f"
            ],
            [
             0.2222222222222222,
             "#7201a8"
            ],
            [
             0.3333333333333333,
             "#9c179e"
            ],
            [
             0.4444444444444444,
             "#bd3786"
            ],
            [
             0.5555555555555556,
             "#d8576b"
            ],
            [
             0.6666666666666666,
             "#ed7953"
            ],
            [
             0.7777777777777778,
             "#fb9f3a"
            ],
            [
             0.8888888888888888,
             "#fdca26"
            ],
            [
             1,
             "#f0f921"
            ]
           ]
          },
          "colorway": [
           "#636efa",
           "#EF553B",
           "#00cc96",
           "#ab63fa",
           "#FFA15A",
           "#19d3f3",
           "#FF6692",
           "#B6E880",
           "#FF97FF",
           "#FECB52"
          ],
          "font": {
           "color": "#2a3f5f"
          },
          "geo": {
           "bgcolor": "white",
           "lakecolor": "white",
           "landcolor": "#E5ECF6",
           "showlakes": true,
           "showland": true,
           "subunitcolor": "white"
          },
          "hoverlabel": {
           "align": "left"
          },
          "hovermode": "closest",
          "mapbox": {
           "style": "light"
          },
          "paper_bgcolor": "white",
          "plot_bgcolor": "#E5ECF6",
          "polar": {
           "angularaxis": {
            "gridcolor": "white",
            "linecolor": "white",
            "ticks": ""
           },
           "bgcolor": "#E5ECF6",
           "radialaxis": {
            "gridcolor": "white",
            "linecolor": "white",
            "ticks": ""
           }
          },
          "scene": {
           "xaxis": {
            "backgroundcolor": "#E5ECF6",
            "gridcolor": "white",
            "gridwidth": 2,
            "linecolor": "white",
            "showbackground": true,
            "ticks": "",
            "zerolinecolor": "white"
           },
           "yaxis": {
            "backgroundcolor": "#E5ECF6",
            "gridcolor": "white",
            "gridwidth": 2,
            "linecolor": "white",
            "showbackground": true,
            "ticks": "",
            "zerolinecolor": "white"
           },
           "zaxis": {
            "backgroundcolor": "#E5ECF6",
            "gridcolor": "white",
            "gridwidth": 2,
            "linecolor": "white",
            "showbackground": true,
            "ticks": "",
            "zerolinecolor": "white"
           }
          },
          "shapedefaults": {
           "line": {
            "color": "#2a3f5f"
           }
          },
          "ternary": {
           "aaxis": {
            "gridcolor": "white",
            "linecolor": "white",
            "ticks": ""
           },
           "baxis": {
            "gridcolor": "white",
            "linecolor": "white",
            "ticks": ""
           },
           "bgcolor": "#E5ECF6",
           "caxis": {
            "gridcolor": "white",
            "linecolor": "white",
            "ticks": ""
           }
          },
          "title": {
           "x": 0.05
          },
          "xaxis": {
           "automargin": true,
           "gridcolor": "white",
           "linecolor": "white",
           "ticks": "",
           "title": {
            "standoff": 15
           },
           "zerolinecolor": "white",
           "zerolinewidth": 2
          },
          "yaxis": {
           "automargin": true,
           "gridcolor": "white",
           "linecolor": "white",
           "ticks": "",
           "title": {
            "standoff": 15
           },
           "zerolinecolor": "white",
           "zerolinewidth": 2
          }
         }
        },
        "title": {
         "text": "Informations Génerales "
        },
        "width": 1200,
        "yaxis": {
         "automargin": true
        }
       }
      },
      "text/html": [
       "<div>                            <div id=\"76e3a487-03cf-4039-a333-7df6286626da\" class=\"plotly-graph-div\" style=\"height:800px; width:1200px;\"></div>            <script type=\"text/javascript\">                require([\"plotly\"], function(Plotly) {                    window.PLOTLYENV=window.PLOTLYENV || {};                                    if (document.getElementById(\"76e3a487-03cf-4039-a333-7df6286626da\")) {                    Plotly.newPlot(                        \"76e3a487-03cf-4039-a333-7df6286626da\",                        [{\"domain\": {\"x\": [0.0, 0.2888888888888889], \"y\": [0.625, 1.0]}, \"labels\": [\"Autre Pays\", \"africa\", \"canada\", \"china\", \"india\", \"korea\", \"netherlands\", \"spain\", \"uk\", \"usa\"], \"type\": \"pie\", \"values\": [64.0, 4.0, 9.0, 22.0, 9.0, 10.0, 9.0, 7.0, 8.0, 24.0]}, {\"domain\": {\"x\": [0.35555555555555557, 0.6444444444444445], \"y\": [0.625, 1.0]}, \"labels\": [\"Autre Pays\", \"america\", \"australia\", \"brazil\", \"canada\", \"china\", \"france\", \"germany\", \"greece\", \"india\", \"iran\", \"italy\", \"japan\", \"kingdom\", \"korea\", \"netherlands\", \"singapore\", \"spain\", \"states\", \"taiwan\", \"turkey\", \"uk\", \"usa\"], \"type\": \"pie\", \"values\": [1694.0, 107.0, 74.0, 85.0, 148.0, 1175.0, 77.0, 216.0, 50.0, 335.0, 111.0, 173.0, 170.0, 65.0, 175.0, 130.0, 61.0, 97.0, 118.0, 153.0, 94.0, 190.0, 1275.0]}, {\"domain\": {\"x\": [0.7111111111111111, 1.0], \"y\": [0.625, 1.0]}, \"labels\": [\"Autre Pays\", \"canada\", \"china\", \"germany\", \"usa\"], \"type\": \"pie\", \"values\": [189.0, 32.0, 76.0, 60.0, 147.0]}, {\"domain\": {\"x\": [0.0, 0.2888888888888889], \"y\": [0.0, 0.375]}, \"labels\": [\"Autre Pays\", \"america\", \"australia\", \"bangladesh\", \"china\", \"deutschland\", \"finland\", \"germany\", \"india\", \"italy\", \"japan\", \"mexico\", \"pakistan\", \"singapore\", \"spain\", \"states\", \"sweden\", \"turkey\", \"uk\", \"usa\"], \"type\": \"pie\", \"values\": [89.0, 10.0, 28.0, 8.0, 35.0, 6.0, 6.0, 13.0, 50.0, 7.0, 16.0, 5.0, 6.0, 10.0, 17.0, 6.0, 5.0, 6.0, 9.0, 50.0]}, {\"domain\": {\"x\": [0.35555555555555557, 0.6444444444444445], \"y\": [0.0, 0.375]}, \"labels\": [\"Autre Pays\", \"australia\", \"botswana\", \"canada\", \"china\", \"spain\", \"usa\"], \"type\": \"pie\", \"values\": [2.0, 5.0, 3.0, 5.0, 5.0, 5.0, 3.0]}, {\"domain\": {\"x\": [0.7111111111111111, 1.0], \"y\": [0.0, 0.375]}, \"labels\": [\"Autre Pays\", \"america\", \"brazil\", \"china\", \"india\", \"iran\", \"italy\", \"kingdom\", \"malaysia\", \"spain\", \"taiwan\", \"uk\", \"usa\"], \"type\": \"pie\", \"values\": [12.0, 2.0, 7.0, 11.0, 2.0, 8.0, 2.0, 6.0, 11.0, 3.0, 2.0, 5.0, 18.0]}],                        {\"annotations\": [{\"font\": {\"size\": 16}, \"showarrow\": false, \"text\": \"Pays par Articles Cardiovasculaire\", \"x\": 0.14444444444444446, \"xanchor\": \"center\", \"xref\": \"paper\", \"y\": 1.0, \"yanchor\": \"bottom\", \"yref\": \"paper\"}, {\"font\": {\"size\": 16}, \"showarrow\": false, \"text\": \"Pays par Articles cancer\", \"x\": 0.5, \"xanchor\": \"center\", \"xref\": \"paper\", \"y\": 1.0, \"yanchor\": \"bottom\", \"yref\": \"paper\"}, {\"font\": {\"size\": 16}, \"showarrow\": false, \"text\": \"Pays par Articles schizophrenia\", \"x\": 0.8555555555555556, \"xanchor\": \"center\", \"xref\": \"paper\", \"y\": 1.0, \"yanchor\": \"bottom\", \"yref\": \"paper\"}, {\"font\": {\"size\": 16}, \"showarrow\": false, \"text\": \"Pays par Articles diabetes\", \"x\": 0.14444444444444446, \"xanchor\": \"center\", \"xref\": \"paper\", \"y\": 0.375, \"yanchor\": \"bottom\", \"yref\": \"paper\"}, {\"font\": {\"size\": 16}, \"showarrow\": false, \"text\": \"Pays par Articles AIDS\", \"x\": 0.5, \"xanchor\": \"center\", \"xref\": \"paper\", \"y\": 0.375, \"yanchor\": \"bottom\", \"yref\": \"paper\"}, {\"font\": {\"size\": 16}, \"showarrow\": false, \"text\": \"Pays par Articles asthma\", \"x\": 0.8555555555555556, \"xanchor\": \"center\", \"xref\": \"paper\", \"y\": 0.375, \"yanchor\": \"bottom\", \"yref\": \"paper\"}], \"autosize\": true, \"height\": 800, \"template\": {\"data\": {\"bar\": [{\"error_x\": {\"color\": \"#2a3f5f\"}, \"error_y\": {\"color\": \"#2a3f5f\"}, \"marker\": {\"line\": {\"color\": \"#E5ECF6\", \"width\": 0.5}}, \"type\": \"bar\"}], \"barpolar\": [{\"marker\": {\"line\": {\"color\": \"#E5ECF6\", \"width\": 0.5}}, \"type\": \"barpolar\"}], \"carpet\": [{\"aaxis\": {\"endlinecolor\": \"#2a3f5f\", \"gridcolor\": \"white\", \"linecolor\": \"white\", \"minorgridcolor\": \"white\", \"startlinecolor\": \"#2a3f5f\"}, \"baxis\": {\"endlinecolor\": \"#2a3f5f\", \"gridcolor\": \"white\", \"linecolor\": \"white\", \"minorgridcolor\": \"white\", \"startlinecolor\": \"#2a3f5f\"}, \"type\": \"carpet\"}], \"choropleth\": [{\"colorbar\": {\"outlinewidth\": 0, \"ticks\": \"\"}, \"type\": \"choropleth\"}], \"contour\": [{\"colorbar\": {\"outlinewidth\": 0, \"ticks\": \"\"}, \"colorscale\": [[0.0, \"#0d0887\"], [0.1111111111111111, \"#46039f\"], [0.2222222222222222, \"#7201a8\"], [0.3333333333333333, \"#9c179e\"], [0.4444444444444444, \"#bd3786\"], [0.5555555555555556, \"#d8576b\"], [0.6666666666666666, \"#ed7953\"], [0.7777777777777778, \"#fb9f3a\"], [0.8888888888888888, \"#fdca26\"], [1.0, \"#f0f921\"]], \"type\": \"contour\"}], \"contourcarpet\": [{\"colorbar\": {\"outlinewidth\": 0, \"ticks\": \"\"}, \"type\": \"contourcarpet\"}], \"heatmap\": [{\"colorbar\": {\"outlinewidth\": 0, \"ticks\": \"\"}, \"colorscale\": [[0.0, \"#0d0887\"], [0.1111111111111111, \"#46039f\"], [0.2222222222222222, \"#7201a8\"], [0.3333333333333333, \"#9c179e\"], [0.4444444444444444, \"#bd3786\"], [0.5555555555555556, \"#d8576b\"], [0.6666666666666666, \"#ed7953\"], [0.7777777777777778, \"#fb9f3a\"], [0.8888888888888888, \"#fdca26\"], [1.0, \"#f0f921\"]], \"type\": \"heatmap\"}], \"heatmapgl\": [{\"colorbar\": {\"outlinewidth\": 0, \"ticks\": \"\"}, \"colorscale\": [[0.0, \"#0d0887\"], [0.1111111111111111, \"#46039f\"], [0.2222222222222222, \"#7201a8\"], [0.3333333333333333, \"#9c179e\"], [0.4444444444444444, \"#bd3786\"], [0.5555555555555556, \"#d8576b\"], [0.6666666666666666, \"#ed7953\"], [0.7777777777777778, \"#fb9f3a\"], [0.8888888888888888, \"#fdca26\"], [1.0, \"#f0f921\"]], \"type\": \"heatmapgl\"}], \"histogram\": [{\"marker\": {\"colorbar\": {\"outlinewidth\": 0, \"ticks\": \"\"}}, \"type\": \"histogram\"}], \"histogram2d\": [{\"colorbar\": {\"outlinewidth\": 0, \"ticks\": \"\"}, \"colorscale\": [[0.0, \"#0d0887\"], [0.1111111111111111, \"#46039f\"], [0.2222222222222222, \"#7201a8\"], [0.3333333333333333, \"#9c179e\"], [0.4444444444444444, \"#bd3786\"], [0.5555555555555556, \"#d8576b\"], [0.6666666666666666, \"#ed7953\"], [0.7777777777777778, \"#fb9f3a\"], [0.8888888888888888, \"#fdca26\"], [1.0, \"#f0f921\"]], \"type\": \"histogram2d\"}], \"histogram2dcontour\": [{\"colorbar\": {\"outlinewidth\": 0, \"ticks\": \"\"}, \"colorscale\": [[0.0, \"#0d0887\"], [0.1111111111111111, \"#46039f\"], [0.2222222222222222, \"#7201a8\"], [0.3333333333333333, \"#9c179e\"], [0.4444444444444444, \"#bd3786\"], [0.5555555555555556, \"#d8576b\"], [0.6666666666666666, \"#ed7953\"], [0.7777777777777778, \"#fb9f3a\"], [0.8888888888888888, \"#fdca26\"], [1.0, \"#f0f921\"]], \"type\": \"histogram2dcontour\"}], \"mesh3d\": [{\"colorbar\": {\"outlinewidth\": 0, \"ticks\": \"\"}, \"type\": \"mesh3d\"}], \"parcoords\": [{\"line\": {\"colorbar\": {\"outlinewidth\": 0, \"ticks\": \"\"}}, \"type\": \"parcoords\"}], \"pie\": [{\"automargin\": true, \"type\": \"pie\"}], \"scatter\": [{\"marker\": {\"colorbar\": {\"outlinewidth\": 0, \"ticks\": \"\"}}, \"type\": \"scatter\"}], \"scatter3d\": [{\"line\": {\"colorbar\": {\"outlinewidth\": 0, \"ticks\": \"\"}}, \"marker\": {\"colorbar\": {\"outlinewidth\": 0, \"ticks\": \"\"}}, \"type\": \"scatter3d\"}], \"scattercarpet\": [{\"marker\": {\"colorbar\": {\"outlinewidth\": 0, \"ticks\": \"\"}}, \"type\": \"scattercarpet\"}], \"scattergeo\": [{\"marker\": {\"colorbar\": {\"outlinewidth\": 0, \"ticks\": \"\"}}, \"type\": \"scattergeo\"}], \"scattergl\": [{\"marker\": {\"colorbar\": {\"outlinewidth\": 0, \"ticks\": \"\"}}, \"type\": \"scattergl\"}], \"scattermapbox\": [{\"marker\": {\"colorbar\": {\"outlinewidth\": 0, \"ticks\": \"\"}}, \"type\": \"scattermapbox\"}], \"scatterpolar\": [{\"marker\": {\"colorbar\": {\"outlinewidth\": 0, \"ticks\": \"\"}}, \"type\": \"scatterpolar\"}], \"scatterpolargl\": [{\"marker\": {\"colorbar\": {\"outlinewidth\": 0, \"ticks\": \"\"}}, \"type\": \"scatterpolargl\"}], \"scatterternary\": [{\"marker\": {\"colorbar\": {\"outlinewidth\": 0, \"ticks\": \"\"}}, \"type\": \"scatterternary\"}], \"surface\": [{\"colorbar\": {\"outlinewidth\": 0, \"ticks\": \"\"}, \"colorscale\": [[0.0, \"#0d0887\"], [0.1111111111111111, \"#46039f\"], [0.2222222222222222, \"#7201a8\"], [0.3333333333333333, \"#9c179e\"], [0.4444444444444444, \"#bd3786\"], [0.5555555555555556, \"#d8576b\"], [0.6666666666666666, \"#ed7953\"], [0.7777777777777778, \"#fb9f3a\"], [0.8888888888888888, \"#fdca26\"], [1.0, \"#f0f921\"]], \"type\": \"surface\"}], \"table\": [{\"cells\": {\"fill\": {\"color\": \"#EBF0F8\"}, \"line\": {\"color\": \"white\"}}, \"header\": {\"fill\": {\"color\": \"#C8D4E3\"}, \"line\": {\"color\": \"white\"}}, \"type\": \"table\"}]}, \"layout\": {\"annotationdefaults\": {\"arrowcolor\": \"#2a3f5f\", \"arrowhead\": 0, \"arrowwidth\": 1}, \"autotypenumbers\": \"strict\", \"coloraxis\": {\"colorbar\": {\"outlinewidth\": 0, \"ticks\": \"\"}}, \"colorscale\": {\"diverging\": [[0, \"#8e0152\"], [0.1, \"#c51b7d\"], [0.2, \"#de77ae\"], [0.3, \"#f1b6da\"], [0.4, \"#fde0ef\"], [0.5, \"#f7f7f7\"], [0.6, \"#e6f5d0\"], [0.7, \"#b8e186\"], [0.8, \"#7fbc41\"], [0.9, \"#4d9221\"], [1, \"#276419\"]], \"sequential\": [[0.0, \"#0d0887\"], [0.1111111111111111, \"#46039f\"], [0.2222222222222222, \"#7201a8\"], [0.3333333333333333, \"#9c179e\"], [0.4444444444444444, \"#bd3786\"], [0.5555555555555556, \"#d8576b\"], [0.6666666666666666, \"#ed7953\"], [0.7777777777777778, \"#fb9f3a\"], [0.8888888888888888, \"#fdca26\"], [1.0, \"#f0f921\"]], \"sequentialminus\": [[0.0, \"#0d0887\"], [0.1111111111111111, \"#46039f\"], [0.2222222222222222, \"#7201a8\"], [0.3333333333333333, \"#9c179e\"], [0.4444444444444444, \"#bd3786\"], [0.5555555555555556, \"#d8576b\"], [0.6666666666666666, \"#ed7953\"], [0.7777777777777778, \"#fb9f3a\"], [0.8888888888888888, \"#fdca26\"], [1.0, \"#f0f921\"]]}, \"colorway\": [\"#636efa\", \"#EF553B\", \"#00cc96\", \"#ab63fa\", \"#FFA15A\", \"#19d3f3\", \"#FF6692\", \"#B6E880\", \"#FF97FF\", \"#FECB52\"], \"font\": {\"color\": \"#2a3f5f\"}, \"geo\": {\"bgcolor\": \"white\", \"lakecolor\": \"white\", \"landcolor\": \"#E5ECF6\", \"showlakes\": true, \"showland\": true, \"subunitcolor\": \"white\"}, \"hoverlabel\": {\"align\": \"left\"}, \"hovermode\": \"closest\", \"mapbox\": {\"style\": \"light\"}, \"paper_bgcolor\": \"white\", \"plot_bgcolor\": \"#E5ECF6\", \"polar\": {\"angularaxis\": {\"gridcolor\": \"white\", \"linecolor\": \"white\", \"ticks\": \"\"}, \"bgcolor\": \"#E5ECF6\", \"radialaxis\": {\"gridcolor\": \"white\", \"linecolor\": \"white\", \"ticks\": \"\"}}, \"scene\": {\"xaxis\": {\"backgroundcolor\": \"#E5ECF6\", \"gridcolor\": \"white\", \"gridwidth\": 2, \"linecolor\": \"white\", \"showbackground\": true, \"ticks\": \"\", \"zerolinecolor\": \"white\"}, \"yaxis\": {\"backgroundcolor\": \"#E5ECF6\", \"gridcolor\": \"white\", \"gridwidth\": 2, \"linecolor\": \"white\", \"showbackground\": true, \"ticks\": \"\", \"zerolinecolor\": \"white\"}, \"zaxis\": {\"backgroundcolor\": \"#E5ECF6\", \"gridcolor\": \"white\", \"gridwidth\": 2, \"linecolor\": \"white\", \"showbackground\": true, \"ticks\": \"\", \"zerolinecolor\": \"white\"}}, \"shapedefaults\": {\"line\": {\"color\": \"#2a3f5f\"}}, \"ternary\": {\"aaxis\": {\"gridcolor\": \"white\", \"linecolor\": \"white\", \"ticks\": \"\"}, \"baxis\": {\"gridcolor\": \"white\", \"linecolor\": \"white\", \"ticks\": \"\"}, \"bgcolor\": \"#E5ECF6\", \"caxis\": {\"gridcolor\": \"white\", \"linecolor\": \"white\", \"ticks\": \"\"}}, \"title\": {\"x\": 0.05}, \"xaxis\": {\"automargin\": true, \"gridcolor\": \"white\", \"linecolor\": \"white\", \"ticks\": \"\", \"title\": {\"standoff\": 15}, \"zerolinecolor\": \"white\", \"zerolinewidth\": 2}, \"yaxis\": {\"automargin\": true, \"gridcolor\": \"white\", \"linecolor\": \"white\", \"ticks\": \"\", \"title\": {\"standoff\": 15}, \"zerolinecolor\": \"white\", \"zerolinewidth\": 2}}}, \"title\": {\"text\": \"Informations G\\u00e9nerales \"}, \"width\": 1200, \"yaxis\": {\"automargin\": true}},                        {\"responsive\": true}                    ).then(function(){\n",
       "                            \n",
       "var gd = document.getElementById('76e3a487-03cf-4039-a333-7df6286626da');\n",
       "var x = new MutationObserver(function (mutations, observer) {{\n",
       "        var display = window.getComputedStyle(gd).display;\n",
       "        if (!display || display === 'none') {{\n",
       "            console.log([gd, 'removed!']);\n",
       "            Plotly.purge(gd);\n",
       "            observer.disconnect();\n",
       "        }}\n",
       "}});\n",
       "\n",
       "// Listen for the removal of the full notebook cells\n",
       "var notebookContainer = gd.closest('#notebook-container');\n",
       "if (notebookContainer) {{\n",
       "    x.observe(notebookContainer, {childList: true});\n",
       "}}\n",
       "\n",
       "// Listen for the clearing of the current output cell\n",
       "var outputEl = gd.closest('.output');\n",
       "if (outputEl) {{\n",
       "    x.observe(outputEl, {childList: true});\n",
       "}}\n",
       "\n",
       "                        })                };                });            </script>        </div>"
      ]
     },
     "metadata": {},
     "output_type": "display_data"
    }
   ],
   "source": [
    "\n",
    "fig_p = make_subplots(2, 3, specs=[[{'type':'domain'},  {'type':'domain'},  {'type':'domain'}],\n",
    "                                   [ {'type':'domain'}, {'type':'domain'}, {'type':'domain'}]],\n",
    "                    subplot_titles=['Pays par Articles Cardiovasculaire','Pays par Articles cancer','Pays par Articles schizophrenia',\n",
    "                                    'Pays par Articles diabetes','Pays par Articles AIDS','Pays par Articles asthma',])\n",
    "\n",
    "\n",
    "fig_p.add_trace(go.Pie(labels=l1.index, values=l1.values), 1, 1)\n",
    "fig_p.add_trace(go.Pie(labels=l2.index, values=l2.values), 1, 2)\n",
    "\n",
    "fig_p.add_trace(go.Pie(labels=l3.index, values=l3.values), 1, 3)\n",
    "fig_p.add_trace(go.Pie(labels=l4.index, values=l4.values), 2, 1)\n",
    "\n",
    "fig_p.add_trace(go.Pie(labels=l5.index, values=l5.values), 2, 2)\n",
    "fig_p.add_trace(go.Pie(labels=l6.index, values=l6.values), 2, 3)\n",
    "\n",
    "fig_p.update_layout(title_text='Informations Génerales ')\n",
    "fig_p.update_yaxes(automargin=True)\n",
    "fig_p['layout'].update(width=1200, height=800, autosize=True)\n",
    "fig_p.show()\n"
   ]
  },
  {
   "cell_type": "code",
   "execution_count": 84,
   "metadata": {},
   "outputs": [
    {
     "data": {
      "application/vnd.plotly.v1+json": {
       "config": {
        "plotlyServerURL": "https://plot.ly"
       },
       "data": [
        {
         "mode": "lines+markers+text",
         "text": [
          "design",
          "pathways",
          "heart",
          "processing",
          "middle",
          "adverse",
          "physiopathology",
          "trends",
          "blood",
          "photoplethysmography",
          "intelligence",
          "etiology",
          "brain",
          "movement",
          "studies",
          "logic",
          "hypertrophy",
          "combined",
          "resonance",
          "therapy",
          "n",
          "assisted",
          "deep",
          "diagnosis",
          "dysfunction",
          "cardiovascular",
          "cardiotoxicity",
          "neoplasms",
          "decision",
          "matter",
          "hypertension",
          "aortic",
          "reproducibility",
          "sensitivity",
          "metabolism",
          "case",
          "diabetes",
          "pathology",
          "predictive",
          "animals"
         ],
         "type": "scatter",
         "x": [
          80,
          81,
          82,
          83,
          84,
          85,
          86,
          87,
          88,
          89,
          90,
          91,
          92,
          93,
          94,
          95,
          96,
          97,
          98,
          99,
          100,
          101,
          102,
          103,
          104,
          105,
          106,
          107,
          108,
          109,
          110,
          111,
          112,
          113,
          114,
          115,
          116,
          117,
          118,
          119
         ],
         "xaxis": "x",
         "y": [
          80,
          81,
          82,
          83,
          84,
          85,
          86,
          87,
          88,
          89,
          90,
          91,
          92,
          93,
          94,
          95,
          96,
          97,
          98,
          99,
          100,
          101,
          102,
          103,
          104,
          105,
          106,
          107,
          108,
          109,
          110,
          111,
          112,
          113,
          114,
          115,
          116,
          117,
          118,
          119
         ],
         "yaxis": "y"
        },
        {
         "type": "bar",
         "x": [
          2002,
          2005,
          2006,
          2008,
          2010,
          2014,
          2015,
          2016,
          2017,
          2018,
          2019,
          2020,
          2021
         ],
         "xaxis": "x2",
         "y": [
          5,
          2,
          2,
          4,
          6,
          6,
          3,
          4,
          4,
          23,
          32,
          55,
          20
         ],
         "yaxis": "y2"
        },
        {
         "type": "bar",
         "x": [
          "design",
          "pathways",
          "heart",
          "processing",
          "middle",
          "adverse",
          "physiopathology",
          "trends",
          "blood",
          "photoplethysmography",
          "intelligence",
          "etiology",
          "brain",
          "movement",
          "studies",
          "logic",
          "hypertrophy",
          "combined",
          "resonance",
          "therapy",
          "n",
          "assisted",
          "deep",
          "diagnosis",
          "dysfunction",
          "cardiovascular",
          "cardiotoxicity",
          "neoplasms",
          "decision",
          "matter",
          "hypertension",
          "aortic",
          "reproducibility",
          "sensitivity",
          "metabolism",
          "case",
          "diabetes",
          "pathology",
          "predictive",
          "animals"
         ],
         "xaxis": "x3",
         "y": [
          80,
          81,
          82,
          83,
          84,
          85,
          86,
          87,
          88,
          89,
          90,
          91,
          92,
          93,
          94,
          95,
          96,
          97,
          98,
          99,
          100,
          101,
          102,
          103,
          104,
          105,
          106,
          107,
          108,
          109,
          110,
          111,
          112,
          113,
          114,
          115,
          116,
          117,
          118,
          119
         ],
         "yaxis": "y3"
        },
        {
         "type": "scatter",
         "x": [
          2002,
          2005,
          2006,
          2008,
          2010,
          2014,
          2015,
          2016,
          2017,
          2018,
          2019,
          2020,
          2021
         ],
         "xaxis": "x4",
         "y": [
          5,
          2,
          2,
          4,
          6,
          6,
          3,
          4,
          4,
          23,
          32,
          55,
          20
         ],
         "yaxis": "y4"
        }
       ],
       "layout": {
        "annotations": [
         {
          "font": {
           "size": 16
          },
          "showarrow": false,
          "text": "Mots clés",
          "x": 0.225,
          "xanchor": "center",
          "xref": "paper",
          "y": 1,
          "yanchor": "bottom",
          "yref": "paper"
         },
         {
          "font": {
           "size": 16
          },
          "showarrow": false,
          "text": "nombre articles cardiovascular",
          "x": 0.775,
          "xanchor": "center",
          "xref": "paper",
          "y": 1,
          "yanchor": "bottom",
          "yref": "paper"
         },
         {
          "font": {
           "size": 16
          },
          "showarrow": false,
          "text": "Mots clés",
          "x": 0.225,
          "xanchor": "center",
          "xref": "paper",
          "y": 0.375,
          "yanchor": "bottom",
          "yref": "paper"
         },
         {
          "font": {
           "size": 16
          },
          "showarrow": false,
          "text": "p 4",
          "x": 0.775,
          "xanchor": "center",
          "xref": "paper",
          "y": 0.375,
          "yanchor": "bottom",
          "yref": "paper"
         }
        ],
        "autosize": true,
        "height": 800,
        "template": {
         "data": {
          "bar": [
           {
            "error_x": {
             "color": "#2a3f5f"
            },
            "error_y": {
             "color": "#2a3f5f"
            },
            "marker": {
             "line": {
              "color": "#E5ECF6",
              "width": 0.5
             }
            },
            "type": "bar"
           }
          ],
          "barpolar": [
           {
            "marker": {
             "line": {
              "color": "#E5ECF6",
              "width": 0.5
             }
            },
            "type": "barpolar"
           }
          ],
          "carpet": [
           {
            "aaxis": {
             "endlinecolor": "#2a3f5f",
             "gridcolor": "white",
             "linecolor": "white",
             "minorgridcolor": "white",
             "startlinecolor": "#2a3f5f"
            },
            "baxis": {
             "endlinecolor": "#2a3f5f",
             "gridcolor": "white",
             "linecolor": "white",
             "minorgridcolor": "white",
             "startlinecolor": "#2a3f5f"
            },
            "type": "carpet"
           }
          ],
          "choropleth": [
           {
            "colorbar": {
             "outlinewidth": 0,
             "ticks": ""
            },
            "type": "choropleth"
           }
          ],
          "contour": [
           {
            "colorbar": {
             "outlinewidth": 0,
             "ticks": ""
            },
            "colorscale": [
             [
              0,
              "#0d0887"
             ],
             [
              0.1111111111111111,
              "#46039f"
             ],
             [
              0.2222222222222222,
              "#7201a8"
             ],
             [
              0.3333333333333333,
              "#9c179e"
             ],
             [
              0.4444444444444444,
              "#bd3786"
             ],
             [
              0.5555555555555556,
              "#d8576b"
             ],
             [
              0.6666666666666666,
              "#ed7953"
             ],
             [
              0.7777777777777778,
              "#fb9f3a"
             ],
             [
              0.8888888888888888,
              "#fdca26"
             ],
             [
              1,
              "#f0f921"
             ]
            ],
            "type": "contour"
           }
          ],
          "contourcarpet": [
           {
            "colorbar": {
             "outlinewidth": 0,
             "ticks": ""
            },
            "type": "contourcarpet"
           }
          ],
          "heatmap": [
           {
            "colorbar": {
             "outlinewidth": 0,
             "ticks": ""
            },
            "colorscale": [
             [
              0,
              "#0d0887"
             ],
             [
              0.1111111111111111,
              "#46039f"
             ],
             [
              0.2222222222222222,
              "#7201a8"
             ],
             [
              0.3333333333333333,
              "#9c179e"
             ],
             [
              0.4444444444444444,
              "#bd3786"
             ],
             [
              0.5555555555555556,
              "#d8576b"
             ],
             [
              0.6666666666666666,
              "#ed7953"
             ],
             [
              0.7777777777777778,
              "#fb9f3a"
             ],
             [
              0.8888888888888888,
              "#fdca26"
             ],
             [
              1,
              "#f0f921"
             ]
            ],
            "type": "heatmap"
           }
          ],
          "heatmapgl": [
           {
            "colorbar": {
             "outlinewidth": 0,
             "ticks": ""
            },
            "colorscale": [
             [
              0,
              "#0d0887"
             ],
             [
              0.1111111111111111,
              "#46039f"
             ],
             [
              0.2222222222222222,
              "#7201a8"
             ],
             [
              0.3333333333333333,
              "#9c179e"
             ],
             [
              0.4444444444444444,
              "#bd3786"
             ],
             [
              0.5555555555555556,
              "#d8576b"
             ],
             [
              0.6666666666666666,
              "#ed7953"
             ],
             [
              0.7777777777777778,
              "#fb9f3a"
             ],
             [
              0.8888888888888888,
              "#fdca26"
             ],
             [
              1,
              "#f0f921"
             ]
            ],
            "type": "heatmapgl"
           }
          ],
          "histogram": [
           {
            "marker": {
             "colorbar": {
              "outlinewidth": 0,
              "ticks": ""
             }
            },
            "type": "histogram"
           }
          ],
          "histogram2d": [
           {
            "colorbar": {
             "outlinewidth": 0,
             "ticks": ""
            },
            "colorscale": [
             [
              0,
              "#0d0887"
             ],
             [
              0.1111111111111111,
              "#46039f"
             ],
             [
              0.2222222222222222,
              "#7201a8"
             ],
             [
              0.3333333333333333,
              "#9c179e"
             ],
             [
              0.4444444444444444,
              "#bd3786"
             ],
             [
              0.5555555555555556,
              "#d8576b"
             ],
             [
              0.6666666666666666,
              "#ed7953"
             ],
             [
              0.7777777777777778,
              "#fb9f3a"
             ],
             [
              0.8888888888888888,
              "#fdca26"
             ],
             [
              1,
              "#f0f921"
             ]
            ],
            "type": "histogram2d"
           }
          ],
          "histogram2dcontour": [
           {
            "colorbar": {
             "outlinewidth": 0,
             "ticks": ""
            },
            "colorscale": [
             [
              0,
              "#0d0887"
             ],
             [
              0.1111111111111111,
              "#46039f"
             ],
             [
              0.2222222222222222,
              "#7201a8"
             ],
             [
              0.3333333333333333,
              "#9c179e"
             ],
             [
              0.4444444444444444,
              "#bd3786"
             ],
             [
              0.5555555555555556,
              "#d8576b"
             ],
             [
              0.6666666666666666,
              "#ed7953"
             ],
             [
              0.7777777777777778,
              "#fb9f3a"
             ],
             [
              0.8888888888888888,
              "#fdca26"
             ],
             [
              1,
              "#f0f921"
             ]
            ],
            "type": "histogram2dcontour"
           }
          ],
          "mesh3d": [
           {
            "colorbar": {
             "outlinewidth": 0,
             "ticks": ""
            },
            "type": "mesh3d"
           }
          ],
          "parcoords": [
           {
            "line": {
             "colorbar": {
              "outlinewidth": 0,
              "ticks": ""
             }
            },
            "type": "parcoords"
           }
          ],
          "pie": [
           {
            "automargin": true,
            "type": "pie"
           }
          ],
          "scatter": [
           {
            "marker": {
             "colorbar": {
              "outlinewidth": 0,
              "ticks": ""
             }
            },
            "type": "scatter"
           }
          ],
          "scatter3d": [
           {
            "line": {
             "colorbar": {
              "outlinewidth": 0,
              "ticks": ""
             }
            },
            "marker": {
             "colorbar": {
              "outlinewidth": 0,
              "ticks": ""
             }
            },
            "type": "scatter3d"
           }
          ],
          "scattercarpet": [
           {
            "marker": {
             "colorbar": {
              "outlinewidth": 0,
              "ticks": ""
             }
            },
            "type": "scattercarpet"
           }
          ],
          "scattergeo": [
           {
            "marker": {
             "colorbar": {
              "outlinewidth": 0,
              "ticks": ""
             }
            },
            "type": "scattergeo"
           }
          ],
          "scattergl": [
           {
            "marker": {
             "colorbar": {
              "outlinewidth": 0,
              "ticks": ""
             }
            },
            "type": "scattergl"
           }
          ],
          "scattermapbox": [
           {
            "marker": {
             "colorbar": {
              "outlinewidth": 0,
              "ticks": ""
             }
            },
            "type": "scattermapbox"
           }
          ],
          "scatterpolar": [
           {
            "marker": {
             "colorbar": {
              "outlinewidth": 0,
              "ticks": ""
             }
            },
            "type": "scatterpolar"
           }
          ],
          "scatterpolargl": [
           {
            "marker": {
             "colorbar": {
              "outlinewidth": 0,
              "ticks": ""
             }
            },
            "type": "scatterpolargl"
           }
          ],
          "scatterternary": [
           {
            "marker": {
             "colorbar": {
              "outlinewidth": 0,
              "ticks": ""
             }
            },
            "type": "scatterternary"
           }
          ],
          "surface": [
           {
            "colorbar": {
             "outlinewidth": 0,
             "ticks": ""
            },
            "colorscale": [
             [
              0,
              "#0d0887"
             ],
             [
              0.1111111111111111,
              "#46039f"
             ],
             [
              0.2222222222222222,
              "#7201a8"
             ],
             [
              0.3333333333333333,
              "#9c179e"
             ],
             [
              0.4444444444444444,
              "#bd3786"
             ],
             [
              0.5555555555555556,
              "#d8576b"
             ],
             [
              0.6666666666666666,
              "#ed7953"
             ],
             [
              0.7777777777777778,
              "#fb9f3a"
             ],
             [
              0.8888888888888888,
              "#fdca26"
             ],
             [
              1,
              "#f0f921"
             ]
            ],
            "type": "surface"
           }
          ],
          "table": [
           {
            "cells": {
             "fill": {
              "color": "#EBF0F8"
             },
             "line": {
              "color": "white"
             }
            },
            "header": {
             "fill": {
              "color": "#C8D4E3"
             },
             "line": {
              "color": "white"
             }
            },
            "type": "table"
           }
          ]
         },
         "layout": {
          "annotationdefaults": {
           "arrowcolor": "#2a3f5f",
           "arrowhead": 0,
           "arrowwidth": 1
          },
          "autotypenumbers": "strict",
          "coloraxis": {
           "colorbar": {
            "outlinewidth": 0,
            "ticks": ""
           }
          },
          "colorscale": {
           "diverging": [
            [
             0,
             "#8e0152"
            ],
            [
             0.1,
             "#c51b7d"
            ],
            [
             0.2,
             "#de77ae"
            ],
            [
             0.3,
             "#f1b6da"
            ],
            [
             0.4,
             "#fde0ef"
            ],
            [
             0.5,
             "#f7f7f7"
            ],
            [
             0.6,
             "#e6f5d0"
            ],
            [
             0.7,
             "#b8e186"
            ],
            [
             0.8,
             "#7fbc41"
            ],
            [
             0.9,
             "#4d9221"
            ],
            [
             1,
             "#276419"
            ]
           ],
           "sequential": [
            [
             0,
             "#0d0887"
            ],
            [
             0.1111111111111111,
             "#46039f"
            ],
            [
             0.2222222222222222,
             "#7201a8"
            ],
            [
             0.3333333333333333,
             "#9c179e"
            ],
            [
             0.4444444444444444,
             "#bd3786"
            ],
            [
             0.5555555555555556,
             "#d8576b"
            ],
            [
             0.6666666666666666,
             "#ed7953"
            ],
            [
             0.7777777777777778,
             "#fb9f3a"
            ],
            [
             0.8888888888888888,
             "#fdca26"
            ],
            [
             1,
             "#f0f921"
            ]
           ],
           "sequentialminus": [
            [
             0,
             "#0d0887"
            ],
            [
             0.1111111111111111,
             "#46039f"
            ],
            [
             0.2222222222222222,
             "#7201a8"
            ],
            [
             0.3333333333333333,
             "#9c179e"
            ],
            [
             0.4444444444444444,
             "#bd3786"
            ],
            [
             0.5555555555555556,
             "#d8576b"
            ],
            [
             0.6666666666666666,
             "#ed7953"
            ],
            [
             0.7777777777777778,
             "#fb9f3a"
            ],
            [
             0.8888888888888888,
             "#fdca26"
            ],
            [
             1,
             "#f0f921"
            ]
           ]
          },
          "colorway": [
           "#636efa",
           "#EF553B",
           "#00cc96",
           "#ab63fa",
           "#FFA15A",
           "#19d3f3",
           "#FF6692",
           "#B6E880",
           "#FF97FF",
           "#FECB52"
          ],
          "font": {
           "color": "#2a3f5f"
          },
          "geo": {
           "bgcolor": "white",
           "lakecolor": "white",
           "landcolor": "#E5ECF6",
           "showlakes": true,
           "showland": true,
           "subunitcolor": "white"
          },
          "hoverlabel": {
           "align": "left"
          },
          "hovermode": "closest",
          "mapbox": {
           "style": "light"
          },
          "paper_bgcolor": "white",
          "plot_bgcolor": "#E5ECF6",
          "polar": {
           "angularaxis": {
            "gridcolor": "white",
            "linecolor": "white",
            "ticks": ""
           },
           "bgcolor": "#E5ECF6",
           "radialaxis": {
            "gridcolor": "white",
            "linecolor": "white",
            "ticks": ""
           }
          },
          "scene": {
           "xaxis": {
            "backgroundcolor": "#E5ECF6",
            "gridcolor": "white",
            "gridwidth": 2,
            "linecolor": "white",
            "showbackground": true,
            "ticks": "",
            "zerolinecolor": "white"
           },
           "yaxis": {
            "backgroundcolor": "#E5ECF6",
            "gridcolor": "white",
            "gridwidth": 2,
            "linecolor": "white",
            "showbackground": true,
            "ticks": "",
            "zerolinecolor": "white"
           },
           "zaxis": {
            "backgroundcolor": "#E5ECF6",
            "gridcolor": "white",
            "gridwidth": 2,
            "linecolor": "white",
            "showbackground": true,
            "ticks": "",
            "zerolinecolor": "white"
           }
          },
          "shapedefaults": {
           "line": {
            "color": "#2a3f5f"
           }
          },
          "ternary": {
           "aaxis": {
            "gridcolor": "white",
            "linecolor": "white",
            "ticks": ""
           },
           "baxis": {
            "gridcolor": "white",
            "linecolor": "white",
            "ticks": ""
           },
           "bgcolor": "#E5ECF6",
           "caxis": {
            "gridcolor": "white",
            "linecolor": "white",
            "ticks": ""
           }
          },
          "title": {
           "x": 0.05
          },
          "xaxis": {
           "automargin": true,
           "gridcolor": "white",
           "linecolor": "white",
           "ticks": "",
           "title": {
            "standoff": 15
           },
           "zerolinecolor": "white",
           "zerolinewidth": 2
          },
          "yaxis": {
           "automargin": true,
           "gridcolor": "white",
           "linecolor": "white",
           "ticks": "",
           "title": {
            "standoff": 15
           },
           "zerolinecolor": "white",
           "zerolinewidth": 2
          }
         }
        },
        "width": 1200,
        "xaxis": {
         "anchor": "y",
         "domain": [
          0,
          0.45
         ]
        },
        "xaxis2": {
         "anchor": "y2",
         "domain": [
          0.55,
          1
         ]
        },
        "xaxis3": {
         "anchor": "y3",
         "domain": [
          0,
          0.45
         ]
        },
        "xaxis4": {
         "anchor": "y4",
         "domain": [
          0.55,
          1
         ]
        },
        "yaxis": {
         "anchor": "x",
         "automargin": true,
         "domain": [
          0.625,
          1
         ]
        },
        "yaxis2": {
         "anchor": "x2",
         "automargin": true,
         "domain": [
          0.625,
          1
         ]
        },
        "yaxis3": {
         "anchor": "x3",
         "automargin": true,
         "domain": [
          0,
          0.375
         ]
        },
        "yaxis4": {
         "anchor": "x4",
         "automargin": true,
         "domain": [
          0,
          0.375
         ]
        }
       }
      },
      "text/html": [
       "<div>                            <div id=\"76c2c298-7c17-4df6-8050-143026692bd4\" class=\"plotly-graph-div\" style=\"height:800px; width:1200px;\"></div>            <script type=\"text/javascript\">                require([\"plotly\"], function(Plotly) {                    window.PLOTLYENV=window.PLOTLYENV || {};                                    if (document.getElementById(\"76c2c298-7c17-4df6-8050-143026692bd4\")) {                    Plotly.newPlot(                        \"76c2c298-7c17-4df6-8050-143026692bd4\",                        [{\"mode\": \"lines+markers+text\", \"text\": [\"design\", \"pathways\", \"heart\", \"processing\", \"middle\", \"adverse\", \"physiopathology\", \"trends\", \"blood\", \"photoplethysmography\", \"intelligence\", \"etiology\", \"brain\", \"movement\", \"studies\", \"logic\", \"hypertrophy\", \"combined\", \"resonance\", \"therapy\", \"n\", \"assisted\", \"deep\", \"diagnosis\", \"dysfunction\", \"cardiovascular\", \"cardiotoxicity\", \"neoplasms\", \"decision\", \"matter\", \"hypertension\", \"aortic\", \"reproducibility\", \"sensitivity\", \"metabolism\", \"case\", \"diabetes\", \"pathology\", \"predictive\", \"animals\"], \"type\": \"scatter\", \"x\": [80, 81, 82, 83, 84, 85, 86, 87, 88, 89, 90, 91, 92, 93, 94, 95, 96, 97, 98, 99, 100, 101, 102, 103, 104, 105, 106, 107, 108, 109, 110, 111, 112, 113, 114, 115, 116, 117, 118, 119], \"xaxis\": \"x\", \"y\": [80, 81, 82, 83, 84, 85, 86, 87, 88, 89, 90, 91, 92, 93, 94, 95, 96, 97, 98, 99, 100, 101, 102, 103, 104, 105, 106, 107, 108, 109, 110, 111, 112, 113, 114, 115, 116, 117, 118, 119], \"yaxis\": \"y\"}, {\"type\": \"bar\", \"x\": [2002, 2005, 2006, 2008, 2010, 2014, 2015, 2016, 2017, 2018, 2019, 2020, 2021], \"xaxis\": \"x2\", \"y\": [5.0, 2.0, 2.0, 4.0, 6.0, 6.0, 3.0, 4.0, 4.0, 23.0, 32.0, 55.0, 20.0], \"yaxis\": \"y2\"}, {\"type\": \"bar\", \"x\": [\"design\", \"pathways\", \"heart\", \"processing\", \"middle\", \"adverse\", \"physiopathology\", \"trends\", \"blood\", \"photoplethysmography\", \"intelligence\", \"etiology\", \"brain\", \"movement\", \"studies\", \"logic\", \"hypertrophy\", \"combined\", \"resonance\", \"therapy\", \"n\", \"assisted\", \"deep\", \"diagnosis\", \"dysfunction\", \"cardiovascular\", \"cardiotoxicity\", \"neoplasms\", \"decision\", \"matter\", \"hypertension\", \"aortic\", \"reproducibility\", \"sensitivity\", \"metabolism\", \"case\", \"diabetes\", \"pathology\", \"predictive\", \"animals\"], \"xaxis\": \"x3\", \"y\": [80, 81, 82, 83, 84, 85, 86, 87, 88, 89, 90, 91, 92, 93, 94, 95, 96, 97, 98, 99, 100, 101, 102, 103, 104, 105, 106, 107, 108, 109, 110, 111, 112, 113, 114, 115, 116, 117, 118, 119], \"yaxis\": \"y3\"}, {\"type\": \"scatter\", \"x\": [2002, 2005, 2006, 2008, 2010, 2014, 2015, 2016, 2017, 2018, 2019, 2020, 2021], \"xaxis\": \"x4\", \"y\": [5.0, 2.0, 2.0, 4.0, 6.0, 6.0, 3.0, 4.0, 4.0, 23.0, 32.0, 55.0, 20.0], \"yaxis\": \"y4\"}],                        {\"annotations\": [{\"font\": {\"size\": 16}, \"showarrow\": false, \"text\": \"Mots cl\\u00e9s\", \"x\": 0.225, \"xanchor\": \"center\", \"xref\": \"paper\", \"y\": 1.0, \"yanchor\": \"bottom\", \"yref\": \"paper\"}, {\"font\": {\"size\": 16}, \"showarrow\": false, \"text\": \"nombre articles cardiovascular\", \"x\": 0.775, \"xanchor\": \"center\", \"xref\": \"paper\", \"y\": 1.0, \"yanchor\": \"bottom\", \"yref\": \"paper\"}, {\"font\": {\"size\": 16}, \"showarrow\": false, \"text\": \"Mots cl\\u00e9s\", \"x\": 0.225, \"xanchor\": \"center\", \"xref\": \"paper\", \"y\": 0.375, \"yanchor\": \"bottom\", \"yref\": \"paper\"}, {\"font\": {\"size\": 16}, \"showarrow\": false, \"text\": \"p 4\", \"x\": 0.775, \"xanchor\": \"center\", \"xref\": \"paper\", \"y\": 0.375, \"yanchor\": \"bottom\", \"yref\": \"paper\"}], \"autosize\": true, \"height\": 800, \"template\": {\"data\": {\"bar\": [{\"error_x\": {\"color\": \"#2a3f5f\"}, \"error_y\": {\"color\": \"#2a3f5f\"}, \"marker\": {\"line\": {\"color\": \"#E5ECF6\", \"width\": 0.5}}, \"type\": \"bar\"}], \"barpolar\": [{\"marker\": {\"line\": {\"color\": \"#E5ECF6\", \"width\": 0.5}}, \"type\": \"barpolar\"}], \"carpet\": [{\"aaxis\": {\"endlinecolor\": \"#2a3f5f\", \"gridcolor\": \"white\", \"linecolor\": \"white\", \"minorgridcolor\": \"white\", \"startlinecolor\": \"#2a3f5f\"}, \"baxis\": {\"endlinecolor\": \"#2a3f5f\", \"gridcolor\": \"white\", \"linecolor\": \"white\", \"minorgridcolor\": \"white\", \"startlinecolor\": \"#2a3f5f\"}, \"type\": \"carpet\"}], \"choropleth\": [{\"colorbar\": {\"outlinewidth\": 0, \"ticks\": \"\"}, \"type\": \"choropleth\"}], \"contour\": [{\"colorbar\": {\"outlinewidth\": 0, \"ticks\": \"\"}, \"colorscale\": [[0.0, \"#0d0887\"], [0.1111111111111111, \"#46039f\"], [0.2222222222222222, \"#7201a8\"], [0.3333333333333333, \"#9c179e\"], [0.4444444444444444, \"#bd3786\"], [0.5555555555555556, \"#d8576b\"], [0.6666666666666666, \"#ed7953\"], [0.7777777777777778, \"#fb9f3a\"], [0.8888888888888888, \"#fdca26\"], [1.0, \"#f0f921\"]], \"type\": \"contour\"}], \"contourcarpet\": [{\"colorbar\": {\"outlinewidth\": 0, \"ticks\": \"\"}, \"type\": \"contourcarpet\"}], \"heatmap\": [{\"colorbar\": {\"outlinewidth\": 0, \"ticks\": \"\"}, \"colorscale\": [[0.0, \"#0d0887\"], [0.1111111111111111, \"#46039f\"], [0.2222222222222222, \"#7201a8\"], [0.3333333333333333, \"#9c179e\"], [0.4444444444444444, \"#bd3786\"], [0.5555555555555556, \"#d8576b\"], [0.6666666666666666, \"#ed7953\"], [0.7777777777777778, \"#fb9f3a\"], [0.8888888888888888, \"#fdca26\"], [1.0, \"#f0f921\"]], \"type\": \"heatmap\"}], \"heatmapgl\": [{\"colorbar\": {\"outlinewidth\": 0, \"ticks\": \"\"}, \"colorscale\": [[0.0, \"#0d0887\"], [0.1111111111111111, \"#46039f\"], [0.2222222222222222, \"#7201a8\"], [0.3333333333333333, \"#9c179e\"], [0.4444444444444444, \"#bd3786\"], [0.5555555555555556, \"#d8576b\"], [0.6666666666666666, \"#ed7953\"], [0.7777777777777778, \"#fb9f3a\"], [0.8888888888888888, \"#fdca26\"], [1.0, \"#f0f921\"]], \"type\": \"heatmapgl\"}], \"histogram\": [{\"marker\": {\"colorbar\": {\"outlinewidth\": 0, \"ticks\": \"\"}}, \"type\": \"histogram\"}], \"histogram2d\": [{\"colorbar\": {\"outlinewidth\": 0, \"ticks\": \"\"}, \"colorscale\": [[0.0, \"#0d0887\"], [0.1111111111111111, \"#46039f\"], [0.2222222222222222, \"#7201a8\"], [0.3333333333333333, \"#9c179e\"], [0.4444444444444444, \"#bd3786\"], [0.5555555555555556, \"#d8576b\"], [0.6666666666666666, \"#ed7953\"], [0.7777777777777778, \"#fb9f3a\"], [0.8888888888888888, \"#fdca26\"], [1.0, \"#f0f921\"]], \"type\": \"histogram2d\"}], \"histogram2dcontour\": [{\"colorbar\": {\"outlinewidth\": 0, \"ticks\": \"\"}, \"colorscale\": [[0.0, \"#0d0887\"], [0.1111111111111111, \"#46039f\"], [0.2222222222222222, \"#7201a8\"], [0.3333333333333333, \"#9c179e\"], [0.4444444444444444, \"#bd3786\"], [0.5555555555555556, \"#d8576b\"], [0.6666666666666666, \"#ed7953\"], [0.7777777777777778, \"#fb9f3a\"], [0.8888888888888888, \"#fdca26\"], [1.0, \"#f0f921\"]], \"type\": \"histogram2dcontour\"}], \"mesh3d\": [{\"colorbar\": {\"outlinewidth\": 0, \"ticks\": \"\"}, \"type\": \"mesh3d\"}], \"parcoords\": [{\"line\": {\"colorbar\": {\"outlinewidth\": 0, \"ticks\": \"\"}}, \"type\": \"parcoords\"}], \"pie\": [{\"automargin\": true, \"type\": \"pie\"}], \"scatter\": [{\"marker\": {\"colorbar\": {\"outlinewidth\": 0, \"ticks\": \"\"}}, \"type\": \"scatter\"}], \"scatter3d\": [{\"line\": {\"colorbar\": {\"outlinewidth\": 0, \"ticks\": \"\"}}, \"marker\": {\"colorbar\": {\"outlinewidth\": 0, \"ticks\": \"\"}}, \"type\": \"scatter3d\"}], \"scattercarpet\": [{\"marker\": {\"colorbar\": {\"outlinewidth\": 0, \"ticks\": \"\"}}, \"type\": \"scattercarpet\"}], \"scattergeo\": [{\"marker\": {\"colorbar\": {\"outlinewidth\": 0, \"ticks\": \"\"}}, \"type\": \"scattergeo\"}], \"scattergl\": [{\"marker\": {\"colorbar\": {\"outlinewidth\": 0, \"ticks\": \"\"}}, \"type\": \"scattergl\"}], \"scattermapbox\": [{\"marker\": {\"colorbar\": {\"outlinewidth\": 0, \"ticks\": \"\"}}, \"type\": \"scattermapbox\"}], \"scatterpolar\": [{\"marker\": {\"colorbar\": {\"outlinewidth\": 0, \"ticks\": \"\"}}, \"type\": \"scatterpolar\"}], \"scatterpolargl\": [{\"marker\": {\"colorbar\": {\"outlinewidth\": 0, \"ticks\": \"\"}}, \"type\": \"scatterpolargl\"}], \"scatterternary\": [{\"marker\": {\"colorbar\": {\"outlinewidth\": 0, \"ticks\": \"\"}}, \"type\": \"scatterternary\"}], \"surface\": [{\"colorbar\": {\"outlinewidth\": 0, \"ticks\": \"\"}, \"colorscale\": [[0.0, \"#0d0887\"], [0.1111111111111111, \"#46039f\"], [0.2222222222222222, \"#7201a8\"], [0.3333333333333333, \"#9c179e\"], [0.4444444444444444, \"#bd3786\"], [0.5555555555555556, \"#d8576b\"], [0.6666666666666666, \"#ed7953\"], [0.7777777777777778, \"#fb9f3a\"], [0.8888888888888888, \"#fdca26\"], [1.0, \"#f0f921\"]], \"type\": \"surface\"}], \"table\": [{\"cells\": {\"fill\": {\"color\": \"#EBF0F8\"}, \"line\": {\"color\": \"white\"}}, \"header\": {\"fill\": {\"color\": \"#C8D4E3\"}, \"line\": {\"color\": \"white\"}}, \"type\": \"table\"}]}, \"layout\": {\"annotationdefaults\": {\"arrowcolor\": \"#2a3f5f\", \"arrowhead\": 0, \"arrowwidth\": 1}, \"autotypenumbers\": \"strict\", \"coloraxis\": {\"colorbar\": {\"outlinewidth\": 0, \"ticks\": \"\"}}, \"colorscale\": {\"diverging\": [[0, \"#8e0152\"], [0.1, \"#c51b7d\"], [0.2, \"#de77ae\"], [0.3, \"#f1b6da\"], [0.4, \"#fde0ef\"], [0.5, \"#f7f7f7\"], [0.6, \"#e6f5d0\"], [0.7, \"#b8e186\"], [0.8, \"#7fbc41\"], [0.9, \"#4d9221\"], [1, \"#276419\"]], \"sequential\": [[0.0, \"#0d0887\"], [0.1111111111111111, \"#46039f\"], [0.2222222222222222, \"#7201a8\"], [0.3333333333333333, \"#9c179e\"], [0.4444444444444444, \"#bd3786\"], [0.5555555555555556, \"#d8576b\"], [0.6666666666666666, \"#ed7953\"], [0.7777777777777778, \"#fb9f3a\"], [0.8888888888888888, \"#fdca26\"], [1.0, \"#f0f921\"]], \"sequentialminus\": [[0.0, \"#0d0887\"], [0.1111111111111111, \"#46039f\"], [0.2222222222222222, \"#7201a8\"], [0.3333333333333333, \"#9c179e\"], [0.4444444444444444, \"#bd3786\"], [0.5555555555555556, \"#d8576b\"], [0.6666666666666666, \"#ed7953\"], [0.7777777777777778, \"#fb9f3a\"], [0.8888888888888888, \"#fdca26\"], [1.0, \"#f0f921\"]]}, \"colorway\": [\"#636efa\", \"#EF553B\", \"#00cc96\", \"#ab63fa\", \"#FFA15A\", \"#19d3f3\", \"#FF6692\", \"#B6E880\", \"#FF97FF\", \"#FECB52\"], \"font\": {\"color\": \"#2a3f5f\"}, \"geo\": {\"bgcolor\": \"white\", \"lakecolor\": \"white\", \"landcolor\": \"#E5ECF6\", \"showlakes\": true, \"showland\": true, \"subunitcolor\": \"white\"}, \"hoverlabel\": {\"align\": \"left\"}, \"hovermode\": \"closest\", \"mapbox\": {\"style\": \"light\"}, \"paper_bgcolor\": \"white\", \"plot_bgcolor\": \"#E5ECF6\", \"polar\": {\"angularaxis\": {\"gridcolor\": \"white\", \"linecolor\": \"white\", \"ticks\": \"\"}, \"bgcolor\": \"#E5ECF6\", \"radialaxis\": {\"gridcolor\": \"white\", \"linecolor\": \"white\", \"ticks\": \"\"}}, \"scene\": {\"xaxis\": {\"backgroundcolor\": \"#E5ECF6\", \"gridcolor\": \"white\", \"gridwidth\": 2, \"linecolor\": \"white\", \"showbackground\": true, \"ticks\": \"\", \"zerolinecolor\": \"white\"}, \"yaxis\": {\"backgroundcolor\": \"#E5ECF6\", \"gridcolor\": \"white\", \"gridwidth\": 2, \"linecolor\": \"white\", \"showbackground\": true, \"ticks\": \"\", \"zerolinecolor\": \"white\"}, \"zaxis\": {\"backgroundcolor\": \"#E5ECF6\", \"gridcolor\": \"white\", \"gridwidth\": 2, \"linecolor\": \"white\", \"showbackground\": true, \"ticks\": \"\", \"zerolinecolor\": \"white\"}}, \"shapedefaults\": {\"line\": {\"color\": \"#2a3f5f\"}}, \"ternary\": {\"aaxis\": {\"gridcolor\": \"white\", \"linecolor\": \"white\", \"ticks\": \"\"}, \"baxis\": {\"gridcolor\": \"white\", \"linecolor\": \"white\", \"ticks\": \"\"}, \"bgcolor\": \"#E5ECF6\", \"caxis\": {\"gridcolor\": \"white\", \"linecolor\": \"white\", \"ticks\": \"\"}}, \"title\": {\"x\": 0.05}, \"xaxis\": {\"automargin\": true, \"gridcolor\": \"white\", \"linecolor\": \"white\", \"ticks\": \"\", \"title\": {\"standoff\": 15}, \"zerolinecolor\": \"white\", \"zerolinewidth\": 2}, \"yaxis\": {\"automargin\": true, \"gridcolor\": \"white\", \"linecolor\": \"white\", \"ticks\": \"\", \"title\": {\"standoff\": 15}, \"zerolinecolor\": \"white\", \"zerolinewidth\": 2}}}, \"width\": 1200, \"xaxis\": {\"anchor\": \"y\", \"domain\": [0.0, 0.45]}, \"xaxis2\": {\"anchor\": \"y2\", \"domain\": [0.55, 1.0]}, \"xaxis3\": {\"anchor\": \"y3\", \"domain\": [0.0, 0.45]}, \"xaxis4\": {\"anchor\": \"y4\", \"domain\": [0.55, 1.0]}, \"yaxis\": {\"anchor\": \"x\", \"automargin\": true, \"domain\": [0.625, 1.0]}, \"yaxis2\": {\"anchor\": \"x2\", \"automargin\": true, \"domain\": [0.625, 1.0]}, \"yaxis3\": {\"anchor\": \"x3\", \"automargin\": true, \"domain\": [0.0, 0.375]}, \"yaxis4\": {\"anchor\": \"x4\", \"automargin\": true, \"domain\": [0.0, 0.375]}},                        {\"responsive\": true}                    ).then(function(){\n",
       "                            \n",
       "var gd = document.getElementById('76c2c298-7c17-4df6-8050-143026692bd4');\n",
       "var x = new MutationObserver(function (mutations, observer) {{\n",
       "        var display = window.getComputedStyle(gd).display;\n",
       "        if (!display || display === 'none') {{\n",
       "            console.log([gd, 'removed!']);\n",
       "            Plotly.purge(gd);\n",
       "            observer.disconnect();\n",
       "        }}\n",
       "}});\n",
       "\n",
       "// Listen for the removal of the full notebook cells\n",
       "var notebookContainer = gd.closest('#notebook-container');\n",
       "if (notebookContainer) {{\n",
       "    x.observe(notebookContainer, {childList: true});\n",
       "}}\n",
       "\n",
       "// Listen for the clearing of the current output cell\n",
       "var outputEl = gd.closest('.output');\n",
       "if (outputEl) {{\n",
       "    x.observe(outputEl, {childList: true});\n",
       "}}\n",
       "\n",
       "                        })                };                });            </script>        </div>"
      ]
     },
     "metadata": {},
     "output_type": "display_data"
    }
   ],
   "source": [
    "# 'count_cancer'\n",
    "\n",
    "df_dat_them=df[['Annee','count_cardiovascular','count_cancer','count_schizophrenia','count_diabetes','count_AIDS','count_asthma']]\n",
    "df1=df_dat_them[['Annee','count_cardiovascular']]\n",
    "df1= df1[df1['count_cardiovascular'] >1]\n",
    "df1 = df1.groupby(['Annee']).count_cardiovascular.sum().reset_index()\n",
    "\n",
    "fig1 = make_subplots(rows=2, cols=2, subplot_titles=['Mots clés', 'nombre articles cardiovascular', 'Mots clés','p 4'])\n",
    "fig1.add_scatter(x=list(d_key1.values()),y=list(d_key1.values()),mode=\"lines+markers+text\",text=list(d_key1.keys()), row=1, col=1)\n",
    "fig1.add_bar(x=df1['Annee'], y=df1['count_cardiovascular'], row=1,col=2)\n",
    "fig1.add_bar(x=list(d_key1.keys()), y=list(d_key1.values()), row=2,col=1)\n",
    "fig1.add_scatter(x=df1['Annee'], y= df1['count_cardiovascular'], row=2, col=2)\n",
    "fig1.update_yaxes(automargin=True)\n",
    "fig1['layout'].update(width=1200, height=800, autosize=True)\n",
    "fig1\n"
   ]
  },
  {
   "cell_type": "code",
   "execution_count": 85,
   "metadata": {},
   "outputs": [
    {
     "data": {
      "application/vnd.plotly.v1+json": {
       "config": {
        "plotlyServerURL": "https://plot.ly"
       },
       "data": [
        {
         "type": "scatter",
         "x": [
          1975,
          1989,
          1991,
          1993,
          1994,
          1995,
          1996,
          1997,
          1998,
          1999,
          2000,
          2001,
          2002,
          2003,
          2004,
          2005,
          2006,
          2007,
          2008,
          2009,
          2010,
          2011,
          2012,
          2013,
          2014,
          2015,
          2016,
          2017,
          2018,
          2019,
          2020,
          2021
         ],
         "xaxis": "x",
         "y": [
          2,
          3,
          2,
          10,
          29,
          16,
          7,
          16,
          26,
          18,
          43,
          16,
          40,
          53,
          67,
          62,
          103,
          98,
          103,
          155,
          100,
          97,
          184,
          253,
          266,
          307,
          364,
          486,
          720,
          1295,
          1430,
          402
         ],
         "yaxis": "y"
        },
        {
         "type": "scatter",
         "x": [
          1975,
          1989,
          1991,
          1993,
          1994,
          1995,
          1996,
          1997,
          1998,
          1999,
          2000,
          2001,
          2002,
          2003,
          2004,
          2005,
          2006,
          2007,
          2008,
          2009,
          2010,
          2011,
          2012,
          2013,
          2014,
          2015,
          2016,
          2017,
          2018,
          2019,
          2020,
          2021
         ],
         "xaxis": "x2",
         "y": [
          2,
          3,
          2,
          10,
          29,
          16,
          7,
          16,
          26,
          18,
          43,
          16,
          40,
          53,
          67,
          62,
          103,
          98,
          103,
          155,
          100,
          97,
          184,
          253,
          266,
          307,
          364,
          486,
          720,
          1295,
          1430,
          402
         ],
         "yaxis": "y2"
        },
        {
         "type": "bar",
         "x": [
          "dinitrocresols",
          "factors",
          "communication",
          "nitriles",
          "hybridization",
          "robotics",
          "infiltrating",
          "bladder",
          "diagnostic",
          "uteri",
          "metastasis",
          "trials",
          "nuclear",
          "ray",
          "oxazines",
          "creatinine",
          "quality",
          "deoxycytidine",
          "artifacts",
          "positron",
          "lymphocytes",
          "transcriptome",
          "pathogenicity",
          "transcriptase",
          "lewis",
          "aided",
          "genomics",
          "binding",
          "workflow",
          "wavelet",
          "akt",
          "concentration",
          "controlled",
          "pedigree",
          "cycle",
          "leukemia",
          "microbiology",
          "anatomy",
          "fluid",
          "machine",
          "ovarian",
          "mapping",
          "polymorphism",
          "promoter",
          "protein",
          "hepatocellular",
          "sweden",
          "dosage",
          "aromatase",
          "dna",
          "epithelial",
          "phosphopyruvate",
          "prognosis",
          "enzymology",
          "kinase",
          "forkhead",
          "helicobacter",
          "male",
          "age",
          "benzimidazoles",
          "reference",
          "gastrointestinal",
          "transform",
          "volatile",
          "large",
          "interaction",
          "phosphorylation",
          "evolution",
          "reverse",
          "diffusion",
          "array",
          "protocols",
          "histology",
          "local",
          "thoracic",
          "p21",
          "design",
          "risk",
          "prostatic",
          "processing",
          "gastroscopy",
          "inflammation",
          "histological",
          "evidence",
          "adverse",
          "high",
          "transfection",
          "trends",
          "suppressor",
          "in",
          "interference",
          "institutes",
          "mortality",
          "plasma",
          "aminoquinolines",
          "88",
          "exhalation",
          "brain",
          "national",
          "supervised",
          "analysis",
          "pharmaceutical",
          "glioblastoma",
          "combined",
          "nucleoside",
          "therapy",
          "hyperplasia",
          "n",
          "peptide",
          "population",
          "a",
          "dimensional",
          "treatment",
          "endometriosis",
          "liver",
          "water",
          "erbb",
          "reaction",
          "diet",
          "cancer",
          "mitosis",
          "125",
          "bowel",
          "fluorescent",
          "mice",
          "brachytherapy",
          "transporter",
          "esophagus",
          "cardiotoxicity",
          "thyroid",
          "whole",
          "roc",
          "incidence",
          "entropy",
          "helix",
          "stomach",
          "differential",
          "immune",
          "feeding",
          "4",
          "ultrastructure",
          "carcinoembryonic",
          "vesicles",
          "assessment",
          "adenoma",
          "lymphoblastic",
          "chemically",
          "republic",
          "metabolism",
          "case",
          "proteomics",
          "c",
          "method"
         ],
         "xaxis": "x3",
         "y": [
          700,
          701,
          702,
          703,
          704,
          705,
          706,
          707,
          708,
          709,
          710,
          711,
          712,
          713,
          714,
          715,
          716,
          717,
          718,
          719,
          720,
          721,
          722,
          723,
          724,
          725,
          726,
          727,
          728,
          729,
          730,
          731,
          732,
          733,
          734,
          735,
          736,
          737,
          738,
          739,
          740,
          741,
          742,
          743,
          744,
          745,
          746,
          747,
          748,
          749,
          750,
          751,
          752,
          753,
          754,
          755,
          756,
          757,
          758,
          759,
          760,
          761,
          762,
          763,
          764,
          765,
          766,
          767,
          768,
          769,
          770,
          771,
          772,
          773,
          774,
          775,
          776,
          777,
          778,
          779,
          780,
          781,
          782,
          783,
          784,
          785,
          786,
          787,
          788,
          789,
          790,
          791,
          792,
          793,
          794,
          795,
          796,
          797,
          798,
          799,
          800,
          801,
          802,
          803,
          804,
          805,
          806,
          807,
          808,
          809,
          810,
          811,
          812,
          813,
          814,
          815,
          816,
          817,
          818,
          819,
          820,
          821,
          822,
          823,
          824,
          825,
          826,
          827,
          828,
          829,
          830,
          831,
          832,
          833,
          834,
          835,
          836,
          837,
          838,
          839,
          840,
          841,
          842,
          843,
          844,
          845,
          846,
          847,
          848,
          849,
          850,
          851,
          852
         ],
         "yaxis": "y3"
        },
        {
         "type": "bar",
         "x": [
          1975,
          1989,
          1991,
          1993,
          1994,
          1995,
          1996,
          1997,
          1998,
          1999,
          2000,
          2001,
          2002,
          2003,
          2004,
          2005,
          2006,
          2007,
          2008,
          2009,
          2010,
          2011,
          2012,
          2013,
          2014,
          2015,
          2016,
          2017,
          2018,
          2019,
          2020,
          2021
         ],
         "xaxis": "x4",
         "y": [
          2,
          3,
          2,
          10,
          29,
          16,
          7,
          16,
          26,
          18,
          43,
          16,
          40,
          53,
          67,
          62,
          103,
          98,
          103,
          155,
          100,
          97,
          184,
          253,
          266,
          307,
          364,
          486,
          720,
          1295,
          1430,
          402
         ],
         "yaxis": "y4"
        }
       ],
       "layout": {
        "annotations": [
         {
          "font": {
           "size": 16
          },
          "showarrow": false,
          "text": "Plot 1",
          "x": 0.225,
          "xanchor": "center",
          "xref": "paper",
          "y": 1,
          "yanchor": "bottom",
          "yref": "paper"
         },
         {
          "font": {
           "size": 16
          },
          "showarrow": false,
          "text": "p2",
          "x": 0.775,
          "xanchor": "center",
          "xref": "paper",
          "y": 1,
          "yanchor": "bottom",
          "yref": "paper"
         },
         {
          "font": {
           "size": 16
          },
          "showarrow": false,
          "text": "mots clés",
          "x": 0.225,
          "xanchor": "center",
          "xref": "paper",
          "y": 0.375,
          "yanchor": "bottom",
          "yref": "paper"
         },
         {
          "font": {
           "size": 16
          },
          "showarrow": false,
          "text": "articles cancer",
          "x": 0.775,
          "xanchor": "center",
          "xref": "paper",
          "y": 0.375,
          "yanchor": "bottom",
          "yref": "paper"
         }
        ],
        "autosize": true,
        "height": 800,
        "template": {
         "data": {
          "bar": [
           {
            "error_x": {
             "color": "#2a3f5f"
            },
            "error_y": {
             "color": "#2a3f5f"
            },
            "marker": {
             "line": {
              "color": "#E5ECF6",
              "width": 0.5
             }
            },
            "type": "bar"
           }
          ],
          "barpolar": [
           {
            "marker": {
             "line": {
              "color": "#E5ECF6",
              "width": 0.5
             }
            },
            "type": "barpolar"
           }
          ],
          "carpet": [
           {
            "aaxis": {
             "endlinecolor": "#2a3f5f",
             "gridcolor": "white",
             "linecolor": "white",
             "minorgridcolor": "white",
             "startlinecolor": "#2a3f5f"
            },
            "baxis": {
             "endlinecolor": "#2a3f5f",
             "gridcolor": "white",
             "linecolor": "white",
             "minorgridcolor": "white",
             "startlinecolor": "#2a3f5f"
            },
            "type": "carpet"
           }
          ],
          "choropleth": [
           {
            "colorbar": {
             "outlinewidth": 0,
             "ticks": ""
            },
            "type": "choropleth"
           }
          ],
          "contour": [
           {
            "colorbar": {
             "outlinewidth": 0,
             "ticks": ""
            },
            "colorscale": [
             [
              0,
              "#0d0887"
             ],
             [
              0.1111111111111111,
              "#46039f"
             ],
             [
              0.2222222222222222,
              "#7201a8"
             ],
             [
              0.3333333333333333,
              "#9c179e"
             ],
             [
              0.4444444444444444,
              "#bd3786"
             ],
             [
              0.5555555555555556,
              "#d8576b"
             ],
             [
              0.6666666666666666,
              "#ed7953"
             ],
             [
              0.7777777777777778,
              "#fb9f3a"
             ],
             [
              0.8888888888888888,
              "#fdca26"
             ],
             [
              1,
              "#f0f921"
             ]
            ],
            "type": "contour"
           }
          ],
          "contourcarpet": [
           {
            "colorbar": {
             "outlinewidth": 0,
             "ticks": ""
            },
            "type": "contourcarpet"
           }
          ],
          "heatmap": [
           {
            "colorbar": {
             "outlinewidth": 0,
             "ticks": ""
            },
            "colorscale": [
             [
              0,
              "#0d0887"
             ],
             [
              0.1111111111111111,
              "#46039f"
             ],
             [
              0.2222222222222222,
              "#7201a8"
             ],
             [
              0.3333333333333333,
              "#9c179e"
             ],
             [
              0.4444444444444444,
              "#bd3786"
             ],
             [
              0.5555555555555556,
              "#d8576b"
             ],
             [
              0.6666666666666666,
              "#ed7953"
             ],
             [
              0.7777777777777778,
              "#fb9f3a"
             ],
             [
              0.8888888888888888,
              "#fdca26"
             ],
             [
              1,
              "#f0f921"
             ]
            ],
            "type": "heatmap"
           }
          ],
          "heatmapgl": [
           {
            "colorbar": {
             "outlinewidth": 0,
             "ticks": ""
            },
            "colorscale": [
             [
              0,
              "#0d0887"
             ],
             [
              0.1111111111111111,
              "#46039f"
             ],
             [
              0.2222222222222222,
              "#7201a8"
             ],
             [
              0.3333333333333333,
              "#9c179e"
             ],
             [
              0.4444444444444444,
              "#bd3786"
             ],
             [
              0.5555555555555556,
              "#d8576b"
             ],
             [
              0.6666666666666666,
              "#ed7953"
             ],
             [
              0.7777777777777778,
              "#fb9f3a"
             ],
             [
              0.8888888888888888,
              "#fdca26"
             ],
             [
              1,
              "#f0f921"
             ]
            ],
            "type": "heatmapgl"
           }
          ],
          "histogram": [
           {
            "marker": {
             "colorbar": {
              "outlinewidth": 0,
              "ticks": ""
             }
            },
            "type": "histogram"
           }
          ],
          "histogram2d": [
           {
            "colorbar": {
             "outlinewidth": 0,
             "ticks": ""
            },
            "colorscale": [
             [
              0,
              "#0d0887"
             ],
             [
              0.1111111111111111,
              "#46039f"
             ],
             [
              0.2222222222222222,
              "#7201a8"
             ],
             [
              0.3333333333333333,
              "#9c179e"
             ],
             [
              0.4444444444444444,
              "#bd3786"
             ],
             [
              0.5555555555555556,
              "#d8576b"
             ],
             [
              0.6666666666666666,
              "#ed7953"
             ],
             [
              0.7777777777777778,
              "#fb9f3a"
             ],
             [
              0.8888888888888888,
              "#fdca26"
             ],
             [
              1,
              "#f0f921"
             ]
            ],
            "type": "histogram2d"
           }
          ],
          "histogram2dcontour": [
           {
            "colorbar": {
             "outlinewidth": 0,
             "ticks": ""
            },
            "colorscale": [
             [
              0,
              "#0d0887"
             ],
             [
              0.1111111111111111,
              "#46039f"
             ],
             [
              0.2222222222222222,
              "#7201a8"
             ],
             [
              0.3333333333333333,
              "#9c179e"
             ],
             [
              0.4444444444444444,
              "#bd3786"
             ],
             [
              0.5555555555555556,
              "#d8576b"
             ],
             [
              0.6666666666666666,
              "#ed7953"
             ],
             [
              0.7777777777777778,
              "#fb9f3a"
             ],
             [
              0.8888888888888888,
              "#fdca26"
             ],
             [
              1,
              "#f0f921"
             ]
            ],
            "type": "histogram2dcontour"
           }
          ],
          "mesh3d": [
           {
            "colorbar": {
             "outlinewidth": 0,
             "ticks": ""
            },
            "type": "mesh3d"
           }
          ],
          "parcoords": [
           {
            "line": {
             "colorbar": {
              "outlinewidth": 0,
              "ticks": ""
             }
            },
            "type": "parcoords"
           }
          ],
          "pie": [
           {
            "automargin": true,
            "type": "pie"
           }
          ],
          "scatter": [
           {
            "marker": {
             "colorbar": {
              "outlinewidth": 0,
              "ticks": ""
             }
            },
            "type": "scatter"
           }
          ],
          "scatter3d": [
           {
            "line": {
             "colorbar": {
              "outlinewidth": 0,
              "ticks": ""
             }
            },
            "marker": {
             "colorbar": {
              "outlinewidth": 0,
              "ticks": ""
             }
            },
            "type": "scatter3d"
           }
          ],
          "scattercarpet": [
           {
            "marker": {
             "colorbar": {
              "outlinewidth": 0,
              "ticks": ""
             }
            },
            "type": "scattercarpet"
           }
          ],
          "scattergeo": [
           {
            "marker": {
             "colorbar": {
              "outlinewidth": 0,
              "ticks": ""
             }
            },
            "type": "scattergeo"
           }
          ],
          "scattergl": [
           {
            "marker": {
             "colorbar": {
              "outlinewidth": 0,
              "ticks": ""
             }
            },
            "type": "scattergl"
           }
          ],
          "scattermapbox": [
           {
            "marker": {
             "colorbar": {
              "outlinewidth": 0,
              "ticks": ""
             }
            },
            "type": "scattermapbox"
           }
          ],
          "scatterpolar": [
           {
            "marker": {
             "colorbar": {
              "outlinewidth": 0,
              "ticks": ""
             }
            },
            "type": "scatterpolar"
           }
          ],
          "scatterpolargl": [
           {
            "marker": {
             "colorbar": {
              "outlinewidth": 0,
              "ticks": ""
             }
            },
            "type": "scatterpolargl"
           }
          ],
          "scatterternary": [
           {
            "marker": {
             "colorbar": {
              "outlinewidth": 0,
              "ticks": ""
             }
            },
            "type": "scatterternary"
           }
          ],
          "surface": [
           {
            "colorbar": {
             "outlinewidth": 0,
             "ticks": ""
            },
            "colorscale": [
             [
              0,
              "#0d0887"
             ],
             [
              0.1111111111111111,
              "#46039f"
             ],
             [
              0.2222222222222222,
              "#7201a8"
             ],
             [
              0.3333333333333333,
              "#9c179e"
             ],
             [
              0.4444444444444444,
              "#bd3786"
             ],
             [
              0.5555555555555556,
              "#d8576b"
             ],
             [
              0.6666666666666666,
              "#ed7953"
             ],
             [
              0.7777777777777778,
              "#fb9f3a"
             ],
             [
              0.8888888888888888,
              "#fdca26"
             ],
             [
              1,
              "#f0f921"
             ]
            ],
            "type": "surface"
           }
          ],
          "table": [
           {
            "cells": {
             "fill": {
              "color": "#EBF0F8"
             },
             "line": {
              "color": "white"
             }
            },
            "header": {
             "fill": {
              "color": "#C8D4E3"
             },
             "line": {
              "color": "white"
             }
            },
            "type": "table"
           }
          ]
         },
         "layout": {
          "annotationdefaults": {
           "arrowcolor": "#2a3f5f",
           "arrowhead": 0,
           "arrowwidth": 1
          },
          "autotypenumbers": "strict",
          "coloraxis": {
           "colorbar": {
            "outlinewidth": 0,
            "ticks": ""
           }
          },
          "colorscale": {
           "diverging": [
            [
             0,
             "#8e0152"
            ],
            [
             0.1,
             "#c51b7d"
            ],
            [
             0.2,
             "#de77ae"
            ],
            [
             0.3,
             "#f1b6da"
            ],
            [
             0.4,
             "#fde0ef"
            ],
            [
             0.5,
             "#f7f7f7"
            ],
            [
             0.6,
             "#e6f5d0"
            ],
            [
             0.7,
             "#b8e186"
            ],
            [
             0.8,
             "#7fbc41"
            ],
            [
             0.9,
             "#4d9221"
            ],
            [
             1,
             "#276419"
            ]
           ],
           "sequential": [
            [
             0,
             "#0d0887"
            ],
            [
             0.1111111111111111,
             "#46039f"
            ],
            [
             0.2222222222222222,
             "#7201a8"
            ],
            [
             0.3333333333333333,
             "#9c179e"
            ],
            [
             0.4444444444444444,
             "#bd3786"
            ],
            [
             0.5555555555555556,
             "#d8576b"
            ],
            [
             0.6666666666666666,
             "#ed7953"
            ],
            [
             0.7777777777777778,
             "#fb9f3a"
            ],
            [
             0.8888888888888888,
             "#fdca26"
            ],
            [
             1,
             "#f0f921"
            ]
           ],
           "sequentialminus": [
            [
             0,
             "#0d0887"
            ],
            [
             0.1111111111111111,
             "#46039f"
            ],
            [
             0.2222222222222222,
             "#7201a8"
            ],
            [
             0.3333333333333333,
             "#9c179e"
            ],
            [
             0.4444444444444444,
             "#bd3786"
            ],
            [
             0.5555555555555556,
             "#d8576b"
            ],
            [
             0.6666666666666666,
             "#ed7953"
            ],
            [
             0.7777777777777778,
             "#fb9f3a"
            ],
            [
             0.8888888888888888,
             "#fdca26"
            ],
            [
             1,
             "#f0f921"
            ]
           ]
          },
          "colorway": [
           "#636efa",
           "#EF553B",
           "#00cc96",
           "#ab63fa",
           "#FFA15A",
           "#19d3f3",
           "#FF6692",
           "#B6E880",
           "#FF97FF",
           "#FECB52"
          ],
          "font": {
           "color": "#2a3f5f"
          },
          "geo": {
           "bgcolor": "white",
           "lakecolor": "white",
           "landcolor": "#E5ECF6",
           "showlakes": true,
           "showland": true,
           "subunitcolor": "white"
          },
          "hoverlabel": {
           "align": "left"
          },
          "hovermode": "closest",
          "mapbox": {
           "style": "light"
          },
          "paper_bgcolor": "white",
          "plot_bgcolor": "#E5ECF6",
          "polar": {
           "angularaxis": {
            "gridcolor": "white",
            "linecolor": "white",
            "ticks": ""
           },
           "bgcolor": "#E5ECF6",
           "radialaxis": {
            "gridcolor": "white",
            "linecolor": "white",
            "ticks": ""
           }
          },
          "scene": {
           "xaxis": {
            "backgroundcolor": "#E5ECF6",
            "gridcolor": "white",
            "gridwidth": 2,
            "linecolor": "white",
            "showbackground": true,
            "ticks": "",
            "zerolinecolor": "white"
           },
           "yaxis": {
            "backgroundcolor": "#E5ECF6",
            "gridcolor": "white",
            "gridwidth": 2,
            "linecolor": "white",
            "showbackground": true,
            "ticks": "",
            "zerolinecolor": "white"
           },
           "zaxis": {
            "backgroundcolor": "#E5ECF6",
            "gridcolor": "white",
            "gridwidth": 2,
            "linecolor": "white",
            "showbackground": true,
            "ticks": "",
            "zerolinecolor": "white"
           }
          },
          "shapedefaults": {
           "line": {
            "color": "#2a3f5f"
           }
          },
          "ternary": {
           "aaxis": {
            "gridcolor": "white",
            "linecolor": "white",
            "ticks": ""
           },
           "baxis": {
            "gridcolor": "white",
            "linecolor": "white",
            "ticks": ""
           },
           "bgcolor": "#E5ECF6",
           "caxis": {
            "gridcolor": "white",
            "linecolor": "white",
            "ticks": ""
           }
          },
          "title": {
           "x": 0.05
          },
          "xaxis": {
           "automargin": true,
           "gridcolor": "white",
           "linecolor": "white",
           "ticks": "",
           "title": {
            "standoff": 15
           },
           "zerolinecolor": "white",
           "zerolinewidth": 2
          },
          "yaxis": {
           "automargin": true,
           "gridcolor": "white",
           "linecolor": "white",
           "ticks": "",
           "title": {
            "standoff": 15
           },
           "zerolinecolor": "white",
           "zerolinewidth": 2
          }
         }
        },
        "width": 1200,
        "xaxis": {
         "anchor": "y",
         "domain": [
          0,
          0.45
         ]
        },
        "xaxis2": {
         "anchor": "y2",
         "domain": [
          0.55,
          1
         ]
        },
        "xaxis3": {
         "anchor": "y3",
         "domain": [
          0,
          0.45
         ]
        },
        "xaxis4": {
         "anchor": "y4",
         "domain": [
          0.55,
          1
         ]
        },
        "yaxis": {
         "anchor": "x",
         "automargin": true,
         "domain": [
          0.625,
          1
         ]
        },
        "yaxis2": {
         "anchor": "x2",
         "automargin": true,
         "domain": [
          0.625,
          1
         ]
        },
        "yaxis3": {
         "anchor": "x3",
         "automargin": true,
         "domain": [
          0,
          0.375
         ]
        },
        "yaxis4": {
         "anchor": "x4",
         "automargin": true,
         "domain": [
          0,
          0.375
         ]
        }
       }
      },
      "text/html": [
       "<div>                            <div id=\"365c248e-6685-4b6e-8b06-2cc7f38e3f4c\" class=\"plotly-graph-div\" style=\"height:800px; width:1200px;\"></div>            <script type=\"text/javascript\">                require([\"plotly\"], function(Plotly) {                    window.PLOTLYENV=window.PLOTLYENV || {};                                    if (document.getElementById(\"365c248e-6685-4b6e-8b06-2cc7f38e3f4c\")) {                    Plotly.newPlot(                        \"365c248e-6685-4b6e-8b06-2cc7f38e3f4c\",                        [{\"type\": \"scatter\", \"x\": [1975, 1989, 1991, 1993, 1994, 1995, 1996, 1997, 1998, 1999, 2000, 2001, 2002, 2003, 2004, 2005, 2006, 2007, 2008, 2009, 2010, 2011, 2012, 2013, 2014, 2015, 2016, 2017, 2018, 2019, 2020, 2021], \"xaxis\": \"x\", \"y\": [2.0, 3.0, 2.0, 10.0, 29.0, 16.0, 7.0, 16.0, 26.0, 18.0, 43.0, 16.0, 40.0, 53.0, 67.0, 62.0, 103.0, 98.0, 103.0, 155.0, 100.0, 97.0, 184.0, 253.0, 266.0, 307.0, 364.0, 486.0, 720.0, 1295.0, 1430.0, 402.0], \"yaxis\": \"y\"}, {\"type\": \"scatter\", \"x\": [1975, 1989, 1991, 1993, 1994, 1995, 1996, 1997, 1998, 1999, 2000, 2001, 2002, 2003, 2004, 2005, 2006, 2007, 2008, 2009, 2010, 2011, 2012, 2013, 2014, 2015, 2016, 2017, 2018, 2019, 2020, 2021], \"xaxis\": \"x2\", \"y\": [2.0, 3.0, 2.0, 10.0, 29.0, 16.0, 7.0, 16.0, 26.0, 18.0, 43.0, 16.0, 40.0, 53.0, 67.0, 62.0, 103.0, 98.0, 103.0, 155.0, 100.0, 97.0, 184.0, 253.0, 266.0, 307.0, 364.0, 486.0, 720.0, 1295.0, 1430.0, 402.0], \"yaxis\": \"y2\"}, {\"type\": \"bar\", \"x\": [\"dinitrocresols\", \"factors\", \"communication\", \"nitriles\", \"hybridization\", \"robotics\", \"infiltrating\", \"bladder\", \"diagnostic\", \"uteri\", \"metastasis\", \"trials\", \"nuclear\", \"ray\", \"oxazines\", \"creatinine\", \"quality\", \"deoxycytidine\", \"artifacts\", \"positron\", \"lymphocytes\", \"transcriptome\", \"pathogenicity\", \"transcriptase\", \"lewis\", \"aided\", \"genomics\", \"binding\", \"workflow\", \"wavelet\", \"akt\", \"concentration\", \"controlled\", \"pedigree\", \"cycle\", \"leukemia\", \"microbiology\", \"anatomy\", \"fluid\", \"machine\", \"ovarian\", \"mapping\", \"polymorphism\", \"promoter\", \"protein\", \"hepatocellular\", \"sweden\", \"dosage\", \"aromatase\", \"dna\", \"epithelial\", \"phosphopyruvate\", \"prognosis\", \"enzymology\", \"kinase\", \"forkhead\", \"helicobacter\", \"male\", \"age\", \"benzimidazoles\", \"reference\", \"gastrointestinal\", \"transform\", \"volatile\", \"large\", \"interaction\", \"phosphorylation\", \"evolution\", \"reverse\", \"diffusion\", \"array\", \"protocols\", \"histology\", \"local\", \"thoracic\", \"p21\", \"design\", \"risk\", \"prostatic\", \"processing\", \"gastroscopy\", \"inflammation\", \"histological\", \"evidence\", \"adverse\", \"high\", \"transfection\", \"trends\", \"suppressor\", \"in\", \"interference\", \"institutes\", \"mortality\", \"plasma\", \"aminoquinolines\", \"88\", \"exhalation\", \"brain\", \"national\", \"supervised\", \"analysis\", \"pharmaceutical\", \"glioblastoma\", \"combined\", \"nucleoside\", \"therapy\", \"hyperplasia\", \"n\", \"peptide\", \"population\", \"a\", \"dimensional\", \"treatment\", \"endometriosis\", \"liver\", \"water\", \"erbb\", \"reaction\", \"diet\", \"cancer\", \"mitosis\", \"125\", \"bowel\", \"fluorescent\", \"mice\", \"brachytherapy\", \"transporter\", \"esophagus\", \"cardiotoxicity\", \"thyroid\", \"whole\", \"roc\", \"incidence\", \"entropy\", \"helix\", \"stomach\", \"differential\", \"immune\", \"feeding\", \"4\", \"ultrastructure\", \"carcinoembryonic\", \"vesicles\", \"assessment\", \"adenoma\", \"lymphoblastic\", \"chemically\", \"republic\", \"metabolism\", \"case\", \"proteomics\", \"c\", \"method\"], \"xaxis\": \"x3\", \"y\": [700, 701, 702, 703, 704, 705, 706, 707, 708, 709, 710, 711, 712, 713, 714, 715, 716, 717, 718, 719, 720, 721, 722, 723, 724, 725, 726, 727, 728, 729, 730, 731, 732, 733, 734, 735, 736, 737, 738, 739, 740, 741, 742, 743, 744, 745, 746, 747, 748, 749, 750, 751, 752, 753, 754, 755, 756, 757, 758, 759, 760, 761, 762, 763, 764, 765, 766, 767, 768, 769, 770, 771, 772, 773, 774, 775, 776, 777, 778, 779, 780, 781, 782, 783, 784, 785, 786, 787, 788, 789, 790, 791, 792, 793, 794, 795, 796, 797, 798, 799, 800, 801, 802, 803, 804, 805, 806, 807, 808, 809, 810, 811, 812, 813, 814, 815, 816, 817, 818, 819, 820, 821, 822, 823, 824, 825, 826, 827, 828, 829, 830, 831, 832, 833, 834, 835, 836, 837, 838, 839, 840, 841, 842, 843, 844, 845, 846, 847, 848, 849, 850, 851, 852], \"yaxis\": \"y3\"}, {\"type\": \"bar\", \"x\": [1975, 1989, 1991, 1993, 1994, 1995, 1996, 1997, 1998, 1999, 2000, 2001, 2002, 2003, 2004, 2005, 2006, 2007, 2008, 2009, 2010, 2011, 2012, 2013, 2014, 2015, 2016, 2017, 2018, 2019, 2020, 2021], \"xaxis\": \"x4\", \"y\": [2.0, 3.0, 2.0, 10.0, 29.0, 16.0, 7.0, 16.0, 26.0, 18.0, 43.0, 16.0, 40.0, 53.0, 67.0, 62.0, 103.0, 98.0, 103.0, 155.0, 100.0, 97.0, 184.0, 253.0, 266.0, 307.0, 364.0, 486.0, 720.0, 1295.0, 1430.0, 402.0], \"yaxis\": \"y4\"}],                        {\"annotations\": [{\"font\": {\"size\": 16}, \"showarrow\": false, \"text\": \"Plot 1\", \"x\": 0.225, \"xanchor\": \"center\", \"xref\": \"paper\", \"y\": 1.0, \"yanchor\": \"bottom\", \"yref\": \"paper\"}, {\"font\": {\"size\": 16}, \"showarrow\": false, \"text\": \"p2\", \"x\": 0.775, \"xanchor\": \"center\", \"xref\": \"paper\", \"y\": 1.0, \"yanchor\": \"bottom\", \"yref\": \"paper\"}, {\"font\": {\"size\": 16}, \"showarrow\": false, \"text\": \"mots cl\\u00e9s\", \"x\": 0.225, \"xanchor\": \"center\", \"xref\": \"paper\", \"y\": 0.375, \"yanchor\": \"bottom\", \"yref\": \"paper\"}, {\"font\": {\"size\": 16}, \"showarrow\": false, \"text\": \"articles cancer\", \"x\": 0.775, \"xanchor\": \"center\", \"xref\": \"paper\", \"y\": 0.375, \"yanchor\": \"bottom\", \"yref\": \"paper\"}], \"autosize\": true, \"height\": 800, \"template\": {\"data\": {\"bar\": [{\"error_x\": {\"color\": \"#2a3f5f\"}, \"error_y\": {\"color\": \"#2a3f5f\"}, \"marker\": {\"line\": {\"color\": \"#E5ECF6\", \"width\": 0.5}}, \"type\": \"bar\"}], \"barpolar\": [{\"marker\": {\"line\": {\"color\": \"#E5ECF6\", \"width\": 0.5}}, \"type\": \"barpolar\"}], \"carpet\": [{\"aaxis\": {\"endlinecolor\": \"#2a3f5f\", \"gridcolor\": \"white\", \"linecolor\": \"white\", \"minorgridcolor\": \"white\", \"startlinecolor\": \"#2a3f5f\"}, \"baxis\": {\"endlinecolor\": \"#2a3f5f\", \"gridcolor\": \"white\", \"linecolor\": \"white\", \"minorgridcolor\": \"white\", \"startlinecolor\": \"#2a3f5f\"}, \"type\": \"carpet\"}], \"choropleth\": [{\"colorbar\": {\"outlinewidth\": 0, \"ticks\": \"\"}, \"type\": \"choropleth\"}], \"contour\": [{\"colorbar\": {\"outlinewidth\": 0, \"ticks\": \"\"}, \"colorscale\": [[0.0, \"#0d0887\"], [0.1111111111111111, \"#46039f\"], [0.2222222222222222, \"#7201a8\"], [0.3333333333333333, \"#9c179e\"], [0.4444444444444444, \"#bd3786\"], [0.5555555555555556, \"#d8576b\"], [0.6666666666666666, \"#ed7953\"], [0.7777777777777778, \"#fb9f3a\"], [0.8888888888888888, \"#fdca26\"], [1.0, \"#f0f921\"]], \"type\": \"contour\"}], \"contourcarpet\": [{\"colorbar\": {\"outlinewidth\": 0, \"ticks\": \"\"}, \"type\": \"contourcarpet\"}], \"heatmap\": [{\"colorbar\": {\"outlinewidth\": 0, \"ticks\": \"\"}, \"colorscale\": [[0.0, \"#0d0887\"], [0.1111111111111111, \"#46039f\"], [0.2222222222222222, \"#7201a8\"], [0.3333333333333333, \"#9c179e\"], [0.4444444444444444, \"#bd3786\"], [0.5555555555555556, \"#d8576b\"], [0.6666666666666666, \"#ed7953\"], [0.7777777777777778, \"#fb9f3a\"], [0.8888888888888888, \"#fdca26\"], [1.0, \"#f0f921\"]], \"type\": \"heatmap\"}], \"heatmapgl\": [{\"colorbar\": {\"outlinewidth\": 0, \"ticks\": \"\"}, \"colorscale\": [[0.0, \"#0d0887\"], [0.1111111111111111, \"#46039f\"], [0.2222222222222222, \"#7201a8\"], [0.3333333333333333, \"#9c179e\"], [0.4444444444444444, \"#bd3786\"], [0.5555555555555556, \"#d8576b\"], [0.6666666666666666, \"#ed7953\"], [0.7777777777777778, \"#fb9f3a\"], [0.8888888888888888, \"#fdca26\"], [1.0, \"#f0f921\"]], \"type\": \"heatmapgl\"}], \"histogram\": [{\"marker\": {\"colorbar\": {\"outlinewidth\": 0, \"ticks\": \"\"}}, \"type\": \"histogram\"}], \"histogram2d\": [{\"colorbar\": {\"outlinewidth\": 0, \"ticks\": \"\"}, \"colorscale\": [[0.0, \"#0d0887\"], [0.1111111111111111, \"#46039f\"], [0.2222222222222222, \"#7201a8\"], [0.3333333333333333, \"#9c179e\"], [0.4444444444444444, \"#bd3786\"], [0.5555555555555556, \"#d8576b\"], [0.6666666666666666, \"#ed7953\"], [0.7777777777777778, \"#fb9f3a\"], [0.8888888888888888, \"#fdca26\"], [1.0, \"#f0f921\"]], \"type\": \"histogram2d\"}], \"histogram2dcontour\": [{\"colorbar\": {\"outlinewidth\": 0, \"ticks\": \"\"}, \"colorscale\": [[0.0, \"#0d0887\"], [0.1111111111111111, \"#46039f\"], [0.2222222222222222, \"#7201a8\"], [0.3333333333333333, \"#9c179e\"], [0.4444444444444444, \"#bd3786\"], [0.5555555555555556, \"#d8576b\"], [0.6666666666666666, \"#ed7953\"], [0.7777777777777778, \"#fb9f3a\"], [0.8888888888888888, \"#fdca26\"], [1.0, \"#f0f921\"]], \"type\": \"histogram2dcontour\"}], \"mesh3d\": [{\"colorbar\": {\"outlinewidth\": 0, \"ticks\": \"\"}, \"type\": \"mesh3d\"}], \"parcoords\": [{\"line\": {\"colorbar\": {\"outlinewidth\": 0, \"ticks\": \"\"}}, \"type\": \"parcoords\"}], \"pie\": [{\"automargin\": true, \"type\": \"pie\"}], \"scatter\": [{\"marker\": {\"colorbar\": {\"outlinewidth\": 0, \"ticks\": \"\"}}, \"type\": \"scatter\"}], \"scatter3d\": [{\"line\": {\"colorbar\": {\"outlinewidth\": 0, \"ticks\": \"\"}}, \"marker\": {\"colorbar\": {\"outlinewidth\": 0, \"ticks\": \"\"}}, \"type\": \"scatter3d\"}], \"scattercarpet\": [{\"marker\": {\"colorbar\": {\"outlinewidth\": 0, \"ticks\": \"\"}}, \"type\": \"scattercarpet\"}], \"scattergeo\": [{\"marker\": {\"colorbar\": {\"outlinewidth\": 0, \"ticks\": \"\"}}, \"type\": \"scattergeo\"}], \"scattergl\": [{\"marker\": {\"colorbar\": {\"outlinewidth\": 0, \"ticks\": \"\"}}, \"type\": \"scattergl\"}], \"scattermapbox\": [{\"marker\": {\"colorbar\": {\"outlinewidth\": 0, \"ticks\": \"\"}}, \"type\": \"scattermapbox\"}], \"scatterpolar\": [{\"marker\": {\"colorbar\": {\"outlinewidth\": 0, \"ticks\": \"\"}}, \"type\": \"scatterpolar\"}], \"scatterpolargl\": [{\"marker\": {\"colorbar\": {\"outlinewidth\": 0, \"ticks\": \"\"}}, \"type\": \"scatterpolargl\"}], \"scatterternary\": [{\"marker\": {\"colorbar\": {\"outlinewidth\": 0, \"ticks\": \"\"}}, \"type\": \"scatterternary\"}], \"surface\": [{\"colorbar\": {\"outlinewidth\": 0, \"ticks\": \"\"}, \"colorscale\": [[0.0, \"#0d0887\"], [0.1111111111111111, \"#46039f\"], [0.2222222222222222, \"#7201a8\"], [0.3333333333333333, \"#9c179e\"], [0.4444444444444444, \"#bd3786\"], [0.5555555555555556, \"#d8576b\"], [0.6666666666666666, \"#ed7953\"], [0.7777777777777778, \"#fb9f3a\"], [0.8888888888888888, \"#fdca26\"], [1.0, \"#f0f921\"]], \"type\": \"surface\"}], \"table\": [{\"cells\": {\"fill\": {\"color\": \"#EBF0F8\"}, \"line\": {\"color\": \"white\"}}, \"header\": {\"fill\": {\"color\": \"#C8D4E3\"}, \"line\": {\"color\": \"white\"}}, \"type\": \"table\"}]}, \"layout\": {\"annotationdefaults\": {\"arrowcolor\": \"#2a3f5f\", \"arrowhead\": 0, \"arrowwidth\": 1}, \"autotypenumbers\": \"strict\", \"coloraxis\": {\"colorbar\": {\"outlinewidth\": 0, \"ticks\": \"\"}}, \"colorscale\": {\"diverging\": [[0, \"#8e0152\"], [0.1, \"#c51b7d\"], [0.2, \"#de77ae\"], [0.3, \"#f1b6da\"], [0.4, \"#fde0ef\"], [0.5, \"#f7f7f7\"], [0.6, \"#e6f5d0\"], [0.7, \"#b8e186\"], [0.8, \"#7fbc41\"], [0.9, \"#4d9221\"], [1, \"#276419\"]], \"sequential\": [[0.0, \"#0d0887\"], [0.1111111111111111, \"#46039f\"], [0.2222222222222222, \"#7201a8\"], [0.3333333333333333, \"#9c179e\"], [0.4444444444444444, \"#bd3786\"], [0.5555555555555556, \"#d8576b\"], [0.6666666666666666, \"#ed7953\"], [0.7777777777777778, \"#fb9f3a\"], [0.8888888888888888, \"#fdca26\"], [1.0, \"#f0f921\"]], \"sequentialminus\": [[0.0, \"#0d0887\"], [0.1111111111111111, \"#46039f\"], [0.2222222222222222, \"#7201a8\"], [0.3333333333333333, \"#9c179e\"], [0.4444444444444444, \"#bd3786\"], [0.5555555555555556, \"#d8576b\"], [0.6666666666666666, \"#ed7953\"], [0.7777777777777778, \"#fb9f3a\"], [0.8888888888888888, \"#fdca26\"], [1.0, \"#f0f921\"]]}, \"colorway\": [\"#636efa\", \"#EF553B\", \"#00cc96\", \"#ab63fa\", \"#FFA15A\", \"#19d3f3\", \"#FF6692\", \"#B6E880\", \"#FF97FF\", \"#FECB52\"], \"font\": {\"color\": \"#2a3f5f\"}, \"geo\": {\"bgcolor\": \"white\", \"lakecolor\": \"white\", \"landcolor\": \"#E5ECF6\", \"showlakes\": true, \"showland\": true, \"subunitcolor\": \"white\"}, \"hoverlabel\": {\"align\": \"left\"}, \"hovermode\": \"closest\", \"mapbox\": {\"style\": \"light\"}, \"paper_bgcolor\": \"white\", \"plot_bgcolor\": \"#E5ECF6\", \"polar\": {\"angularaxis\": {\"gridcolor\": \"white\", \"linecolor\": \"white\", \"ticks\": \"\"}, \"bgcolor\": \"#E5ECF6\", \"radialaxis\": {\"gridcolor\": \"white\", \"linecolor\": \"white\", \"ticks\": \"\"}}, \"scene\": {\"xaxis\": {\"backgroundcolor\": \"#E5ECF6\", \"gridcolor\": \"white\", \"gridwidth\": 2, \"linecolor\": \"white\", \"showbackground\": true, \"ticks\": \"\", \"zerolinecolor\": \"white\"}, \"yaxis\": {\"backgroundcolor\": \"#E5ECF6\", \"gridcolor\": \"white\", \"gridwidth\": 2, \"linecolor\": \"white\", \"showbackground\": true, \"ticks\": \"\", \"zerolinecolor\": \"white\"}, \"zaxis\": {\"backgroundcolor\": \"#E5ECF6\", \"gridcolor\": \"white\", \"gridwidth\": 2, \"linecolor\": \"white\", \"showbackground\": true, \"ticks\": \"\", \"zerolinecolor\": \"white\"}}, \"shapedefaults\": {\"line\": {\"color\": \"#2a3f5f\"}}, \"ternary\": {\"aaxis\": {\"gridcolor\": \"white\", \"linecolor\": \"white\", \"ticks\": \"\"}, \"baxis\": {\"gridcolor\": \"white\", \"linecolor\": \"white\", \"ticks\": \"\"}, \"bgcolor\": \"#E5ECF6\", \"caxis\": {\"gridcolor\": \"white\", \"linecolor\": \"white\", \"ticks\": \"\"}}, \"title\": {\"x\": 0.05}, \"xaxis\": {\"automargin\": true, \"gridcolor\": \"white\", \"linecolor\": \"white\", \"ticks\": \"\", \"title\": {\"standoff\": 15}, \"zerolinecolor\": \"white\", \"zerolinewidth\": 2}, \"yaxis\": {\"automargin\": true, \"gridcolor\": \"white\", \"linecolor\": \"white\", \"ticks\": \"\", \"title\": {\"standoff\": 15}, \"zerolinecolor\": \"white\", \"zerolinewidth\": 2}}}, \"width\": 1200, \"xaxis\": {\"anchor\": \"y\", \"domain\": [0.0, 0.45]}, \"xaxis2\": {\"anchor\": \"y2\", \"domain\": [0.55, 1.0]}, \"xaxis3\": {\"anchor\": \"y3\", \"domain\": [0.0, 0.45]}, \"xaxis4\": {\"anchor\": \"y4\", \"domain\": [0.55, 1.0]}, \"yaxis\": {\"anchor\": \"x\", \"automargin\": true, \"domain\": [0.625, 1.0]}, \"yaxis2\": {\"anchor\": \"x2\", \"automargin\": true, \"domain\": [0.625, 1.0]}, \"yaxis3\": {\"anchor\": \"x3\", \"automargin\": true, \"domain\": [0.0, 0.375]}, \"yaxis4\": {\"anchor\": \"x4\", \"automargin\": true, \"domain\": [0.0, 0.375]}},                        {\"responsive\": true}                    ).then(function(){\n",
       "                            \n",
       "var gd = document.getElementById('365c248e-6685-4b6e-8b06-2cc7f38e3f4c');\n",
       "var x = new MutationObserver(function (mutations, observer) {{\n",
       "        var display = window.getComputedStyle(gd).display;\n",
       "        if (!display || display === 'none') {{\n",
       "            console.log([gd, 'removed!']);\n",
       "            Plotly.purge(gd);\n",
       "            observer.disconnect();\n",
       "        }}\n",
       "}});\n",
       "\n",
       "// Listen for the removal of the full notebook cells\n",
       "var notebookContainer = gd.closest('#notebook-container');\n",
       "if (notebookContainer) {{\n",
       "    x.observe(notebookContainer, {childList: true});\n",
       "}}\n",
       "\n",
       "// Listen for the clearing of the current output cell\n",
       "var outputEl = gd.closest('.output');\n",
       "if (outputEl) {{\n",
       "    x.observe(outputEl, {childList: true});\n",
       "}}\n",
       "\n",
       "                        })                };                });            </script>        </div>"
      ]
     },
     "metadata": {},
     "output_type": "display_data"
    }
   ],
   "source": [
    "# 'count_cancer'\n",
    "df2=df_dat_them[['Annee','count_cancer']]\n",
    "df2= df2[df2['count_cancer'] >1]\n",
    "df2 = df2.groupby(['Annee']).count_cancer.sum().reset_index()\n",
    "from plotly.subplots import make_subplots\n",
    "\n",
    "fig2 = make_subplots(rows=2, cols=2, subplot_titles=['Plot 1','p2','mots clés', 'articles cancer'])\n",
    "fig2.add_scatter(x=df2['Annee'], y= df2['count_cancer'], row=1, col=1)\n",
    "fig2.add_scatter(x=df2['Annee'], y= df2['count_cancer'], row=1, col=2)\n",
    "fig2.add_bar(x=list(d_key2.keys()), y=list(d_key2.values()), row=2,col=1)\n",
    "fig2.add_bar(x=df2['Annee'], y=df2['count_cancer'], row=2,col=2)\n",
    "fig2.update_yaxes(automargin=True)\n",
    "fig2['layout'].update(width=1200, height=800, autosize=True)\n",
    "fig2"
   ]
  },
  {
   "cell_type": "code",
   "execution_count": 86,
   "metadata": {},
   "outputs": [
    {
     "data": {
      "application/vnd.plotly.v1+json": {
       "config": {
        "plotlyServerURL": "https://plot.ly"
       },
       "data": [
        {
         "type": "scatter",
         "x": [
          1999,
          2004,
          2006,
          2007,
          2008,
          2009,
          2010,
          2011,
          2012,
          2013,
          2014,
          2015,
          2016,
          2017,
          2018,
          2019,
          2020
         ],
         "xaxis": "x",
         "y": [
          4,
          6,
          9,
          13,
          34,
          16,
          19,
          13,
          10,
          23,
          20,
          45,
          14,
          29,
          22,
          31,
          14
         ],
         "yaxis": "y"
        },
        {
         "type": "scatter",
         "x": [
          1999,
          2004,
          2006,
          2007,
          2008,
          2009,
          2010,
          2011,
          2012,
          2013,
          2014,
          2015,
          2016,
          2017,
          2018,
          2019,
          2020
         ],
         "xaxis": "x2",
         "y": [
          4,
          6,
          9,
          13,
          34,
          16,
          19,
          13,
          10,
          23,
          20,
          45,
          14,
          29,
          22,
          31,
          14
         ],
         "yaxis": "y2"
        },
        {
         "type": "bar",
         "x": [
          "studies",
          "genetic",
          "gyrus",
          "atrophy",
          "resonance",
          "therapy",
          "n",
          "systems",
          "assisted",
          "expression",
          "cytology",
          "gamma",
          "disorders",
          "single",
          "diagnosis",
          "disorder",
          "detection",
          "reaction",
          "statistical",
          "occipital",
          "hippocampus",
          "mood",
          "language",
          "attention",
          "allocation",
          "siblings",
          "multivariate",
          "nerve",
          "proteins",
          "callosum",
          "neuroimaging",
          "association",
          "cohort",
          "thalamic",
          "instrumentation",
          "amino",
          "adolescent",
          "nervous",
          "blind",
          "methyl",
          "loci",
          "wide",
          "short",
          "matter",
          "methylation",
          "principal",
          "growth",
          "ultrastructure",
          "regulation",
          "perceptual",
          "topic",
          "reproducibility",
          "autistic",
          "sensitivity",
          "metabolism",
          "case",
          "use",
          "development",
          "fear",
          "pathology",
          "pattern",
          "method",
          "nicotinic"
         ],
         "xaxis": "x3",
         "y": [
          200,
          201,
          202,
          203,
          204,
          205,
          206,
          207,
          208,
          209,
          210,
          211,
          212,
          213,
          214,
          215,
          216,
          217,
          218,
          219,
          220,
          221,
          222,
          223,
          224,
          225,
          226,
          227,
          228,
          229,
          230,
          231,
          232,
          233,
          234,
          235,
          236,
          237,
          238,
          239,
          240,
          241,
          242,
          243,
          244,
          245,
          246,
          247,
          248,
          249,
          250,
          251,
          252,
          253,
          254,
          255,
          256,
          257,
          258,
          259,
          260,
          261,
          262
         ],
         "yaxis": "y3"
        },
        {
         "type": "bar",
         "x": [
          1999,
          2004,
          2006,
          2007,
          2008,
          2009,
          2010,
          2011,
          2012,
          2013,
          2014,
          2015,
          2016,
          2017,
          2018,
          2019,
          2020
         ],
         "xaxis": "x4",
         "y": [
          4,
          6,
          9,
          13,
          34,
          16,
          19,
          13,
          10,
          23,
          20,
          45,
          14,
          29,
          22,
          31,
          14
         ],
         "yaxis": "y4"
        }
       ],
       "layout": {
        "annotations": [
         {
          "font": {
           "size": 16
          },
          "showarrow": false,
          "text": "Plot 1",
          "x": 0.225,
          "xanchor": "center",
          "xref": "paper",
          "y": 1,
          "yanchor": "bottom",
          "yref": "paper"
         },
         {
          "font": {
           "size": 16
          },
          "showarrow": false,
          "text": "articles schizophrenia",
          "x": 0.775,
          "xanchor": "center",
          "xref": "paper",
          "y": 1,
          "yanchor": "bottom",
          "yref": "paper"
         },
         {
          "font": {
           "size": 16
          },
          "showarrow": false,
          "text": "mots clés",
          "x": 0.225,
          "xanchor": "center",
          "xref": "paper",
          "y": 0.375,
          "yanchor": "bottom",
          "yref": "paper"
         },
         {
          "font": {
           "size": 16
          },
          "showarrow": false,
          "text": "articles schizophrenia",
          "x": 0.775,
          "xanchor": "center",
          "xref": "paper",
          "y": 0.375,
          "yanchor": "bottom",
          "yref": "paper"
         }
        ],
        "autosize": true,
        "height": 800,
        "template": {
         "data": {
          "bar": [
           {
            "error_x": {
             "color": "#2a3f5f"
            },
            "error_y": {
             "color": "#2a3f5f"
            },
            "marker": {
             "line": {
              "color": "#E5ECF6",
              "width": 0.5
             }
            },
            "type": "bar"
           }
          ],
          "barpolar": [
           {
            "marker": {
             "line": {
              "color": "#E5ECF6",
              "width": 0.5
             }
            },
            "type": "barpolar"
           }
          ],
          "carpet": [
           {
            "aaxis": {
             "endlinecolor": "#2a3f5f",
             "gridcolor": "white",
             "linecolor": "white",
             "minorgridcolor": "white",
             "startlinecolor": "#2a3f5f"
            },
            "baxis": {
             "endlinecolor": "#2a3f5f",
             "gridcolor": "white",
             "linecolor": "white",
             "minorgridcolor": "white",
             "startlinecolor": "#2a3f5f"
            },
            "type": "carpet"
           }
          ],
          "choropleth": [
           {
            "colorbar": {
             "outlinewidth": 0,
             "ticks": ""
            },
            "type": "choropleth"
           }
          ],
          "contour": [
           {
            "colorbar": {
             "outlinewidth": 0,
             "ticks": ""
            },
            "colorscale": [
             [
              0,
              "#0d0887"
             ],
             [
              0.1111111111111111,
              "#46039f"
             ],
             [
              0.2222222222222222,
              "#7201a8"
             ],
             [
              0.3333333333333333,
              "#9c179e"
             ],
             [
              0.4444444444444444,
              "#bd3786"
             ],
             [
              0.5555555555555556,
              "#d8576b"
             ],
             [
              0.6666666666666666,
              "#ed7953"
             ],
             [
              0.7777777777777778,
              "#fb9f3a"
             ],
             [
              0.8888888888888888,
              "#fdca26"
             ],
             [
              1,
              "#f0f921"
             ]
            ],
            "type": "contour"
           }
          ],
          "contourcarpet": [
           {
            "colorbar": {
             "outlinewidth": 0,
             "ticks": ""
            },
            "type": "contourcarpet"
           }
          ],
          "heatmap": [
           {
            "colorbar": {
             "outlinewidth": 0,
             "ticks": ""
            },
            "colorscale": [
             [
              0,
              "#0d0887"
             ],
             [
              0.1111111111111111,
              "#46039f"
             ],
             [
              0.2222222222222222,
              "#7201a8"
             ],
             [
              0.3333333333333333,
              "#9c179e"
             ],
             [
              0.4444444444444444,
              "#bd3786"
             ],
             [
              0.5555555555555556,
              "#d8576b"
             ],
             [
              0.6666666666666666,
              "#ed7953"
             ],
             [
              0.7777777777777778,
              "#fb9f3a"
             ],
             [
              0.8888888888888888,
              "#fdca26"
             ],
             [
              1,
              "#f0f921"
             ]
            ],
            "type": "heatmap"
           }
          ],
          "heatmapgl": [
           {
            "colorbar": {
             "outlinewidth": 0,
             "ticks": ""
            },
            "colorscale": [
             [
              0,
              "#0d0887"
             ],
             [
              0.1111111111111111,
              "#46039f"
             ],
             [
              0.2222222222222222,
              "#7201a8"
             ],
             [
              0.3333333333333333,
              "#9c179e"
             ],
             [
              0.4444444444444444,
              "#bd3786"
             ],
             [
              0.5555555555555556,
              "#d8576b"
             ],
             [
              0.6666666666666666,
              "#ed7953"
             ],
             [
              0.7777777777777778,
              "#fb9f3a"
             ],
             [
              0.8888888888888888,
              "#fdca26"
             ],
             [
              1,
              "#f0f921"
             ]
            ],
            "type": "heatmapgl"
           }
          ],
          "histogram": [
           {
            "marker": {
             "colorbar": {
              "outlinewidth": 0,
              "ticks": ""
             }
            },
            "type": "histogram"
           }
          ],
          "histogram2d": [
           {
            "colorbar": {
             "outlinewidth": 0,
             "ticks": ""
            },
            "colorscale": [
             [
              0,
              "#0d0887"
             ],
             [
              0.1111111111111111,
              "#46039f"
             ],
             [
              0.2222222222222222,
              "#7201a8"
             ],
             [
              0.3333333333333333,
              "#9c179e"
             ],
             [
              0.4444444444444444,
              "#bd3786"
             ],
             [
              0.5555555555555556,
              "#d8576b"
             ],
             [
              0.6666666666666666,
              "#ed7953"
             ],
             [
              0.7777777777777778,
              "#fb9f3a"
             ],
             [
              0.8888888888888888,
              "#fdca26"
             ],
             [
              1,
              "#f0f921"
             ]
            ],
            "type": "histogram2d"
           }
          ],
          "histogram2dcontour": [
           {
            "colorbar": {
             "outlinewidth": 0,
             "ticks": ""
            },
            "colorscale": [
             [
              0,
              "#0d0887"
             ],
             [
              0.1111111111111111,
              "#46039f"
             ],
             [
              0.2222222222222222,
              "#7201a8"
             ],
             [
              0.3333333333333333,
              "#9c179e"
             ],
             [
              0.4444444444444444,
              "#bd3786"
             ],
             [
              0.5555555555555556,
              "#d8576b"
             ],
             [
              0.6666666666666666,
              "#ed7953"
             ],
             [
              0.7777777777777778,
              "#fb9f3a"
             ],
             [
              0.8888888888888888,
              "#fdca26"
             ],
             [
              1,
              "#f0f921"
             ]
            ],
            "type": "histogram2dcontour"
           }
          ],
          "mesh3d": [
           {
            "colorbar": {
             "outlinewidth": 0,
             "ticks": ""
            },
            "type": "mesh3d"
           }
          ],
          "parcoords": [
           {
            "line": {
             "colorbar": {
              "outlinewidth": 0,
              "ticks": ""
             }
            },
            "type": "parcoords"
           }
          ],
          "pie": [
           {
            "automargin": true,
            "type": "pie"
           }
          ],
          "scatter": [
           {
            "marker": {
             "colorbar": {
              "outlinewidth": 0,
              "ticks": ""
             }
            },
            "type": "scatter"
           }
          ],
          "scatter3d": [
           {
            "line": {
             "colorbar": {
              "outlinewidth": 0,
              "ticks": ""
             }
            },
            "marker": {
             "colorbar": {
              "outlinewidth": 0,
              "ticks": ""
             }
            },
            "type": "scatter3d"
           }
          ],
          "scattercarpet": [
           {
            "marker": {
             "colorbar": {
              "outlinewidth": 0,
              "ticks": ""
             }
            },
            "type": "scattercarpet"
           }
          ],
          "scattergeo": [
           {
            "marker": {
             "colorbar": {
              "outlinewidth": 0,
              "ticks": ""
             }
            },
            "type": "scattergeo"
           }
          ],
          "scattergl": [
           {
            "marker": {
             "colorbar": {
              "outlinewidth": 0,
              "ticks": ""
             }
            },
            "type": "scattergl"
           }
          ],
          "scattermapbox": [
           {
            "marker": {
             "colorbar": {
              "outlinewidth": 0,
              "ticks": ""
             }
            },
            "type": "scattermapbox"
           }
          ],
          "scatterpolar": [
           {
            "marker": {
             "colorbar": {
              "outlinewidth": 0,
              "ticks": ""
             }
            },
            "type": "scatterpolar"
           }
          ],
          "scatterpolargl": [
           {
            "marker": {
             "colorbar": {
              "outlinewidth": 0,
              "ticks": ""
             }
            },
            "type": "scatterpolargl"
           }
          ],
          "scatterternary": [
           {
            "marker": {
             "colorbar": {
              "outlinewidth": 0,
              "ticks": ""
             }
            },
            "type": "scatterternary"
           }
          ],
          "surface": [
           {
            "colorbar": {
             "outlinewidth": 0,
             "ticks": ""
            },
            "colorscale": [
             [
              0,
              "#0d0887"
             ],
             [
              0.1111111111111111,
              "#46039f"
             ],
             [
              0.2222222222222222,
              "#7201a8"
             ],
             [
              0.3333333333333333,
              "#9c179e"
             ],
             [
              0.4444444444444444,
              "#bd3786"
             ],
             [
              0.5555555555555556,
              "#d8576b"
             ],
             [
              0.6666666666666666,
              "#ed7953"
             ],
             [
              0.7777777777777778,
              "#fb9f3a"
             ],
             [
              0.8888888888888888,
              "#fdca26"
             ],
             [
              1,
              "#f0f921"
             ]
            ],
            "type": "surface"
           }
          ],
          "table": [
           {
            "cells": {
             "fill": {
              "color": "#EBF0F8"
             },
             "line": {
              "color": "white"
             }
            },
            "header": {
             "fill": {
              "color": "#C8D4E3"
             },
             "line": {
              "color": "white"
             }
            },
            "type": "table"
           }
          ]
         },
         "layout": {
          "annotationdefaults": {
           "arrowcolor": "#2a3f5f",
           "arrowhead": 0,
           "arrowwidth": 1
          },
          "autotypenumbers": "strict",
          "coloraxis": {
           "colorbar": {
            "outlinewidth": 0,
            "ticks": ""
           }
          },
          "colorscale": {
           "diverging": [
            [
             0,
             "#8e0152"
            ],
            [
             0.1,
             "#c51b7d"
            ],
            [
             0.2,
             "#de77ae"
            ],
            [
             0.3,
             "#f1b6da"
            ],
            [
             0.4,
             "#fde0ef"
            ],
            [
             0.5,
             "#f7f7f7"
            ],
            [
             0.6,
             "#e6f5d0"
            ],
            [
             0.7,
             "#b8e186"
            ],
            [
             0.8,
             "#7fbc41"
            ],
            [
             0.9,
             "#4d9221"
            ],
            [
             1,
             "#276419"
            ]
           ],
           "sequential": [
            [
             0,
             "#0d0887"
            ],
            [
             0.1111111111111111,
             "#46039f"
            ],
            [
             0.2222222222222222,
             "#7201a8"
            ],
            [
             0.3333333333333333,
             "#9c179e"
            ],
            [
             0.4444444444444444,
             "#bd3786"
            ],
            [
             0.5555555555555556,
             "#d8576b"
            ],
            [
             0.6666666666666666,
             "#ed7953"
            ],
            [
             0.7777777777777778,
             "#fb9f3a"
            ],
            [
             0.8888888888888888,
             "#fdca26"
            ],
            [
             1,
             "#f0f921"
            ]
           ],
           "sequentialminus": [
            [
             0,
             "#0d0887"
            ],
            [
             0.1111111111111111,
             "#46039f"
            ],
            [
             0.2222222222222222,
             "#7201a8"
            ],
            [
             0.3333333333333333,
             "#9c179e"
            ],
            [
             0.4444444444444444,
             "#bd3786"
            ],
            [
             0.5555555555555556,
             "#d8576b"
            ],
            [
             0.6666666666666666,
             "#ed7953"
            ],
            [
             0.7777777777777778,
             "#fb9f3a"
            ],
            [
             0.8888888888888888,
             "#fdca26"
            ],
            [
             1,
             "#f0f921"
            ]
           ]
          },
          "colorway": [
           "#636efa",
           "#EF553B",
           "#00cc96",
           "#ab63fa",
           "#FFA15A",
           "#19d3f3",
           "#FF6692",
           "#B6E880",
           "#FF97FF",
           "#FECB52"
          ],
          "font": {
           "color": "#2a3f5f"
          },
          "geo": {
           "bgcolor": "white",
           "lakecolor": "white",
           "landcolor": "#E5ECF6",
           "showlakes": true,
           "showland": true,
           "subunitcolor": "white"
          },
          "hoverlabel": {
           "align": "left"
          },
          "hovermode": "closest",
          "mapbox": {
           "style": "light"
          },
          "paper_bgcolor": "white",
          "plot_bgcolor": "#E5ECF6",
          "polar": {
           "angularaxis": {
            "gridcolor": "white",
            "linecolor": "white",
            "ticks": ""
           },
           "bgcolor": "#E5ECF6",
           "radialaxis": {
            "gridcolor": "white",
            "linecolor": "white",
            "ticks": ""
           }
          },
          "scene": {
           "xaxis": {
            "backgroundcolor": "#E5ECF6",
            "gridcolor": "white",
            "gridwidth": 2,
            "linecolor": "white",
            "showbackground": true,
            "ticks": "",
            "zerolinecolor": "white"
           },
           "yaxis": {
            "backgroundcolor": "#E5ECF6",
            "gridcolor": "white",
            "gridwidth": 2,
            "linecolor": "white",
            "showbackground": true,
            "ticks": "",
            "zerolinecolor": "white"
           },
           "zaxis": {
            "backgroundcolor": "#E5ECF6",
            "gridcolor": "white",
            "gridwidth": 2,
            "linecolor": "white",
            "showbackground": true,
            "ticks": "",
            "zerolinecolor": "white"
           }
          },
          "shapedefaults": {
           "line": {
            "color": "#2a3f5f"
           }
          },
          "ternary": {
           "aaxis": {
            "gridcolor": "white",
            "linecolor": "white",
            "ticks": ""
           },
           "baxis": {
            "gridcolor": "white",
            "linecolor": "white",
            "ticks": ""
           },
           "bgcolor": "#E5ECF6",
           "caxis": {
            "gridcolor": "white",
            "linecolor": "white",
            "ticks": ""
           }
          },
          "title": {
           "x": 0.05
          },
          "xaxis": {
           "automargin": true,
           "gridcolor": "white",
           "linecolor": "white",
           "ticks": "",
           "title": {
            "standoff": 15
           },
           "zerolinecolor": "white",
           "zerolinewidth": 2
          },
          "yaxis": {
           "automargin": true,
           "gridcolor": "white",
           "linecolor": "white",
           "ticks": "",
           "title": {
            "standoff": 15
           },
           "zerolinecolor": "white",
           "zerolinewidth": 2
          }
         }
        },
        "width": 1200,
        "xaxis": {
         "anchor": "y",
         "domain": [
          0,
          0.45
         ]
        },
        "xaxis2": {
         "anchor": "y2",
         "domain": [
          0.55,
          1
         ]
        },
        "xaxis3": {
         "anchor": "y3",
         "domain": [
          0,
          0.45
         ]
        },
        "xaxis4": {
         "anchor": "y4",
         "domain": [
          0.55,
          1
         ]
        },
        "yaxis": {
         "anchor": "x",
         "automargin": true,
         "domain": [
          0.625,
          1
         ]
        },
        "yaxis2": {
         "anchor": "x2",
         "automargin": true,
         "domain": [
          0.625,
          1
         ]
        },
        "yaxis3": {
         "anchor": "x3",
         "automargin": true,
         "domain": [
          0,
          0.375
         ]
        },
        "yaxis4": {
         "anchor": "x4",
         "automargin": true,
         "domain": [
          0,
          0.375
         ]
        }
       }
      },
      "text/html": [
       "<div>                            <div id=\"90bbcd23-459c-46b5-ab37-1ae5e880509e\" class=\"plotly-graph-div\" style=\"height:800px; width:1200px;\"></div>            <script type=\"text/javascript\">                require([\"plotly\"], function(Plotly) {                    window.PLOTLYENV=window.PLOTLYENV || {};                                    if (document.getElementById(\"90bbcd23-459c-46b5-ab37-1ae5e880509e\")) {                    Plotly.newPlot(                        \"90bbcd23-459c-46b5-ab37-1ae5e880509e\",                        [{\"type\": \"scatter\", \"x\": [1999, 2004, 2006, 2007, 2008, 2009, 2010, 2011, 2012, 2013, 2014, 2015, 2016, 2017, 2018, 2019, 2020], \"xaxis\": \"x\", \"y\": [4.0, 6.0, 9.0, 13.0, 34.0, 16.0, 19.0, 13.0, 10.0, 23.0, 20.0, 45.0, 14.0, 29.0, 22.0, 31.0, 14.0], \"yaxis\": \"y\"}, {\"type\": \"scatter\", \"x\": [1999, 2004, 2006, 2007, 2008, 2009, 2010, 2011, 2012, 2013, 2014, 2015, 2016, 2017, 2018, 2019, 2020], \"xaxis\": \"x2\", \"y\": [4.0, 6.0, 9.0, 13.0, 34.0, 16.0, 19.0, 13.0, 10.0, 23.0, 20.0, 45.0, 14.0, 29.0, 22.0, 31.0, 14.0], \"yaxis\": \"y2\"}, {\"type\": \"bar\", \"x\": [\"studies\", \"genetic\", \"gyrus\", \"atrophy\", \"resonance\", \"therapy\", \"n\", \"systems\", \"assisted\", \"expression\", \"cytology\", \"gamma\", \"disorders\", \"single\", \"diagnosis\", \"disorder\", \"detection\", \"reaction\", \"statistical\", \"occipital\", \"hippocampus\", \"mood\", \"language\", \"attention\", \"allocation\", \"siblings\", \"multivariate\", \"nerve\", \"proteins\", \"callosum\", \"neuroimaging\", \"association\", \"cohort\", \"thalamic\", \"instrumentation\", \"amino\", \"adolescent\", \"nervous\", \"blind\", \"methyl\", \"loci\", \"wide\", \"short\", \"matter\", \"methylation\", \"principal\", \"growth\", \"ultrastructure\", \"regulation\", \"perceptual\", \"topic\", \"reproducibility\", \"autistic\", \"sensitivity\", \"metabolism\", \"case\", \"use\", \"development\", \"fear\", \"pathology\", \"pattern\", \"method\", \"nicotinic\"], \"xaxis\": \"x3\", \"y\": [200, 201, 202, 203, 204, 205, 206, 207, 208, 209, 210, 211, 212, 213, 214, 215, 216, 217, 218, 219, 220, 221, 222, 223, 224, 225, 226, 227, 228, 229, 230, 231, 232, 233, 234, 235, 236, 237, 238, 239, 240, 241, 242, 243, 244, 245, 246, 247, 248, 249, 250, 251, 252, 253, 254, 255, 256, 257, 258, 259, 260, 261, 262], \"yaxis\": \"y3\"}, {\"type\": \"bar\", \"x\": [1999, 2004, 2006, 2007, 2008, 2009, 2010, 2011, 2012, 2013, 2014, 2015, 2016, 2017, 2018, 2019, 2020], \"xaxis\": \"x4\", \"y\": [4.0, 6.0, 9.0, 13.0, 34.0, 16.0, 19.0, 13.0, 10.0, 23.0, 20.0, 45.0, 14.0, 29.0, 22.0, 31.0, 14.0], \"yaxis\": \"y4\"}],                        {\"annotations\": [{\"font\": {\"size\": 16}, \"showarrow\": false, \"text\": \"Plot 1\", \"x\": 0.225, \"xanchor\": \"center\", \"xref\": \"paper\", \"y\": 1.0, \"yanchor\": \"bottom\", \"yref\": \"paper\"}, {\"font\": {\"size\": 16}, \"showarrow\": false, \"text\": \"articles schizophrenia\", \"x\": 0.775, \"xanchor\": \"center\", \"xref\": \"paper\", \"y\": 1.0, \"yanchor\": \"bottom\", \"yref\": \"paper\"}, {\"font\": {\"size\": 16}, \"showarrow\": false, \"text\": \"mots cl\\u00e9s\", \"x\": 0.225, \"xanchor\": \"center\", \"xref\": \"paper\", \"y\": 0.375, \"yanchor\": \"bottom\", \"yref\": \"paper\"}, {\"font\": {\"size\": 16}, \"showarrow\": false, \"text\": \"articles schizophrenia\", \"x\": 0.775, \"xanchor\": \"center\", \"xref\": \"paper\", \"y\": 0.375, \"yanchor\": \"bottom\", \"yref\": \"paper\"}], \"autosize\": true, \"height\": 800, \"template\": {\"data\": {\"bar\": [{\"error_x\": {\"color\": \"#2a3f5f\"}, \"error_y\": {\"color\": \"#2a3f5f\"}, \"marker\": {\"line\": {\"color\": \"#E5ECF6\", \"width\": 0.5}}, \"type\": \"bar\"}], \"barpolar\": [{\"marker\": {\"line\": {\"color\": \"#E5ECF6\", \"width\": 0.5}}, \"type\": \"barpolar\"}], \"carpet\": [{\"aaxis\": {\"endlinecolor\": \"#2a3f5f\", \"gridcolor\": \"white\", \"linecolor\": \"white\", \"minorgridcolor\": \"white\", \"startlinecolor\": \"#2a3f5f\"}, \"baxis\": {\"endlinecolor\": \"#2a3f5f\", \"gridcolor\": \"white\", \"linecolor\": \"white\", \"minorgridcolor\": \"white\", \"startlinecolor\": \"#2a3f5f\"}, \"type\": \"carpet\"}], \"choropleth\": [{\"colorbar\": {\"outlinewidth\": 0, \"ticks\": \"\"}, \"type\": \"choropleth\"}], \"contour\": [{\"colorbar\": {\"outlinewidth\": 0, \"ticks\": \"\"}, \"colorscale\": [[0.0, \"#0d0887\"], [0.1111111111111111, \"#46039f\"], [0.2222222222222222, \"#7201a8\"], [0.3333333333333333, \"#9c179e\"], [0.4444444444444444, \"#bd3786\"], [0.5555555555555556, \"#d8576b\"], [0.6666666666666666, \"#ed7953\"], [0.7777777777777778, \"#fb9f3a\"], [0.8888888888888888, \"#fdca26\"], [1.0, \"#f0f921\"]], \"type\": \"contour\"}], \"contourcarpet\": [{\"colorbar\": {\"outlinewidth\": 0, \"ticks\": \"\"}, \"type\": \"contourcarpet\"}], \"heatmap\": [{\"colorbar\": {\"outlinewidth\": 0, \"ticks\": \"\"}, \"colorscale\": [[0.0, \"#0d0887\"], [0.1111111111111111, \"#46039f\"], [0.2222222222222222, \"#7201a8\"], [0.3333333333333333, \"#9c179e\"], [0.4444444444444444, \"#bd3786\"], [0.5555555555555556, \"#d8576b\"], [0.6666666666666666, \"#ed7953\"], [0.7777777777777778, \"#fb9f3a\"], [0.8888888888888888, \"#fdca26\"], [1.0, \"#f0f921\"]], \"type\": \"heatmap\"}], \"heatmapgl\": [{\"colorbar\": {\"outlinewidth\": 0, \"ticks\": \"\"}, \"colorscale\": [[0.0, \"#0d0887\"], [0.1111111111111111, \"#46039f\"], [0.2222222222222222, \"#7201a8\"], [0.3333333333333333, \"#9c179e\"], [0.4444444444444444, \"#bd3786\"], [0.5555555555555556, \"#d8576b\"], [0.6666666666666666, \"#ed7953\"], [0.7777777777777778, \"#fb9f3a\"], [0.8888888888888888, \"#fdca26\"], [1.0, \"#f0f921\"]], \"type\": \"heatmapgl\"}], \"histogram\": [{\"marker\": {\"colorbar\": {\"outlinewidth\": 0, \"ticks\": \"\"}}, \"type\": \"histogram\"}], \"histogram2d\": [{\"colorbar\": {\"outlinewidth\": 0, \"ticks\": \"\"}, \"colorscale\": [[0.0, \"#0d0887\"], [0.1111111111111111, \"#46039f\"], [0.2222222222222222, \"#7201a8\"], [0.3333333333333333, \"#9c179e\"], [0.4444444444444444, \"#bd3786\"], [0.5555555555555556, \"#d8576b\"], [0.6666666666666666, \"#ed7953\"], [0.7777777777777778, \"#fb9f3a\"], [0.8888888888888888, \"#fdca26\"], [1.0, \"#f0f921\"]], \"type\": \"histogram2d\"}], \"histogram2dcontour\": [{\"colorbar\": {\"outlinewidth\": 0, \"ticks\": \"\"}, \"colorscale\": [[0.0, \"#0d0887\"], [0.1111111111111111, \"#46039f\"], [0.2222222222222222, \"#7201a8\"], [0.3333333333333333, \"#9c179e\"], [0.4444444444444444, \"#bd3786\"], [0.5555555555555556, \"#d8576b\"], [0.6666666666666666, \"#ed7953\"], [0.7777777777777778, \"#fb9f3a\"], [0.8888888888888888, \"#fdca26\"], [1.0, \"#f0f921\"]], \"type\": \"histogram2dcontour\"}], \"mesh3d\": [{\"colorbar\": {\"outlinewidth\": 0, \"ticks\": \"\"}, \"type\": \"mesh3d\"}], \"parcoords\": [{\"line\": {\"colorbar\": {\"outlinewidth\": 0, \"ticks\": \"\"}}, \"type\": \"parcoords\"}], \"pie\": [{\"automargin\": true, \"type\": \"pie\"}], \"scatter\": [{\"marker\": {\"colorbar\": {\"outlinewidth\": 0, \"ticks\": \"\"}}, \"type\": \"scatter\"}], \"scatter3d\": [{\"line\": {\"colorbar\": {\"outlinewidth\": 0, \"ticks\": \"\"}}, \"marker\": {\"colorbar\": {\"outlinewidth\": 0, \"ticks\": \"\"}}, \"type\": \"scatter3d\"}], \"scattercarpet\": [{\"marker\": {\"colorbar\": {\"outlinewidth\": 0, \"ticks\": \"\"}}, \"type\": \"scattercarpet\"}], \"scattergeo\": [{\"marker\": {\"colorbar\": {\"outlinewidth\": 0, \"ticks\": \"\"}}, \"type\": \"scattergeo\"}], \"scattergl\": [{\"marker\": {\"colorbar\": {\"outlinewidth\": 0, \"ticks\": \"\"}}, \"type\": \"scattergl\"}], \"scattermapbox\": [{\"marker\": {\"colorbar\": {\"outlinewidth\": 0, \"ticks\": \"\"}}, \"type\": \"scattermapbox\"}], \"scatterpolar\": [{\"marker\": {\"colorbar\": {\"outlinewidth\": 0, \"ticks\": \"\"}}, \"type\": \"scatterpolar\"}], \"scatterpolargl\": [{\"marker\": {\"colorbar\": {\"outlinewidth\": 0, \"ticks\": \"\"}}, \"type\": \"scatterpolargl\"}], \"scatterternary\": [{\"marker\": {\"colorbar\": {\"outlinewidth\": 0, \"ticks\": \"\"}}, \"type\": \"scatterternary\"}], \"surface\": [{\"colorbar\": {\"outlinewidth\": 0, \"ticks\": \"\"}, \"colorscale\": [[0.0, \"#0d0887\"], [0.1111111111111111, \"#46039f\"], [0.2222222222222222, \"#7201a8\"], [0.3333333333333333, \"#9c179e\"], [0.4444444444444444, \"#bd3786\"], [0.5555555555555556, \"#d8576b\"], [0.6666666666666666, \"#ed7953\"], [0.7777777777777778, \"#fb9f3a\"], [0.8888888888888888, \"#fdca26\"], [1.0, \"#f0f921\"]], \"type\": \"surface\"}], \"table\": [{\"cells\": {\"fill\": {\"color\": \"#EBF0F8\"}, \"line\": {\"color\": \"white\"}}, \"header\": {\"fill\": {\"color\": \"#C8D4E3\"}, \"line\": {\"color\": \"white\"}}, \"type\": \"table\"}]}, \"layout\": {\"annotationdefaults\": {\"arrowcolor\": \"#2a3f5f\", \"arrowhead\": 0, \"arrowwidth\": 1}, \"autotypenumbers\": \"strict\", \"coloraxis\": {\"colorbar\": {\"outlinewidth\": 0, \"ticks\": \"\"}}, \"colorscale\": {\"diverging\": [[0, \"#8e0152\"], [0.1, \"#c51b7d\"], [0.2, \"#de77ae\"], [0.3, \"#f1b6da\"], [0.4, \"#fde0ef\"], [0.5, \"#f7f7f7\"], [0.6, \"#e6f5d0\"], [0.7, \"#b8e186\"], [0.8, \"#7fbc41\"], [0.9, \"#4d9221\"], [1, \"#276419\"]], \"sequential\": [[0.0, \"#0d0887\"], [0.1111111111111111, \"#46039f\"], [0.2222222222222222, \"#7201a8\"], [0.3333333333333333, \"#9c179e\"], [0.4444444444444444, \"#bd3786\"], [0.5555555555555556, \"#d8576b\"], [0.6666666666666666, \"#ed7953\"], [0.7777777777777778, \"#fb9f3a\"], [0.8888888888888888, \"#fdca26\"], [1.0, \"#f0f921\"]], \"sequentialminus\": [[0.0, \"#0d0887\"], [0.1111111111111111, \"#46039f\"], [0.2222222222222222, \"#7201a8\"], [0.3333333333333333, \"#9c179e\"], [0.4444444444444444, \"#bd3786\"], [0.5555555555555556, \"#d8576b\"], [0.6666666666666666, \"#ed7953\"], [0.7777777777777778, \"#fb9f3a\"], [0.8888888888888888, \"#fdca26\"], [1.0, \"#f0f921\"]]}, \"colorway\": [\"#636efa\", \"#EF553B\", \"#00cc96\", \"#ab63fa\", \"#FFA15A\", \"#19d3f3\", \"#FF6692\", \"#B6E880\", \"#FF97FF\", \"#FECB52\"], \"font\": {\"color\": \"#2a3f5f\"}, \"geo\": {\"bgcolor\": \"white\", \"lakecolor\": \"white\", \"landcolor\": \"#E5ECF6\", \"showlakes\": true, \"showland\": true, \"subunitcolor\": \"white\"}, \"hoverlabel\": {\"align\": \"left\"}, \"hovermode\": \"closest\", \"mapbox\": {\"style\": \"light\"}, \"paper_bgcolor\": \"white\", \"plot_bgcolor\": \"#E5ECF6\", \"polar\": {\"angularaxis\": {\"gridcolor\": \"white\", \"linecolor\": \"white\", \"ticks\": \"\"}, \"bgcolor\": \"#E5ECF6\", \"radialaxis\": {\"gridcolor\": \"white\", \"linecolor\": \"white\", \"ticks\": \"\"}}, \"scene\": {\"xaxis\": {\"backgroundcolor\": \"#E5ECF6\", \"gridcolor\": \"white\", \"gridwidth\": 2, \"linecolor\": \"white\", \"showbackground\": true, \"ticks\": \"\", \"zerolinecolor\": \"white\"}, \"yaxis\": {\"backgroundcolor\": \"#E5ECF6\", \"gridcolor\": \"white\", \"gridwidth\": 2, \"linecolor\": \"white\", \"showbackground\": true, \"ticks\": \"\", \"zerolinecolor\": \"white\"}, \"zaxis\": {\"backgroundcolor\": \"#E5ECF6\", \"gridcolor\": \"white\", \"gridwidth\": 2, \"linecolor\": \"white\", \"showbackground\": true, \"ticks\": \"\", \"zerolinecolor\": \"white\"}}, \"shapedefaults\": {\"line\": {\"color\": \"#2a3f5f\"}}, \"ternary\": {\"aaxis\": {\"gridcolor\": \"white\", \"linecolor\": \"white\", \"ticks\": \"\"}, \"baxis\": {\"gridcolor\": \"white\", \"linecolor\": \"white\", \"ticks\": \"\"}, \"bgcolor\": \"#E5ECF6\", \"caxis\": {\"gridcolor\": \"white\", \"linecolor\": \"white\", \"ticks\": \"\"}}, \"title\": {\"x\": 0.05}, \"xaxis\": {\"automargin\": true, \"gridcolor\": \"white\", \"linecolor\": \"white\", \"ticks\": \"\", \"title\": {\"standoff\": 15}, \"zerolinecolor\": \"white\", \"zerolinewidth\": 2}, \"yaxis\": {\"automargin\": true, \"gridcolor\": \"white\", \"linecolor\": \"white\", \"ticks\": \"\", \"title\": {\"standoff\": 15}, \"zerolinecolor\": \"white\", \"zerolinewidth\": 2}}}, \"width\": 1200, \"xaxis\": {\"anchor\": \"y\", \"domain\": [0.0, 0.45]}, \"xaxis2\": {\"anchor\": \"y2\", \"domain\": [0.55, 1.0]}, \"xaxis3\": {\"anchor\": \"y3\", \"domain\": [0.0, 0.45]}, \"xaxis4\": {\"anchor\": \"y4\", \"domain\": [0.55, 1.0]}, \"yaxis\": {\"anchor\": \"x\", \"automargin\": true, \"domain\": [0.625, 1.0]}, \"yaxis2\": {\"anchor\": \"x2\", \"automargin\": true, \"domain\": [0.625, 1.0]}, \"yaxis3\": {\"anchor\": \"x3\", \"automargin\": true, \"domain\": [0.0, 0.375]}, \"yaxis4\": {\"anchor\": \"x4\", \"automargin\": true, \"domain\": [0.0, 0.375]}},                        {\"responsive\": true}                    ).then(function(){\n",
       "                            \n",
       "var gd = document.getElementById('90bbcd23-459c-46b5-ab37-1ae5e880509e');\n",
       "var x = new MutationObserver(function (mutations, observer) {{\n",
       "        var display = window.getComputedStyle(gd).display;\n",
       "        if (!display || display === 'none') {{\n",
       "            console.log([gd, 'removed!']);\n",
       "            Plotly.purge(gd);\n",
       "            observer.disconnect();\n",
       "        }}\n",
       "}});\n",
       "\n",
       "// Listen for the removal of the full notebook cells\n",
       "var notebookContainer = gd.closest('#notebook-container');\n",
       "if (notebookContainer) {{\n",
       "    x.observe(notebookContainer, {childList: true});\n",
       "}}\n",
       "\n",
       "// Listen for the clearing of the current output cell\n",
       "var outputEl = gd.closest('.output');\n",
       "if (outputEl) {{\n",
       "    x.observe(outputEl, {childList: true});\n",
       "}}\n",
       "\n",
       "                        })                };                });            </script>        </div>"
      ]
     },
     "metadata": {},
     "output_type": "display_data"
    }
   ],
   "source": [
    "# 'count_schizophrenia'\n",
    "df3=df_dat_them[['Annee','count_schizophrenia']]\n",
    "df3= df3[df3['count_schizophrenia'] >3]\n",
    "df3 = df3.groupby(['Annee']).count_schizophrenia.sum().reset_index()\n",
    "from plotly.subplots import make_subplots\n",
    "fig3 = make_subplots(rows=2, cols=2, subplot_titles=['Plot 1', 'articles schizophrenia','mots clés', 'articles schizophrenia'])\n",
    "fig3.add_scatter(x=df3['Annee'], y= df3['count_schizophrenia'], row=1, col=1)\n",
    "fig3.add_scatter(x=df3['Annee'], y= df3['count_schizophrenia'], row=1, col=2)\n",
    "# fig3.add_bar(x=df3['Annee'], y=df3['count_schizophrenia'], row=1,col=2)\n",
    "fig3.add_bar(x=list(d_key3.keys()), y=list(d_key3.values()), row=2,col=1)\n",
    "fig3.add_bar(x=df3['Annee'], y=df3['count_schizophrenia'], row=2,col=2)\n",
    "fig3.update_yaxes(automargin=True)\n",
    "fig3['layout'].update(width=1200, height=800, autosize=True)\n",
    "fig3"
   ]
  },
  {
   "cell_type": "code",
   "execution_count": 87,
   "metadata": {},
   "outputs": [
    {
     "data": {
      "application/vnd.plotly.v1+json": {
       "config": {
        "plotlyServerURL": "https://plot.ly"
       },
       "data": [
        {
         "type": "scatter",
         "x": [
          2019,
          2010,
          2016,
          2004,
          2018,
          2020,
          2021,
          2020,
          2019,
          2011,
          2019,
          2020,
          2021,
          2020,
          2007,
          2019,
          2020,
          2019,
          2020,
          2019,
          2007,
          2021,
          2001,
          2019,
          2012,
          2020,
          2018,
          2017,
          2019,
          2021,
          2020,
          2011,
          2007,
          2014,
          2017,
          2019,
          2021,
          2020,
          2021,
          2021,
          2012,
          2015,
          2015,
          2001,
          2009,
          2009,
          2011,
          2018,
          2017,
          2016,
          2013,
          2021,
          2017,
          2020,
          2014,
          2004,
          2019,
          2013,
          2018,
          2010,
          2013,
          2020,
          2017,
          2016,
          2020,
          2018,
          2019,
          2005,
          2020,
          2020,
          2013,
          2020,
          2015,
          2001,
          2021,
          2018,
          2015,
          2020,
          2019,
          2020,
          2020,
          2018,
          2021,
          2010,
          2020,
          2020,
          2020,
          2018,
          2011,
          2011,
          2021,
          2020,
          2017,
          2018,
          2017,
          2010,
          2017,
          2020,
          2016,
          2020,
          2017,
          2020,
          2020,
          2017,
          2020,
          2005,
          2018,
          2020,
          2019,
          2020,
          2008,
          2017,
          2009,
          2018,
          2017,
          2018,
          2020,
          2021,
          2021,
          2019,
          2015,
          2010,
          2014,
          2017,
          2020,
          2018,
          2008,
          2020,
          1982,
          2021,
          2020,
          2020,
          2019,
          2021,
          2020,
          2019,
          2021,
          2020,
          2020,
          2020,
          2020,
          2019,
          2020,
          2014,
          2021,
          2021,
          2016,
          2021,
          2021,
          2019,
          2018,
          2020,
          2020,
          2021,
          2021,
          2019,
          2021,
          2020,
          2021,
          2020,
          2020,
          2020,
          2017,
          2020,
          2019,
          2020,
          2020,
          2010,
          2021,
          2011,
          2016,
          2009,
          1996,
          2013,
          2018,
          2011,
          2020,
          2018,
          2020,
          2020,
          2020,
          2019,
          2020,
          2019,
          2016,
          2020,
          2018,
          2009,
          2019,
          2016,
          2020,
          2019,
          2006,
          2017,
          2020,
          2016,
          1997,
          2020,
          2020,
          2016,
          2018,
          2015,
          2016,
          2010,
          2020,
          2001,
          1996,
          2010,
          2010,
          2016,
          2021,
          2019,
          1996,
          2014,
          2019,
          2010,
          2020,
          2012,
          2013,
          2021,
          2012,
          2018,
          2015,
          2014,
          2015,
          2006,
          2018,
          2017,
          2015,
          2016,
          2021,
          2020,
          2000,
          2016,
          2012,
          2015,
          2019,
          2017,
          2017,
          2012,
          2011,
          2012,
          2018,
          2011,
          2008,
          2021,
          2013,
          2020,
          2014,
          2008,
          1990,
          2013,
          2002,
          2018,
          2013,
          2019,
          2004,
          2018,
          2020,
          2014,
          2019,
          2020,
          2020,
          2010,
          2019,
          2019,
          2020,
          2020,
          2019,
          2019,
          2020,
          2019,
          2019,
          2019,
          2018,
          2020,
          2018,
          2018,
          2018,
          2019,
          2017,
          2019,
          2019,
          2010,
          2017,
          2020,
          2006,
          2016,
          2017,
          2013,
          2009,
          2007,
          2019,
          2007,
          2017,
          2018,
          2019,
          2020,
          2015,
          2018,
          2013,
          2014,
          2013,
          2018,
          2015,
          2019,
          2018,
          2019,
          2009,
          2017,
          2014,
          2015,
          2019,
          2018,
          2019,
          2014,
          2018,
          2011,
          2019,
          2013,
          2014,
          2017,
          2016,
          2008,
          2019,
          2020,
          2020,
          2020,
          2019,
          2020,
          2017,
          2002,
          2009,
          2018,
          2006,
          2013,
          1998,
          2019,
          2020,
          2017,
          2015,
          2008,
          2015,
          2019,
          2014,
          2009,
          2018,
          2013,
          2020,
          2019,
          2018,
          2020,
          2011,
          2020,
          2019,
          2012,
          2020,
          2012
         ],
         "xaxis": "x",
         "y": [
          1,
          2,
          1,
          1,
          3,
          1,
          1,
          1,
          1,
          1,
          3,
          1,
          1,
          1,
          4,
          4,
          1,
          1,
          3,
          1,
          1,
          1,
          1,
          1,
          3,
          1,
          1,
          3,
          1,
          1,
          2,
          1,
          1,
          1,
          3,
          2,
          3,
          1,
          1,
          2,
          1,
          2,
          3,
          3,
          1,
          1,
          1,
          1,
          1,
          1,
          1,
          3,
          3,
          2,
          2,
          1,
          1,
          1,
          2,
          1,
          1,
          3,
          2,
          1,
          1,
          2,
          1,
          1,
          2,
          6,
          3,
          1,
          1,
          1,
          1,
          1,
          2,
          1,
          1,
          2,
          1,
          1,
          1,
          2,
          1,
          1,
          4,
          1,
          2,
          2,
          2,
          1,
          1,
          1,
          1,
          1,
          3,
          1,
          1,
          1,
          1,
          1,
          1,
          4,
          1,
          1,
          1,
          1,
          7,
          6,
          1,
          1,
          1,
          1,
          2,
          1,
          3,
          1,
          3,
          1,
          1,
          1,
          10,
          1,
          1,
          1,
          2,
          1,
          1,
          3,
          1,
          4,
          2,
          1,
          4,
          1,
          1,
          1,
          3,
          1,
          1,
          2,
          1,
          1,
          1,
          1,
          1,
          1,
          1,
          1,
          3,
          1,
          1,
          2,
          1,
          1,
          1,
          1,
          1,
          4,
          1,
          2,
          4,
          1,
          1,
          1,
          1,
          1,
          2,
          1,
          2,
          2,
          1,
          2,
          1,
          1,
          2,
          1,
          8,
          1,
          2,
          1,
          1,
          1,
          1,
          1,
          1,
          1,
          4,
          1,
          3,
          1,
          1,
          1,
          1,
          1,
          3,
          2,
          2,
          1,
          1,
          1,
          3,
          2,
          1,
          1,
          3,
          2,
          1,
          1,
          1,
          1,
          3,
          1,
          1,
          1,
          1,
          2,
          2,
          2,
          1,
          1,
          1,
          2,
          2,
          1,
          2,
          1,
          4,
          7,
          1,
          1,
          3,
          1,
          2,
          2,
          2,
          1,
          1,
          1,
          2,
          1,
          1,
          2,
          2,
          7,
          1,
          1,
          1,
          1,
          2,
          5,
          5,
          3,
          1,
          1,
          2,
          3,
          1,
          1,
          1,
          1,
          2,
          1,
          1,
          1,
          1,
          1,
          1,
          1,
          6,
          1,
          1,
          1,
          1,
          1,
          1,
          1,
          1,
          1,
          2,
          1,
          1,
          7,
          1,
          2,
          3,
          1,
          3,
          2,
          4,
          3,
          3,
          2,
          1,
          1,
          1,
          1,
          1,
          1,
          1,
          1,
          1,
          1,
          2,
          3,
          1,
          2,
          2,
          1,
          4,
          1,
          1,
          2,
          2,
          1,
          1,
          1,
          1,
          1,
          1,
          1,
          2,
          2,
          2,
          1,
          3,
          6,
          1,
          2,
          1,
          3,
          1,
          2,
          2,
          1,
          1,
          1,
          1,
          1,
          1,
          2,
          2,
          3,
          1,
          2,
          1,
          1,
          1,
          1,
          4,
          2,
          1,
          4,
          1,
          5,
          1,
          2
         ],
         "yaxis": "y"
        },
        {
         "type": "scatter",
         "x": [
          2019,
          2010,
          2016,
          2004,
          2018,
          2020,
          2021,
          2020,
          2019,
          2011,
          2019,
          2020,
          2021,
          2020,
          2007,
          2019,
          2020,
          2019,
          2020,
          2019,
          2007,
          2021,
          2001,
          2019,
          2012,
          2020,
          2018,
          2017,
          2019,
          2021,
          2020,
          2011,
          2007,
          2014,
          2017,
          2019,
          2021,
          2020,
          2021,
          2021,
          2012,
          2015,
          2015,
          2001,
          2009,
          2009,
          2011,
          2018,
          2017,
          2016,
          2013,
          2021,
          2017,
          2020,
          2014,
          2004,
          2019,
          2013,
          2018,
          2010,
          2013,
          2020,
          2017,
          2016,
          2020,
          2018,
          2019,
          2005,
          2020,
          2020,
          2013,
          2020,
          2015,
          2001,
          2021,
          2018,
          2015,
          2020,
          2019,
          2020,
          2020,
          2018,
          2021,
          2010,
          2020,
          2020,
          2020,
          2018,
          2011,
          2011,
          2021,
          2020,
          2017,
          2018,
          2017,
          2010,
          2017,
          2020,
          2016,
          2020,
          2017,
          2020,
          2020,
          2017,
          2020,
          2005,
          2018,
          2020,
          2019,
          2020,
          2008,
          2017,
          2009,
          2018,
          2017,
          2018,
          2020,
          2021,
          2021,
          2019,
          2015,
          2010,
          2014,
          2017,
          2020,
          2018,
          2008,
          2020,
          1982,
          2021,
          2020,
          2020,
          2019,
          2021,
          2020,
          2019,
          2021,
          2020,
          2020,
          2020,
          2020,
          2019,
          2020,
          2014,
          2021,
          2021,
          2016,
          2021,
          2021,
          2019,
          2018,
          2020,
          2020,
          2021,
          2021,
          2019,
          2021,
          2020,
          2021,
          2020,
          2020,
          2020,
          2017,
          2020,
          2019,
          2020,
          2020,
          2010,
          2021,
          2011,
          2016,
          2009,
          1996,
          2013,
          2018,
          2011,
          2020,
          2018,
          2020,
          2020,
          2020,
          2019,
          2020,
          2019,
          2016,
          2020,
          2018,
          2009,
          2019,
          2016,
          2020,
          2019,
          2006,
          2017,
          2020,
          2016,
          1997,
          2020,
          2020,
          2016,
          2018,
          2015,
          2016,
          2010,
          2020,
          2001,
          1996,
          2010,
          2010,
          2016,
          2021,
          2019,
          1996,
          2014,
          2019,
          2010,
          2020,
          2012,
          2013,
          2021,
          2012,
          2018,
          2015,
          2014,
          2015,
          2006,
          2018,
          2017,
          2015,
          2016,
          2021,
          2020,
          2000,
          2016,
          2012,
          2015,
          2019,
          2017,
          2017,
          2012,
          2011,
          2012,
          2018,
          2011,
          2008,
          2021,
          2013,
          2020,
          2014,
          2008,
          1990,
          2013,
          2002,
          2018,
          2013,
          2019,
          2004,
          2018,
          2020,
          2014,
          2019,
          2020,
          2020,
          2010,
          2019,
          2019,
          2020,
          2020,
          2019,
          2019,
          2020,
          2019,
          2019,
          2019,
          2018,
          2020,
          2018,
          2018,
          2018,
          2019,
          2017,
          2019,
          2019,
          2010,
          2017,
          2020,
          2006,
          2016,
          2017,
          2013,
          2009,
          2007,
          2019,
          2007,
          2017,
          2018,
          2019,
          2020,
          2015,
          2018,
          2013,
          2014,
          2013,
          2018,
          2015,
          2019,
          2018,
          2019,
          2009,
          2017,
          2014,
          2015,
          2019,
          2018,
          2019,
          2014,
          2018,
          2011,
          2019,
          2013,
          2014,
          2017,
          2016,
          2008,
          2019,
          2020,
          2020,
          2020,
          2019,
          2020,
          2017,
          2002,
          2009,
          2018,
          2006,
          2013,
          1998,
          2019,
          2020,
          2017,
          2015,
          2008,
          2015,
          2019,
          2014,
          2009,
          2018,
          2013,
          2020,
          2019,
          2018,
          2020,
          2011,
          2020,
          2019,
          2012,
          2020,
          2012
         ],
         "xaxis": "x2",
         "y": [
          1,
          2,
          1,
          1,
          3,
          1,
          1,
          1,
          1,
          1,
          3,
          1,
          1,
          1,
          4,
          4,
          1,
          1,
          3,
          1,
          1,
          1,
          1,
          1,
          3,
          1,
          1,
          3,
          1,
          1,
          2,
          1,
          1,
          1,
          3,
          2,
          3,
          1,
          1,
          2,
          1,
          2,
          3,
          3,
          1,
          1,
          1,
          1,
          1,
          1,
          1,
          3,
          3,
          2,
          2,
          1,
          1,
          1,
          2,
          1,
          1,
          3,
          2,
          1,
          1,
          2,
          1,
          1,
          2,
          6,
          3,
          1,
          1,
          1,
          1,
          1,
          2,
          1,
          1,
          2,
          1,
          1,
          1,
          2,
          1,
          1,
          4,
          1,
          2,
          2,
          2,
          1,
          1,
          1,
          1,
          1,
          3,
          1,
          1,
          1,
          1,
          1,
          1,
          4,
          1,
          1,
          1,
          1,
          7,
          6,
          1,
          1,
          1,
          1,
          2,
          1,
          3,
          1,
          3,
          1,
          1,
          1,
          10,
          1,
          1,
          1,
          2,
          1,
          1,
          3,
          1,
          4,
          2,
          1,
          4,
          1,
          1,
          1,
          3,
          1,
          1,
          2,
          1,
          1,
          1,
          1,
          1,
          1,
          1,
          1,
          3,
          1,
          1,
          2,
          1,
          1,
          1,
          1,
          1,
          4,
          1,
          2,
          4,
          1,
          1,
          1,
          1,
          1,
          2,
          1,
          2,
          2,
          1,
          2,
          1,
          1,
          2,
          1,
          8,
          1,
          2,
          1,
          1,
          1,
          1,
          1,
          1,
          1,
          4,
          1,
          3,
          1,
          1,
          1,
          1,
          1,
          3,
          2,
          2,
          1,
          1,
          1,
          3,
          2,
          1,
          1,
          3,
          2,
          1,
          1,
          1,
          1,
          3,
          1,
          1,
          1,
          1,
          2,
          2,
          2,
          1,
          1,
          1,
          2,
          2,
          1,
          2,
          1,
          4,
          7,
          1,
          1,
          3,
          1,
          2,
          2,
          2,
          1,
          1,
          1,
          2,
          1,
          1,
          2,
          2,
          7,
          1,
          1,
          1,
          1,
          2,
          5,
          5,
          3,
          1,
          1,
          2,
          3,
          1,
          1,
          1,
          1,
          2,
          1,
          1,
          1,
          1,
          1,
          1,
          1,
          6,
          1,
          1,
          1,
          1,
          1,
          1,
          1,
          1,
          1,
          2,
          1,
          1,
          7,
          1,
          2,
          3,
          1,
          3,
          2,
          4,
          3,
          3,
          2,
          1,
          1,
          1,
          1,
          1,
          1,
          1,
          1,
          1,
          1,
          2,
          3,
          1,
          2,
          2,
          1,
          4,
          1,
          1,
          2,
          2,
          1,
          1,
          1,
          1,
          1,
          1,
          1,
          2,
          2,
          2,
          1,
          3,
          6,
          1,
          2,
          1,
          3,
          1,
          2,
          2,
          1,
          1,
          1,
          1,
          1,
          1,
          2,
          2,
          3,
          1,
          2,
          1,
          1,
          1,
          1,
          4,
          2,
          1,
          4,
          1,
          5,
          1,
          2
         ],
         "yaxis": "y2"
        },
        {
         "type": "bar",
         "x": [
          "sleep",
          "wave",
          "retinoscopy",
          "telemedicine",
          "design",
          "risk",
          "processing",
          "evidence",
          "adverse",
          "trends",
          "ophthalmology",
          "in",
          "surveys",
          "mortality",
          "national",
          "analysis",
          "fluorescein",
          "therapy",
          "n",
          "a",
          "hypoglycemia",
          "disorders",
          "repressor",
          "liver",
          "depressive",
          "diet",
          "hemoglobin",
          "antihypertensive",
          "diabetic",
          "mice",
          "roc",
          "incidence",
          "biomedical",
          "schedule",
          "assessment",
          "adenoma",
          "chemically",
          "metabolism",
          "case"
         ],
         "xaxis": "x3",
         "y": [
          300,
          301,
          302,
          303,
          304,
          305,
          306,
          307,
          308,
          309,
          310,
          311,
          312,
          313,
          314,
          315,
          316,
          317,
          318,
          319,
          320,
          321,
          322,
          323,
          324,
          325,
          326,
          327,
          328,
          329,
          330,
          331,
          332,
          333,
          334,
          335,
          336,
          337,
          338
         ],
         "yaxis": "y3"
        },
        {
         "type": "bar",
         "x": [
          2019,
          2010,
          2016,
          2004,
          2018,
          2020,
          2021,
          2020,
          2019,
          2011,
          2019,
          2020,
          2021,
          2020,
          2007,
          2019,
          2020,
          2019,
          2020,
          2019,
          2007,
          2021,
          2001,
          2019,
          2012,
          2020,
          2018,
          2017,
          2019,
          2021,
          2020,
          2011,
          2007,
          2014,
          2017,
          2019,
          2021,
          2020,
          2021,
          2021,
          2012,
          2015,
          2015,
          2001,
          2009,
          2009,
          2011,
          2018,
          2017,
          2016,
          2013,
          2021,
          2017,
          2020,
          2014,
          2004,
          2019,
          2013,
          2018,
          2010,
          2013,
          2020,
          2017,
          2016,
          2020,
          2018,
          2019,
          2005,
          2020,
          2020,
          2013,
          2020,
          2015,
          2001,
          2021,
          2018,
          2015,
          2020,
          2019,
          2020,
          2020,
          2018,
          2021,
          2010,
          2020,
          2020,
          2020,
          2018,
          2011,
          2011,
          2021,
          2020,
          2017,
          2018,
          2017,
          2010,
          2017,
          2020,
          2016,
          2020,
          2017,
          2020,
          2020,
          2017,
          2020,
          2005,
          2018,
          2020,
          2019,
          2020,
          2008,
          2017,
          2009,
          2018,
          2017,
          2018,
          2020,
          2021,
          2021,
          2019,
          2015,
          2010,
          2014,
          2017,
          2020,
          2018,
          2008,
          2020,
          1982,
          2021,
          2020,
          2020,
          2019,
          2021,
          2020,
          2019,
          2021,
          2020,
          2020,
          2020,
          2020,
          2019,
          2020,
          2014,
          2021,
          2021,
          2016,
          2021,
          2021,
          2019,
          2018,
          2020,
          2020,
          2021,
          2021,
          2019,
          2021,
          2020,
          2021,
          2020,
          2020,
          2020,
          2017,
          2020,
          2019,
          2020,
          2020,
          2010,
          2021,
          2011,
          2016,
          2009,
          1996,
          2013,
          2018,
          2011,
          2020,
          2018,
          2020,
          2020,
          2020,
          2019,
          2020,
          2019,
          2016,
          2020,
          2018,
          2009,
          2019,
          2016,
          2020,
          2019,
          2006,
          2017,
          2020,
          2016,
          1997,
          2020,
          2020,
          2016,
          2018,
          2015,
          2016,
          2010,
          2020,
          2001,
          1996,
          2010,
          2010,
          2016,
          2021,
          2019,
          1996,
          2014,
          2019,
          2010,
          2020,
          2012,
          2013,
          2021,
          2012,
          2018,
          2015,
          2014,
          2015,
          2006,
          2018,
          2017,
          2015,
          2016,
          2021,
          2020,
          2000,
          2016,
          2012,
          2015,
          2019,
          2017,
          2017,
          2012,
          2011,
          2012,
          2018,
          2011,
          2008,
          2021,
          2013,
          2020,
          2014,
          2008,
          1990,
          2013,
          2002,
          2018,
          2013,
          2019,
          2004,
          2018,
          2020,
          2014,
          2019,
          2020,
          2020,
          2010,
          2019,
          2019,
          2020,
          2020,
          2019,
          2019,
          2020,
          2019,
          2019,
          2019,
          2018,
          2020,
          2018,
          2018,
          2018,
          2019,
          2017,
          2019,
          2019,
          2010,
          2017,
          2020,
          2006,
          2016,
          2017,
          2013,
          2009,
          2007,
          2019,
          2007,
          2017,
          2018,
          2019,
          2020,
          2015,
          2018,
          2013,
          2014,
          2013,
          2018,
          2015,
          2019,
          2018,
          2019,
          2009,
          2017,
          2014,
          2015,
          2019,
          2018,
          2019,
          2014,
          2018,
          2011,
          2019,
          2013,
          2014,
          2017,
          2016,
          2008,
          2019,
          2020,
          2020,
          2020,
          2019,
          2020,
          2017,
          2002,
          2009,
          2018,
          2006,
          2013,
          1998,
          2019,
          2020,
          2017,
          2015,
          2008,
          2015,
          2019,
          2014,
          2009,
          2018,
          2013,
          2020,
          2019,
          2018,
          2020,
          2011,
          2020,
          2019,
          2012,
          2020,
          2012
         ],
         "xaxis": "x4",
         "y": [
          1,
          2,
          1,
          1,
          3,
          1,
          1,
          1,
          1,
          1,
          3,
          1,
          1,
          1,
          4,
          4,
          1,
          1,
          3,
          1,
          1,
          1,
          1,
          1,
          3,
          1,
          1,
          3,
          1,
          1,
          2,
          1,
          1,
          1,
          3,
          2,
          3,
          1,
          1,
          2,
          1,
          2,
          3,
          3,
          1,
          1,
          1,
          1,
          1,
          1,
          1,
          3,
          3,
          2,
          2,
          1,
          1,
          1,
          2,
          1,
          1,
          3,
          2,
          1,
          1,
          2,
          1,
          1,
          2,
          6,
          3,
          1,
          1,
          1,
          1,
          1,
          2,
          1,
          1,
          2,
          1,
          1,
          1,
          2,
          1,
          1,
          4,
          1,
          2,
          2,
          2,
          1,
          1,
          1,
          1,
          1,
          3,
          1,
          1,
          1,
          1,
          1,
          1,
          4,
          1,
          1,
          1,
          1,
          7,
          6,
          1,
          1,
          1,
          1,
          2,
          1,
          3,
          1,
          3,
          1,
          1,
          1,
          10,
          1,
          1,
          1,
          2,
          1,
          1,
          3,
          1,
          4,
          2,
          1,
          4,
          1,
          1,
          1,
          3,
          1,
          1,
          2,
          1,
          1,
          1,
          1,
          1,
          1,
          1,
          1,
          3,
          1,
          1,
          2,
          1,
          1,
          1,
          1,
          1,
          4,
          1,
          2,
          4,
          1,
          1,
          1,
          1,
          1,
          2,
          1,
          2,
          2,
          1,
          2,
          1,
          1,
          2,
          1,
          8,
          1,
          2,
          1,
          1,
          1,
          1,
          1,
          1,
          1,
          4,
          1,
          3,
          1,
          1,
          1,
          1,
          1,
          3,
          2,
          2,
          1,
          1,
          1,
          3,
          2,
          1,
          1,
          3,
          2,
          1,
          1,
          1,
          1,
          3,
          1,
          1,
          1,
          1,
          2,
          2,
          2,
          1,
          1,
          1,
          2,
          2,
          1,
          2,
          1,
          4,
          7,
          1,
          1,
          3,
          1,
          2,
          2,
          2,
          1,
          1,
          1,
          2,
          1,
          1,
          2,
          2,
          7,
          1,
          1,
          1,
          1,
          2,
          5,
          5,
          3,
          1,
          1,
          2,
          3,
          1,
          1,
          1,
          1,
          2,
          1,
          1,
          1,
          1,
          1,
          1,
          1,
          6,
          1,
          1,
          1,
          1,
          1,
          1,
          1,
          1,
          1,
          2,
          1,
          1,
          7,
          1,
          2,
          3,
          1,
          3,
          2,
          4,
          3,
          3,
          2,
          1,
          1,
          1,
          1,
          1,
          1,
          1,
          1,
          1,
          1,
          2,
          3,
          1,
          2,
          2,
          1,
          4,
          1,
          1,
          2,
          2,
          1,
          1,
          1,
          1,
          1,
          1,
          1,
          2,
          2,
          2,
          1,
          3,
          6,
          1,
          2,
          1,
          3,
          1,
          2,
          2,
          1,
          1,
          1,
          1,
          1,
          1,
          2,
          2,
          3,
          1,
          2,
          1,
          1,
          1,
          1,
          4,
          2,
          1,
          4,
          1,
          5,
          1,
          2
         ],
         "yaxis": "y4"
        }
       ],
       "layout": {
        "annotations": [
         {
          "font": {
           "size": 16
          },
          "showarrow": false,
          "text": "Plot 1",
          "x": 0.225,
          "xanchor": "center",
          "xref": "paper",
          "y": 1,
          "yanchor": "bottom",
          "yref": "paper"
         },
         {
          "font": {
           "size": 16
          },
          "showarrow": false,
          "text": "é",
          "x": 0.775,
          "xanchor": "center",
          "xref": "paper",
          "y": 1,
          "yanchor": "bottom",
          "yref": "paper"
         },
         {
          "font": {
           "size": 16
          },
          "showarrow": false,
          "text": "mots clés diabetes",
          "x": 0.225,
          "xanchor": "center",
          "xref": "paper",
          "y": 0.375,
          "yanchor": "bottom",
          "yref": "paper"
         },
         {
          "font": {
           "size": 16
          },
          "showarrow": false,
          "text": "articles diabetes",
          "x": 0.775,
          "xanchor": "center",
          "xref": "paper",
          "y": 0.375,
          "yanchor": "bottom",
          "yref": "paper"
         }
        ],
        "autosize": true,
        "height": 800,
        "template": {
         "data": {
          "bar": [
           {
            "error_x": {
             "color": "#2a3f5f"
            },
            "error_y": {
             "color": "#2a3f5f"
            },
            "marker": {
             "line": {
              "color": "#E5ECF6",
              "width": 0.5
             }
            },
            "type": "bar"
           }
          ],
          "barpolar": [
           {
            "marker": {
             "line": {
              "color": "#E5ECF6",
              "width": 0.5
             }
            },
            "type": "barpolar"
           }
          ],
          "carpet": [
           {
            "aaxis": {
             "endlinecolor": "#2a3f5f",
             "gridcolor": "white",
             "linecolor": "white",
             "minorgridcolor": "white",
             "startlinecolor": "#2a3f5f"
            },
            "baxis": {
             "endlinecolor": "#2a3f5f",
             "gridcolor": "white",
             "linecolor": "white",
             "minorgridcolor": "white",
             "startlinecolor": "#2a3f5f"
            },
            "type": "carpet"
           }
          ],
          "choropleth": [
           {
            "colorbar": {
             "outlinewidth": 0,
             "ticks": ""
            },
            "type": "choropleth"
           }
          ],
          "contour": [
           {
            "colorbar": {
             "outlinewidth": 0,
             "ticks": ""
            },
            "colorscale": [
             [
              0,
              "#0d0887"
             ],
             [
              0.1111111111111111,
              "#46039f"
             ],
             [
              0.2222222222222222,
              "#7201a8"
             ],
             [
              0.3333333333333333,
              "#9c179e"
             ],
             [
              0.4444444444444444,
              "#bd3786"
             ],
             [
              0.5555555555555556,
              "#d8576b"
             ],
             [
              0.6666666666666666,
              "#ed7953"
             ],
             [
              0.7777777777777778,
              "#fb9f3a"
             ],
             [
              0.8888888888888888,
              "#fdca26"
             ],
             [
              1,
              "#f0f921"
             ]
            ],
            "type": "contour"
           }
          ],
          "contourcarpet": [
           {
            "colorbar": {
             "outlinewidth": 0,
             "ticks": ""
            },
            "type": "contourcarpet"
           }
          ],
          "heatmap": [
           {
            "colorbar": {
             "outlinewidth": 0,
             "ticks": ""
            },
            "colorscale": [
             [
              0,
              "#0d0887"
             ],
             [
              0.1111111111111111,
              "#46039f"
             ],
             [
              0.2222222222222222,
              "#7201a8"
             ],
             [
              0.3333333333333333,
              "#9c179e"
             ],
             [
              0.4444444444444444,
              "#bd3786"
             ],
             [
              0.5555555555555556,
              "#d8576b"
             ],
             [
              0.6666666666666666,
              "#ed7953"
             ],
             [
              0.7777777777777778,
              "#fb9f3a"
             ],
             [
              0.8888888888888888,
              "#fdca26"
             ],
             [
              1,
              "#f0f921"
             ]
            ],
            "type": "heatmap"
           }
          ],
          "heatmapgl": [
           {
            "colorbar": {
             "outlinewidth": 0,
             "ticks": ""
            },
            "colorscale": [
             [
              0,
              "#0d0887"
             ],
             [
              0.1111111111111111,
              "#46039f"
             ],
             [
              0.2222222222222222,
              "#7201a8"
             ],
             [
              0.3333333333333333,
              "#9c179e"
             ],
             [
              0.4444444444444444,
              "#bd3786"
             ],
             [
              0.5555555555555556,
              "#d8576b"
             ],
             [
              0.6666666666666666,
              "#ed7953"
             ],
             [
              0.7777777777777778,
              "#fb9f3a"
             ],
             [
              0.8888888888888888,
              "#fdca26"
             ],
             [
              1,
              "#f0f921"
             ]
            ],
            "type": "heatmapgl"
           }
          ],
          "histogram": [
           {
            "marker": {
             "colorbar": {
              "outlinewidth": 0,
              "ticks": ""
             }
            },
            "type": "histogram"
           }
          ],
          "histogram2d": [
           {
            "colorbar": {
             "outlinewidth": 0,
             "ticks": ""
            },
            "colorscale": [
             [
              0,
              "#0d0887"
             ],
             [
              0.1111111111111111,
              "#46039f"
             ],
             [
              0.2222222222222222,
              "#7201a8"
             ],
             [
              0.3333333333333333,
              "#9c179e"
             ],
             [
              0.4444444444444444,
              "#bd3786"
             ],
             [
              0.5555555555555556,
              "#d8576b"
             ],
             [
              0.6666666666666666,
              "#ed7953"
             ],
             [
              0.7777777777777778,
              "#fb9f3a"
             ],
             [
              0.8888888888888888,
              "#fdca26"
             ],
             [
              1,
              "#f0f921"
             ]
            ],
            "type": "histogram2d"
           }
          ],
          "histogram2dcontour": [
           {
            "colorbar": {
             "outlinewidth": 0,
             "ticks": ""
            },
            "colorscale": [
             [
              0,
              "#0d0887"
             ],
             [
              0.1111111111111111,
              "#46039f"
             ],
             [
              0.2222222222222222,
              "#7201a8"
             ],
             [
              0.3333333333333333,
              "#9c179e"
             ],
             [
              0.4444444444444444,
              "#bd3786"
             ],
             [
              0.5555555555555556,
              "#d8576b"
             ],
             [
              0.6666666666666666,
              "#ed7953"
             ],
             [
              0.7777777777777778,
              "#fb9f3a"
             ],
             [
              0.8888888888888888,
              "#fdca26"
             ],
             [
              1,
              "#f0f921"
             ]
            ],
            "type": "histogram2dcontour"
           }
          ],
          "mesh3d": [
           {
            "colorbar": {
             "outlinewidth": 0,
             "ticks": ""
            },
            "type": "mesh3d"
           }
          ],
          "parcoords": [
           {
            "line": {
             "colorbar": {
              "outlinewidth": 0,
              "ticks": ""
             }
            },
            "type": "parcoords"
           }
          ],
          "pie": [
           {
            "automargin": true,
            "type": "pie"
           }
          ],
          "scatter": [
           {
            "marker": {
             "colorbar": {
              "outlinewidth": 0,
              "ticks": ""
             }
            },
            "type": "scatter"
           }
          ],
          "scatter3d": [
           {
            "line": {
             "colorbar": {
              "outlinewidth": 0,
              "ticks": ""
             }
            },
            "marker": {
             "colorbar": {
              "outlinewidth": 0,
              "ticks": ""
             }
            },
            "type": "scatter3d"
           }
          ],
          "scattercarpet": [
           {
            "marker": {
             "colorbar": {
              "outlinewidth": 0,
              "ticks": ""
             }
            },
            "type": "scattercarpet"
           }
          ],
          "scattergeo": [
           {
            "marker": {
             "colorbar": {
              "outlinewidth": 0,
              "ticks": ""
             }
            },
            "type": "scattergeo"
           }
          ],
          "scattergl": [
           {
            "marker": {
             "colorbar": {
              "outlinewidth": 0,
              "ticks": ""
             }
            },
            "type": "scattergl"
           }
          ],
          "scattermapbox": [
           {
            "marker": {
             "colorbar": {
              "outlinewidth": 0,
              "ticks": ""
             }
            },
            "type": "scattermapbox"
           }
          ],
          "scatterpolar": [
           {
            "marker": {
             "colorbar": {
              "outlinewidth": 0,
              "ticks": ""
             }
            },
            "type": "scatterpolar"
           }
          ],
          "scatterpolargl": [
           {
            "marker": {
             "colorbar": {
              "outlinewidth": 0,
              "ticks": ""
             }
            },
            "type": "scatterpolargl"
           }
          ],
          "scatterternary": [
           {
            "marker": {
             "colorbar": {
              "outlinewidth": 0,
              "ticks": ""
             }
            },
            "type": "scatterternary"
           }
          ],
          "surface": [
           {
            "colorbar": {
             "outlinewidth": 0,
             "ticks": ""
            },
            "colorscale": [
             [
              0,
              "#0d0887"
             ],
             [
              0.1111111111111111,
              "#46039f"
             ],
             [
              0.2222222222222222,
              "#7201a8"
             ],
             [
              0.3333333333333333,
              "#9c179e"
             ],
             [
              0.4444444444444444,
              "#bd3786"
             ],
             [
              0.5555555555555556,
              "#d8576b"
             ],
             [
              0.6666666666666666,
              "#ed7953"
             ],
             [
              0.7777777777777778,
              "#fb9f3a"
             ],
             [
              0.8888888888888888,
              "#fdca26"
             ],
             [
              1,
              "#f0f921"
             ]
            ],
            "type": "surface"
           }
          ],
          "table": [
           {
            "cells": {
             "fill": {
              "color": "#EBF0F8"
             },
             "line": {
              "color": "white"
             }
            },
            "header": {
             "fill": {
              "color": "#C8D4E3"
             },
             "line": {
              "color": "white"
             }
            },
            "type": "table"
           }
          ]
         },
         "layout": {
          "annotationdefaults": {
           "arrowcolor": "#2a3f5f",
           "arrowhead": 0,
           "arrowwidth": 1
          },
          "autotypenumbers": "strict",
          "coloraxis": {
           "colorbar": {
            "outlinewidth": 0,
            "ticks": ""
           }
          },
          "colorscale": {
           "diverging": [
            [
             0,
             "#8e0152"
            ],
            [
             0.1,
             "#c51b7d"
            ],
            [
             0.2,
             "#de77ae"
            ],
            [
             0.3,
             "#f1b6da"
            ],
            [
             0.4,
             "#fde0ef"
            ],
            [
             0.5,
             "#f7f7f7"
            ],
            [
             0.6,
             "#e6f5d0"
            ],
            [
             0.7,
             "#b8e186"
            ],
            [
             0.8,
             "#7fbc41"
            ],
            [
             0.9,
             "#4d9221"
            ],
            [
             1,
             "#276419"
            ]
           ],
           "sequential": [
            [
             0,
             "#0d0887"
            ],
            [
             0.1111111111111111,
             "#46039f"
            ],
            [
             0.2222222222222222,
             "#7201a8"
            ],
            [
             0.3333333333333333,
             "#9c179e"
            ],
            [
             0.4444444444444444,
             "#bd3786"
            ],
            [
             0.5555555555555556,
             "#d8576b"
            ],
            [
             0.6666666666666666,
             "#ed7953"
            ],
            [
             0.7777777777777778,
             "#fb9f3a"
            ],
            [
             0.8888888888888888,
             "#fdca26"
            ],
            [
             1,
             "#f0f921"
            ]
           ],
           "sequentialminus": [
            [
             0,
             "#0d0887"
            ],
            [
             0.1111111111111111,
             "#46039f"
            ],
            [
             0.2222222222222222,
             "#7201a8"
            ],
            [
             0.3333333333333333,
             "#9c179e"
            ],
            [
             0.4444444444444444,
             "#bd3786"
            ],
            [
             0.5555555555555556,
             "#d8576b"
            ],
            [
             0.6666666666666666,
             "#ed7953"
            ],
            [
             0.7777777777777778,
             "#fb9f3a"
            ],
            [
             0.8888888888888888,
             "#fdca26"
            ],
            [
             1,
             "#f0f921"
            ]
           ]
          },
          "colorway": [
           "#636efa",
           "#EF553B",
           "#00cc96",
           "#ab63fa",
           "#FFA15A",
           "#19d3f3",
           "#FF6692",
           "#B6E880",
           "#FF97FF",
           "#FECB52"
          ],
          "font": {
           "color": "#2a3f5f"
          },
          "geo": {
           "bgcolor": "white",
           "lakecolor": "white",
           "landcolor": "#E5ECF6",
           "showlakes": true,
           "showland": true,
           "subunitcolor": "white"
          },
          "hoverlabel": {
           "align": "left"
          },
          "hovermode": "closest",
          "mapbox": {
           "style": "light"
          },
          "paper_bgcolor": "white",
          "plot_bgcolor": "#E5ECF6",
          "polar": {
           "angularaxis": {
            "gridcolor": "white",
            "linecolor": "white",
            "ticks": ""
           },
           "bgcolor": "#E5ECF6",
           "radialaxis": {
            "gridcolor": "white",
            "linecolor": "white",
            "ticks": ""
           }
          },
          "scene": {
           "xaxis": {
            "backgroundcolor": "#E5ECF6",
            "gridcolor": "white",
            "gridwidth": 2,
            "linecolor": "white",
            "showbackground": true,
            "ticks": "",
            "zerolinecolor": "white"
           },
           "yaxis": {
            "backgroundcolor": "#E5ECF6",
            "gridcolor": "white",
            "gridwidth": 2,
            "linecolor": "white",
            "showbackground": true,
            "ticks": "",
            "zerolinecolor": "white"
           },
           "zaxis": {
            "backgroundcolor": "#E5ECF6",
            "gridcolor": "white",
            "gridwidth": 2,
            "linecolor": "white",
            "showbackground": true,
            "ticks": "",
            "zerolinecolor": "white"
           }
          },
          "shapedefaults": {
           "line": {
            "color": "#2a3f5f"
           }
          },
          "ternary": {
           "aaxis": {
            "gridcolor": "white",
            "linecolor": "white",
            "ticks": ""
           },
           "baxis": {
            "gridcolor": "white",
            "linecolor": "white",
            "ticks": ""
           },
           "bgcolor": "#E5ECF6",
           "caxis": {
            "gridcolor": "white",
            "linecolor": "white",
            "ticks": ""
           }
          },
          "title": {
           "x": 0.05
          },
          "xaxis": {
           "automargin": true,
           "gridcolor": "white",
           "linecolor": "white",
           "ticks": "",
           "title": {
            "standoff": 15
           },
           "zerolinecolor": "white",
           "zerolinewidth": 2
          },
          "yaxis": {
           "automargin": true,
           "gridcolor": "white",
           "linecolor": "white",
           "ticks": "",
           "title": {
            "standoff": 15
           },
           "zerolinecolor": "white",
           "zerolinewidth": 2
          }
         }
        },
        "width": 1200,
        "xaxis": {
         "anchor": "y",
         "domain": [
          0,
          0.45
         ]
        },
        "xaxis2": {
         "anchor": "y2",
         "domain": [
          0.55,
          1
         ]
        },
        "xaxis3": {
         "anchor": "y3",
         "domain": [
          0,
          0.45
         ]
        },
        "xaxis4": {
         "anchor": "y4",
         "domain": [
          0.55,
          1
         ]
        },
        "yaxis": {
         "anchor": "x",
         "automargin": true,
         "domain": [
          0.625,
          1
         ]
        },
        "yaxis2": {
         "anchor": "x2",
         "automargin": true,
         "domain": [
          0.625,
          1
         ]
        },
        "yaxis3": {
         "anchor": "x3",
         "automargin": true,
         "domain": [
          0,
          0.375
         ]
        },
        "yaxis4": {
         "anchor": "x4",
         "automargin": true,
         "domain": [
          0,
          0.375
         ]
        }
       }
      },
      "text/html": [
       "<div>                            <div id=\"058d784f-2193-44d1-8fbf-1a055dd8ca16\" class=\"plotly-graph-div\" style=\"height:800px; width:1200px;\"></div>            <script type=\"text/javascript\">                require([\"plotly\"], function(Plotly) {                    window.PLOTLYENV=window.PLOTLYENV || {};                                    if (document.getElementById(\"058d784f-2193-44d1-8fbf-1a055dd8ca16\")) {                    Plotly.newPlot(                        \"058d784f-2193-44d1-8fbf-1a055dd8ca16\",                        [{\"type\": \"scatter\", \"x\": [2019, 2010, 2016, 2004, 2018, 2020, 2021, 2020, 2019, 2011, 2019, 2020, 2021, 2020, 2007, 2019, 2020, 2019, 2020, 2019, 2007, 2021, 2001, 2019, 2012, 2020, 2018, 2017, 2019, 2021, 2020, 2011, 2007, 2014, 2017, 2019, 2021, 2020, 2021, 2021, 2012, 2015, 2015, 2001, 2009, 2009, 2011, 2018, 2017, 2016, 2013, 2021, 2017, 2020, 2014, 2004, 2019, 2013, 2018, 2010, 2013, 2020, 2017, 2016, 2020, 2018, 2019, 2005, 2020, 2020, 2013, 2020, 2015, 2001, 2021, 2018, 2015, 2020, 2019, 2020, 2020, 2018, 2021, 2010, 2020, 2020, 2020, 2018, 2011, 2011, 2021, 2020, 2017, 2018, 2017, 2010, 2017, 2020, 2016, 2020, 2017, 2020, 2020, 2017, 2020, 2005, 2018, 2020, 2019, 2020, 2008, 2017, 2009, 2018, 2017, 2018, 2020, 2021, 2021, 2019, 2015, 2010, 2014, 2017, 2020, 2018, 2008, 2020, 1982, 2021, 2020, 2020, 2019, 2021, 2020, 2019, 2021, 2020, 2020, 2020, 2020, 2019, 2020, 2014, 2021, 2021, 2016, 2021, 2021, 2019, 2018, 2020, 2020, 2021, 2021, 2019, 2021, 2020, 2021, 2020, 2020, 2020, 2017, 2020, 2019, 2020, 2020, 2010, 2021, 2011, 2016, 2009, 1996, 2013, 2018, 2011, 2020, 2018, 2020, 2020, 2020, 2019, 2020, 2019, 2016, 2020, 2018, 2009, 2019, 2016, 2020, 2019, 2006, 2017, 2020, 2016, 1997, 2020, 2020, 2016, 2018, 2015, 2016, 2010, 2020, 2001, 1996, 2010, 2010, 2016, 2021, 2019, 1996, 2014, 2019, 2010, 2020, 2012, 2013, 2021, 2012, 2018, 2015, 2014, 2015, 2006, 2018, 2017, 2015, 2016, 2021, 2020, 2000, 2016, 2012, 2015, 2019, 2017, 2017, 2012, 2011, 2012, 2018, 2011, 2008, 2021, 2013, 2020, 2014, 2008, 1990, 2013, 2002, 2018, 2013, 2019, 2004, 2018, 2020, 2014, 2019, 2020, 2020, 2010, 2019, 2019, 2020, 2020, 2019, 2019, 2020, 2019, 2019, 2019, 2018, 2020, 2018, 2018, 2018, 2019, 2017, 2019, 2019, 2010, 2017, 2020, 2006, 2016, 2017, 2013, 2009, 2007, 2019, 2007, 2017, 2018, 2019, 2020, 2015, 2018, 2013, 2014, 2013, 2018, 2015, 2019, 2018, 2019, 2009, 2017, 2014, 2015, 2019, 2018, 2019, 2014, 2018, 2011, 2019, 2013, 2014, 2017, 2016, 2008, 2019, 2020, 2020, 2020, 2019, 2020, 2017, 2002, 2009, 2018, 2006, 2013, 1998, 2019, 2020, 2017, 2015, 2008, 2015, 2019, 2014, 2009, 2018, 2013, 2020, 2019, 2018, 2020, 2011, 2020, 2019, 2012, 2020, 2012], \"xaxis\": \"x\", \"y\": [1.0, 2.0, 1.0, 1.0, 3.0, 1.0, 1.0, 1.0, 1.0, 1.0, 3.0, 1.0, 1.0, 1.0, 4.0, 4.0, 1.0, 1.0, 3.0, 1.0, 1.0, 1.0, 1.0, 1.0, 3.0, 1.0, 1.0, 3.0, 1.0, 1.0, 2.0, 1.0, 1.0, 1.0, 3.0, 2.0, 3.0, 1.0, 1.0, 2.0, 1.0, 2.0, 3.0, 3.0, 1.0, 1.0, 1.0, 1.0, 1.0, 1.0, 1.0, 3.0, 3.0, 2.0, 2.0, 1.0, 1.0, 1.0, 2.0, 1.0, 1.0, 3.0, 2.0, 1.0, 1.0, 2.0, 1.0, 1.0, 2.0, 6.0, 3.0, 1.0, 1.0, 1.0, 1.0, 1.0, 2.0, 1.0, 1.0, 2.0, 1.0, 1.0, 1.0, 2.0, 1.0, 1.0, 4.0, 1.0, 2.0, 2.0, 2.0, 1.0, 1.0, 1.0, 1.0, 1.0, 3.0, 1.0, 1.0, 1.0, 1.0, 1.0, 1.0, 4.0, 1.0, 1.0, 1.0, 1.0, 7.0, 6.0, 1.0, 1.0, 1.0, 1.0, 2.0, 1.0, 3.0, 1.0, 3.0, 1.0, 1.0, 1.0, 10.0, 1.0, 1.0, 1.0, 2.0, 1.0, 1.0, 3.0, 1.0, 4.0, 2.0, 1.0, 4.0, 1.0, 1.0, 1.0, 3.0, 1.0, 1.0, 2.0, 1.0, 1.0, 1.0, 1.0, 1.0, 1.0, 1.0, 1.0, 3.0, 1.0, 1.0, 2.0, 1.0, 1.0, 1.0, 1.0, 1.0, 4.0, 1.0, 2.0, 4.0, 1.0, 1.0, 1.0, 1.0, 1.0, 2.0, 1.0, 2.0, 2.0, 1.0, 2.0, 1.0, 1.0, 2.0, 1.0, 8.0, 1.0, 2.0, 1.0, 1.0, 1.0, 1.0, 1.0, 1.0, 1.0, 4.0, 1.0, 3.0, 1.0, 1.0, 1.0, 1.0, 1.0, 3.0, 2.0, 2.0, 1.0, 1.0, 1.0, 3.0, 2.0, 1.0, 1.0, 3.0, 2.0, 1.0, 1.0, 1.0, 1.0, 3.0, 1.0, 1.0, 1.0, 1.0, 2.0, 2.0, 2.0, 1.0, 1.0, 1.0, 2.0, 2.0, 1.0, 2.0, 1.0, 4.0, 7.0, 1.0, 1.0, 3.0, 1.0, 2.0, 2.0, 2.0, 1.0, 1.0, 1.0, 2.0, 1.0, 1.0, 2.0, 2.0, 7.0, 1.0, 1.0, 1.0, 1.0, 2.0, 5.0, 5.0, 3.0, 1.0, 1.0, 2.0, 3.0, 1.0, 1.0, 1.0, 1.0, 2.0, 1.0, 1.0, 1.0, 1.0, 1.0, 1.0, 1.0, 6.0, 1.0, 1.0, 1.0, 1.0, 1.0, 1.0, 1.0, 1.0, 1.0, 2.0, 1.0, 1.0, 7.0, 1.0, 2.0, 3.0, 1.0, 3.0, 2.0, 4.0, 3.0, 3.0, 2.0, 1.0, 1.0, 1.0, 1.0, 1.0, 1.0, 1.0, 1.0, 1.0, 1.0, 2.0, 3.0, 1.0, 2.0, 2.0, 1.0, 4.0, 1.0, 1.0, 2.0, 2.0, 1.0, 1.0, 1.0, 1.0, 1.0, 1.0, 1.0, 2.0, 2.0, 2.0, 1.0, 3.0, 6.0, 1.0, 2.0, 1.0, 3.0, 1.0, 2.0, 2.0, 1.0, 1.0, 1.0, 1.0, 1.0, 1.0, 2.0, 2.0, 3.0, 1.0, 2.0, 1.0, 1.0, 1.0, 1.0, 4.0, 2.0, 1.0, 4.0, 1.0, 5.0, 1.0, 2.0], \"yaxis\": \"y\"}, {\"type\": \"scatter\", \"x\": [2019, 2010, 2016, 2004, 2018, 2020, 2021, 2020, 2019, 2011, 2019, 2020, 2021, 2020, 2007, 2019, 2020, 2019, 2020, 2019, 2007, 2021, 2001, 2019, 2012, 2020, 2018, 2017, 2019, 2021, 2020, 2011, 2007, 2014, 2017, 2019, 2021, 2020, 2021, 2021, 2012, 2015, 2015, 2001, 2009, 2009, 2011, 2018, 2017, 2016, 2013, 2021, 2017, 2020, 2014, 2004, 2019, 2013, 2018, 2010, 2013, 2020, 2017, 2016, 2020, 2018, 2019, 2005, 2020, 2020, 2013, 2020, 2015, 2001, 2021, 2018, 2015, 2020, 2019, 2020, 2020, 2018, 2021, 2010, 2020, 2020, 2020, 2018, 2011, 2011, 2021, 2020, 2017, 2018, 2017, 2010, 2017, 2020, 2016, 2020, 2017, 2020, 2020, 2017, 2020, 2005, 2018, 2020, 2019, 2020, 2008, 2017, 2009, 2018, 2017, 2018, 2020, 2021, 2021, 2019, 2015, 2010, 2014, 2017, 2020, 2018, 2008, 2020, 1982, 2021, 2020, 2020, 2019, 2021, 2020, 2019, 2021, 2020, 2020, 2020, 2020, 2019, 2020, 2014, 2021, 2021, 2016, 2021, 2021, 2019, 2018, 2020, 2020, 2021, 2021, 2019, 2021, 2020, 2021, 2020, 2020, 2020, 2017, 2020, 2019, 2020, 2020, 2010, 2021, 2011, 2016, 2009, 1996, 2013, 2018, 2011, 2020, 2018, 2020, 2020, 2020, 2019, 2020, 2019, 2016, 2020, 2018, 2009, 2019, 2016, 2020, 2019, 2006, 2017, 2020, 2016, 1997, 2020, 2020, 2016, 2018, 2015, 2016, 2010, 2020, 2001, 1996, 2010, 2010, 2016, 2021, 2019, 1996, 2014, 2019, 2010, 2020, 2012, 2013, 2021, 2012, 2018, 2015, 2014, 2015, 2006, 2018, 2017, 2015, 2016, 2021, 2020, 2000, 2016, 2012, 2015, 2019, 2017, 2017, 2012, 2011, 2012, 2018, 2011, 2008, 2021, 2013, 2020, 2014, 2008, 1990, 2013, 2002, 2018, 2013, 2019, 2004, 2018, 2020, 2014, 2019, 2020, 2020, 2010, 2019, 2019, 2020, 2020, 2019, 2019, 2020, 2019, 2019, 2019, 2018, 2020, 2018, 2018, 2018, 2019, 2017, 2019, 2019, 2010, 2017, 2020, 2006, 2016, 2017, 2013, 2009, 2007, 2019, 2007, 2017, 2018, 2019, 2020, 2015, 2018, 2013, 2014, 2013, 2018, 2015, 2019, 2018, 2019, 2009, 2017, 2014, 2015, 2019, 2018, 2019, 2014, 2018, 2011, 2019, 2013, 2014, 2017, 2016, 2008, 2019, 2020, 2020, 2020, 2019, 2020, 2017, 2002, 2009, 2018, 2006, 2013, 1998, 2019, 2020, 2017, 2015, 2008, 2015, 2019, 2014, 2009, 2018, 2013, 2020, 2019, 2018, 2020, 2011, 2020, 2019, 2012, 2020, 2012], \"xaxis\": \"x2\", \"y\": [1.0, 2.0, 1.0, 1.0, 3.0, 1.0, 1.0, 1.0, 1.0, 1.0, 3.0, 1.0, 1.0, 1.0, 4.0, 4.0, 1.0, 1.0, 3.0, 1.0, 1.0, 1.0, 1.0, 1.0, 3.0, 1.0, 1.0, 3.0, 1.0, 1.0, 2.0, 1.0, 1.0, 1.0, 3.0, 2.0, 3.0, 1.0, 1.0, 2.0, 1.0, 2.0, 3.0, 3.0, 1.0, 1.0, 1.0, 1.0, 1.0, 1.0, 1.0, 3.0, 3.0, 2.0, 2.0, 1.0, 1.0, 1.0, 2.0, 1.0, 1.0, 3.0, 2.0, 1.0, 1.0, 2.0, 1.0, 1.0, 2.0, 6.0, 3.0, 1.0, 1.0, 1.0, 1.0, 1.0, 2.0, 1.0, 1.0, 2.0, 1.0, 1.0, 1.0, 2.0, 1.0, 1.0, 4.0, 1.0, 2.0, 2.0, 2.0, 1.0, 1.0, 1.0, 1.0, 1.0, 3.0, 1.0, 1.0, 1.0, 1.0, 1.0, 1.0, 4.0, 1.0, 1.0, 1.0, 1.0, 7.0, 6.0, 1.0, 1.0, 1.0, 1.0, 2.0, 1.0, 3.0, 1.0, 3.0, 1.0, 1.0, 1.0, 10.0, 1.0, 1.0, 1.0, 2.0, 1.0, 1.0, 3.0, 1.0, 4.0, 2.0, 1.0, 4.0, 1.0, 1.0, 1.0, 3.0, 1.0, 1.0, 2.0, 1.0, 1.0, 1.0, 1.0, 1.0, 1.0, 1.0, 1.0, 3.0, 1.0, 1.0, 2.0, 1.0, 1.0, 1.0, 1.0, 1.0, 4.0, 1.0, 2.0, 4.0, 1.0, 1.0, 1.0, 1.0, 1.0, 2.0, 1.0, 2.0, 2.0, 1.0, 2.0, 1.0, 1.0, 2.0, 1.0, 8.0, 1.0, 2.0, 1.0, 1.0, 1.0, 1.0, 1.0, 1.0, 1.0, 4.0, 1.0, 3.0, 1.0, 1.0, 1.0, 1.0, 1.0, 3.0, 2.0, 2.0, 1.0, 1.0, 1.0, 3.0, 2.0, 1.0, 1.0, 3.0, 2.0, 1.0, 1.0, 1.0, 1.0, 3.0, 1.0, 1.0, 1.0, 1.0, 2.0, 2.0, 2.0, 1.0, 1.0, 1.0, 2.0, 2.0, 1.0, 2.0, 1.0, 4.0, 7.0, 1.0, 1.0, 3.0, 1.0, 2.0, 2.0, 2.0, 1.0, 1.0, 1.0, 2.0, 1.0, 1.0, 2.0, 2.0, 7.0, 1.0, 1.0, 1.0, 1.0, 2.0, 5.0, 5.0, 3.0, 1.0, 1.0, 2.0, 3.0, 1.0, 1.0, 1.0, 1.0, 2.0, 1.0, 1.0, 1.0, 1.0, 1.0, 1.0, 1.0, 6.0, 1.0, 1.0, 1.0, 1.0, 1.0, 1.0, 1.0, 1.0, 1.0, 2.0, 1.0, 1.0, 7.0, 1.0, 2.0, 3.0, 1.0, 3.0, 2.0, 4.0, 3.0, 3.0, 2.0, 1.0, 1.0, 1.0, 1.0, 1.0, 1.0, 1.0, 1.0, 1.0, 1.0, 2.0, 3.0, 1.0, 2.0, 2.0, 1.0, 4.0, 1.0, 1.0, 2.0, 2.0, 1.0, 1.0, 1.0, 1.0, 1.0, 1.0, 1.0, 2.0, 2.0, 2.0, 1.0, 3.0, 6.0, 1.0, 2.0, 1.0, 3.0, 1.0, 2.0, 2.0, 1.0, 1.0, 1.0, 1.0, 1.0, 1.0, 2.0, 2.0, 3.0, 1.0, 2.0, 1.0, 1.0, 1.0, 1.0, 4.0, 2.0, 1.0, 4.0, 1.0, 5.0, 1.0, 2.0], \"yaxis\": \"y2\"}, {\"type\": \"bar\", \"x\": [\"sleep\", \"wave\", \"retinoscopy\", \"telemedicine\", \"design\", \"risk\", \"processing\", \"evidence\", \"adverse\", \"trends\", \"ophthalmology\", \"in\", \"surveys\", \"mortality\", \"national\", \"analysis\", \"fluorescein\", \"therapy\", \"n\", \"a\", \"hypoglycemia\", \"disorders\", \"repressor\", \"liver\", \"depressive\", \"diet\", \"hemoglobin\", \"antihypertensive\", \"diabetic\", \"mice\", \"roc\", \"incidence\", \"biomedical\", \"schedule\", \"assessment\", \"adenoma\", \"chemically\", \"metabolism\", \"case\"], \"xaxis\": \"x3\", \"y\": [300, 301, 302, 303, 304, 305, 306, 307, 308, 309, 310, 311, 312, 313, 314, 315, 316, 317, 318, 319, 320, 321, 322, 323, 324, 325, 326, 327, 328, 329, 330, 331, 332, 333, 334, 335, 336, 337, 338], \"yaxis\": \"y3\"}, {\"type\": \"bar\", \"x\": [2019, 2010, 2016, 2004, 2018, 2020, 2021, 2020, 2019, 2011, 2019, 2020, 2021, 2020, 2007, 2019, 2020, 2019, 2020, 2019, 2007, 2021, 2001, 2019, 2012, 2020, 2018, 2017, 2019, 2021, 2020, 2011, 2007, 2014, 2017, 2019, 2021, 2020, 2021, 2021, 2012, 2015, 2015, 2001, 2009, 2009, 2011, 2018, 2017, 2016, 2013, 2021, 2017, 2020, 2014, 2004, 2019, 2013, 2018, 2010, 2013, 2020, 2017, 2016, 2020, 2018, 2019, 2005, 2020, 2020, 2013, 2020, 2015, 2001, 2021, 2018, 2015, 2020, 2019, 2020, 2020, 2018, 2021, 2010, 2020, 2020, 2020, 2018, 2011, 2011, 2021, 2020, 2017, 2018, 2017, 2010, 2017, 2020, 2016, 2020, 2017, 2020, 2020, 2017, 2020, 2005, 2018, 2020, 2019, 2020, 2008, 2017, 2009, 2018, 2017, 2018, 2020, 2021, 2021, 2019, 2015, 2010, 2014, 2017, 2020, 2018, 2008, 2020, 1982, 2021, 2020, 2020, 2019, 2021, 2020, 2019, 2021, 2020, 2020, 2020, 2020, 2019, 2020, 2014, 2021, 2021, 2016, 2021, 2021, 2019, 2018, 2020, 2020, 2021, 2021, 2019, 2021, 2020, 2021, 2020, 2020, 2020, 2017, 2020, 2019, 2020, 2020, 2010, 2021, 2011, 2016, 2009, 1996, 2013, 2018, 2011, 2020, 2018, 2020, 2020, 2020, 2019, 2020, 2019, 2016, 2020, 2018, 2009, 2019, 2016, 2020, 2019, 2006, 2017, 2020, 2016, 1997, 2020, 2020, 2016, 2018, 2015, 2016, 2010, 2020, 2001, 1996, 2010, 2010, 2016, 2021, 2019, 1996, 2014, 2019, 2010, 2020, 2012, 2013, 2021, 2012, 2018, 2015, 2014, 2015, 2006, 2018, 2017, 2015, 2016, 2021, 2020, 2000, 2016, 2012, 2015, 2019, 2017, 2017, 2012, 2011, 2012, 2018, 2011, 2008, 2021, 2013, 2020, 2014, 2008, 1990, 2013, 2002, 2018, 2013, 2019, 2004, 2018, 2020, 2014, 2019, 2020, 2020, 2010, 2019, 2019, 2020, 2020, 2019, 2019, 2020, 2019, 2019, 2019, 2018, 2020, 2018, 2018, 2018, 2019, 2017, 2019, 2019, 2010, 2017, 2020, 2006, 2016, 2017, 2013, 2009, 2007, 2019, 2007, 2017, 2018, 2019, 2020, 2015, 2018, 2013, 2014, 2013, 2018, 2015, 2019, 2018, 2019, 2009, 2017, 2014, 2015, 2019, 2018, 2019, 2014, 2018, 2011, 2019, 2013, 2014, 2017, 2016, 2008, 2019, 2020, 2020, 2020, 2019, 2020, 2017, 2002, 2009, 2018, 2006, 2013, 1998, 2019, 2020, 2017, 2015, 2008, 2015, 2019, 2014, 2009, 2018, 2013, 2020, 2019, 2018, 2020, 2011, 2020, 2019, 2012, 2020, 2012], \"xaxis\": \"x4\", \"y\": [1.0, 2.0, 1.0, 1.0, 3.0, 1.0, 1.0, 1.0, 1.0, 1.0, 3.0, 1.0, 1.0, 1.0, 4.0, 4.0, 1.0, 1.0, 3.0, 1.0, 1.0, 1.0, 1.0, 1.0, 3.0, 1.0, 1.0, 3.0, 1.0, 1.0, 2.0, 1.0, 1.0, 1.0, 3.0, 2.0, 3.0, 1.0, 1.0, 2.0, 1.0, 2.0, 3.0, 3.0, 1.0, 1.0, 1.0, 1.0, 1.0, 1.0, 1.0, 3.0, 3.0, 2.0, 2.0, 1.0, 1.0, 1.0, 2.0, 1.0, 1.0, 3.0, 2.0, 1.0, 1.0, 2.0, 1.0, 1.0, 2.0, 6.0, 3.0, 1.0, 1.0, 1.0, 1.0, 1.0, 2.0, 1.0, 1.0, 2.0, 1.0, 1.0, 1.0, 2.0, 1.0, 1.0, 4.0, 1.0, 2.0, 2.0, 2.0, 1.0, 1.0, 1.0, 1.0, 1.0, 3.0, 1.0, 1.0, 1.0, 1.0, 1.0, 1.0, 4.0, 1.0, 1.0, 1.0, 1.0, 7.0, 6.0, 1.0, 1.0, 1.0, 1.0, 2.0, 1.0, 3.0, 1.0, 3.0, 1.0, 1.0, 1.0, 10.0, 1.0, 1.0, 1.0, 2.0, 1.0, 1.0, 3.0, 1.0, 4.0, 2.0, 1.0, 4.0, 1.0, 1.0, 1.0, 3.0, 1.0, 1.0, 2.0, 1.0, 1.0, 1.0, 1.0, 1.0, 1.0, 1.0, 1.0, 3.0, 1.0, 1.0, 2.0, 1.0, 1.0, 1.0, 1.0, 1.0, 4.0, 1.0, 2.0, 4.0, 1.0, 1.0, 1.0, 1.0, 1.0, 2.0, 1.0, 2.0, 2.0, 1.0, 2.0, 1.0, 1.0, 2.0, 1.0, 8.0, 1.0, 2.0, 1.0, 1.0, 1.0, 1.0, 1.0, 1.0, 1.0, 4.0, 1.0, 3.0, 1.0, 1.0, 1.0, 1.0, 1.0, 3.0, 2.0, 2.0, 1.0, 1.0, 1.0, 3.0, 2.0, 1.0, 1.0, 3.0, 2.0, 1.0, 1.0, 1.0, 1.0, 3.0, 1.0, 1.0, 1.0, 1.0, 2.0, 2.0, 2.0, 1.0, 1.0, 1.0, 2.0, 2.0, 1.0, 2.0, 1.0, 4.0, 7.0, 1.0, 1.0, 3.0, 1.0, 2.0, 2.0, 2.0, 1.0, 1.0, 1.0, 2.0, 1.0, 1.0, 2.0, 2.0, 7.0, 1.0, 1.0, 1.0, 1.0, 2.0, 5.0, 5.0, 3.0, 1.0, 1.0, 2.0, 3.0, 1.0, 1.0, 1.0, 1.0, 2.0, 1.0, 1.0, 1.0, 1.0, 1.0, 1.0, 1.0, 6.0, 1.0, 1.0, 1.0, 1.0, 1.0, 1.0, 1.0, 1.0, 1.0, 2.0, 1.0, 1.0, 7.0, 1.0, 2.0, 3.0, 1.0, 3.0, 2.0, 4.0, 3.0, 3.0, 2.0, 1.0, 1.0, 1.0, 1.0, 1.0, 1.0, 1.0, 1.0, 1.0, 1.0, 2.0, 3.0, 1.0, 2.0, 2.0, 1.0, 4.0, 1.0, 1.0, 2.0, 2.0, 1.0, 1.0, 1.0, 1.0, 1.0, 1.0, 1.0, 2.0, 2.0, 2.0, 1.0, 3.0, 6.0, 1.0, 2.0, 1.0, 3.0, 1.0, 2.0, 2.0, 1.0, 1.0, 1.0, 1.0, 1.0, 1.0, 2.0, 2.0, 3.0, 1.0, 2.0, 1.0, 1.0, 1.0, 1.0, 4.0, 2.0, 1.0, 4.0, 1.0, 5.0, 1.0, 2.0], \"yaxis\": \"y4\"}],                        {\"annotations\": [{\"font\": {\"size\": 16}, \"showarrow\": false, \"text\": \"Plot 1\", \"x\": 0.225, \"xanchor\": \"center\", \"xref\": \"paper\", \"y\": 1.0, \"yanchor\": \"bottom\", \"yref\": \"paper\"}, {\"font\": {\"size\": 16}, \"showarrow\": false, \"text\": \"\\u00e9\", \"x\": 0.775, \"xanchor\": \"center\", \"xref\": \"paper\", \"y\": 1.0, \"yanchor\": \"bottom\", \"yref\": \"paper\"}, {\"font\": {\"size\": 16}, \"showarrow\": false, \"text\": \"mots cl\\u00e9s diabetes\", \"x\": 0.225, \"xanchor\": \"center\", \"xref\": \"paper\", \"y\": 0.375, \"yanchor\": \"bottom\", \"yref\": \"paper\"}, {\"font\": {\"size\": 16}, \"showarrow\": false, \"text\": \"articles diabetes\", \"x\": 0.775, \"xanchor\": \"center\", \"xref\": \"paper\", \"y\": 0.375, \"yanchor\": \"bottom\", \"yref\": \"paper\"}], \"autosize\": true, \"height\": 800, \"template\": {\"data\": {\"bar\": [{\"error_x\": {\"color\": \"#2a3f5f\"}, \"error_y\": {\"color\": \"#2a3f5f\"}, \"marker\": {\"line\": {\"color\": \"#E5ECF6\", \"width\": 0.5}}, \"type\": \"bar\"}], \"barpolar\": [{\"marker\": {\"line\": {\"color\": \"#E5ECF6\", \"width\": 0.5}}, \"type\": \"barpolar\"}], \"carpet\": [{\"aaxis\": {\"endlinecolor\": \"#2a3f5f\", \"gridcolor\": \"white\", \"linecolor\": \"white\", \"minorgridcolor\": \"white\", \"startlinecolor\": \"#2a3f5f\"}, \"baxis\": {\"endlinecolor\": \"#2a3f5f\", \"gridcolor\": \"white\", \"linecolor\": \"white\", \"minorgridcolor\": \"white\", \"startlinecolor\": \"#2a3f5f\"}, \"type\": \"carpet\"}], \"choropleth\": [{\"colorbar\": {\"outlinewidth\": 0, \"ticks\": \"\"}, \"type\": \"choropleth\"}], \"contour\": [{\"colorbar\": {\"outlinewidth\": 0, \"ticks\": \"\"}, \"colorscale\": [[0.0, \"#0d0887\"], [0.1111111111111111, \"#46039f\"], [0.2222222222222222, \"#7201a8\"], [0.3333333333333333, \"#9c179e\"], [0.4444444444444444, \"#bd3786\"], [0.5555555555555556, \"#d8576b\"], [0.6666666666666666, \"#ed7953\"], [0.7777777777777778, \"#fb9f3a\"], [0.8888888888888888, \"#fdca26\"], [1.0, \"#f0f921\"]], \"type\": \"contour\"}], \"contourcarpet\": [{\"colorbar\": {\"outlinewidth\": 0, \"ticks\": \"\"}, \"type\": \"contourcarpet\"}], \"heatmap\": [{\"colorbar\": {\"outlinewidth\": 0, \"ticks\": \"\"}, \"colorscale\": [[0.0, \"#0d0887\"], [0.1111111111111111, \"#46039f\"], [0.2222222222222222, \"#7201a8\"], [0.3333333333333333, \"#9c179e\"], [0.4444444444444444, \"#bd3786\"], [0.5555555555555556, \"#d8576b\"], [0.6666666666666666, \"#ed7953\"], [0.7777777777777778, \"#fb9f3a\"], [0.8888888888888888, \"#fdca26\"], [1.0, \"#f0f921\"]], \"type\": \"heatmap\"}], \"heatmapgl\": [{\"colorbar\": {\"outlinewidth\": 0, \"ticks\": \"\"}, \"colorscale\": [[0.0, \"#0d0887\"], [0.1111111111111111, \"#46039f\"], [0.2222222222222222, \"#7201a8\"], [0.3333333333333333, \"#9c179e\"], [0.4444444444444444, \"#bd3786\"], [0.5555555555555556, \"#d8576b\"], [0.6666666666666666, \"#ed7953\"], [0.7777777777777778, \"#fb9f3a\"], [0.8888888888888888, \"#fdca26\"], [1.0, \"#f0f921\"]], \"type\": \"heatmapgl\"}], \"histogram\": [{\"marker\": {\"colorbar\": {\"outlinewidth\": 0, \"ticks\": \"\"}}, \"type\": \"histogram\"}], \"histogram2d\": [{\"colorbar\": {\"outlinewidth\": 0, \"ticks\": \"\"}, \"colorscale\": [[0.0, \"#0d0887\"], [0.1111111111111111, \"#46039f\"], [0.2222222222222222, \"#7201a8\"], [0.3333333333333333, \"#9c179e\"], [0.4444444444444444, \"#bd3786\"], [0.5555555555555556, \"#d8576b\"], [0.6666666666666666, \"#ed7953\"], [0.7777777777777778, \"#fb9f3a\"], [0.8888888888888888, \"#fdca26\"], [1.0, \"#f0f921\"]], \"type\": \"histogram2d\"}], \"histogram2dcontour\": [{\"colorbar\": {\"outlinewidth\": 0, \"ticks\": \"\"}, \"colorscale\": [[0.0, \"#0d0887\"], [0.1111111111111111, \"#46039f\"], [0.2222222222222222, \"#7201a8\"], [0.3333333333333333, \"#9c179e\"], [0.4444444444444444, \"#bd3786\"], [0.5555555555555556, \"#d8576b\"], [0.6666666666666666, \"#ed7953\"], [0.7777777777777778, \"#fb9f3a\"], [0.8888888888888888, \"#fdca26\"], [1.0, \"#f0f921\"]], \"type\": \"histogram2dcontour\"}], \"mesh3d\": [{\"colorbar\": {\"outlinewidth\": 0, \"ticks\": \"\"}, \"type\": \"mesh3d\"}], \"parcoords\": [{\"line\": {\"colorbar\": {\"outlinewidth\": 0, \"ticks\": \"\"}}, \"type\": \"parcoords\"}], \"pie\": [{\"automargin\": true, \"type\": \"pie\"}], \"scatter\": [{\"marker\": {\"colorbar\": {\"outlinewidth\": 0, \"ticks\": \"\"}}, \"type\": \"scatter\"}], \"scatter3d\": [{\"line\": {\"colorbar\": {\"outlinewidth\": 0, \"ticks\": \"\"}}, \"marker\": {\"colorbar\": {\"outlinewidth\": 0, \"ticks\": \"\"}}, \"type\": \"scatter3d\"}], \"scattercarpet\": [{\"marker\": {\"colorbar\": {\"outlinewidth\": 0, \"ticks\": \"\"}}, \"type\": \"scattercarpet\"}], \"scattergeo\": [{\"marker\": {\"colorbar\": {\"outlinewidth\": 0, \"ticks\": \"\"}}, \"type\": \"scattergeo\"}], \"scattergl\": [{\"marker\": {\"colorbar\": {\"outlinewidth\": 0, \"ticks\": \"\"}}, \"type\": \"scattergl\"}], \"scattermapbox\": [{\"marker\": {\"colorbar\": {\"outlinewidth\": 0, \"ticks\": \"\"}}, \"type\": \"scattermapbox\"}], \"scatterpolar\": [{\"marker\": {\"colorbar\": {\"outlinewidth\": 0, \"ticks\": \"\"}}, \"type\": \"scatterpolar\"}], \"scatterpolargl\": [{\"marker\": {\"colorbar\": {\"outlinewidth\": 0, \"ticks\": \"\"}}, \"type\": \"scatterpolargl\"}], \"scatterternary\": [{\"marker\": {\"colorbar\": {\"outlinewidth\": 0, \"ticks\": \"\"}}, \"type\": \"scatterternary\"}], \"surface\": [{\"colorbar\": {\"outlinewidth\": 0, \"ticks\": \"\"}, \"colorscale\": [[0.0, \"#0d0887\"], [0.1111111111111111, \"#46039f\"], [0.2222222222222222, \"#7201a8\"], [0.3333333333333333, \"#9c179e\"], [0.4444444444444444, \"#bd3786\"], [0.5555555555555556, \"#d8576b\"], [0.6666666666666666, \"#ed7953\"], [0.7777777777777778, \"#fb9f3a\"], [0.8888888888888888, \"#fdca26\"], [1.0, \"#f0f921\"]], \"type\": \"surface\"}], \"table\": [{\"cells\": {\"fill\": {\"color\": \"#EBF0F8\"}, \"line\": {\"color\": \"white\"}}, \"header\": {\"fill\": {\"color\": \"#C8D4E3\"}, \"line\": {\"color\": \"white\"}}, \"type\": \"table\"}]}, \"layout\": {\"annotationdefaults\": {\"arrowcolor\": \"#2a3f5f\", \"arrowhead\": 0, \"arrowwidth\": 1}, \"autotypenumbers\": \"strict\", \"coloraxis\": {\"colorbar\": {\"outlinewidth\": 0, \"ticks\": \"\"}}, \"colorscale\": {\"diverging\": [[0, \"#8e0152\"], [0.1, \"#c51b7d\"], [0.2, \"#de77ae\"], [0.3, \"#f1b6da\"], [0.4, \"#fde0ef\"], [0.5, \"#f7f7f7\"], [0.6, \"#e6f5d0\"], [0.7, \"#b8e186\"], [0.8, \"#7fbc41\"], [0.9, \"#4d9221\"], [1, \"#276419\"]], \"sequential\": [[0.0, \"#0d0887\"], [0.1111111111111111, \"#46039f\"], [0.2222222222222222, \"#7201a8\"], [0.3333333333333333, \"#9c179e\"], [0.4444444444444444, \"#bd3786\"], [0.5555555555555556, \"#d8576b\"], [0.6666666666666666, \"#ed7953\"], [0.7777777777777778, \"#fb9f3a\"], [0.8888888888888888, \"#fdca26\"], [1.0, \"#f0f921\"]], \"sequentialminus\": [[0.0, \"#0d0887\"], [0.1111111111111111, \"#46039f\"], [0.2222222222222222, \"#7201a8\"], [0.3333333333333333, \"#9c179e\"], [0.4444444444444444, \"#bd3786\"], [0.5555555555555556, \"#d8576b\"], [0.6666666666666666, \"#ed7953\"], [0.7777777777777778, \"#fb9f3a\"], [0.8888888888888888, \"#fdca26\"], [1.0, \"#f0f921\"]]}, \"colorway\": [\"#636efa\", \"#EF553B\", \"#00cc96\", \"#ab63fa\", \"#FFA15A\", \"#19d3f3\", \"#FF6692\", \"#B6E880\", \"#FF97FF\", \"#FECB52\"], \"font\": {\"color\": \"#2a3f5f\"}, \"geo\": {\"bgcolor\": \"white\", \"lakecolor\": \"white\", \"landcolor\": \"#E5ECF6\", \"showlakes\": true, \"showland\": true, \"subunitcolor\": \"white\"}, \"hoverlabel\": {\"align\": \"left\"}, \"hovermode\": \"closest\", \"mapbox\": {\"style\": \"light\"}, \"paper_bgcolor\": \"white\", \"plot_bgcolor\": \"#E5ECF6\", \"polar\": {\"angularaxis\": {\"gridcolor\": \"white\", \"linecolor\": \"white\", \"ticks\": \"\"}, \"bgcolor\": \"#E5ECF6\", \"radialaxis\": {\"gridcolor\": \"white\", \"linecolor\": \"white\", \"ticks\": \"\"}}, \"scene\": {\"xaxis\": {\"backgroundcolor\": \"#E5ECF6\", \"gridcolor\": \"white\", \"gridwidth\": 2, \"linecolor\": \"white\", \"showbackground\": true, \"ticks\": \"\", \"zerolinecolor\": \"white\"}, \"yaxis\": {\"backgroundcolor\": \"#E5ECF6\", \"gridcolor\": \"white\", \"gridwidth\": 2, \"linecolor\": \"white\", \"showbackground\": true, \"ticks\": \"\", \"zerolinecolor\": \"white\"}, \"zaxis\": {\"backgroundcolor\": \"#E5ECF6\", \"gridcolor\": \"white\", \"gridwidth\": 2, \"linecolor\": \"white\", \"showbackground\": true, \"ticks\": \"\", \"zerolinecolor\": \"white\"}}, \"shapedefaults\": {\"line\": {\"color\": \"#2a3f5f\"}}, \"ternary\": {\"aaxis\": {\"gridcolor\": \"white\", \"linecolor\": \"white\", \"ticks\": \"\"}, \"baxis\": {\"gridcolor\": \"white\", \"linecolor\": \"white\", \"ticks\": \"\"}, \"bgcolor\": \"#E5ECF6\", \"caxis\": {\"gridcolor\": \"white\", \"linecolor\": \"white\", \"ticks\": \"\"}}, \"title\": {\"x\": 0.05}, \"xaxis\": {\"automargin\": true, \"gridcolor\": \"white\", \"linecolor\": \"white\", \"ticks\": \"\", \"title\": {\"standoff\": 15}, \"zerolinecolor\": \"white\", \"zerolinewidth\": 2}, \"yaxis\": {\"automargin\": true, \"gridcolor\": \"white\", \"linecolor\": \"white\", \"ticks\": \"\", \"title\": {\"standoff\": 15}, \"zerolinecolor\": \"white\", \"zerolinewidth\": 2}}}, \"width\": 1200, \"xaxis\": {\"anchor\": \"y\", \"domain\": [0.0, 0.45]}, \"xaxis2\": {\"anchor\": \"y2\", \"domain\": [0.55, 1.0]}, \"xaxis3\": {\"anchor\": \"y3\", \"domain\": [0.0, 0.45]}, \"xaxis4\": {\"anchor\": \"y4\", \"domain\": [0.55, 1.0]}, \"yaxis\": {\"anchor\": \"x\", \"automargin\": true, \"domain\": [0.625, 1.0]}, \"yaxis2\": {\"anchor\": \"x2\", \"automargin\": true, \"domain\": [0.625, 1.0]}, \"yaxis3\": {\"anchor\": \"x3\", \"automargin\": true, \"domain\": [0.0, 0.375]}, \"yaxis4\": {\"anchor\": \"x4\", \"automargin\": true, \"domain\": [0.0, 0.375]}},                        {\"responsive\": true}                    ).then(function(){\n",
       "                            \n",
       "var gd = document.getElementById('058d784f-2193-44d1-8fbf-1a055dd8ca16');\n",
       "var x = new MutationObserver(function (mutations, observer) {{\n",
       "        var display = window.getComputedStyle(gd).display;\n",
       "        if (!display || display === 'none') {{\n",
       "            console.log([gd, 'removed!']);\n",
       "            Plotly.purge(gd);\n",
       "            observer.disconnect();\n",
       "        }}\n",
       "}});\n",
       "\n",
       "// Listen for the removal of the full notebook cells\n",
       "var notebookContainer = gd.closest('#notebook-container');\n",
       "if (notebookContainer) {{\n",
       "    x.observe(notebookContainer, {childList: true});\n",
       "}}\n",
       "\n",
       "// Listen for the clearing of the current output cell\n",
       "var outputEl = gd.closest('.output');\n",
       "if (outputEl) {{\n",
       "    x.observe(outputEl, {childList: true});\n",
       "}}\n",
       "\n",
       "                        })                };                });            </script>        </div>"
      ]
     },
     "metadata": {},
     "output_type": "display_data"
    }
   ],
   "source": [
    "# 'count_alzheimer'\n",
    "df4=df_dat_them[['Annee','count_diabetes']]\n",
    "df4= df4[df4['count_diabetes'] >= 1]\n",
    "fig4 = make_subplots(rows=2, cols=2, subplot_titles=['Plot 1', 'é', 'mots clés diabetes','articles diabetes'])\n",
    "fig4.add_scatter(x=df4['Annee'], y= df4['count_diabetes'], row=1, col=1)\n",
    "fig4.add_scatter(x=df4['Annee'], y= df4['count_diabetes'], row=1, col=2)\n",
    "\n",
    "fig4.add_bar(x=list(d_key4.keys()), y=list(d_key4.values()), row=2,col=1)\n",
    "\n",
    "fig4.add_bar(x=df4['Annee'], y=df4['count_diabetes'], row=2,col=2)\n",
    "fig4.update_yaxes(automargin=True)\n",
    "fig4['layout'].update(width=1200, height=800, autosize=True)\n",
    "fig4"
   ]
  },
  {
   "cell_type": "code",
   "execution_count": 88,
   "metadata": {},
   "outputs": [
    {
     "data": {
      "application/vnd.plotly.v1+json": {
       "config": {
        "plotlyServerURL": "https://plot.ly"
       },
       "data": [
        {
         "type": "scatter",
         "x": [
          1997,
          1998,
          2002,
          2005,
          2006,
          2007,
          2008,
          2009,
          2010,
          2013,
          2014,
          2015,
          2016,
          2017,
          2018,
          2019,
          2020
         ],
         "xaxis": "x",
         "y": [
          1,
          1,
          3,
          1,
          2,
          6,
          1,
          2,
          5,
          1,
          1,
          7,
          1,
          1,
          5,
          8,
          4
         ],
         "yaxis": "y"
        },
        {
         "type": "scatter",
         "x": [
          1997,
          1998,
          2002,
          2005,
          2006,
          2007,
          2008,
          2009,
          2010,
          2013,
          2014,
          2015,
          2016,
          2017,
          2018,
          2019,
          2020
         ],
         "xaxis": "x2",
         "y": [
          1,
          1,
          3,
          1,
          2,
          6,
          1,
          2,
          5,
          1,
          1,
          7,
          1,
          1,
          5,
          8,
          4
         ],
         "yaxis": "y2"
        },
        {
         "type": "bar",
         "x": [
          "artificial",
          "acquired",
          "computer",
          "genetics",
          "and",
          "models",
          "immunology",
          "biological",
          "virology",
          "value",
          "immunodeficiency",
          "effects",
          "gp120",
          "1",
          "complications",
          "hiv",
          "trends",
          "results",
          "seropositivity",
          "epidemiology",
          "intelligence",
          "mortality",
          "antiretroviral",
          "information",
          "reproducibility",
          "agents",
          "sensitivity",
          "metabolism",
          "analysis",
          "studies",
          "machine",
          "learning",
          "retina",
          "drug",
          "predictive",
          "infections",
          "specificity"
         ],
         "xaxis": "x3",
         "y": [
          20,
          21,
          22,
          23,
          24,
          25,
          26,
          27,
          28,
          29,
          30,
          31,
          32,
          33,
          34,
          35,
          36,
          37,
          38,
          39,
          40,
          41,
          42,
          43,
          44,
          45,
          46,
          47,
          48,
          49,
          50,
          51,
          52,
          53,
          54,
          55,
          56
         ],
         "yaxis": "y3"
        },
        {
         "type": "bar",
         "x": [
          1997,
          1998,
          2002,
          2005,
          2006,
          2007,
          2008,
          2009,
          2010,
          2013,
          2014,
          2015,
          2016,
          2017,
          2018,
          2019,
          2020
         ],
         "xaxis": "x4",
         "y": [
          1,
          1,
          3,
          1,
          2,
          6,
          1,
          2,
          5,
          1,
          1,
          7,
          1,
          1,
          5,
          8,
          4
         ],
         "yaxis": "y4"
        }
       ],
       "layout": {
        "annotations": [
         {
          "font": {
           "size": 16
          },
          "showarrow": false,
          "text": "Plot 1",
          "x": 0.225,
          "xanchor": "center",
          "xref": "paper",
          "y": 1,
          "yanchor": "bottom",
          "yref": "paper"
         },
         {
          "font": {
           "size": 16
          },
          "showarrow": false,
          "text": "articles AIDS",
          "x": 0.775,
          "xanchor": "center",
          "xref": "paper",
          "y": 1,
          "yanchor": "bottom",
          "yref": "paper"
         },
         {
          "font": {
           "size": 16
          },
          "showarrow": false,
          "text": "mot clés",
          "x": 0.225,
          "xanchor": "center",
          "xref": "paper",
          "y": 0.375,
          "yanchor": "bottom",
          "yref": "paper"
         },
         {
          "font": {
           "size": 16
          },
          "showarrow": false,
          "text": "p4",
          "x": 0.775,
          "xanchor": "center",
          "xref": "paper",
          "y": 0.375,
          "yanchor": "bottom",
          "yref": "paper"
         }
        ],
        "autosize": true,
        "height": 800,
        "template": {
         "data": {
          "bar": [
           {
            "error_x": {
             "color": "#2a3f5f"
            },
            "error_y": {
             "color": "#2a3f5f"
            },
            "marker": {
             "line": {
              "color": "#E5ECF6",
              "width": 0.5
             }
            },
            "type": "bar"
           }
          ],
          "barpolar": [
           {
            "marker": {
             "line": {
              "color": "#E5ECF6",
              "width": 0.5
             }
            },
            "type": "barpolar"
           }
          ],
          "carpet": [
           {
            "aaxis": {
             "endlinecolor": "#2a3f5f",
             "gridcolor": "white",
             "linecolor": "white",
             "minorgridcolor": "white",
             "startlinecolor": "#2a3f5f"
            },
            "baxis": {
             "endlinecolor": "#2a3f5f",
             "gridcolor": "white",
             "linecolor": "white",
             "minorgridcolor": "white",
             "startlinecolor": "#2a3f5f"
            },
            "type": "carpet"
           }
          ],
          "choropleth": [
           {
            "colorbar": {
             "outlinewidth": 0,
             "ticks": ""
            },
            "type": "choropleth"
           }
          ],
          "contour": [
           {
            "colorbar": {
             "outlinewidth": 0,
             "ticks": ""
            },
            "colorscale": [
             [
              0,
              "#0d0887"
             ],
             [
              0.1111111111111111,
              "#46039f"
             ],
             [
              0.2222222222222222,
              "#7201a8"
             ],
             [
              0.3333333333333333,
              "#9c179e"
             ],
             [
              0.4444444444444444,
              "#bd3786"
             ],
             [
              0.5555555555555556,
              "#d8576b"
             ],
             [
              0.6666666666666666,
              "#ed7953"
             ],
             [
              0.7777777777777778,
              "#fb9f3a"
             ],
             [
              0.8888888888888888,
              "#fdca26"
             ],
             [
              1,
              "#f0f921"
             ]
            ],
            "type": "contour"
           }
          ],
          "contourcarpet": [
           {
            "colorbar": {
             "outlinewidth": 0,
             "ticks": ""
            },
            "type": "contourcarpet"
           }
          ],
          "heatmap": [
           {
            "colorbar": {
             "outlinewidth": 0,
             "ticks": ""
            },
            "colorscale": [
             [
              0,
              "#0d0887"
             ],
             [
              0.1111111111111111,
              "#46039f"
             ],
             [
              0.2222222222222222,
              "#7201a8"
             ],
             [
              0.3333333333333333,
              "#9c179e"
             ],
             [
              0.4444444444444444,
              "#bd3786"
             ],
             [
              0.5555555555555556,
              "#d8576b"
             ],
             [
              0.6666666666666666,
              "#ed7953"
             ],
             [
              0.7777777777777778,
              "#fb9f3a"
             ],
             [
              0.8888888888888888,
              "#fdca26"
             ],
             [
              1,
              "#f0f921"
             ]
            ],
            "type": "heatmap"
           }
          ],
          "heatmapgl": [
           {
            "colorbar": {
             "outlinewidth": 0,
             "ticks": ""
            },
            "colorscale": [
             [
              0,
              "#0d0887"
             ],
             [
              0.1111111111111111,
              "#46039f"
             ],
             [
              0.2222222222222222,
              "#7201a8"
             ],
             [
              0.3333333333333333,
              "#9c179e"
             ],
             [
              0.4444444444444444,
              "#bd3786"
             ],
             [
              0.5555555555555556,
              "#d8576b"
             ],
             [
              0.6666666666666666,
              "#ed7953"
             ],
             [
              0.7777777777777778,
              "#fb9f3a"
             ],
             [
              0.8888888888888888,
              "#fdca26"
             ],
             [
              1,
              "#f0f921"
             ]
            ],
            "type": "heatmapgl"
           }
          ],
          "histogram": [
           {
            "marker": {
             "colorbar": {
              "outlinewidth": 0,
              "ticks": ""
             }
            },
            "type": "histogram"
           }
          ],
          "histogram2d": [
           {
            "colorbar": {
             "outlinewidth": 0,
             "ticks": ""
            },
            "colorscale": [
             [
              0,
              "#0d0887"
             ],
             [
              0.1111111111111111,
              "#46039f"
             ],
             [
              0.2222222222222222,
              "#7201a8"
             ],
             [
              0.3333333333333333,
              "#9c179e"
             ],
             [
              0.4444444444444444,
              "#bd3786"
             ],
             [
              0.5555555555555556,
              "#d8576b"
             ],
             [
              0.6666666666666666,
              "#ed7953"
             ],
             [
              0.7777777777777778,
              "#fb9f3a"
             ],
             [
              0.8888888888888888,
              "#fdca26"
             ],
             [
              1,
              "#f0f921"
             ]
            ],
            "type": "histogram2d"
           }
          ],
          "histogram2dcontour": [
           {
            "colorbar": {
             "outlinewidth": 0,
             "ticks": ""
            },
            "colorscale": [
             [
              0,
              "#0d0887"
             ],
             [
              0.1111111111111111,
              "#46039f"
             ],
             [
              0.2222222222222222,
              "#7201a8"
             ],
             [
              0.3333333333333333,
              "#9c179e"
             ],
             [
              0.4444444444444444,
              "#bd3786"
             ],
             [
              0.5555555555555556,
              "#d8576b"
             ],
             [
              0.6666666666666666,
              "#ed7953"
             ],
             [
              0.7777777777777778,
              "#fb9f3a"
             ],
             [
              0.8888888888888888,
              "#fdca26"
             ],
             [
              1,
              "#f0f921"
             ]
            ],
            "type": "histogram2dcontour"
           }
          ],
          "mesh3d": [
           {
            "colorbar": {
             "outlinewidth": 0,
             "ticks": ""
            },
            "type": "mesh3d"
           }
          ],
          "parcoords": [
           {
            "line": {
             "colorbar": {
              "outlinewidth": 0,
              "ticks": ""
             }
            },
            "type": "parcoords"
           }
          ],
          "pie": [
           {
            "automargin": true,
            "type": "pie"
           }
          ],
          "scatter": [
           {
            "marker": {
             "colorbar": {
              "outlinewidth": 0,
              "ticks": ""
             }
            },
            "type": "scatter"
           }
          ],
          "scatter3d": [
           {
            "line": {
             "colorbar": {
              "outlinewidth": 0,
              "ticks": ""
             }
            },
            "marker": {
             "colorbar": {
              "outlinewidth": 0,
              "ticks": ""
             }
            },
            "type": "scatter3d"
           }
          ],
          "scattercarpet": [
           {
            "marker": {
             "colorbar": {
              "outlinewidth": 0,
              "ticks": ""
             }
            },
            "type": "scattercarpet"
           }
          ],
          "scattergeo": [
           {
            "marker": {
             "colorbar": {
              "outlinewidth": 0,
              "ticks": ""
             }
            },
            "type": "scattergeo"
           }
          ],
          "scattergl": [
           {
            "marker": {
             "colorbar": {
              "outlinewidth": 0,
              "ticks": ""
             }
            },
            "type": "scattergl"
           }
          ],
          "scattermapbox": [
           {
            "marker": {
             "colorbar": {
              "outlinewidth": 0,
              "ticks": ""
             }
            },
            "type": "scattermapbox"
           }
          ],
          "scatterpolar": [
           {
            "marker": {
             "colorbar": {
              "outlinewidth": 0,
              "ticks": ""
             }
            },
            "type": "scatterpolar"
           }
          ],
          "scatterpolargl": [
           {
            "marker": {
             "colorbar": {
              "outlinewidth": 0,
              "ticks": ""
             }
            },
            "type": "scatterpolargl"
           }
          ],
          "scatterternary": [
           {
            "marker": {
             "colorbar": {
              "outlinewidth": 0,
              "ticks": ""
             }
            },
            "type": "scatterternary"
           }
          ],
          "surface": [
           {
            "colorbar": {
             "outlinewidth": 0,
             "ticks": ""
            },
            "colorscale": [
             [
              0,
              "#0d0887"
             ],
             [
              0.1111111111111111,
              "#46039f"
             ],
             [
              0.2222222222222222,
              "#7201a8"
             ],
             [
              0.3333333333333333,
              "#9c179e"
             ],
             [
              0.4444444444444444,
              "#bd3786"
             ],
             [
              0.5555555555555556,
              "#d8576b"
             ],
             [
              0.6666666666666666,
              "#ed7953"
             ],
             [
              0.7777777777777778,
              "#fb9f3a"
             ],
             [
              0.8888888888888888,
              "#fdca26"
             ],
             [
              1,
              "#f0f921"
             ]
            ],
            "type": "surface"
           }
          ],
          "table": [
           {
            "cells": {
             "fill": {
              "color": "#EBF0F8"
             },
             "line": {
              "color": "white"
             }
            },
            "header": {
             "fill": {
              "color": "#C8D4E3"
             },
             "line": {
              "color": "white"
             }
            },
            "type": "table"
           }
          ]
         },
         "layout": {
          "annotationdefaults": {
           "arrowcolor": "#2a3f5f",
           "arrowhead": 0,
           "arrowwidth": 1
          },
          "autotypenumbers": "strict",
          "coloraxis": {
           "colorbar": {
            "outlinewidth": 0,
            "ticks": ""
           }
          },
          "colorscale": {
           "diverging": [
            [
             0,
             "#8e0152"
            ],
            [
             0.1,
             "#c51b7d"
            ],
            [
             0.2,
             "#de77ae"
            ],
            [
             0.3,
             "#f1b6da"
            ],
            [
             0.4,
             "#fde0ef"
            ],
            [
             0.5,
             "#f7f7f7"
            ],
            [
             0.6,
             "#e6f5d0"
            ],
            [
             0.7,
             "#b8e186"
            ],
            [
             0.8,
             "#7fbc41"
            ],
            [
             0.9,
             "#4d9221"
            ],
            [
             1,
             "#276419"
            ]
           ],
           "sequential": [
            [
             0,
             "#0d0887"
            ],
            [
             0.1111111111111111,
             "#46039f"
            ],
            [
             0.2222222222222222,
             "#7201a8"
            ],
            [
             0.3333333333333333,
             "#9c179e"
            ],
            [
             0.4444444444444444,
             "#bd3786"
            ],
            [
             0.5555555555555556,
             "#d8576b"
            ],
            [
             0.6666666666666666,
             "#ed7953"
            ],
            [
             0.7777777777777778,
             "#fb9f3a"
            ],
            [
             0.8888888888888888,
             "#fdca26"
            ],
            [
             1,
             "#f0f921"
            ]
           ],
           "sequentialminus": [
            [
             0,
             "#0d0887"
            ],
            [
             0.1111111111111111,
             "#46039f"
            ],
            [
             0.2222222222222222,
             "#7201a8"
            ],
            [
             0.3333333333333333,
             "#9c179e"
            ],
            [
             0.4444444444444444,
             "#bd3786"
            ],
            [
             0.5555555555555556,
             "#d8576b"
            ],
            [
             0.6666666666666666,
             "#ed7953"
            ],
            [
             0.7777777777777778,
             "#fb9f3a"
            ],
            [
             0.8888888888888888,
             "#fdca26"
            ],
            [
             1,
             "#f0f921"
            ]
           ]
          },
          "colorway": [
           "#636efa",
           "#EF553B",
           "#00cc96",
           "#ab63fa",
           "#FFA15A",
           "#19d3f3",
           "#FF6692",
           "#B6E880",
           "#FF97FF",
           "#FECB52"
          ],
          "font": {
           "color": "#2a3f5f"
          },
          "geo": {
           "bgcolor": "white",
           "lakecolor": "white",
           "landcolor": "#E5ECF6",
           "showlakes": true,
           "showland": true,
           "subunitcolor": "white"
          },
          "hoverlabel": {
           "align": "left"
          },
          "hovermode": "closest",
          "mapbox": {
           "style": "light"
          },
          "paper_bgcolor": "white",
          "plot_bgcolor": "#E5ECF6",
          "polar": {
           "angularaxis": {
            "gridcolor": "white",
            "linecolor": "white",
            "ticks": ""
           },
           "bgcolor": "#E5ECF6",
           "radialaxis": {
            "gridcolor": "white",
            "linecolor": "white",
            "ticks": ""
           }
          },
          "scene": {
           "xaxis": {
            "backgroundcolor": "#E5ECF6",
            "gridcolor": "white",
            "gridwidth": 2,
            "linecolor": "white",
            "showbackground": true,
            "ticks": "",
            "zerolinecolor": "white"
           },
           "yaxis": {
            "backgroundcolor": "#E5ECF6",
            "gridcolor": "white",
            "gridwidth": 2,
            "linecolor": "white",
            "showbackground": true,
            "ticks": "",
            "zerolinecolor": "white"
           },
           "zaxis": {
            "backgroundcolor": "#E5ECF6",
            "gridcolor": "white",
            "gridwidth": 2,
            "linecolor": "white",
            "showbackground": true,
            "ticks": "",
            "zerolinecolor": "white"
           }
          },
          "shapedefaults": {
           "line": {
            "color": "#2a3f5f"
           }
          },
          "ternary": {
           "aaxis": {
            "gridcolor": "white",
            "linecolor": "white",
            "ticks": ""
           },
           "baxis": {
            "gridcolor": "white",
            "linecolor": "white",
            "ticks": ""
           },
           "bgcolor": "#E5ECF6",
           "caxis": {
            "gridcolor": "white",
            "linecolor": "white",
            "ticks": ""
           }
          },
          "title": {
           "x": 0.05
          },
          "xaxis": {
           "automargin": true,
           "gridcolor": "white",
           "linecolor": "white",
           "ticks": "",
           "title": {
            "standoff": 15
           },
           "zerolinecolor": "white",
           "zerolinewidth": 2
          },
          "yaxis": {
           "automargin": true,
           "gridcolor": "white",
           "linecolor": "white",
           "ticks": "",
           "title": {
            "standoff": 15
           },
           "zerolinecolor": "white",
           "zerolinewidth": 2
          }
         }
        },
        "width": 1200,
        "xaxis": {
         "anchor": "y",
         "domain": [
          0,
          0.45
         ]
        },
        "xaxis2": {
         "anchor": "y2",
         "domain": [
          0.55,
          1
         ]
        },
        "xaxis3": {
         "anchor": "y3",
         "domain": [
          0,
          0.45
         ]
        },
        "xaxis4": {
         "anchor": "y4",
         "domain": [
          0.55,
          1
         ]
        },
        "yaxis": {
         "anchor": "x",
         "automargin": true,
         "domain": [
          0.625,
          1
         ]
        },
        "yaxis2": {
         "anchor": "x2",
         "automargin": true,
         "domain": [
          0.625,
          1
         ]
        },
        "yaxis3": {
         "anchor": "x3",
         "automargin": true,
         "domain": [
          0,
          0.375
         ]
        },
        "yaxis4": {
         "anchor": "x4",
         "automargin": true,
         "domain": [
          0,
          0.375
         ]
        }
       }
      },
      "text/html": [
       "<div>                            <div id=\"8cbbabd7-9948-4524-92bd-c9406897b55a\" class=\"plotly-graph-div\" style=\"height:800px; width:1200px;\"></div>            <script type=\"text/javascript\">                require([\"plotly\"], function(Plotly) {                    window.PLOTLYENV=window.PLOTLYENV || {};                                    if (document.getElementById(\"8cbbabd7-9948-4524-92bd-c9406897b55a\")) {                    Plotly.newPlot(                        \"8cbbabd7-9948-4524-92bd-c9406897b55a\",                        [{\"type\": \"scatter\", \"x\": [1997, 1998, 2002, 2005, 2006, 2007, 2008, 2009, 2010, 2013, 2014, 2015, 2016, 2017, 2018, 2019, 2020], \"xaxis\": \"x\", \"y\": [1.0, 1.0, 3.0, 1.0, 2.0, 6.0, 1.0, 2.0, 5.0, 1.0, 1.0, 7.0, 1.0, 1.0, 5.0, 8.0, 4.0], \"yaxis\": \"y\"}, {\"type\": \"scatter\", \"x\": [1997, 1998, 2002, 2005, 2006, 2007, 2008, 2009, 2010, 2013, 2014, 2015, 2016, 2017, 2018, 2019, 2020], \"xaxis\": \"x2\", \"y\": [1.0, 1.0, 3.0, 1.0, 2.0, 6.0, 1.0, 2.0, 5.0, 1.0, 1.0, 7.0, 1.0, 1.0, 5.0, 8.0, 4.0], \"yaxis\": \"y2\"}, {\"type\": \"bar\", \"x\": [\"artificial\", \"acquired\", \"computer\", \"genetics\", \"and\", \"models\", \"immunology\", \"biological\", \"virology\", \"value\", \"immunodeficiency\", \"effects\", \"gp120\", \"1\", \"complications\", \"hiv\", \"trends\", \"results\", \"seropositivity\", \"epidemiology\", \"intelligence\", \"mortality\", \"antiretroviral\", \"information\", \"reproducibility\", \"agents\", \"sensitivity\", \"metabolism\", \"analysis\", \"studies\", \"machine\", \"learning\", \"retina\", \"drug\", \"predictive\", \"infections\", \"specificity\"], \"xaxis\": \"x3\", \"y\": [20, 21, 22, 23, 24, 25, 26, 27, 28, 29, 30, 31, 32, 33, 34, 35, 36, 37, 38, 39, 40, 41, 42, 43, 44, 45, 46, 47, 48, 49, 50, 51, 52, 53, 54, 55, 56], \"yaxis\": \"y3\"}, {\"type\": \"bar\", \"x\": [1997, 1998, 2002, 2005, 2006, 2007, 2008, 2009, 2010, 2013, 2014, 2015, 2016, 2017, 2018, 2019, 2020], \"xaxis\": \"x4\", \"y\": [1.0, 1.0, 3.0, 1.0, 2.0, 6.0, 1.0, 2.0, 5.0, 1.0, 1.0, 7.0, 1.0, 1.0, 5.0, 8.0, 4.0], \"yaxis\": \"y4\"}],                        {\"annotations\": [{\"font\": {\"size\": 16}, \"showarrow\": false, \"text\": \"Plot 1\", \"x\": 0.225, \"xanchor\": \"center\", \"xref\": \"paper\", \"y\": 1.0, \"yanchor\": \"bottom\", \"yref\": \"paper\"}, {\"font\": {\"size\": 16}, \"showarrow\": false, \"text\": \"articles AIDS\", \"x\": 0.775, \"xanchor\": \"center\", \"xref\": \"paper\", \"y\": 1.0, \"yanchor\": \"bottom\", \"yref\": \"paper\"}, {\"font\": {\"size\": 16}, \"showarrow\": false, \"text\": \"mot cl\\u00e9s\", \"x\": 0.225, \"xanchor\": \"center\", \"xref\": \"paper\", \"y\": 0.375, \"yanchor\": \"bottom\", \"yref\": \"paper\"}, {\"font\": {\"size\": 16}, \"showarrow\": false, \"text\": \"p4\", \"x\": 0.775, \"xanchor\": \"center\", \"xref\": \"paper\", \"y\": 0.375, \"yanchor\": \"bottom\", \"yref\": \"paper\"}], \"autosize\": true, \"height\": 800, \"template\": {\"data\": {\"bar\": [{\"error_x\": {\"color\": \"#2a3f5f\"}, \"error_y\": {\"color\": \"#2a3f5f\"}, \"marker\": {\"line\": {\"color\": \"#E5ECF6\", \"width\": 0.5}}, \"type\": \"bar\"}], \"barpolar\": [{\"marker\": {\"line\": {\"color\": \"#E5ECF6\", \"width\": 0.5}}, \"type\": \"barpolar\"}], \"carpet\": [{\"aaxis\": {\"endlinecolor\": \"#2a3f5f\", \"gridcolor\": \"white\", \"linecolor\": \"white\", \"minorgridcolor\": \"white\", \"startlinecolor\": \"#2a3f5f\"}, \"baxis\": {\"endlinecolor\": \"#2a3f5f\", \"gridcolor\": \"white\", \"linecolor\": \"white\", \"minorgridcolor\": \"white\", \"startlinecolor\": \"#2a3f5f\"}, \"type\": \"carpet\"}], \"choropleth\": [{\"colorbar\": {\"outlinewidth\": 0, \"ticks\": \"\"}, \"type\": \"choropleth\"}], \"contour\": [{\"colorbar\": {\"outlinewidth\": 0, \"ticks\": \"\"}, \"colorscale\": [[0.0, \"#0d0887\"], [0.1111111111111111, \"#46039f\"], [0.2222222222222222, \"#7201a8\"], [0.3333333333333333, \"#9c179e\"], [0.4444444444444444, \"#bd3786\"], [0.5555555555555556, \"#d8576b\"], [0.6666666666666666, \"#ed7953\"], [0.7777777777777778, \"#fb9f3a\"], [0.8888888888888888, \"#fdca26\"], [1.0, \"#f0f921\"]], \"type\": \"contour\"}], \"contourcarpet\": [{\"colorbar\": {\"outlinewidth\": 0, \"ticks\": \"\"}, \"type\": \"contourcarpet\"}], \"heatmap\": [{\"colorbar\": {\"outlinewidth\": 0, \"ticks\": \"\"}, \"colorscale\": [[0.0, \"#0d0887\"], [0.1111111111111111, \"#46039f\"], [0.2222222222222222, \"#7201a8\"], [0.3333333333333333, \"#9c179e\"], [0.4444444444444444, \"#bd3786\"], [0.5555555555555556, \"#d8576b\"], [0.6666666666666666, \"#ed7953\"], [0.7777777777777778, \"#fb9f3a\"], [0.8888888888888888, \"#fdca26\"], [1.0, \"#f0f921\"]], \"type\": \"heatmap\"}], \"heatmapgl\": [{\"colorbar\": {\"outlinewidth\": 0, \"ticks\": \"\"}, \"colorscale\": [[0.0, \"#0d0887\"], [0.1111111111111111, \"#46039f\"], [0.2222222222222222, \"#7201a8\"], [0.3333333333333333, \"#9c179e\"], [0.4444444444444444, \"#bd3786\"], [0.5555555555555556, \"#d8576b\"], [0.6666666666666666, \"#ed7953\"], [0.7777777777777778, \"#fb9f3a\"], [0.8888888888888888, \"#fdca26\"], [1.0, \"#f0f921\"]], \"type\": \"heatmapgl\"}], \"histogram\": [{\"marker\": {\"colorbar\": {\"outlinewidth\": 0, \"ticks\": \"\"}}, \"type\": \"histogram\"}], \"histogram2d\": [{\"colorbar\": {\"outlinewidth\": 0, \"ticks\": \"\"}, \"colorscale\": [[0.0, \"#0d0887\"], [0.1111111111111111, \"#46039f\"], [0.2222222222222222, \"#7201a8\"], [0.3333333333333333, \"#9c179e\"], [0.4444444444444444, \"#bd3786\"], [0.5555555555555556, \"#d8576b\"], [0.6666666666666666, \"#ed7953\"], [0.7777777777777778, \"#fb9f3a\"], [0.8888888888888888, \"#fdca26\"], [1.0, \"#f0f921\"]], \"type\": \"histogram2d\"}], \"histogram2dcontour\": [{\"colorbar\": {\"outlinewidth\": 0, \"ticks\": \"\"}, \"colorscale\": [[0.0, \"#0d0887\"], [0.1111111111111111, \"#46039f\"], [0.2222222222222222, \"#7201a8\"], [0.3333333333333333, \"#9c179e\"], [0.4444444444444444, \"#bd3786\"], [0.5555555555555556, \"#d8576b\"], [0.6666666666666666, \"#ed7953\"], [0.7777777777777778, \"#fb9f3a\"], [0.8888888888888888, \"#fdca26\"], [1.0, \"#f0f921\"]], \"type\": \"histogram2dcontour\"}], \"mesh3d\": [{\"colorbar\": {\"outlinewidth\": 0, \"ticks\": \"\"}, \"type\": \"mesh3d\"}], \"parcoords\": [{\"line\": {\"colorbar\": {\"outlinewidth\": 0, \"ticks\": \"\"}}, \"type\": \"parcoords\"}], \"pie\": [{\"automargin\": true, \"type\": \"pie\"}], \"scatter\": [{\"marker\": {\"colorbar\": {\"outlinewidth\": 0, \"ticks\": \"\"}}, \"type\": \"scatter\"}], \"scatter3d\": [{\"line\": {\"colorbar\": {\"outlinewidth\": 0, \"ticks\": \"\"}}, \"marker\": {\"colorbar\": {\"outlinewidth\": 0, \"ticks\": \"\"}}, \"type\": \"scatter3d\"}], \"scattercarpet\": [{\"marker\": {\"colorbar\": {\"outlinewidth\": 0, \"ticks\": \"\"}}, \"type\": \"scattercarpet\"}], \"scattergeo\": [{\"marker\": {\"colorbar\": {\"outlinewidth\": 0, \"ticks\": \"\"}}, \"type\": \"scattergeo\"}], \"scattergl\": [{\"marker\": {\"colorbar\": {\"outlinewidth\": 0, \"ticks\": \"\"}}, \"type\": \"scattergl\"}], \"scattermapbox\": [{\"marker\": {\"colorbar\": {\"outlinewidth\": 0, \"ticks\": \"\"}}, \"type\": \"scattermapbox\"}], \"scatterpolar\": [{\"marker\": {\"colorbar\": {\"outlinewidth\": 0, \"ticks\": \"\"}}, \"type\": \"scatterpolar\"}], \"scatterpolargl\": [{\"marker\": {\"colorbar\": {\"outlinewidth\": 0, \"ticks\": \"\"}}, \"type\": \"scatterpolargl\"}], \"scatterternary\": [{\"marker\": {\"colorbar\": {\"outlinewidth\": 0, \"ticks\": \"\"}}, \"type\": \"scatterternary\"}], \"surface\": [{\"colorbar\": {\"outlinewidth\": 0, \"ticks\": \"\"}, \"colorscale\": [[0.0, \"#0d0887\"], [0.1111111111111111, \"#46039f\"], [0.2222222222222222, \"#7201a8\"], [0.3333333333333333, \"#9c179e\"], [0.4444444444444444, \"#bd3786\"], [0.5555555555555556, \"#d8576b\"], [0.6666666666666666, \"#ed7953\"], [0.7777777777777778, \"#fb9f3a\"], [0.8888888888888888, \"#fdca26\"], [1.0, \"#f0f921\"]], \"type\": \"surface\"}], \"table\": [{\"cells\": {\"fill\": {\"color\": \"#EBF0F8\"}, \"line\": {\"color\": \"white\"}}, \"header\": {\"fill\": {\"color\": \"#C8D4E3\"}, \"line\": {\"color\": \"white\"}}, \"type\": \"table\"}]}, \"layout\": {\"annotationdefaults\": {\"arrowcolor\": \"#2a3f5f\", \"arrowhead\": 0, \"arrowwidth\": 1}, \"autotypenumbers\": \"strict\", \"coloraxis\": {\"colorbar\": {\"outlinewidth\": 0, \"ticks\": \"\"}}, \"colorscale\": {\"diverging\": [[0, \"#8e0152\"], [0.1, \"#c51b7d\"], [0.2, \"#de77ae\"], [0.3, \"#f1b6da\"], [0.4, \"#fde0ef\"], [0.5, \"#f7f7f7\"], [0.6, \"#e6f5d0\"], [0.7, \"#b8e186\"], [0.8, \"#7fbc41\"], [0.9, \"#4d9221\"], [1, \"#276419\"]], \"sequential\": [[0.0, \"#0d0887\"], [0.1111111111111111, \"#46039f\"], [0.2222222222222222, \"#7201a8\"], [0.3333333333333333, \"#9c179e\"], [0.4444444444444444, \"#bd3786\"], [0.5555555555555556, \"#d8576b\"], [0.6666666666666666, \"#ed7953\"], [0.7777777777777778, \"#fb9f3a\"], [0.8888888888888888, \"#fdca26\"], [1.0, \"#f0f921\"]], \"sequentialminus\": [[0.0, \"#0d0887\"], [0.1111111111111111, \"#46039f\"], [0.2222222222222222, \"#7201a8\"], [0.3333333333333333, \"#9c179e\"], [0.4444444444444444, \"#bd3786\"], [0.5555555555555556, \"#d8576b\"], [0.6666666666666666, \"#ed7953\"], [0.7777777777777778, \"#fb9f3a\"], [0.8888888888888888, \"#fdca26\"], [1.0, \"#f0f921\"]]}, \"colorway\": [\"#636efa\", \"#EF553B\", \"#00cc96\", \"#ab63fa\", \"#FFA15A\", \"#19d3f3\", \"#FF6692\", \"#B6E880\", \"#FF97FF\", \"#FECB52\"], \"font\": {\"color\": \"#2a3f5f\"}, \"geo\": {\"bgcolor\": \"white\", \"lakecolor\": \"white\", \"landcolor\": \"#E5ECF6\", \"showlakes\": true, \"showland\": true, \"subunitcolor\": \"white\"}, \"hoverlabel\": {\"align\": \"left\"}, \"hovermode\": \"closest\", \"mapbox\": {\"style\": \"light\"}, \"paper_bgcolor\": \"white\", \"plot_bgcolor\": \"#E5ECF6\", \"polar\": {\"angularaxis\": {\"gridcolor\": \"white\", \"linecolor\": \"white\", \"ticks\": \"\"}, \"bgcolor\": \"#E5ECF6\", \"radialaxis\": {\"gridcolor\": \"white\", \"linecolor\": \"white\", \"ticks\": \"\"}}, \"scene\": {\"xaxis\": {\"backgroundcolor\": \"#E5ECF6\", \"gridcolor\": \"white\", \"gridwidth\": 2, \"linecolor\": \"white\", \"showbackground\": true, \"ticks\": \"\", \"zerolinecolor\": \"white\"}, \"yaxis\": {\"backgroundcolor\": \"#E5ECF6\", \"gridcolor\": \"white\", \"gridwidth\": 2, \"linecolor\": \"white\", \"showbackground\": true, \"ticks\": \"\", \"zerolinecolor\": \"white\"}, \"zaxis\": {\"backgroundcolor\": \"#E5ECF6\", \"gridcolor\": \"white\", \"gridwidth\": 2, \"linecolor\": \"white\", \"showbackground\": true, \"ticks\": \"\", \"zerolinecolor\": \"white\"}}, \"shapedefaults\": {\"line\": {\"color\": \"#2a3f5f\"}}, \"ternary\": {\"aaxis\": {\"gridcolor\": \"white\", \"linecolor\": \"white\", \"ticks\": \"\"}, \"baxis\": {\"gridcolor\": \"white\", \"linecolor\": \"white\", \"ticks\": \"\"}, \"bgcolor\": \"#E5ECF6\", \"caxis\": {\"gridcolor\": \"white\", \"linecolor\": \"white\", \"ticks\": \"\"}}, \"title\": {\"x\": 0.05}, \"xaxis\": {\"automargin\": true, \"gridcolor\": \"white\", \"linecolor\": \"white\", \"ticks\": \"\", \"title\": {\"standoff\": 15}, \"zerolinecolor\": \"white\", \"zerolinewidth\": 2}, \"yaxis\": {\"automargin\": true, \"gridcolor\": \"white\", \"linecolor\": \"white\", \"ticks\": \"\", \"title\": {\"standoff\": 15}, \"zerolinecolor\": \"white\", \"zerolinewidth\": 2}}}, \"width\": 1200, \"xaxis\": {\"anchor\": \"y\", \"domain\": [0.0, 0.45]}, \"xaxis2\": {\"anchor\": \"y2\", \"domain\": [0.55, 1.0]}, \"xaxis3\": {\"anchor\": \"y3\", \"domain\": [0.0, 0.45]}, \"xaxis4\": {\"anchor\": \"y4\", \"domain\": [0.55, 1.0]}, \"yaxis\": {\"anchor\": \"x\", \"automargin\": true, \"domain\": [0.625, 1.0]}, \"yaxis2\": {\"anchor\": \"x2\", \"automargin\": true, \"domain\": [0.625, 1.0]}, \"yaxis3\": {\"anchor\": \"x3\", \"automargin\": true, \"domain\": [0.0, 0.375]}, \"yaxis4\": {\"anchor\": \"x4\", \"automargin\": true, \"domain\": [0.0, 0.375]}},                        {\"responsive\": true}                    ).then(function(){\n",
       "                            \n",
       "var gd = document.getElementById('8cbbabd7-9948-4524-92bd-c9406897b55a');\n",
       "var x = new MutationObserver(function (mutations, observer) {{\n",
       "        var display = window.getComputedStyle(gd).display;\n",
       "        if (!display || display === 'none') {{\n",
       "            console.log([gd, 'removed!']);\n",
       "            Plotly.purge(gd);\n",
       "            observer.disconnect();\n",
       "        }}\n",
       "}});\n",
       "\n",
       "// Listen for the removal of the full notebook cells\n",
       "var notebookContainer = gd.closest('#notebook-container');\n",
       "if (notebookContainer) {{\n",
       "    x.observe(notebookContainer, {childList: true});\n",
       "}}\n",
       "\n",
       "// Listen for the clearing of the current output cell\n",
       "var outputEl = gd.closest('.output');\n",
       "if (outputEl) {{\n",
       "    x.observe(outputEl, {childList: true});\n",
       "}}\n",
       "\n",
       "                        })                };                });            </script>        </div>"
      ]
     },
     "metadata": {},
     "output_type": "display_data"
    }
   ],
   "source": [
    "# 'count_AIDS'\n",
    "df5=df_dat_them[['Annee','count_AIDS']]\n",
    "df5= df5[df5['count_AIDS'] >= 1]\n",
    "df5 = df5.groupby(['Annee']).count_AIDS.sum().reset_index()\n",
    "fig5 = make_subplots(rows=2, cols=2, subplot_titles=['Plot 1', 'articles AIDS', 'mot clés','p4'])\n",
    "\n",
    "fig5.add_scatter(x=df5['Annee'], y= df5['count_AIDS'], row=1, col=1)\n",
    "fig5.add_scatter(x=df5['Annee'], y= df5['count_AIDS'], row=1, col=2)\n",
    "fig5.add_bar(x=list(d_key5.keys()), y=list(d_key5.values()), row=2,col=1)\n",
    "fig5.add_bar(x=df5['Annee'], y=df5['count_AIDS'], row=2,col=2)\n",
    "fig5.update_yaxes(automargin=True)\n",
    "fig5['layout'].update(width=1200, height=800, autosize=True)\n",
    "fig5"
   ]
  },
  {
   "cell_type": "code",
   "execution_count": 89,
   "metadata": {},
   "outputs": [
    {
     "data": {
      "application/vnd.plotly.v1+json": {
       "config": {
        "plotlyServerURL": "https://plot.ly"
       },
       "data": [
        {
         "type": "scatter",
         "x": [
          1998,
          2003,
          2006,
          2007,
          2008,
          2010,
          2011,
          2012,
          2013,
          2015,
          2016,
          2017,
          2018,
          2019,
          2020,
          2021
         ],
         "xaxis": "x",
         "y": [
          1,
          3,
          4,
          2,
          4,
          2,
          1,
          2,
          13,
          8,
          8,
          5,
          14,
          26,
          28,
          1
         ],
         "yaxis": "y"
        },
        {
         "type": "bar",
         "x": [
          1998,
          2003,
          2006,
          2007,
          2008,
          2010,
          2011,
          2012,
          2013,
          2015,
          2016,
          2017,
          2018,
          2019,
          2020,
          2021
         ],
         "xaxis": "x2",
         "y": [
          1,
          3,
          4,
          2,
          4,
          2,
          1,
          2,
          13,
          8,
          8,
          5,
          14,
          26,
          28,
          1
         ],
         "yaxis": "y2"
        },
        {
         "type": "bar",
         "x": [
          "cortex",
          "agents",
          "emergency",
          "phenotype",
          "studies",
          "analysis",
          "genetic",
          "therapy",
          "n",
          "rats",
          "assisted",
          "asthmatic",
          "expression",
          "diagnosis",
          "theorem",
          "endotoxins",
          "service",
          "molecular",
          "markers",
          "potassium",
          "instrumentation",
          "roc",
          "adolescent",
          "child",
          "matter",
          "sounds",
          "severity",
          "profiling",
          "environmental",
          "management",
          "sensitivity",
          "metabolism",
          "use",
          "case",
          "calcium",
          "animals"
         ],
         "xaxis": "x3",
         "y": [
          80,
          81,
          82,
          83,
          84,
          85,
          86,
          87,
          88,
          89,
          90,
          91,
          92,
          93,
          94,
          95,
          96,
          97,
          98,
          99,
          100,
          101,
          102,
          103,
          104,
          105,
          106,
          107,
          108,
          109,
          110,
          111,
          112,
          113,
          114,
          115
         ],
         "yaxis": "y3"
        },
        {
         "type": "bar",
         "x": [
          1998,
          2003,
          2006,
          2007,
          2008,
          2010,
          2011,
          2012,
          2013,
          2015,
          2016,
          2017,
          2018,
          2019,
          2020,
          2021
         ],
         "xaxis": "x4",
         "y": [
          1,
          3,
          4,
          2,
          4,
          2,
          1,
          2,
          13,
          8,
          8,
          5,
          14,
          26,
          28,
          1
         ],
         "yaxis": "y4"
        }
       ],
       "layout": {
        "annotations": [
         {
          "font": {
           "size": 16
          },
          "showarrow": false,
          "text": "Plot 1",
          "x": 0.225,
          "xanchor": "center",
          "xref": "paper",
          "y": 1,
          "yanchor": "bottom",
          "yref": "paper"
         },
         {
          "font": {
           "size": 16
          },
          "showarrow": false,
          "text": "articles asthma",
          "x": 0.775,
          "xanchor": "center",
          "xref": "paper",
          "y": 1,
          "yanchor": "bottom",
          "yref": "paper"
         },
         {
          "font": {
           "size": 16
          },
          "showarrow": false,
          "text": "mots clés",
          "x": 0.225,
          "xanchor": "center",
          "xref": "paper",
          "y": 0.375,
          "yanchor": "bottom",
          "yref": "paper"
         },
         {
          "font": {
           "size": 16
          },
          "showarrow": false,
          "text": " p4",
          "x": 0.775,
          "xanchor": "center",
          "xref": "paper",
          "y": 0.375,
          "yanchor": "bottom",
          "yref": "paper"
         }
        ],
        "autosize": true,
        "height": 800,
        "template": {
         "data": {
          "bar": [
           {
            "error_x": {
             "color": "#2a3f5f"
            },
            "error_y": {
             "color": "#2a3f5f"
            },
            "marker": {
             "line": {
              "color": "#E5ECF6",
              "width": 0.5
             }
            },
            "type": "bar"
           }
          ],
          "barpolar": [
           {
            "marker": {
             "line": {
              "color": "#E5ECF6",
              "width": 0.5
             }
            },
            "type": "barpolar"
           }
          ],
          "carpet": [
           {
            "aaxis": {
             "endlinecolor": "#2a3f5f",
             "gridcolor": "white",
             "linecolor": "white",
             "minorgridcolor": "white",
             "startlinecolor": "#2a3f5f"
            },
            "baxis": {
             "endlinecolor": "#2a3f5f",
             "gridcolor": "white",
             "linecolor": "white",
             "minorgridcolor": "white",
             "startlinecolor": "#2a3f5f"
            },
            "type": "carpet"
           }
          ],
          "choropleth": [
           {
            "colorbar": {
             "outlinewidth": 0,
             "ticks": ""
            },
            "type": "choropleth"
           }
          ],
          "contour": [
           {
            "colorbar": {
             "outlinewidth": 0,
             "ticks": ""
            },
            "colorscale": [
             [
              0,
              "#0d0887"
             ],
             [
              0.1111111111111111,
              "#46039f"
             ],
             [
              0.2222222222222222,
              "#7201a8"
             ],
             [
              0.3333333333333333,
              "#9c179e"
             ],
             [
              0.4444444444444444,
              "#bd3786"
             ],
             [
              0.5555555555555556,
              "#d8576b"
             ],
             [
              0.6666666666666666,
              "#ed7953"
             ],
             [
              0.7777777777777778,
              "#fb9f3a"
             ],
             [
              0.8888888888888888,
              "#fdca26"
             ],
             [
              1,
              "#f0f921"
             ]
            ],
            "type": "contour"
           }
          ],
          "contourcarpet": [
           {
            "colorbar": {
             "outlinewidth": 0,
             "ticks": ""
            },
            "type": "contourcarpet"
           }
          ],
          "heatmap": [
           {
            "colorbar": {
             "outlinewidth": 0,
             "ticks": ""
            },
            "colorscale": [
             [
              0,
              "#0d0887"
             ],
             [
              0.1111111111111111,
              "#46039f"
             ],
             [
              0.2222222222222222,
              "#7201a8"
             ],
             [
              0.3333333333333333,
              "#9c179e"
             ],
             [
              0.4444444444444444,
              "#bd3786"
             ],
             [
              0.5555555555555556,
              "#d8576b"
             ],
             [
              0.6666666666666666,
              "#ed7953"
             ],
             [
              0.7777777777777778,
              "#fb9f3a"
             ],
             [
              0.8888888888888888,
              "#fdca26"
             ],
             [
              1,
              "#f0f921"
             ]
            ],
            "type": "heatmap"
           }
          ],
          "heatmapgl": [
           {
            "colorbar": {
             "outlinewidth": 0,
             "ticks": ""
            },
            "colorscale": [
             [
              0,
              "#0d0887"
             ],
             [
              0.1111111111111111,
              "#46039f"
             ],
             [
              0.2222222222222222,
              "#7201a8"
             ],
             [
              0.3333333333333333,
              "#9c179e"
             ],
             [
              0.4444444444444444,
              "#bd3786"
             ],
             [
              0.5555555555555556,
              "#d8576b"
             ],
             [
              0.6666666666666666,
              "#ed7953"
             ],
             [
              0.7777777777777778,
              "#fb9f3a"
             ],
             [
              0.8888888888888888,
              "#fdca26"
             ],
             [
              1,
              "#f0f921"
             ]
            ],
            "type": "heatmapgl"
           }
          ],
          "histogram": [
           {
            "marker": {
             "colorbar": {
              "outlinewidth": 0,
              "ticks": ""
             }
            },
            "type": "histogram"
           }
          ],
          "histogram2d": [
           {
            "colorbar": {
             "outlinewidth": 0,
             "ticks": ""
            },
            "colorscale": [
             [
              0,
              "#0d0887"
             ],
             [
              0.1111111111111111,
              "#46039f"
             ],
             [
              0.2222222222222222,
              "#7201a8"
             ],
             [
              0.3333333333333333,
              "#9c179e"
             ],
             [
              0.4444444444444444,
              "#bd3786"
             ],
             [
              0.5555555555555556,
              "#d8576b"
             ],
             [
              0.6666666666666666,
              "#ed7953"
             ],
             [
              0.7777777777777778,
              "#fb9f3a"
             ],
             [
              0.8888888888888888,
              "#fdca26"
             ],
             [
              1,
              "#f0f921"
             ]
            ],
            "type": "histogram2d"
           }
          ],
          "histogram2dcontour": [
           {
            "colorbar": {
             "outlinewidth": 0,
             "ticks": ""
            },
            "colorscale": [
             [
              0,
              "#0d0887"
             ],
             [
              0.1111111111111111,
              "#46039f"
             ],
             [
              0.2222222222222222,
              "#7201a8"
             ],
             [
              0.3333333333333333,
              "#9c179e"
             ],
             [
              0.4444444444444444,
              "#bd3786"
             ],
             [
              0.5555555555555556,
              "#d8576b"
             ],
             [
              0.6666666666666666,
              "#ed7953"
             ],
             [
              0.7777777777777778,
              "#fb9f3a"
             ],
             [
              0.8888888888888888,
              "#fdca26"
             ],
             [
              1,
              "#f0f921"
             ]
            ],
            "type": "histogram2dcontour"
           }
          ],
          "mesh3d": [
           {
            "colorbar": {
             "outlinewidth": 0,
             "ticks": ""
            },
            "type": "mesh3d"
           }
          ],
          "parcoords": [
           {
            "line": {
             "colorbar": {
              "outlinewidth": 0,
              "ticks": ""
             }
            },
            "type": "parcoords"
           }
          ],
          "pie": [
           {
            "automargin": true,
            "type": "pie"
           }
          ],
          "scatter": [
           {
            "marker": {
             "colorbar": {
              "outlinewidth": 0,
              "ticks": ""
             }
            },
            "type": "scatter"
           }
          ],
          "scatter3d": [
           {
            "line": {
             "colorbar": {
              "outlinewidth": 0,
              "ticks": ""
             }
            },
            "marker": {
             "colorbar": {
              "outlinewidth": 0,
              "ticks": ""
             }
            },
            "type": "scatter3d"
           }
          ],
          "scattercarpet": [
           {
            "marker": {
             "colorbar": {
              "outlinewidth": 0,
              "ticks": ""
             }
            },
            "type": "scattercarpet"
           }
          ],
          "scattergeo": [
           {
            "marker": {
             "colorbar": {
              "outlinewidth": 0,
              "ticks": ""
             }
            },
            "type": "scattergeo"
           }
          ],
          "scattergl": [
           {
            "marker": {
             "colorbar": {
              "outlinewidth": 0,
              "ticks": ""
             }
            },
            "type": "scattergl"
           }
          ],
          "scattermapbox": [
           {
            "marker": {
             "colorbar": {
              "outlinewidth": 0,
              "ticks": ""
             }
            },
            "type": "scattermapbox"
           }
          ],
          "scatterpolar": [
           {
            "marker": {
             "colorbar": {
              "outlinewidth": 0,
              "ticks": ""
             }
            },
            "type": "scatterpolar"
           }
          ],
          "scatterpolargl": [
           {
            "marker": {
             "colorbar": {
              "outlinewidth": 0,
              "ticks": ""
             }
            },
            "type": "scatterpolargl"
           }
          ],
          "scatterternary": [
           {
            "marker": {
             "colorbar": {
              "outlinewidth": 0,
              "ticks": ""
             }
            },
            "type": "scatterternary"
           }
          ],
          "surface": [
           {
            "colorbar": {
             "outlinewidth": 0,
             "ticks": ""
            },
            "colorscale": [
             [
              0,
              "#0d0887"
             ],
             [
              0.1111111111111111,
              "#46039f"
             ],
             [
              0.2222222222222222,
              "#7201a8"
             ],
             [
              0.3333333333333333,
              "#9c179e"
             ],
             [
              0.4444444444444444,
              "#bd3786"
             ],
             [
              0.5555555555555556,
              "#d8576b"
             ],
             [
              0.6666666666666666,
              "#ed7953"
             ],
             [
              0.7777777777777778,
              "#fb9f3a"
             ],
             [
              0.8888888888888888,
              "#fdca26"
             ],
             [
              1,
              "#f0f921"
             ]
            ],
            "type": "surface"
           }
          ],
          "table": [
           {
            "cells": {
             "fill": {
              "color": "#EBF0F8"
             },
             "line": {
              "color": "white"
             }
            },
            "header": {
             "fill": {
              "color": "#C8D4E3"
             },
             "line": {
              "color": "white"
             }
            },
            "type": "table"
           }
          ]
         },
         "layout": {
          "annotationdefaults": {
           "arrowcolor": "#2a3f5f",
           "arrowhead": 0,
           "arrowwidth": 1
          },
          "autotypenumbers": "strict",
          "coloraxis": {
           "colorbar": {
            "outlinewidth": 0,
            "ticks": ""
           }
          },
          "colorscale": {
           "diverging": [
            [
             0,
             "#8e0152"
            ],
            [
             0.1,
             "#c51b7d"
            ],
            [
             0.2,
             "#de77ae"
            ],
            [
             0.3,
             "#f1b6da"
            ],
            [
             0.4,
             "#fde0ef"
            ],
            [
             0.5,
             "#f7f7f7"
            ],
            [
             0.6,
             "#e6f5d0"
            ],
            [
             0.7,
             "#b8e186"
            ],
            [
             0.8,
             "#7fbc41"
            ],
            [
             0.9,
             "#4d9221"
            ],
            [
             1,
             "#276419"
            ]
           ],
           "sequential": [
            [
             0,
             "#0d0887"
            ],
            [
             0.1111111111111111,
             "#46039f"
            ],
            [
             0.2222222222222222,
             "#7201a8"
            ],
            [
             0.3333333333333333,
             "#9c179e"
            ],
            [
             0.4444444444444444,
             "#bd3786"
            ],
            [
             0.5555555555555556,
             "#d8576b"
            ],
            [
             0.6666666666666666,
             "#ed7953"
            ],
            [
             0.7777777777777778,
             "#fb9f3a"
            ],
            [
             0.8888888888888888,
             "#fdca26"
            ],
            [
             1,
             "#f0f921"
            ]
           ],
           "sequentialminus": [
            [
             0,
             "#0d0887"
            ],
            [
             0.1111111111111111,
             "#46039f"
            ],
            [
             0.2222222222222222,
             "#7201a8"
            ],
            [
             0.3333333333333333,
             "#9c179e"
            ],
            [
             0.4444444444444444,
             "#bd3786"
            ],
            [
             0.5555555555555556,
             "#d8576b"
            ],
            [
             0.6666666666666666,
             "#ed7953"
            ],
            [
             0.7777777777777778,
             "#fb9f3a"
            ],
            [
             0.8888888888888888,
             "#fdca26"
            ],
            [
             1,
             "#f0f921"
            ]
           ]
          },
          "colorway": [
           "#636efa",
           "#EF553B",
           "#00cc96",
           "#ab63fa",
           "#FFA15A",
           "#19d3f3",
           "#FF6692",
           "#B6E880",
           "#FF97FF",
           "#FECB52"
          ],
          "font": {
           "color": "#2a3f5f"
          },
          "geo": {
           "bgcolor": "white",
           "lakecolor": "white",
           "landcolor": "#E5ECF6",
           "showlakes": true,
           "showland": true,
           "subunitcolor": "white"
          },
          "hoverlabel": {
           "align": "left"
          },
          "hovermode": "closest",
          "mapbox": {
           "style": "light"
          },
          "paper_bgcolor": "white",
          "plot_bgcolor": "#E5ECF6",
          "polar": {
           "angularaxis": {
            "gridcolor": "white",
            "linecolor": "white",
            "ticks": ""
           },
           "bgcolor": "#E5ECF6",
           "radialaxis": {
            "gridcolor": "white",
            "linecolor": "white",
            "ticks": ""
           }
          },
          "scene": {
           "xaxis": {
            "backgroundcolor": "#E5ECF6",
            "gridcolor": "white",
            "gridwidth": 2,
            "linecolor": "white",
            "showbackground": true,
            "ticks": "",
            "zerolinecolor": "white"
           },
           "yaxis": {
            "backgroundcolor": "#E5ECF6",
            "gridcolor": "white",
            "gridwidth": 2,
            "linecolor": "white",
            "showbackground": true,
            "ticks": "",
            "zerolinecolor": "white"
           },
           "zaxis": {
            "backgroundcolor": "#E5ECF6",
            "gridcolor": "white",
            "gridwidth": 2,
            "linecolor": "white",
            "showbackground": true,
            "ticks": "",
            "zerolinecolor": "white"
           }
          },
          "shapedefaults": {
           "line": {
            "color": "#2a3f5f"
           }
          },
          "ternary": {
           "aaxis": {
            "gridcolor": "white",
            "linecolor": "white",
            "ticks": ""
           },
           "baxis": {
            "gridcolor": "white",
            "linecolor": "white",
            "ticks": ""
           },
           "bgcolor": "#E5ECF6",
           "caxis": {
            "gridcolor": "white",
            "linecolor": "white",
            "ticks": ""
           }
          },
          "title": {
           "x": 0.05
          },
          "xaxis": {
           "automargin": true,
           "gridcolor": "white",
           "linecolor": "white",
           "ticks": "",
           "title": {
            "standoff": 15
           },
           "zerolinecolor": "white",
           "zerolinewidth": 2
          },
          "yaxis": {
           "automargin": true,
           "gridcolor": "white",
           "linecolor": "white",
           "ticks": "",
           "title": {
            "standoff": 15
           },
           "zerolinecolor": "white",
           "zerolinewidth": 2
          }
         }
        },
        "width": 1200,
        "xaxis": {
         "anchor": "y",
         "domain": [
          0,
          0.45
         ]
        },
        "xaxis2": {
         "anchor": "y2",
         "domain": [
          0.55,
          1
         ]
        },
        "xaxis3": {
         "anchor": "y3",
         "domain": [
          0,
          0.45
         ]
        },
        "xaxis4": {
         "anchor": "y4",
         "domain": [
          0.55,
          1
         ]
        },
        "yaxis": {
         "anchor": "x",
         "automargin": true,
         "domain": [
          0.625,
          1
         ]
        },
        "yaxis2": {
         "anchor": "x2",
         "automargin": true,
         "domain": [
          0.625,
          1
         ]
        },
        "yaxis3": {
         "anchor": "x3",
         "automargin": true,
         "domain": [
          0,
          0.375
         ]
        },
        "yaxis4": {
         "anchor": "x4",
         "automargin": true,
         "domain": [
          0,
          0.375
         ]
        }
       }
      },
      "text/html": [
       "<div>                            <div id=\"6d9a6362-32cb-4af6-9851-e72e6577f68a\" class=\"plotly-graph-div\" style=\"height:800px; width:1200px;\"></div>            <script type=\"text/javascript\">                require([\"plotly\"], function(Plotly) {                    window.PLOTLYENV=window.PLOTLYENV || {};                                    if (document.getElementById(\"6d9a6362-32cb-4af6-9851-e72e6577f68a\")) {                    Plotly.newPlot(                        \"6d9a6362-32cb-4af6-9851-e72e6577f68a\",                        [{\"type\": \"scatter\", \"x\": [1998, 2003, 2006, 2007, 2008, 2010, 2011, 2012, 2013, 2015, 2016, 2017, 2018, 2019, 2020, 2021], \"xaxis\": \"x\", \"y\": [1.0, 3.0, 4.0, 2.0, 4.0, 2.0, 1.0, 2.0, 13.0, 8.0, 8.0, 5.0, 14.0, 26.0, 28.0, 1.0], \"yaxis\": \"y\"}, {\"type\": \"bar\", \"x\": [1998, 2003, 2006, 2007, 2008, 2010, 2011, 2012, 2013, 2015, 2016, 2017, 2018, 2019, 2020, 2021], \"xaxis\": \"x2\", \"y\": [1.0, 3.0, 4.0, 2.0, 4.0, 2.0, 1.0, 2.0, 13.0, 8.0, 8.0, 5.0, 14.0, 26.0, 28.0, 1.0], \"yaxis\": \"y2\"}, {\"type\": \"bar\", \"x\": [\"cortex\", \"agents\", \"emergency\", \"phenotype\", \"studies\", \"analysis\", \"genetic\", \"therapy\", \"n\", \"rats\", \"assisted\", \"asthmatic\", \"expression\", \"diagnosis\", \"theorem\", \"endotoxins\", \"service\", \"molecular\", \"markers\", \"potassium\", \"instrumentation\", \"roc\", \"adolescent\", \"child\", \"matter\", \"sounds\", \"severity\", \"profiling\", \"environmental\", \"management\", \"sensitivity\", \"metabolism\", \"use\", \"case\", \"calcium\", \"animals\"], \"xaxis\": \"x3\", \"y\": [80, 81, 82, 83, 84, 85, 86, 87, 88, 89, 90, 91, 92, 93, 94, 95, 96, 97, 98, 99, 100, 101, 102, 103, 104, 105, 106, 107, 108, 109, 110, 111, 112, 113, 114, 115], \"yaxis\": \"y3\"}, {\"type\": \"bar\", \"x\": [1998, 2003, 2006, 2007, 2008, 2010, 2011, 2012, 2013, 2015, 2016, 2017, 2018, 2019, 2020, 2021], \"xaxis\": \"x4\", \"y\": [1.0, 3.0, 4.0, 2.0, 4.0, 2.0, 1.0, 2.0, 13.0, 8.0, 8.0, 5.0, 14.0, 26.0, 28.0, 1.0], \"yaxis\": \"y4\"}],                        {\"annotations\": [{\"font\": {\"size\": 16}, \"showarrow\": false, \"text\": \"Plot 1\", \"x\": 0.225, \"xanchor\": \"center\", \"xref\": \"paper\", \"y\": 1.0, \"yanchor\": \"bottom\", \"yref\": \"paper\"}, {\"font\": {\"size\": 16}, \"showarrow\": false, \"text\": \"articles asthma\", \"x\": 0.775, \"xanchor\": \"center\", \"xref\": \"paper\", \"y\": 1.0, \"yanchor\": \"bottom\", \"yref\": \"paper\"}, {\"font\": {\"size\": 16}, \"showarrow\": false, \"text\": \"mots cl\\u00e9s\", \"x\": 0.225, \"xanchor\": \"center\", \"xref\": \"paper\", \"y\": 0.375, \"yanchor\": \"bottom\", \"yref\": \"paper\"}, {\"font\": {\"size\": 16}, \"showarrow\": false, \"text\": \" p4\", \"x\": 0.775, \"xanchor\": \"center\", \"xref\": \"paper\", \"y\": 0.375, \"yanchor\": \"bottom\", \"yref\": \"paper\"}], \"autosize\": true, \"height\": 800, \"template\": {\"data\": {\"bar\": [{\"error_x\": {\"color\": \"#2a3f5f\"}, \"error_y\": {\"color\": \"#2a3f5f\"}, \"marker\": {\"line\": {\"color\": \"#E5ECF6\", \"width\": 0.5}}, \"type\": \"bar\"}], \"barpolar\": [{\"marker\": {\"line\": {\"color\": \"#E5ECF6\", \"width\": 0.5}}, \"type\": \"barpolar\"}], \"carpet\": [{\"aaxis\": {\"endlinecolor\": \"#2a3f5f\", \"gridcolor\": \"white\", \"linecolor\": \"white\", \"minorgridcolor\": \"white\", \"startlinecolor\": \"#2a3f5f\"}, \"baxis\": {\"endlinecolor\": \"#2a3f5f\", \"gridcolor\": \"white\", \"linecolor\": \"white\", \"minorgridcolor\": \"white\", \"startlinecolor\": \"#2a3f5f\"}, \"type\": \"carpet\"}], \"choropleth\": [{\"colorbar\": {\"outlinewidth\": 0, \"ticks\": \"\"}, \"type\": \"choropleth\"}], \"contour\": [{\"colorbar\": {\"outlinewidth\": 0, \"ticks\": \"\"}, \"colorscale\": [[0.0, \"#0d0887\"], [0.1111111111111111, \"#46039f\"], [0.2222222222222222, \"#7201a8\"], [0.3333333333333333, \"#9c179e\"], [0.4444444444444444, \"#bd3786\"], [0.5555555555555556, \"#d8576b\"], [0.6666666666666666, \"#ed7953\"], [0.7777777777777778, \"#fb9f3a\"], [0.8888888888888888, \"#fdca26\"], [1.0, \"#f0f921\"]], \"type\": \"contour\"}], \"contourcarpet\": [{\"colorbar\": {\"outlinewidth\": 0, \"ticks\": \"\"}, \"type\": \"contourcarpet\"}], \"heatmap\": [{\"colorbar\": {\"outlinewidth\": 0, \"ticks\": \"\"}, \"colorscale\": [[0.0, \"#0d0887\"], [0.1111111111111111, \"#46039f\"], [0.2222222222222222, \"#7201a8\"], [0.3333333333333333, \"#9c179e\"], [0.4444444444444444, \"#bd3786\"], [0.5555555555555556, \"#d8576b\"], [0.6666666666666666, \"#ed7953\"], [0.7777777777777778, \"#fb9f3a\"], [0.8888888888888888, \"#fdca26\"], [1.0, \"#f0f921\"]], \"type\": \"heatmap\"}], \"heatmapgl\": [{\"colorbar\": {\"outlinewidth\": 0, \"ticks\": \"\"}, \"colorscale\": [[0.0, \"#0d0887\"], [0.1111111111111111, \"#46039f\"], [0.2222222222222222, \"#7201a8\"], [0.3333333333333333, \"#9c179e\"], [0.4444444444444444, \"#bd3786\"], [0.5555555555555556, \"#d8576b\"], [0.6666666666666666, \"#ed7953\"], [0.7777777777777778, \"#fb9f3a\"], [0.8888888888888888, \"#fdca26\"], [1.0, \"#f0f921\"]], \"type\": \"heatmapgl\"}], \"histogram\": [{\"marker\": {\"colorbar\": {\"outlinewidth\": 0, \"ticks\": \"\"}}, \"type\": \"histogram\"}], \"histogram2d\": [{\"colorbar\": {\"outlinewidth\": 0, \"ticks\": \"\"}, \"colorscale\": [[0.0, \"#0d0887\"], [0.1111111111111111, \"#46039f\"], [0.2222222222222222, \"#7201a8\"], [0.3333333333333333, \"#9c179e\"], [0.4444444444444444, \"#bd3786\"], [0.5555555555555556, \"#d8576b\"], [0.6666666666666666, \"#ed7953\"], [0.7777777777777778, \"#fb9f3a\"], [0.8888888888888888, \"#fdca26\"], [1.0, \"#f0f921\"]], \"type\": \"histogram2d\"}], \"histogram2dcontour\": [{\"colorbar\": {\"outlinewidth\": 0, \"ticks\": \"\"}, \"colorscale\": [[0.0, \"#0d0887\"], [0.1111111111111111, \"#46039f\"], [0.2222222222222222, \"#7201a8\"], [0.3333333333333333, \"#9c179e\"], [0.4444444444444444, \"#bd3786\"], [0.5555555555555556, \"#d8576b\"], [0.6666666666666666, \"#ed7953\"], [0.7777777777777778, \"#fb9f3a\"], [0.8888888888888888, \"#fdca26\"], [1.0, \"#f0f921\"]], \"type\": \"histogram2dcontour\"}], \"mesh3d\": [{\"colorbar\": {\"outlinewidth\": 0, \"ticks\": \"\"}, \"type\": \"mesh3d\"}], \"parcoords\": [{\"line\": {\"colorbar\": {\"outlinewidth\": 0, \"ticks\": \"\"}}, \"type\": \"parcoords\"}], \"pie\": [{\"automargin\": true, \"type\": \"pie\"}], \"scatter\": [{\"marker\": {\"colorbar\": {\"outlinewidth\": 0, \"ticks\": \"\"}}, \"type\": \"scatter\"}], \"scatter3d\": [{\"line\": {\"colorbar\": {\"outlinewidth\": 0, \"ticks\": \"\"}}, \"marker\": {\"colorbar\": {\"outlinewidth\": 0, \"ticks\": \"\"}}, \"type\": \"scatter3d\"}], \"scattercarpet\": [{\"marker\": {\"colorbar\": {\"outlinewidth\": 0, \"ticks\": \"\"}}, \"type\": \"scattercarpet\"}], \"scattergeo\": [{\"marker\": {\"colorbar\": {\"outlinewidth\": 0, \"ticks\": \"\"}}, \"type\": \"scattergeo\"}], \"scattergl\": [{\"marker\": {\"colorbar\": {\"outlinewidth\": 0, \"ticks\": \"\"}}, \"type\": \"scattergl\"}], \"scattermapbox\": [{\"marker\": {\"colorbar\": {\"outlinewidth\": 0, \"ticks\": \"\"}}, \"type\": \"scattermapbox\"}], \"scatterpolar\": [{\"marker\": {\"colorbar\": {\"outlinewidth\": 0, \"ticks\": \"\"}}, \"type\": \"scatterpolar\"}], \"scatterpolargl\": [{\"marker\": {\"colorbar\": {\"outlinewidth\": 0, \"ticks\": \"\"}}, \"type\": \"scatterpolargl\"}], \"scatterternary\": [{\"marker\": {\"colorbar\": {\"outlinewidth\": 0, \"ticks\": \"\"}}, \"type\": \"scatterternary\"}], \"surface\": [{\"colorbar\": {\"outlinewidth\": 0, \"ticks\": \"\"}, \"colorscale\": [[0.0, \"#0d0887\"], [0.1111111111111111, \"#46039f\"], [0.2222222222222222, \"#7201a8\"], [0.3333333333333333, \"#9c179e\"], [0.4444444444444444, \"#bd3786\"], [0.5555555555555556, \"#d8576b\"], [0.6666666666666666, \"#ed7953\"], [0.7777777777777778, \"#fb9f3a\"], [0.8888888888888888, \"#fdca26\"], [1.0, \"#f0f921\"]], \"type\": \"surface\"}], \"table\": [{\"cells\": {\"fill\": {\"color\": \"#EBF0F8\"}, \"line\": {\"color\": \"white\"}}, \"header\": {\"fill\": {\"color\": \"#C8D4E3\"}, \"line\": {\"color\": \"white\"}}, \"type\": \"table\"}]}, \"layout\": {\"annotationdefaults\": {\"arrowcolor\": \"#2a3f5f\", \"arrowhead\": 0, \"arrowwidth\": 1}, \"autotypenumbers\": \"strict\", \"coloraxis\": {\"colorbar\": {\"outlinewidth\": 0, \"ticks\": \"\"}}, \"colorscale\": {\"diverging\": [[0, \"#8e0152\"], [0.1, \"#c51b7d\"], [0.2, \"#de77ae\"], [0.3, \"#f1b6da\"], [0.4, \"#fde0ef\"], [0.5, \"#f7f7f7\"], [0.6, \"#e6f5d0\"], [0.7, \"#b8e186\"], [0.8, \"#7fbc41\"], [0.9, \"#4d9221\"], [1, \"#276419\"]], \"sequential\": [[0.0, \"#0d0887\"], [0.1111111111111111, \"#46039f\"], [0.2222222222222222, \"#7201a8\"], [0.3333333333333333, \"#9c179e\"], [0.4444444444444444, \"#bd3786\"], [0.5555555555555556, \"#d8576b\"], [0.6666666666666666, \"#ed7953\"], [0.7777777777777778, \"#fb9f3a\"], [0.8888888888888888, \"#fdca26\"], [1.0, \"#f0f921\"]], \"sequentialminus\": [[0.0, \"#0d0887\"], [0.1111111111111111, \"#46039f\"], [0.2222222222222222, \"#7201a8\"], [0.3333333333333333, \"#9c179e\"], [0.4444444444444444, \"#bd3786\"], [0.5555555555555556, \"#d8576b\"], [0.6666666666666666, \"#ed7953\"], [0.7777777777777778, \"#fb9f3a\"], [0.8888888888888888, \"#fdca26\"], [1.0, \"#f0f921\"]]}, \"colorway\": [\"#636efa\", \"#EF553B\", \"#00cc96\", \"#ab63fa\", \"#FFA15A\", \"#19d3f3\", \"#FF6692\", \"#B6E880\", \"#FF97FF\", \"#FECB52\"], \"font\": {\"color\": \"#2a3f5f\"}, \"geo\": {\"bgcolor\": \"white\", \"lakecolor\": \"white\", \"landcolor\": \"#E5ECF6\", \"showlakes\": true, \"showland\": true, \"subunitcolor\": \"white\"}, \"hoverlabel\": {\"align\": \"left\"}, \"hovermode\": \"closest\", \"mapbox\": {\"style\": \"light\"}, \"paper_bgcolor\": \"white\", \"plot_bgcolor\": \"#E5ECF6\", \"polar\": {\"angularaxis\": {\"gridcolor\": \"white\", \"linecolor\": \"white\", \"ticks\": \"\"}, \"bgcolor\": \"#E5ECF6\", \"radialaxis\": {\"gridcolor\": \"white\", \"linecolor\": \"white\", \"ticks\": \"\"}}, \"scene\": {\"xaxis\": {\"backgroundcolor\": \"#E5ECF6\", \"gridcolor\": \"white\", \"gridwidth\": 2, \"linecolor\": \"white\", \"showbackground\": true, \"ticks\": \"\", \"zerolinecolor\": \"white\"}, \"yaxis\": {\"backgroundcolor\": \"#E5ECF6\", \"gridcolor\": \"white\", \"gridwidth\": 2, \"linecolor\": \"white\", \"showbackground\": true, \"ticks\": \"\", \"zerolinecolor\": \"white\"}, \"zaxis\": {\"backgroundcolor\": \"#E5ECF6\", \"gridcolor\": \"white\", \"gridwidth\": 2, \"linecolor\": \"white\", \"showbackground\": true, \"ticks\": \"\", \"zerolinecolor\": \"white\"}}, \"shapedefaults\": {\"line\": {\"color\": \"#2a3f5f\"}}, \"ternary\": {\"aaxis\": {\"gridcolor\": \"white\", \"linecolor\": \"white\", \"ticks\": \"\"}, \"baxis\": {\"gridcolor\": \"white\", \"linecolor\": \"white\", \"ticks\": \"\"}, \"bgcolor\": \"#E5ECF6\", \"caxis\": {\"gridcolor\": \"white\", \"linecolor\": \"white\", \"ticks\": \"\"}}, \"title\": {\"x\": 0.05}, \"xaxis\": {\"automargin\": true, \"gridcolor\": \"white\", \"linecolor\": \"white\", \"ticks\": \"\", \"title\": {\"standoff\": 15}, \"zerolinecolor\": \"white\", \"zerolinewidth\": 2}, \"yaxis\": {\"automargin\": true, \"gridcolor\": \"white\", \"linecolor\": \"white\", \"ticks\": \"\", \"title\": {\"standoff\": 15}, \"zerolinecolor\": \"white\", \"zerolinewidth\": 2}}}, \"width\": 1200, \"xaxis\": {\"anchor\": \"y\", \"domain\": [0.0, 0.45]}, \"xaxis2\": {\"anchor\": \"y2\", \"domain\": [0.55, 1.0]}, \"xaxis3\": {\"anchor\": \"y3\", \"domain\": [0.0, 0.45]}, \"xaxis4\": {\"anchor\": \"y4\", \"domain\": [0.55, 1.0]}, \"yaxis\": {\"anchor\": \"x\", \"automargin\": true, \"domain\": [0.625, 1.0]}, \"yaxis2\": {\"anchor\": \"x2\", \"automargin\": true, \"domain\": [0.625, 1.0]}, \"yaxis3\": {\"anchor\": \"x3\", \"automargin\": true, \"domain\": [0.0, 0.375]}, \"yaxis4\": {\"anchor\": \"x4\", \"automargin\": true, \"domain\": [0.0, 0.375]}},                        {\"responsive\": true}                    ).then(function(){\n",
       "                            \n",
       "var gd = document.getElementById('6d9a6362-32cb-4af6-9851-e72e6577f68a');\n",
       "var x = new MutationObserver(function (mutations, observer) {{\n",
       "        var display = window.getComputedStyle(gd).display;\n",
       "        if (!display || display === 'none') {{\n",
       "            console.log([gd, 'removed!']);\n",
       "            Plotly.purge(gd);\n",
       "            observer.disconnect();\n",
       "        }}\n",
       "}});\n",
       "\n",
       "// Listen for the removal of the full notebook cells\n",
       "var notebookContainer = gd.closest('#notebook-container');\n",
       "if (notebookContainer) {{\n",
       "    x.observe(notebookContainer, {childList: true});\n",
       "}}\n",
       "\n",
       "// Listen for the clearing of the current output cell\n",
       "var outputEl = gd.closest('.output');\n",
       "if (outputEl) {{\n",
       "    x.observe(outputEl, {childList: true});\n",
       "}}\n",
       "\n",
       "                        })                };                });            </script>        </div>"
      ]
     },
     "metadata": {},
     "output_type": "display_data"
    }
   ],
   "source": [
    "# 'count_asthma'\n",
    "df6=df_dat_them[['Annee','count_asthma']]\n",
    "df6= df6[df6['count_asthma'] >= 1]\n",
    "df6 = df6.groupby(['Annee']).count_asthma.sum().reset_index()\n",
    "fig6 = make_subplots(rows=2, cols=2, subplot_titles=['Plot 1','articles asthma','mots clés',' p4'])\n",
    "fig6.add_scatter(x=df6['Annee'], y= df6['count_asthma'], row=1, col=1)\n",
    "fig6.add_bar(x=df6['Annee'], y=df6['count_asthma'], row=1,col=2)\n",
    "fig6.add_bar(x=list(d_key6.keys()), y=list(d_key6.values()), row=2,col=1)\n",
    "fig6.add_bar(x=df6['Annee'], y=df6['count_asthma'], row=2,col=2)\n",
    "fig6.update_yaxes(automargin=True)\n",
    "fig6['layout'].update(width=1200, height=800, autosize=True)\n",
    "fig6"
   ]
  },
  {
   "cell_type": "code",
   "execution_count": 90,
   "metadata": {},
   "outputs": [
    {
     "data": {
      "application/vnd.plotly.v1+json": {
       "config": {
        "plotlyServerURL": "https://plot.ly"
       },
       "data": [
        {
         "type": "scatter",
         "x": [
          1993,
          1994,
          2004,
          2005,
          2006,
          2007,
          2008,
          2010,
          2011,
          2012,
          2013,
          2014,
          2015,
          2016,
          2017,
          2018,
          2019,
          2020,
          2021
         ],
         "xaxis": "x",
         "y": [
          2,
          3,
          8,
          4,
          7,
          2,
          11,
          8,
          9,
          14,
          30,
          23,
          36,
          12,
          39,
          74,
          50,
          83,
          17
         ],
         "yaxis": "y"
        },
        {
         "type": "scatter",
         "x": [
          1993,
          1994,
          2004,
          2005,
          2006,
          2007,
          2008,
          2010,
          2011,
          2012,
          2013,
          2014,
          2015,
          2016,
          2017,
          2018,
          2019,
          2020,
          2021
         ],
         "xaxis": "x2",
         "y": [
          2,
          3,
          8,
          4,
          7,
          2,
          11,
          8,
          9,
          14,
          30,
          23,
          36,
          12,
          39,
          74,
          50,
          83,
          17
         ],
         "yaxis": "y2"
        },
        {
         "type": "bar",
         "x": [
          "cohort",
          "neuroimaging",
          "subtraction",
          "symptoms",
          "association",
          "roc",
          "adolescent",
          "nervous",
          "radioisotopes",
          "wide",
          "differential",
          "decision",
          "matter",
          "principal",
          "anatomic",
          "amyloid",
          "severity",
          "schedule",
          "reproducibility",
          "information",
          "united",
          "sensitivity",
          "metabolism",
          "topic",
          "case",
          "pathology",
          "pattern",
          "predictive",
          "animals"
         ],
         "xaxis": "x3",
         "y": [
          230,
          231,
          232,
          233,
          234,
          235,
          236,
          237,
          238,
          239,
          240,
          241,
          242,
          243,
          244,
          245,
          246,
          247,
          248,
          249,
          250,
          251,
          252,
          253,
          254,
          255,
          256,
          257,
          258
         ],
         "yaxis": "y3"
        },
        {
         "type": "bar",
         "x": [
          1993,
          1994,
          2004,
          2005,
          2006,
          2007,
          2008,
          2010,
          2011,
          2012,
          2013,
          2014,
          2015,
          2016,
          2017,
          2018,
          2019,
          2020,
          2021
         ],
         "xaxis": "x4",
         "y": [
          2,
          3,
          8,
          4,
          7,
          2,
          11,
          8,
          9,
          14,
          30,
          23,
          36,
          12,
          39,
          74,
          50,
          83,
          17
         ],
         "yaxis": "y4"
        }
       ],
       "layout": {
        "annotations": [
         {
          "font": {
           "size": 16
          },
          "showarrow": false,
          "text": "Plot 1",
          "x": 0.225,
          "xanchor": "center",
          "xref": "paper",
          "y": 1,
          "yanchor": "bottom",
          "yref": "paper"
         },
         {
          "font": {
           "size": 16
          },
          "showarrow": false,
          "text": "articles alzheimer",
          "x": 0.775,
          "xanchor": "center",
          "xref": "paper",
          "y": 1,
          "yanchor": "bottom",
          "yref": "paper"
         },
         {
          "font": {
           "size": 16
          },
          "showarrow": false,
          "text": "mots clés",
          "x": 0.225,
          "xanchor": "center",
          "xref": "paper",
          "y": 0.375,
          "yanchor": "bottom",
          "yref": "paper"
         },
         {
          "font": {
           "size": 16
          },
          "showarrow": false,
          "text": "p4",
          "x": 0.775,
          "xanchor": "center",
          "xref": "paper",
          "y": 0.375,
          "yanchor": "bottom",
          "yref": "paper"
         }
        ],
        "autosize": true,
        "height": 800,
        "template": {
         "data": {
          "bar": [
           {
            "error_x": {
             "color": "#2a3f5f"
            },
            "error_y": {
             "color": "#2a3f5f"
            },
            "marker": {
             "line": {
              "color": "#E5ECF6",
              "width": 0.5
             }
            },
            "type": "bar"
           }
          ],
          "barpolar": [
           {
            "marker": {
             "line": {
              "color": "#E5ECF6",
              "width": 0.5
             }
            },
            "type": "barpolar"
           }
          ],
          "carpet": [
           {
            "aaxis": {
             "endlinecolor": "#2a3f5f",
             "gridcolor": "white",
             "linecolor": "white",
             "minorgridcolor": "white",
             "startlinecolor": "#2a3f5f"
            },
            "baxis": {
             "endlinecolor": "#2a3f5f",
             "gridcolor": "white",
             "linecolor": "white",
             "minorgridcolor": "white",
             "startlinecolor": "#2a3f5f"
            },
            "type": "carpet"
           }
          ],
          "choropleth": [
           {
            "colorbar": {
             "outlinewidth": 0,
             "ticks": ""
            },
            "type": "choropleth"
           }
          ],
          "contour": [
           {
            "colorbar": {
             "outlinewidth": 0,
             "ticks": ""
            },
            "colorscale": [
             [
              0,
              "#0d0887"
             ],
             [
              0.1111111111111111,
              "#46039f"
             ],
             [
              0.2222222222222222,
              "#7201a8"
             ],
             [
              0.3333333333333333,
              "#9c179e"
             ],
             [
              0.4444444444444444,
              "#bd3786"
             ],
             [
              0.5555555555555556,
              "#d8576b"
             ],
             [
              0.6666666666666666,
              "#ed7953"
             ],
             [
              0.7777777777777778,
              "#fb9f3a"
             ],
             [
              0.8888888888888888,
              "#fdca26"
             ],
             [
              1,
              "#f0f921"
             ]
            ],
            "type": "contour"
           }
          ],
          "contourcarpet": [
           {
            "colorbar": {
             "outlinewidth": 0,
             "ticks": ""
            },
            "type": "contourcarpet"
           }
          ],
          "heatmap": [
           {
            "colorbar": {
             "outlinewidth": 0,
             "ticks": ""
            },
            "colorscale": [
             [
              0,
              "#0d0887"
             ],
             [
              0.1111111111111111,
              "#46039f"
             ],
             [
              0.2222222222222222,
              "#7201a8"
             ],
             [
              0.3333333333333333,
              "#9c179e"
             ],
             [
              0.4444444444444444,
              "#bd3786"
             ],
             [
              0.5555555555555556,
              "#d8576b"
             ],
             [
              0.6666666666666666,
              "#ed7953"
             ],
             [
              0.7777777777777778,
              "#fb9f3a"
             ],
             [
              0.8888888888888888,
              "#fdca26"
             ],
             [
              1,
              "#f0f921"
             ]
            ],
            "type": "heatmap"
           }
          ],
          "heatmapgl": [
           {
            "colorbar": {
             "outlinewidth": 0,
             "ticks": ""
            },
            "colorscale": [
             [
              0,
              "#0d0887"
             ],
             [
              0.1111111111111111,
              "#46039f"
             ],
             [
              0.2222222222222222,
              "#7201a8"
             ],
             [
              0.3333333333333333,
              "#9c179e"
             ],
             [
              0.4444444444444444,
              "#bd3786"
             ],
             [
              0.5555555555555556,
              "#d8576b"
             ],
             [
              0.6666666666666666,
              "#ed7953"
             ],
             [
              0.7777777777777778,
              "#fb9f3a"
             ],
             [
              0.8888888888888888,
              "#fdca26"
             ],
             [
              1,
              "#f0f921"
             ]
            ],
            "type": "heatmapgl"
           }
          ],
          "histogram": [
           {
            "marker": {
             "colorbar": {
              "outlinewidth": 0,
              "ticks": ""
             }
            },
            "type": "histogram"
           }
          ],
          "histogram2d": [
           {
            "colorbar": {
             "outlinewidth": 0,
             "ticks": ""
            },
            "colorscale": [
             [
              0,
              "#0d0887"
             ],
             [
              0.1111111111111111,
              "#46039f"
             ],
             [
              0.2222222222222222,
              "#7201a8"
             ],
             [
              0.3333333333333333,
              "#9c179e"
             ],
             [
              0.4444444444444444,
              "#bd3786"
             ],
             [
              0.5555555555555556,
              "#d8576b"
             ],
             [
              0.6666666666666666,
              "#ed7953"
             ],
             [
              0.7777777777777778,
              "#fb9f3a"
             ],
             [
              0.8888888888888888,
              "#fdca26"
             ],
             [
              1,
              "#f0f921"
             ]
            ],
            "type": "histogram2d"
           }
          ],
          "histogram2dcontour": [
           {
            "colorbar": {
             "outlinewidth": 0,
             "ticks": ""
            },
            "colorscale": [
             [
              0,
              "#0d0887"
             ],
             [
              0.1111111111111111,
              "#46039f"
             ],
             [
              0.2222222222222222,
              "#7201a8"
             ],
             [
              0.3333333333333333,
              "#9c179e"
             ],
             [
              0.4444444444444444,
              "#bd3786"
             ],
             [
              0.5555555555555556,
              "#d8576b"
             ],
             [
              0.6666666666666666,
              "#ed7953"
             ],
             [
              0.7777777777777778,
              "#fb9f3a"
             ],
             [
              0.8888888888888888,
              "#fdca26"
             ],
             [
              1,
              "#f0f921"
             ]
            ],
            "type": "histogram2dcontour"
           }
          ],
          "mesh3d": [
           {
            "colorbar": {
             "outlinewidth": 0,
             "ticks": ""
            },
            "type": "mesh3d"
           }
          ],
          "parcoords": [
           {
            "line": {
             "colorbar": {
              "outlinewidth": 0,
              "ticks": ""
             }
            },
            "type": "parcoords"
           }
          ],
          "pie": [
           {
            "automargin": true,
            "type": "pie"
           }
          ],
          "scatter": [
           {
            "marker": {
             "colorbar": {
              "outlinewidth": 0,
              "ticks": ""
             }
            },
            "type": "scatter"
           }
          ],
          "scatter3d": [
           {
            "line": {
             "colorbar": {
              "outlinewidth": 0,
              "ticks": ""
             }
            },
            "marker": {
             "colorbar": {
              "outlinewidth": 0,
              "ticks": ""
             }
            },
            "type": "scatter3d"
           }
          ],
          "scattercarpet": [
           {
            "marker": {
             "colorbar": {
              "outlinewidth": 0,
              "ticks": ""
             }
            },
            "type": "scattercarpet"
           }
          ],
          "scattergeo": [
           {
            "marker": {
             "colorbar": {
              "outlinewidth": 0,
              "ticks": ""
             }
            },
            "type": "scattergeo"
           }
          ],
          "scattergl": [
           {
            "marker": {
             "colorbar": {
              "outlinewidth": 0,
              "ticks": ""
             }
            },
            "type": "scattergl"
           }
          ],
          "scattermapbox": [
           {
            "marker": {
             "colorbar": {
              "outlinewidth": 0,
              "ticks": ""
             }
            },
            "type": "scattermapbox"
           }
          ],
          "scatterpolar": [
           {
            "marker": {
             "colorbar": {
              "outlinewidth": 0,
              "ticks": ""
             }
            },
            "type": "scatterpolar"
           }
          ],
          "scatterpolargl": [
           {
            "marker": {
             "colorbar": {
              "outlinewidth": 0,
              "ticks": ""
             }
            },
            "type": "scatterpolargl"
           }
          ],
          "scatterternary": [
           {
            "marker": {
             "colorbar": {
              "outlinewidth": 0,
              "ticks": ""
             }
            },
            "type": "scatterternary"
           }
          ],
          "surface": [
           {
            "colorbar": {
             "outlinewidth": 0,
             "ticks": ""
            },
            "colorscale": [
             [
              0,
              "#0d0887"
             ],
             [
              0.1111111111111111,
              "#46039f"
             ],
             [
              0.2222222222222222,
              "#7201a8"
             ],
             [
              0.3333333333333333,
              "#9c179e"
             ],
             [
              0.4444444444444444,
              "#bd3786"
             ],
             [
              0.5555555555555556,
              "#d8576b"
             ],
             [
              0.6666666666666666,
              "#ed7953"
             ],
             [
              0.7777777777777778,
              "#fb9f3a"
             ],
             [
              0.8888888888888888,
              "#fdca26"
             ],
             [
              1,
              "#f0f921"
             ]
            ],
            "type": "surface"
           }
          ],
          "table": [
           {
            "cells": {
             "fill": {
              "color": "#EBF0F8"
             },
             "line": {
              "color": "white"
             }
            },
            "header": {
             "fill": {
              "color": "#C8D4E3"
             },
             "line": {
              "color": "white"
             }
            },
            "type": "table"
           }
          ]
         },
         "layout": {
          "annotationdefaults": {
           "arrowcolor": "#2a3f5f",
           "arrowhead": 0,
           "arrowwidth": 1
          },
          "autotypenumbers": "strict",
          "coloraxis": {
           "colorbar": {
            "outlinewidth": 0,
            "ticks": ""
           }
          },
          "colorscale": {
           "diverging": [
            [
             0,
             "#8e0152"
            ],
            [
             0.1,
             "#c51b7d"
            ],
            [
             0.2,
             "#de77ae"
            ],
            [
             0.3,
             "#f1b6da"
            ],
            [
             0.4,
             "#fde0ef"
            ],
            [
             0.5,
             "#f7f7f7"
            ],
            [
             0.6,
             "#e6f5d0"
            ],
            [
             0.7,
             "#b8e186"
            ],
            [
             0.8,
             "#7fbc41"
            ],
            [
             0.9,
             "#4d9221"
            ],
            [
             1,
             "#276419"
            ]
           ],
           "sequential": [
            [
             0,
             "#0d0887"
            ],
            [
             0.1111111111111111,
             "#46039f"
            ],
            [
             0.2222222222222222,
             "#7201a8"
            ],
            [
             0.3333333333333333,
             "#9c179e"
            ],
            [
             0.4444444444444444,
             "#bd3786"
            ],
            [
             0.5555555555555556,
             "#d8576b"
            ],
            [
             0.6666666666666666,
             "#ed7953"
            ],
            [
             0.7777777777777778,
             "#fb9f3a"
            ],
            [
             0.8888888888888888,
             "#fdca26"
            ],
            [
             1,
             "#f0f921"
            ]
           ],
           "sequentialminus": [
            [
             0,
             "#0d0887"
            ],
            [
             0.1111111111111111,
             "#46039f"
            ],
            [
             0.2222222222222222,
             "#7201a8"
            ],
            [
             0.3333333333333333,
             "#9c179e"
            ],
            [
             0.4444444444444444,
             "#bd3786"
            ],
            [
             0.5555555555555556,
             "#d8576b"
            ],
            [
             0.6666666666666666,
             "#ed7953"
            ],
            [
             0.7777777777777778,
             "#fb9f3a"
            ],
            [
             0.8888888888888888,
             "#fdca26"
            ],
            [
             1,
             "#f0f921"
            ]
           ]
          },
          "colorway": [
           "#636efa",
           "#EF553B",
           "#00cc96",
           "#ab63fa",
           "#FFA15A",
           "#19d3f3",
           "#FF6692",
           "#B6E880",
           "#FF97FF",
           "#FECB52"
          ],
          "font": {
           "color": "#2a3f5f"
          },
          "geo": {
           "bgcolor": "white",
           "lakecolor": "white",
           "landcolor": "#E5ECF6",
           "showlakes": true,
           "showland": true,
           "subunitcolor": "white"
          },
          "hoverlabel": {
           "align": "left"
          },
          "hovermode": "closest",
          "mapbox": {
           "style": "light"
          },
          "paper_bgcolor": "white",
          "plot_bgcolor": "#E5ECF6",
          "polar": {
           "angularaxis": {
            "gridcolor": "white",
            "linecolor": "white",
            "ticks": ""
           },
           "bgcolor": "#E5ECF6",
           "radialaxis": {
            "gridcolor": "white",
            "linecolor": "white",
            "ticks": ""
           }
          },
          "scene": {
           "xaxis": {
            "backgroundcolor": "#E5ECF6",
            "gridcolor": "white",
            "gridwidth": 2,
            "linecolor": "white",
            "showbackground": true,
            "ticks": "",
            "zerolinecolor": "white"
           },
           "yaxis": {
            "backgroundcolor": "#E5ECF6",
            "gridcolor": "white",
            "gridwidth": 2,
            "linecolor": "white",
            "showbackground": true,
            "ticks": "",
            "zerolinecolor": "white"
           },
           "zaxis": {
            "backgroundcolor": "#E5ECF6",
            "gridcolor": "white",
            "gridwidth": 2,
            "linecolor": "white",
            "showbackground": true,
            "ticks": "",
            "zerolinecolor": "white"
           }
          },
          "shapedefaults": {
           "line": {
            "color": "#2a3f5f"
           }
          },
          "ternary": {
           "aaxis": {
            "gridcolor": "white",
            "linecolor": "white",
            "ticks": ""
           },
           "baxis": {
            "gridcolor": "white",
            "linecolor": "white",
            "ticks": ""
           },
           "bgcolor": "#E5ECF6",
           "caxis": {
            "gridcolor": "white",
            "linecolor": "white",
            "ticks": ""
           }
          },
          "title": {
           "x": 0.05
          },
          "xaxis": {
           "automargin": true,
           "gridcolor": "white",
           "linecolor": "white",
           "ticks": "",
           "title": {
            "standoff": 15
           },
           "zerolinecolor": "white",
           "zerolinewidth": 2
          },
          "yaxis": {
           "automargin": true,
           "gridcolor": "white",
           "linecolor": "white",
           "ticks": "",
           "title": {
            "standoff": 15
           },
           "zerolinecolor": "white",
           "zerolinewidth": 2
          }
         }
        },
        "width": 1200,
        "xaxis": {
         "anchor": "y",
         "domain": [
          0,
          0.45
         ]
        },
        "xaxis2": {
         "anchor": "y2",
         "domain": [
          0.55,
          1
         ]
        },
        "xaxis3": {
         "anchor": "y3",
         "domain": [
          0,
          0.45
         ]
        },
        "xaxis4": {
         "anchor": "y4",
         "domain": [
          0.55,
          1
         ]
        },
        "yaxis": {
         "anchor": "x",
         "automargin": true,
         "domain": [
          0.625,
          1
         ]
        },
        "yaxis2": {
         "anchor": "x2",
         "automargin": true,
         "domain": [
          0.625,
          1
         ]
        },
        "yaxis3": {
         "anchor": "x3",
         "automargin": true,
         "domain": [
          0,
          0.375
         ]
        },
        "yaxis4": {
         "anchor": "x4",
         "automargin": true,
         "domain": [
          0,
          0.375
         ]
        }
       }
      },
      "text/html": [
       "<div>                            <div id=\"341e2898-6f16-47aa-8eae-e132f723a3aa\" class=\"plotly-graph-div\" style=\"height:800px; width:1200px;\"></div>            <script type=\"text/javascript\">                require([\"plotly\"], function(Plotly) {                    window.PLOTLYENV=window.PLOTLYENV || {};                                    if (document.getElementById(\"341e2898-6f16-47aa-8eae-e132f723a3aa\")) {                    Plotly.newPlot(                        \"341e2898-6f16-47aa-8eae-e132f723a3aa\",                        [{\"type\": \"scatter\", \"x\": [1993, 1994, 2004, 2005, 2006, 2007, 2008, 2010, 2011, 2012, 2013, 2014, 2015, 2016, 2017, 2018, 2019, 2020, 2021], \"xaxis\": \"x\", \"y\": [2, 3, 8, 4, 7, 2, 11, 8, 9, 14, 30, 23, 36, 12, 39, 74, 50, 83, 17], \"yaxis\": \"y\"}, {\"type\": \"scatter\", \"x\": [1993, 1994, 2004, 2005, 2006, 2007, 2008, 2010, 2011, 2012, 2013, 2014, 2015, 2016, 2017, 2018, 2019, 2020, 2021], \"xaxis\": \"x2\", \"y\": [2, 3, 8, 4, 7, 2, 11, 8, 9, 14, 30, 23, 36, 12, 39, 74, 50, 83, 17], \"yaxis\": \"y2\"}, {\"type\": \"bar\", \"x\": [\"cohort\", \"neuroimaging\", \"subtraction\", \"symptoms\", \"association\", \"roc\", \"adolescent\", \"nervous\", \"radioisotopes\", \"wide\", \"differential\", \"decision\", \"matter\", \"principal\", \"anatomic\", \"amyloid\", \"severity\", \"schedule\", \"reproducibility\", \"information\", \"united\", \"sensitivity\", \"metabolism\", \"topic\", \"case\", \"pathology\", \"pattern\", \"predictive\", \"animals\"], \"xaxis\": \"x3\", \"y\": [230, 231, 232, 233, 234, 235, 236, 237, 238, 239, 240, 241, 242, 243, 244, 245, 246, 247, 248, 249, 250, 251, 252, 253, 254, 255, 256, 257, 258], \"yaxis\": \"y3\"}, {\"type\": \"bar\", \"x\": [1993, 1994, 2004, 2005, 2006, 2007, 2008, 2010, 2011, 2012, 2013, 2014, 2015, 2016, 2017, 2018, 2019, 2020, 2021], \"xaxis\": \"x4\", \"y\": [2, 3, 8, 4, 7, 2, 11, 8, 9, 14, 30, 23, 36, 12, 39, 74, 50, 83, 17], \"yaxis\": \"y4\"}],                        {\"annotations\": [{\"font\": {\"size\": 16}, \"showarrow\": false, \"text\": \"Plot 1\", \"x\": 0.225, \"xanchor\": \"center\", \"xref\": \"paper\", \"y\": 1.0, \"yanchor\": \"bottom\", \"yref\": \"paper\"}, {\"font\": {\"size\": 16}, \"showarrow\": false, \"text\": \"articles alzheimer\", \"x\": 0.775, \"xanchor\": \"center\", \"xref\": \"paper\", \"y\": 1.0, \"yanchor\": \"bottom\", \"yref\": \"paper\"}, {\"font\": {\"size\": 16}, \"showarrow\": false, \"text\": \"mots cl\\u00e9s\", \"x\": 0.225, \"xanchor\": \"center\", \"xref\": \"paper\", \"y\": 0.375, \"yanchor\": \"bottom\", \"yref\": \"paper\"}, {\"font\": {\"size\": 16}, \"showarrow\": false, \"text\": \"p4\", \"x\": 0.775, \"xanchor\": \"center\", \"xref\": \"paper\", \"y\": 0.375, \"yanchor\": \"bottom\", \"yref\": \"paper\"}], \"autosize\": true, \"height\": 800, \"template\": {\"data\": {\"bar\": [{\"error_x\": {\"color\": \"#2a3f5f\"}, \"error_y\": {\"color\": \"#2a3f5f\"}, \"marker\": {\"line\": {\"color\": \"#E5ECF6\", \"width\": 0.5}}, \"type\": \"bar\"}], \"barpolar\": [{\"marker\": {\"line\": {\"color\": \"#E5ECF6\", \"width\": 0.5}}, \"type\": \"barpolar\"}], \"carpet\": [{\"aaxis\": {\"endlinecolor\": \"#2a3f5f\", \"gridcolor\": \"white\", \"linecolor\": \"white\", \"minorgridcolor\": \"white\", \"startlinecolor\": \"#2a3f5f\"}, \"baxis\": {\"endlinecolor\": \"#2a3f5f\", \"gridcolor\": \"white\", \"linecolor\": \"white\", \"minorgridcolor\": \"white\", \"startlinecolor\": \"#2a3f5f\"}, \"type\": \"carpet\"}], \"choropleth\": [{\"colorbar\": {\"outlinewidth\": 0, \"ticks\": \"\"}, \"type\": \"choropleth\"}], \"contour\": [{\"colorbar\": {\"outlinewidth\": 0, \"ticks\": \"\"}, \"colorscale\": [[0.0, \"#0d0887\"], [0.1111111111111111, \"#46039f\"], [0.2222222222222222, \"#7201a8\"], [0.3333333333333333, \"#9c179e\"], [0.4444444444444444, \"#bd3786\"], [0.5555555555555556, \"#d8576b\"], [0.6666666666666666, \"#ed7953\"], [0.7777777777777778, \"#fb9f3a\"], [0.8888888888888888, \"#fdca26\"], [1.0, \"#f0f921\"]], \"type\": \"contour\"}], \"contourcarpet\": [{\"colorbar\": {\"outlinewidth\": 0, \"ticks\": \"\"}, \"type\": \"contourcarpet\"}], \"heatmap\": [{\"colorbar\": {\"outlinewidth\": 0, \"ticks\": \"\"}, \"colorscale\": [[0.0, \"#0d0887\"], [0.1111111111111111, \"#46039f\"], [0.2222222222222222, \"#7201a8\"], [0.3333333333333333, \"#9c179e\"], [0.4444444444444444, \"#bd3786\"], [0.5555555555555556, \"#d8576b\"], [0.6666666666666666, \"#ed7953\"], [0.7777777777777778, \"#fb9f3a\"], [0.8888888888888888, \"#fdca26\"], [1.0, \"#f0f921\"]], \"type\": \"heatmap\"}], \"heatmapgl\": [{\"colorbar\": {\"outlinewidth\": 0, \"ticks\": \"\"}, \"colorscale\": [[0.0, \"#0d0887\"], [0.1111111111111111, \"#46039f\"], [0.2222222222222222, \"#7201a8\"], [0.3333333333333333, \"#9c179e\"], [0.4444444444444444, \"#bd3786\"], [0.5555555555555556, \"#d8576b\"], [0.6666666666666666, \"#ed7953\"], [0.7777777777777778, \"#fb9f3a\"], [0.8888888888888888, \"#fdca26\"], [1.0, \"#f0f921\"]], \"type\": \"heatmapgl\"}], \"histogram\": [{\"marker\": {\"colorbar\": {\"outlinewidth\": 0, \"ticks\": \"\"}}, \"type\": \"histogram\"}], \"histogram2d\": [{\"colorbar\": {\"outlinewidth\": 0, \"ticks\": \"\"}, \"colorscale\": [[0.0, \"#0d0887\"], [0.1111111111111111, \"#46039f\"], [0.2222222222222222, \"#7201a8\"], [0.3333333333333333, \"#9c179e\"], [0.4444444444444444, \"#bd3786\"], [0.5555555555555556, \"#d8576b\"], [0.6666666666666666, \"#ed7953\"], [0.7777777777777778, \"#fb9f3a\"], [0.8888888888888888, \"#fdca26\"], [1.0, \"#f0f921\"]], \"type\": \"histogram2d\"}], \"histogram2dcontour\": [{\"colorbar\": {\"outlinewidth\": 0, \"ticks\": \"\"}, \"colorscale\": [[0.0, \"#0d0887\"], [0.1111111111111111, \"#46039f\"], [0.2222222222222222, \"#7201a8\"], [0.3333333333333333, \"#9c179e\"], [0.4444444444444444, \"#bd3786\"], [0.5555555555555556, \"#d8576b\"], [0.6666666666666666, \"#ed7953\"], [0.7777777777777778, \"#fb9f3a\"], [0.8888888888888888, \"#fdca26\"], [1.0, \"#f0f921\"]], \"type\": \"histogram2dcontour\"}], \"mesh3d\": [{\"colorbar\": {\"outlinewidth\": 0, \"ticks\": \"\"}, \"type\": \"mesh3d\"}], \"parcoords\": [{\"line\": {\"colorbar\": {\"outlinewidth\": 0, \"ticks\": \"\"}}, \"type\": \"parcoords\"}], \"pie\": [{\"automargin\": true, \"type\": \"pie\"}], \"scatter\": [{\"marker\": {\"colorbar\": {\"outlinewidth\": 0, \"ticks\": \"\"}}, \"type\": \"scatter\"}], \"scatter3d\": [{\"line\": {\"colorbar\": {\"outlinewidth\": 0, \"ticks\": \"\"}}, \"marker\": {\"colorbar\": {\"outlinewidth\": 0, \"ticks\": \"\"}}, \"type\": \"scatter3d\"}], \"scattercarpet\": [{\"marker\": {\"colorbar\": {\"outlinewidth\": 0, \"ticks\": \"\"}}, \"type\": \"scattercarpet\"}], \"scattergeo\": [{\"marker\": {\"colorbar\": {\"outlinewidth\": 0, \"ticks\": \"\"}}, \"type\": \"scattergeo\"}], \"scattergl\": [{\"marker\": {\"colorbar\": {\"outlinewidth\": 0, \"ticks\": \"\"}}, \"type\": \"scattergl\"}], \"scattermapbox\": [{\"marker\": {\"colorbar\": {\"outlinewidth\": 0, \"ticks\": \"\"}}, \"type\": \"scattermapbox\"}], \"scatterpolar\": [{\"marker\": {\"colorbar\": {\"outlinewidth\": 0, \"ticks\": \"\"}}, \"type\": \"scatterpolar\"}], \"scatterpolargl\": [{\"marker\": {\"colorbar\": {\"outlinewidth\": 0, \"ticks\": \"\"}}, \"type\": \"scatterpolargl\"}], \"scatterternary\": [{\"marker\": {\"colorbar\": {\"outlinewidth\": 0, \"ticks\": \"\"}}, \"type\": \"scatterternary\"}], \"surface\": [{\"colorbar\": {\"outlinewidth\": 0, \"ticks\": \"\"}, \"colorscale\": [[0.0, \"#0d0887\"], [0.1111111111111111, \"#46039f\"], [0.2222222222222222, \"#7201a8\"], [0.3333333333333333, \"#9c179e\"], [0.4444444444444444, \"#bd3786\"], [0.5555555555555556, \"#d8576b\"], [0.6666666666666666, \"#ed7953\"], [0.7777777777777778, \"#fb9f3a\"], [0.8888888888888888, \"#fdca26\"], [1.0, \"#f0f921\"]], \"type\": \"surface\"}], \"table\": [{\"cells\": {\"fill\": {\"color\": \"#EBF0F8\"}, \"line\": {\"color\": \"white\"}}, \"header\": {\"fill\": {\"color\": \"#C8D4E3\"}, \"line\": {\"color\": \"white\"}}, \"type\": \"table\"}]}, \"layout\": {\"annotationdefaults\": {\"arrowcolor\": \"#2a3f5f\", \"arrowhead\": 0, \"arrowwidth\": 1}, \"autotypenumbers\": \"strict\", \"coloraxis\": {\"colorbar\": {\"outlinewidth\": 0, \"ticks\": \"\"}}, \"colorscale\": {\"diverging\": [[0, \"#8e0152\"], [0.1, \"#c51b7d\"], [0.2, \"#de77ae\"], [0.3, \"#f1b6da\"], [0.4, \"#fde0ef\"], [0.5, \"#f7f7f7\"], [0.6, \"#e6f5d0\"], [0.7, \"#b8e186\"], [0.8, \"#7fbc41\"], [0.9, \"#4d9221\"], [1, \"#276419\"]], \"sequential\": [[0.0, \"#0d0887\"], [0.1111111111111111, \"#46039f\"], [0.2222222222222222, \"#7201a8\"], [0.3333333333333333, \"#9c179e\"], [0.4444444444444444, \"#bd3786\"], [0.5555555555555556, \"#d8576b\"], [0.6666666666666666, \"#ed7953\"], [0.7777777777777778, \"#fb9f3a\"], [0.8888888888888888, \"#fdca26\"], [1.0, \"#f0f921\"]], \"sequentialminus\": [[0.0, \"#0d0887\"], [0.1111111111111111, \"#46039f\"], [0.2222222222222222, \"#7201a8\"], [0.3333333333333333, \"#9c179e\"], [0.4444444444444444, \"#bd3786\"], [0.5555555555555556, \"#d8576b\"], [0.6666666666666666, \"#ed7953\"], [0.7777777777777778, \"#fb9f3a\"], [0.8888888888888888, \"#fdca26\"], [1.0, \"#f0f921\"]]}, \"colorway\": [\"#636efa\", \"#EF553B\", \"#00cc96\", \"#ab63fa\", \"#FFA15A\", \"#19d3f3\", \"#FF6692\", \"#B6E880\", \"#FF97FF\", \"#FECB52\"], \"font\": {\"color\": \"#2a3f5f\"}, \"geo\": {\"bgcolor\": \"white\", \"lakecolor\": \"white\", \"landcolor\": \"#E5ECF6\", \"showlakes\": true, \"showland\": true, \"subunitcolor\": \"white\"}, \"hoverlabel\": {\"align\": \"left\"}, \"hovermode\": \"closest\", \"mapbox\": {\"style\": \"light\"}, \"paper_bgcolor\": \"white\", \"plot_bgcolor\": \"#E5ECF6\", \"polar\": {\"angularaxis\": {\"gridcolor\": \"white\", \"linecolor\": \"white\", \"ticks\": \"\"}, \"bgcolor\": \"#E5ECF6\", \"radialaxis\": {\"gridcolor\": \"white\", \"linecolor\": \"white\", \"ticks\": \"\"}}, \"scene\": {\"xaxis\": {\"backgroundcolor\": \"#E5ECF6\", \"gridcolor\": \"white\", \"gridwidth\": 2, \"linecolor\": \"white\", \"showbackground\": true, \"ticks\": \"\", \"zerolinecolor\": \"white\"}, \"yaxis\": {\"backgroundcolor\": \"#E5ECF6\", \"gridcolor\": \"white\", \"gridwidth\": 2, \"linecolor\": \"white\", \"showbackground\": true, \"ticks\": \"\", \"zerolinecolor\": \"white\"}, \"zaxis\": {\"backgroundcolor\": \"#E5ECF6\", \"gridcolor\": \"white\", \"gridwidth\": 2, \"linecolor\": \"white\", \"showbackground\": true, \"ticks\": \"\", \"zerolinecolor\": \"white\"}}, \"shapedefaults\": {\"line\": {\"color\": \"#2a3f5f\"}}, \"ternary\": {\"aaxis\": {\"gridcolor\": \"white\", \"linecolor\": \"white\", \"ticks\": \"\"}, \"baxis\": {\"gridcolor\": \"white\", \"linecolor\": \"white\", \"ticks\": \"\"}, \"bgcolor\": \"#E5ECF6\", \"caxis\": {\"gridcolor\": \"white\", \"linecolor\": \"white\", \"ticks\": \"\"}}, \"title\": {\"x\": 0.05}, \"xaxis\": {\"automargin\": true, \"gridcolor\": \"white\", \"linecolor\": \"white\", \"ticks\": \"\", \"title\": {\"standoff\": 15}, \"zerolinecolor\": \"white\", \"zerolinewidth\": 2}, \"yaxis\": {\"automargin\": true, \"gridcolor\": \"white\", \"linecolor\": \"white\", \"ticks\": \"\", \"title\": {\"standoff\": 15}, \"zerolinecolor\": \"white\", \"zerolinewidth\": 2}}}, \"width\": 1200, \"xaxis\": {\"anchor\": \"y\", \"domain\": [0.0, 0.45]}, \"xaxis2\": {\"anchor\": \"y2\", \"domain\": [0.55, 1.0]}, \"xaxis3\": {\"anchor\": \"y3\", \"domain\": [0.0, 0.45]}, \"xaxis4\": {\"anchor\": \"y4\", \"domain\": [0.55, 1.0]}, \"yaxis\": {\"anchor\": \"x\", \"automargin\": true, \"domain\": [0.625, 1.0]}, \"yaxis2\": {\"anchor\": \"x2\", \"automargin\": true, \"domain\": [0.625, 1.0]}, \"yaxis3\": {\"anchor\": \"x3\", \"automargin\": true, \"domain\": [0.0, 0.375]}, \"yaxis4\": {\"anchor\": \"x4\", \"automargin\": true, \"domain\": [0.0, 0.375]}},                        {\"responsive\": true}                    ).then(function(){\n",
       "                            \n",
       "var gd = document.getElementById('341e2898-6f16-47aa-8eae-e132f723a3aa');\n",
       "var x = new MutationObserver(function (mutations, observer) {{\n",
       "        var display = window.getComputedStyle(gd).display;\n",
       "        if (!display || display === 'none') {{\n",
       "            console.log([gd, 'removed!']);\n",
       "            Plotly.purge(gd);\n",
       "            observer.disconnect();\n",
       "        }}\n",
       "}});\n",
       "\n",
       "// Listen for the removal of the full notebook cells\n",
       "var notebookContainer = gd.closest('#notebook-container');\n",
       "if (notebookContainer) {{\n",
       "    x.observe(notebookContainer, {childList: true});\n",
       "}}\n",
       "\n",
       "// Listen for the clearing of the current output cell\n",
       "var outputEl = gd.closest('.output');\n",
       "if (outputEl) {{\n",
       "    x.observe(outputEl, {childList: true});\n",
       "}}\n",
       "\n",
       "                        })                };                });            </script>        </div>"
      ]
     },
     "metadata": {},
     "output_type": "display_data"
    }
   ],
   "source": [
    "# 'count_alzheimer'\n",
    "\n",
    "df_dat_them=df[['Annee','count_cardiovascular','count_cancer',\n",
    "                'count_schizophrenia','count_diabetes','count_AIDS','count_asthma','count_alzheimer']]\n",
    "df7=df_dat_them[['Annee','count_alzheimer']]\n",
    "df7= df7[df7['count_alzheimer'] >1]\n",
    "df7 = df7.groupby(['Annee']).count_alzheimer.sum().reset_index()\n",
    "from plotly.subplots import make_subplots\n",
    "\n",
    "fig7 = make_subplots(rows=2, cols=2, subplot_titles=['Plot 1','articles alzheimer', 'mots clés','p4'])\n",
    "fig7.add_scatter(x=df7['Annee'], y= df7['count_alzheimer'], row=1, col=1)\n",
    "fig7.add_scatter(x=df7['Annee'], y= df7['count_alzheimer'], row=1, col=2)\n",
    "fig7.add_bar(x=list(d_key7.keys()), y=list(d_key7.values()), row=2,col=1)\n",
    "fig7.add_bar(x=df7['Annee'], y=df7['count_alzheimer'], row=2,col=2)\n",
    "fig7.update_yaxes(automargin=True)\n",
    "fig7['layout'].update(width=1200, height=800, autosize=True)\n",
    "fig7"
   ]
  },
  {
   "cell_type": "code",
   "execution_count": 94,
   "metadata": {},
   "outputs": [
    {
     "data": {
      "application/vnd.plotly.v1+json": {
       "config": {
        "plotlyServerURL": "https://plot.ly"
       },
       "data": [
        {
         "hoverinfo": "text",
         "hovertext": [
          "patient1.0",
          "using0.9850780013565453",
          "used0.916346371241239",
          "method0.8984851910468008",
          "based0.7099253900067827",
          "model0.6719421207325345",
          "neural network0.6301153063531539",
          "study0.6151933077096993",
          "image0.584218855980104",
          "feature0.5665837666742031",
          "detection0.5665837666742031",
          "data0.5475921320370789",
          "system0.46416459416685507",
          "machine learning0.4628080488356319",
          "use0.45037304996608635",
          "algorithm0.43228577888311104",
          "result0.41600723490843317",
          "performance0.4128419624689125",
          "analysis0.4108071444720778",
          "classification0.40357223603888764",
          "accuracy0.3866154193985982",
          "compared0.38118923807370564",
          "Background0.3796066018539453",
          "one0.3741804205290527",
          "deep learning0.3705629663124576",
          "detect0.3703368754239204",
          "approach0.3631019669907303",
          "proposed0.3594845127741352",
          "region0.35315396789509385",
          "diagnosis0.35202351345240784",
          "paper0.32986660637576304",
          "two0.32376215238525885",
          "provide0.32082297083427536",
          "technique0.319240334614515",
          "breast cancer0.31607506217499437",
          "different0.3142663350666968",
          "developed0.3120054261813249",
          "objective0.3092923355188786",
          "information0.29979651820031655",
          "tumor0.2923355188785892",
          "new0.2880397919963825",
          "applied0.2875876102193082",
          "potential0.2869093375536966",
          "may0.2839701560027131",
          "area0.28012661089758084",
          "dataset0.2780917929007461",
          "treatment0.27718742934659735",
          "clinical0.27628306579244855",
          "case0.27379606601853945",
          "Purpose0.27356997513000225",
          "present0.27017861180194436",
          "s disease0.26746552113949806",
          "lesion0.2640741578114402",
          "associated0.25751752204386164",
          "segmentation0.2529957042731178",
          "sensitivity0.2529957042731178",
          "development0.24802170472529958",
          "application0.2439520687316301",
          "classifier0.24349988695455574",
          "improve0.2419172507347954",
          "detected0.241465068957721",
          "well0.23943025096088627",
          "including0.23807370562966312",
          "disease0.23490843319014243",
          "novel0.23445625141306806",
          "identify0.23151706986208456",
          "obtained0.22993443364232422",
          "propose0.2220212525435225",
          "change0.22021252543522496",
          "performed0.21727334388424147",
          "respectively0.2134297987791092",
          "first0.21252543522496042",
          "gene0.2104906172281257",
          "AD0.21003843545105133",
          "tissue0.20958625367397693",
          "identified0.20913407189690256",
          "computer aided0.2075514356771422",
          "group0.20642098123445626",
          "show0.20461225412615872",
          "work0.20393398146054714",
          "Alzheimer s0.20144698168663802",
          "problem0.20076870902102645",
          "develop0.20054261813248925",
          "specificity0.20054261813248925",
          "found0.20031652724395207",
          "set0.19986434546687767",
          "support vector0.19873389102419173",
          "D0.19828170924711735",
          "time0.19760343658150575",
          "sample0.19715125480443138",
          "pattern0.1962468912502826",
          "lung cancer0.19556861858467103",
          "due0.19489034591905946",
          "vector machine0.19489034591905946",
          "subject0.1939859823649107",
          "detecting0.1937598914763735",
          "evaluate0.19172507347953877",
          "number0.1914989825910016",
          "prediction0.19036852814831562",
          "convolutional neural0.18991634637124125",
          "important0.18923807370562967",
          "level0.18878589192855527",
          "aim0.1883337101514809",
          "test0.18765543748586933",
          "task0.18652498304318335",
          "three0.1856206194890346",
          "tool0.18335971060366268",
          "evaluated0.1824553470495139",
          "parameter0.1820031652724395",
          "normal0.18109880171829076",
          "studies0.180194438164142",
          "human0.1799683472756048",
          "trained0.17906398372145602",
          "artificial intelligence0.17861180194438164",
          "several0.17793352927877007",
          "magnetic resonance0.17657698394754692",
          "training0.17522043861632378",
          "individual0.17499434772778658",
          "structure0.17205516617680308",
          "within0.17160298439972868",
          "signal0.1709247117341171",
          "proposed method0.16956816640289396",
          "early detection0.16934207551435676",
          "accurate0.1679855301831336",
          "high0.16640289396337327",
          "cell0.16414198507800135",
          "biomarker0.16391589418946417",
          "effect0.16346371241238977",
          "specific0.1630115306353154",
          "achieved0.16255934885824103",
          "measure0.16255934885824103",
          "p0.16188107619262943",
          "diagnostic0.16142889441555505",
          "multiple0.16120280352701785",
          "evaluation0.15826362197603436",
          "many0.15577662220212526",
          "research0.15351571331675334",
          "function0.15306353153967894",
          "order0.15283744065114177",
          "database0.15261134976260457",
          "predict0.15102871354284422",
          "identification0.14808953199186073",
          "type0.14741125932624916",
          "various0.14741125932624916",
          "thus0.14741125932624916",
          "screening0.14718516843771196",
          "tested0.14447207777526566",
          "data set0.14424598688672846",
          "early0.1433416233325797",
          "without0.14266335066696811",
          "related0.14175898711281934",
          "framework0.14108071444720777",
          "process0.1408546235586706",
          "value0.13836762378476147",
          "difference0.1376893511191499",
          "target0.13701107845353833",
          "common0.13655889667646393",
          "automated0.13610671489938955",
          "combination0.13588062401085235",
          "extracted0.13429798779109203",
          "improved0.13407189690255483",
          "false positive0.13316753334840606",
          "effective0.1315848971286457",
          "demonstrate0.13090662446303414",
          "non0.13068053357449694",
          "assessment0.13000226090888536",
          "classify0.1290978973547366",
          "challenge0.1290978973547366",
          "control0.12887180646619942",
          "presented0.12887180646619942",
          "risk0.12864571557766222",
          "will0.12864571557766222",
          "approaches0.1268369884693647",
          "state0.1266108975808275",
          "radiologist0.1266108975808275",
          "protein0.1263848066922903",
          "single0.1261587158037531",
          "experiment0.12548044313814152",
          "increase0.12548044313814152",
          "stage0.12548044313814152",
          "mean0.12457607958399276",
          "addition0.12434998869545558",
          "schizophrenia0.123671716029844",
          "need0.1234456251413068",
          "ability0.12163689803300927",
          "cancer0.12141080714447208",
          "require0.12141080714447208",
          "shown0.12050644359032331",
          "measurement0.12028035270178612",
          "total0.11982817092471174",
          "combined0.11982817092471174",
          "current0.11982817092471174",
          "standard0.11914989825910016",
          "n0.11869771648202578",
          "comparison0.11824553470495139",
          "artificial neural0.11824553470495139",
          "brain0.117793352927877",
          "Finally0.117793352927877",
          "automatic0.11756726203933981"
         ],
         "mode": "text",
         "text": [
          "patient",
          "using",
          "used",
          "method",
          "based",
          "model",
          "neural network",
          "study",
          "image",
          "feature",
          "detection",
          "data",
          "system",
          "machine learning",
          "use",
          "algorithm",
          "result",
          "performance",
          "analysis",
          "classification",
          "accuracy",
          "compared",
          "Background",
          "one",
          "deep learning",
          "detect",
          "approach",
          "proposed",
          "region",
          "diagnosis",
          "paper",
          "two",
          "provide",
          "technique",
          "breast cancer",
          "different",
          "developed",
          "objective",
          "information",
          "tumor",
          "new",
          "applied",
          "potential",
          "may",
          "area",
          "dataset",
          "treatment",
          "clinical",
          "case",
          "Purpose",
          "present",
          "s disease",
          "lesion",
          "associated",
          "segmentation",
          "sensitivity",
          "development",
          "application",
          "classifier",
          "improve",
          "detected",
          "well",
          "including",
          "disease",
          "novel",
          "identify",
          "obtained",
          "propose",
          "change",
          "performed",
          "respectively",
          "first",
          "gene",
          "AD",
          "tissue",
          "identified",
          "computer aided",
          "group",
          "show",
          "work",
          "Alzheimer s",
          "problem",
          "develop",
          "specificity",
          "found",
          "set",
          "support vector",
          "D",
          "time",
          "sample",
          "pattern",
          "lung cancer",
          "due",
          "vector machine",
          "subject",
          "detecting",
          "evaluate",
          "number",
          "prediction",
          "convolutional neural",
          "important",
          "level",
          "aim",
          "test",
          "task",
          "three",
          "tool",
          "evaluated",
          "parameter",
          "normal",
          "studies",
          "human",
          "trained",
          "artificial intelligence",
          "several",
          "magnetic resonance",
          "training",
          "individual",
          "structure",
          "within",
          "signal",
          "proposed method",
          "early detection",
          "accurate",
          "high",
          "cell",
          "biomarker",
          "effect",
          "specific",
          "achieved",
          "measure",
          "p",
          "diagnostic",
          "multiple",
          "evaluation",
          "many",
          "research",
          "function",
          "order",
          "database",
          "predict",
          "identification",
          "type",
          "various",
          "thus",
          "screening",
          "tested",
          "data set",
          "early",
          "without",
          "related",
          "framework",
          "process",
          "value",
          "difference",
          "target",
          "common",
          "automated",
          "combination",
          "extracted",
          "improved",
          "false positive",
          "effective",
          "demonstrate",
          "non",
          "assessment",
          "classify",
          "challenge",
          "control",
          "presented",
          "risk",
          "will",
          "approaches",
          "state",
          "radiologist",
          "protein",
          "single",
          "experiment",
          "increase",
          "stage",
          "mean",
          "addition",
          "schizophrenia",
          "need",
          "ability",
          "cancer",
          "require",
          "shown",
          "measurement",
          "total",
          "combined",
          "current",
          "standard",
          "n",
          "comparison",
          "artificial neural",
          "brain",
          "Finally",
          "automatic"
         ],
         "textfont": {
          "color": [
           "rgb(30, 155, 138)",
           "rgb(38, 173, 129)",
           "rgb(70, 192, 111)",
           "rgb(86, 198, 103)",
           "rgb(58, 84, 140)",
           "rgb(72, 36, 117)",
           "rgb(46, 110, 142)",
           "rgb(53, 183, 121)",
           "rgb(54, 93, 141)",
           "rgb(69, 55, 129)",
           "rgb(72, 27, 109)",
           "rgb(80, 196, 106)",
           "rgb(134, 213, 73)",
           "rgb(72, 35, 116)",
           "rgb(173, 220, 48)",
           "rgb(34, 167, 133)",
           "rgb(49, 102, 142)",
           "rgb(127, 211, 78)",
           "rgb(112, 207, 87)",
           "rgb(139, 214, 70)",
           "rgb(61, 77, 138)",
           "rgb(47, 107, 142)",
           "rgb(92, 200, 99)",
           "rgb(42, 119, 142)",
           "rgb(47, 107, 142)",
           "rgb(108, 205, 90)",
           "rgb(66, 190, 113)",
           "rgb(160, 218, 57)",
           "rgb(69, 53, 129)",
           "rgb(56, 88, 140)",
           "rgb(234, 229, 26)",
           "rgb(31, 151, 139)",
           "rgb(33, 143, 141)",
           "rgb(70, 11, 94)",
           "rgb(31, 151, 139)",
           "rgb(231, 228, 25)",
           "rgb(70, 51, 127)",
           "rgb(127, 211, 78)",
           "rgb(32, 163, 134)",
           "rgb(31, 161, 136)",
           "rgb(49, 103, 142)",
           "rgb(152, 216, 62)",
           "rgb(31, 152, 139)",
           "rgb(92, 200, 99)",
           "rgb(226, 228, 24)",
           "rgb(43, 117, 142)",
           "rgb(34, 141, 141)",
           "rgb(50, 182, 122)",
           "rgb(56, 88, 140)",
           "rgb(38, 130, 142)",
           "rgb(60, 79, 138)",
           "rgb(58, 186, 118)",
           "rgb(71, 19, 101)",
           "rgb(55, 184, 120)",
           "rgb(31, 154, 138)",
           "rgb(216, 226, 25)",
           "rgb(34, 141, 141)",
           "rgb(31, 161, 136)",
           "rgb(68, 58, 131)",
           "rgb(65, 68, 135)",
           "rgb(56, 88, 140)",
           "rgb(68, 57, 131)",
           "rgb(162, 218, 55)",
           "rgb(55, 184, 120)",
           "rgb(52, 97, 141)",
           "rgb(205, 225, 29)",
           "rgb(70, 192, 111)",
           "rgb(72, 36, 117)",
           "rgb(74, 193, 109)",
           "rgb(34, 167, 133)",
           "rgb(194, 223, 35)",
           "rgb(33, 143, 141)",
           "rgb(139, 214, 70)",
           "rgb(38, 129, 142)",
           "rgb(30, 156, 137)",
           "rgb(149, 216, 64)",
           "rgb(71, 44, 122)",
           "rgb(33, 166, 133)",
           "rgb(59, 82, 139)",
           "rgb(41, 123, 142)",
           "rgb(71, 19, 101)",
           "rgb(251, 231, 35)",
           "rgb(47, 107, 142)",
           "rgb(71, 45, 123)",
           "rgb(55, 90, 140)",
           "rgb(61, 77, 138)",
           "rgb(103, 204, 92)",
           "rgb(244, 230, 30)",
           "rgb(122, 209, 81)",
           "rgb(94, 201, 98)",
           "rgb(50, 182, 122)",
           "rgb(134, 213, 73)",
           "rgb(69, 56, 130)",
           "rgb(58, 186, 118)",
           "rgb(57, 85, 140)",
           "rgb(86, 198, 103)",
           "rgb(45, 112, 142)",
           "rgb(239, 229, 28)",
           "rgb(43, 116, 142)",
           "rgb(71, 16, 99)",
           "rgb(51, 98, 141)",
           "rgb(62, 76, 138)",
           "rgb(72, 36, 117)",
           "rgb(129, 211, 77)",
           "rgb(33, 145, 140)",
           "rgb(32, 147, 140)",
           "rgb(117, 208, 84)",
           "rgb(241, 229, 29)",
           "rgb(31, 161, 135)",
           "rgb(205, 225, 29)",
           "rgb(41, 123, 142)",
           "rgb(122, 209, 81)",
           "rgb(35, 138, 141)",
           "rgb(103, 204, 92)",
           "rgb(213, 226, 26)",
           "rgb(31, 159, 136)",
           "rgb(39, 128, 142)",
           "rgb(129, 211, 77)",
           "rgb(170, 220, 50)",
           "rgb(72, 23, 105)",
           "rgb(31, 153, 138)",
           "rgb(210, 226, 27)",
           "rgb(59, 82, 139)",
           "rgb(82, 197, 105)",
           "rgb(47, 108, 142)",
           "rgb(49, 181, 123)",
           "rgb(72, 41, 121)",
           "rgb(253, 231, 37)",
           "rgb(47, 108, 142)",
           "rgb(208, 225, 28)",
           "rgb(162, 218, 55)",
           "rgb(119, 209, 83)",
           "rgb(48, 106, 142)",
           "rgb(239, 229, 28)",
           "rgb(50, 101, 142)",
           "rgb(34, 141, 141)",
           "rgb(132, 212, 75)",
           "rgb(168, 219, 52)",
           "rgb(48, 105, 142)",
           "rgb(181, 222, 43)",
           "rgb(78, 195, 107)",
           "rgb(176, 221, 47)",
           "rgb(178, 221, 45)",
           "rgb(31, 161, 136)",
           "rgb(59, 187, 117)",
           "rgb(33, 145, 140)",
           "rgb(192, 223, 37)",
           "rgb(56, 185, 119)",
           "rgb(54, 92, 141)",
           "rgb(40, 124, 142)",
           "rgb(72, 37, 118)",
           "rgb(205, 225, 29)",
           "rgb(47, 108, 142)",
           "rgb(34, 140, 141)",
           "rgb(194, 223, 35)",
           "rgb(71, 16, 99)",
           "rgb(46, 109, 142)",
           "rgb(49, 181, 123)",
           "rgb(170, 220, 50)",
           "rgb(36, 170, 131)",
           "rgb(35, 137, 142)",
           "rgb(59, 187, 117)",
           "rgb(127, 211, 78)",
           "rgb(41, 123, 142)",
           "rgb(173, 220, 48)",
           "rgb(57, 86, 140)",
           "rgb(70, 50, 126)",
           "rgb(184, 222, 41)",
           "rgb(32, 163, 134)",
           "rgb(60, 80, 139)",
           "rgb(253, 231, 37)",
           "rgb(51, 98, 141)",
           "rgb(35, 169, 131)",
           "rgb(108, 205, 90)",
           "rgb(119, 209, 83)",
           "rgb(43, 116, 142)",
           "rgb(31, 151, 139)",
           "rgb(194, 223, 35)",
           "rgb(33, 142, 141)",
           "rgb(31, 162, 135)",
           "rgb(49, 103, 142)",
           "rgb(64, 70, 136)",
           "rgb(92, 200, 99)",
           "rgb(124, 210, 80)",
           "rgb(41, 122, 142)",
           "rgb(32, 146, 140)",
           "rgb(52, 96, 141)",
           "rgb(71, 19, 101)",
           "rgb(144, 215, 67)",
           "rgb(40, 174, 128)",
           "rgb(41, 123, 142)",
           "rgb(76, 194, 108)",
           "rgb(58, 84, 140)",
           "rgb(229, 228, 25)",
           "rgb(44, 113, 142)",
           "rgb(189, 223, 38)",
           "rgb(31, 161, 135)",
           "rgb(71, 17, 100)",
           "rgb(31, 152, 139)"
          ],
          "size": [
           100,
           98.50780013565453,
           91.6346371241239,
           89.84851910468008,
           70.99253900067826,
           67.19421207325344,
           63.011530635315395,
           61.51933077096993,
           58.421885598010405,
           56.658376667420306,
           56.658376667420306,
           54.75921320370789,
           46.416459416685505,
           46.28080488356319,
           45.03730499660863,
           43.2285778883111,
           41.600723490843315,
           41.284196246891256,
           41.080714447207775,
           40.35722360388876,
           38.66154193985982,
           38.118923807370564,
           37.96066018539453,
           37.41804205290527,
           37.05629663124576,
           37.03368754239204,
           36.310196699073025,
           35.94845127741352,
           35.315396789509386,
           35.202351345240785,
           32.98666063757631,
           32.37621523852589,
           32.082297083427534,
           31.9240334614515,
           31.607506217499438,
           31.42663350666968,
           31.200542618132488,
           30.929233551887858,
           29.979651820031656,
           29.233551887858923,
           28.803979199638253,
           28.758761021930816,
           28.690933755369656,
           28.39701560027131,
           28.012661089758083,
           27.80917929007461,
           27.718742934659733,
           27.628306579244853,
           27.379606601853943,
           27.356997513000223,
           27.017861180194437,
           26.746552113949807,
           26.40741578114402,
           25.751752204386165,
           25.299570427311778,
           25.299570427311778,
           24.80217047252996,
           24.395206873163012,
           24.349988695455576,
           24.19172507347954,
           24.1465068957721,
           23.943025096088626,
           23.807370562966312,
           23.490843319014242,
           23.445625141306806,
           23.151706986208456,
           22.993443364232423,
           22.20212525435225,
           22.021252543522497,
           21.727334388424147,
           21.34297987791092,
           21.252543522496044,
           21.04906172281257,
           21.003843545105134,
           20.958625367397694,
           20.913407189690254,
           20.75514356771422,
           20.642098123445628,
           20.46122541261587,
           20.393398146054714,
           20.1446981686638,
           20.076870902102645,
           20.054261813248925,
           20.054261813248925,
           20.031652724395208,
           19.986434546687768,
           19.87338910241917,
           19.828170924711735,
           19.760343658150575,
           19.715125480443138,
           19.62468912502826,
           19.556861858467105,
           19.489034591905945,
           19.489034591905945,
           19.39859823649107,
           19.375989147637352,
           19.172507347953875,
           19.14989825910016,
           19.036852814831562,
           18.991634637124125,
           18.92380737056297,
           18.87858919285553,
           18.83337101514809,
           18.765543748586932,
           18.652498304318335,
           18.56206194890346,
           18.33597106036627,
           18.245534704951393,
           18.200316527243952,
           18.109880171829076,
           18.0194438164142,
           17.99683472756048,
           17.906398372145603,
           17.861180194438163,
           17.793352927877006,
           17.657698394754693,
           17.522043861632376,
           17.499434772778656,
           17.20551661768031,
           17.16029843997287,
           17.09247117341171,
           16.956816640289397,
           16.934207551435676,
           16.79855301831336,
           16.640289396337327,
           16.414198507800133,
           16.391589418946417,
           16.346371241238977,
           16.30115306353154,
           16.255934885824104,
           16.255934885824104,
           16.188107619262944,
           16.142889441555504,
           16.120280352701783,
           15.826362197603435,
           15.577662220212526,
           15.351571331675334,
           15.306353153967894,
           15.283744065114178,
           15.261134976260458,
           15.102871354284423,
           14.808953199186073,
           14.741125932624916,
           14.741125932624916,
           14.741125932624916,
           14.718516843771196,
           14.447207777526566,
           14.424598688672846,
           14.334162333257968,
           14.266335066696811,
           14.175898711281935,
           14.108071444720776,
           14.08546235586706,
           13.836762378476147,
           13.76893511191499,
           13.701107845353832,
           13.655889667646392,
           13.610671489938955,
           13.588062401085235,
           13.429798779109204,
           13.407189690255484,
           13.316753334840605,
           13.15848971286457,
           13.090662446303414,
           13.068053357449694,
           13.000226090888537,
           12.909789735473659,
           12.909789735473659,
           12.887180646619942,
           12.887180646619942,
           12.864571557766222,
           12.864571557766222,
           12.683698846936469,
           12.661089758082749,
           12.661089758082749,
           12.638480669229029,
           12.615871580375309,
           12.548044313814152,
           12.548044313814152,
           12.548044313814152,
           12.457607958399276,
           12.434998869545558,
           12.367171602984401,
           12.344562514130681,
           12.163689803300928,
           12.141080714447208,
           12.141080714447208,
           12.050644359032331,
           12.028035270178613,
           11.982817092471173,
           11.982817092471173,
           11.982817092471173,
           11.914989825910016,
           11.869771648202578,
           11.82455347049514,
           11.82455347049514,
           11.7793352927877,
           11.7793352927877,
           11.756726203933981
          ]
         },
         "type": "scatter",
         "x": [
          66,
          1,
          1,
          138,
          46,
          48,
          182,
          148,
          178,
          11,
          167,
          80,
          103,
          182,
          9,
          51,
          25,
          47,
          56,
          67,
          37,
          138,
          164,
          147,
          1,
          103,
          1,
          2,
          158,
          68,
          147,
          136,
          60,
          99,
          1,
          138,
          138,
          119,
          76,
          43,
          43,
          1,
          88,
          61,
          138,
          77,
          76,
          1,
          114,
          22,
          171,
          191,
          155,
          46,
          96,
          86,
          83,
          85,
          13,
          97,
          77,
          99,
          8,
          99,
          161,
          138,
          138,
          98,
          77,
          28,
          77,
          4,
          111,
          35,
          2,
          193,
          12,
          74,
          181,
          159,
          193,
          183,
          48,
          10,
          100,
          34,
          168,
          121,
          107,
          160,
          80,
          193,
          48,
          8,
          95,
          77,
          142,
          66,
          49,
          8,
          48,
          60,
          177,
          77,
          57,
          178,
          33,
          171,
          190,
          69,
          48,
          163,
          169,
          110,
          194,
          194,
          31,
          105,
          143,
          67,
          172,
          95,
          104,
          145,
          4,
          79,
          139,
          183,
          123,
          8,
          137,
          82,
          140,
          145,
          96,
          171,
          152,
          20,
          83,
          119,
          49,
          11,
          16,
          180,
          161,
          143,
          8,
          151,
          32,
          54,
          129,
          9,
          153,
          6,
          8,
          25,
          173,
          145,
          110,
          72,
          8,
          38,
          107,
          158,
          14,
          23,
          57,
          98,
          175,
          17,
          176,
          1,
          12,
          129,
          25,
          159,
          161,
          52,
          154,
          25,
          180,
          8,
          152,
          50,
          193,
          77,
          165,
          84,
          84,
          184,
          132,
          121,
          58,
          172,
          141,
          137,
          176,
          186,
          151
         ],
         "y": [
          1,
          215,
          76,
          117,
          7,
          225,
          155,
          35,
          345,
          2,
          12,
          162,
          333,
          11,
          312,
          207,
          29,
          128,
          130,
          385,
          17,
          317,
          336,
          97,
          46,
          305,
          341,
          218,
          83,
          140,
          354,
          51,
          331,
          115,
          113,
          130,
          241,
          144,
          56,
          14,
          39,
          258,
          277,
          366,
          72,
          261,
          8,
          1,
          248,
          335,
          369,
          334,
          358,
          54,
          345,
          105,
          53,
          221,
          247,
          64,
          301,
          144,
          282,
          374,
          39,
          17,
          354,
          25,
          176,
          1,
          218,
          177,
          140,
          315,
          309,
          30,
          392,
          370,
          139,
          213,
          71,
          295,
          298,
          107,
          246,
          4,
          163,
          262,
          368,
          6,
          140,
          104,
          97,
          355,
          330,
          112,
          203,
          124,
          224,
          63,
          34,
          384,
          329,
          335,
          195,
          229,
          119,
          339,
          297,
          340,
          271,
          297,
          101,
          1,
          3,
          295,
          159,
          141,
          286,
          358,
          180,
          124,
          298,
          23,
          193,
          372,
          176,
          332,
          203,
          39,
          292,
          161,
          92,
          52,
          179,
          229,
          85,
          129,
          325,
          73,
          345,
          213,
          87,
          180,
          59,
          175,
          172,
          17,
          289,
          341,
          161,
          13,
          326,
          385,
          322,
          191,
          101,
          75,
          312,
          394,
          293,
          1,
          394,
          125,
          177,
          321,
          185,
          184,
          352,
          357,
          336,
          328,
          230,
          49,
          142,
          19,
          263,
          318,
          202,
          88,
          68,
          137,
          249,
          254,
          139,
          117,
          1,
          226,
          2,
          212,
          219,
          245,
          220,
          4,
          394,
          330,
          101,
          139,
          284
         ]
        }
       ],
       "layout": {
        "autosize": true,
        "height": 800,
        "template": {
         "data": {
          "bar": [
           {
            "error_x": {
             "color": "#2a3f5f"
            },
            "error_y": {
             "color": "#2a3f5f"
            },
            "marker": {
             "line": {
              "color": "#E5ECF6",
              "width": 0.5
             }
            },
            "type": "bar"
           }
          ],
          "barpolar": [
           {
            "marker": {
             "line": {
              "color": "#E5ECF6",
              "width": 0.5
             }
            },
            "type": "barpolar"
           }
          ],
          "carpet": [
           {
            "aaxis": {
             "endlinecolor": "#2a3f5f",
             "gridcolor": "white",
             "linecolor": "white",
             "minorgridcolor": "white",
             "startlinecolor": "#2a3f5f"
            },
            "baxis": {
             "endlinecolor": "#2a3f5f",
             "gridcolor": "white",
             "linecolor": "white",
             "minorgridcolor": "white",
             "startlinecolor": "#2a3f5f"
            },
            "type": "carpet"
           }
          ],
          "choropleth": [
           {
            "colorbar": {
             "outlinewidth": 0,
             "ticks": ""
            },
            "type": "choropleth"
           }
          ],
          "contour": [
           {
            "colorbar": {
             "outlinewidth": 0,
             "ticks": ""
            },
            "colorscale": [
             [
              0,
              "#0d0887"
             ],
             [
              0.1111111111111111,
              "#46039f"
             ],
             [
              0.2222222222222222,
              "#7201a8"
             ],
             [
              0.3333333333333333,
              "#9c179e"
             ],
             [
              0.4444444444444444,
              "#bd3786"
             ],
             [
              0.5555555555555556,
              "#d8576b"
             ],
             [
              0.6666666666666666,
              "#ed7953"
             ],
             [
              0.7777777777777778,
              "#fb9f3a"
             ],
             [
              0.8888888888888888,
              "#fdca26"
             ],
             [
              1,
              "#f0f921"
             ]
            ],
            "type": "contour"
           }
          ],
          "contourcarpet": [
           {
            "colorbar": {
             "outlinewidth": 0,
             "ticks": ""
            },
            "type": "contourcarpet"
           }
          ],
          "heatmap": [
           {
            "colorbar": {
             "outlinewidth": 0,
             "ticks": ""
            },
            "colorscale": [
             [
              0,
              "#0d0887"
             ],
             [
              0.1111111111111111,
              "#46039f"
             ],
             [
              0.2222222222222222,
              "#7201a8"
             ],
             [
              0.3333333333333333,
              "#9c179e"
             ],
             [
              0.4444444444444444,
              "#bd3786"
             ],
             [
              0.5555555555555556,
              "#d8576b"
             ],
             [
              0.6666666666666666,
              "#ed7953"
             ],
             [
              0.7777777777777778,
              "#fb9f3a"
             ],
             [
              0.8888888888888888,
              "#fdca26"
             ],
             [
              1,
              "#f0f921"
             ]
            ],
            "type": "heatmap"
           }
          ],
          "heatmapgl": [
           {
            "colorbar": {
             "outlinewidth": 0,
             "ticks": ""
            },
            "colorscale": [
             [
              0,
              "#0d0887"
             ],
             [
              0.1111111111111111,
              "#46039f"
             ],
             [
              0.2222222222222222,
              "#7201a8"
             ],
             [
              0.3333333333333333,
              "#9c179e"
             ],
             [
              0.4444444444444444,
              "#bd3786"
             ],
             [
              0.5555555555555556,
              "#d8576b"
             ],
             [
              0.6666666666666666,
              "#ed7953"
             ],
             [
              0.7777777777777778,
              "#fb9f3a"
             ],
             [
              0.8888888888888888,
              "#fdca26"
             ],
             [
              1,
              "#f0f921"
             ]
            ],
            "type": "heatmapgl"
           }
          ],
          "histogram": [
           {
            "marker": {
             "colorbar": {
              "outlinewidth": 0,
              "ticks": ""
             }
            },
            "type": "histogram"
           }
          ],
          "histogram2d": [
           {
            "colorbar": {
             "outlinewidth": 0,
             "ticks": ""
            },
            "colorscale": [
             [
              0,
              "#0d0887"
             ],
             [
              0.1111111111111111,
              "#46039f"
             ],
             [
              0.2222222222222222,
              "#7201a8"
             ],
             [
              0.3333333333333333,
              "#9c179e"
             ],
             [
              0.4444444444444444,
              "#bd3786"
             ],
             [
              0.5555555555555556,
              "#d8576b"
             ],
             [
              0.6666666666666666,
              "#ed7953"
             ],
             [
              0.7777777777777778,
              "#fb9f3a"
             ],
             [
              0.8888888888888888,
              "#fdca26"
             ],
             [
              1,
              "#f0f921"
             ]
            ],
            "type": "histogram2d"
           }
          ],
          "histogram2dcontour": [
           {
            "colorbar": {
             "outlinewidth": 0,
             "ticks": ""
            },
            "colorscale": [
             [
              0,
              "#0d0887"
             ],
             [
              0.1111111111111111,
              "#46039f"
             ],
             [
              0.2222222222222222,
              "#7201a8"
             ],
             [
              0.3333333333333333,
              "#9c179e"
             ],
             [
              0.4444444444444444,
              "#bd3786"
             ],
             [
              0.5555555555555556,
              "#d8576b"
             ],
             [
              0.6666666666666666,
              "#ed7953"
             ],
             [
              0.7777777777777778,
              "#fb9f3a"
             ],
             [
              0.8888888888888888,
              "#fdca26"
             ],
             [
              1,
              "#f0f921"
             ]
            ],
            "type": "histogram2dcontour"
           }
          ],
          "mesh3d": [
           {
            "colorbar": {
             "outlinewidth": 0,
             "ticks": ""
            },
            "type": "mesh3d"
           }
          ],
          "parcoords": [
           {
            "line": {
             "colorbar": {
              "outlinewidth": 0,
              "ticks": ""
             }
            },
            "type": "parcoords"
           }
          ],
          "pie": [
           {
            "automargin": true,
            "type": "pie"
           }
          ],
          "scatter": [
           {
            "marker": {
             "colorbar": {
              "outlinewidth": 0,
              "ticks": ""
             }
            },
            "type": "scatter"
           }
          ],
          "scatter3d": [
           {
            "line": {
             "colorbar": {
              "outlinewidth": 0,
              "ticks": ""
             }
            },
            "marker": {
             "colorbar": {
              "outlinewidth": 0,
              "ticks": ""
             }
            },
            "type": "scatter3d"
           }
          ],
          "scattercarpet": [
           {
            "marker": {
             "colorbar": {
              "outlinewidth": 0,
              "ticks": ""
             }
            },
            "type": "scattercarpet"
           }
          ],
          "scattergeo": [
           {
            "marker": {
             "colorbar": {
              "outlinewidth": 0,
              "ticks": ""
             }
            },
            "type": "scattergeo"
           }
          ],
          "scattergl": [
           {
            "marker": {
             "colorbar": {
              "outlinewidth": 0,
              "ticks": ""
             }
            },
            "type": "scattergl"
           }
          ],
          "scattermapbox": [
           {
            "marker": {
             "colorbar": {
              "outlinewidth": 0,
              "ticks": ""
             }
            },
            "type": "scattermapbox"
           }
          ],
          "scatterpolar": [
           {
            "marker": {
             "colorbar": {
              "outlinewidth": 0,
              "ticks": ""
             }
            },
            "type": "scatterpolar"
           }
          ],
          "scatterpolargl": [
           {
            "marker": {
             "colorbar": {
              "outlinewidth": 0,
              "ticks": ""
             }
            },
            "type": "scatterpolargl"
           }
          ],
          "scatterternary": [
           {
            "marker": {
             "colorbar": {
              "outlinewidth": 0,
              "ticks": ""
             }
            },
            "type": "scatterternary"
           }
          ],
          "surface": [
           {
            "colorbar": {
             "outlinewidth": 0,
             "ticks": ""
            },
            "colorscale": [
             [
              0,
              "#0d0887"
             ],
             [
              0.1111111111111111,
              "#46039f"
             ],
             [
              0.2222222222222222,
              "#7201a8"
             ],
             [
              0.3333333333333333,
              "#9c179e"
             ],
             [
              0.4444444444444444,
              "#bd3786"
             ],
             [
              0.5555555555555556,
              "#d8576b"
             ],
             [
              0.6666666666666666,
              "#ed7953"
             ],
             [
              0.7777777777777778,
              "#fb9f3a"
             ],
             [
              0.8888888888888888,
              "#fdca26"
             ],
             [
              1,
              "#f0f921"
             ]
            ],
            "type": "surface"
           }
          ],
          "table": [
           {
            "cells": {
             "fill": {
              "color": "#EBF0F8"
             },
             "line": {
              "color": "white"
             }
            },
            "header": {
             "fill": {
              "color": "#C8D4E3"
             },
             "line": {
              "color": "white"
             }
            },
            "type": "table"
           }
          ]
         },
         "layout": {
          "annotationdefaults": {
           "arrowcolor": "#2a3f5f",
           "arrowhead": 0,
           "arrowwidth": 1
          },
          "autotypenumbers": "strict",
          "coloraxis": {
           "colorbar": {
            "outlinewidth": 0,
            "ticks": ""
           }
          },
          "colorscale": {
           "diverging": [
            [
             0,
             "#8e0152"
            ],
            [
             0.1,
             "#c51b7d"
            ],
            [
             0.2,
             "#de77ae"
            ],
            [
             0.3,
             "#f1b6da"
            ],
            [
             0.4,
             "#fde0ef"
            ],
            [
             0.5,
             "#f7f7f7"
            ],
            [
             0.6,
             "#e6f5d0"
            ],
            [
             0.7,
             "#b8e186"
            ],
            [
             0.8,
             "#7fbc41"
            ],
            [
             0.9,
             "#4d9221"
            ],
            [
             1,
             "#276419"
            ]
           ],
           "sequential": [
            [
             0,
             "#0d0887"
            ],
            [
             0.1111111111111111,
             "#46039f"
            ],
            [
             0.2222222222222222,
             "#7201a8"
            ],
            [
             0.3333333333333333,
             "#9c179e"
            ],
            [
             0.4444444444444444,
             "#bd3786"
            ],
            [
             0.5555555555555556,
             "#d8576b"
            ],
            [
             0.6666666666666666,
             "#ed7953"
            ],
            [
             0.7777777777777778,
             "#fb9f3a"
            ],
            [
             0.8888888888888888,
             "#fdca26"
            ],
            [
             1,
             "#f0f921"
            ]
           ],
           "sequentialminus": [
            [
             0,
             "#0d0887"
            ],
            [
             0.1111111111111111,
             "#46039f"
            ],
            [
             0.2222222222222222,
             "#7201a8"
            ],
            [
             0.3333333333333333,
             "#9c179e"
            ],
            [
             0.4444444444444444,
             "#bd3786"
            ],
            [
             0.5555555555555556,
             "#d8576b"
            ],
            [
             0.6666666666666666,
             "#ed7953"
            ],
            [
             0.7777777777777778,
             "#fb9f3a"
            ],
            [
             0.8888888888888888,
             "#fdca26"
            ],
            [
             1,
             "#f0f921"
            ]
           ]
          },
          "colorway": [
           "#636efa",
           "#EF553B",
           "#00cc96",
           "#ab63fa",
           "#FFA15A",
           "#19d3f3",
           "#FF6692",
           "#B6E880",
           "#FF97FF",
           "#FECB52"
          ],
          "font": {
           "color": "#2a3f5f"
          },
          "geo": {
           "bgcolor": "white",
           "lakecolor": "white",
           "landcolor": "#E5ECF6",
           "showlakes": true,
           "showland": true,
           "subunitcolor": "white"
          },
          "hoverlabel": {
           "align": "left"
          },
          "hovermode": "closest",
          "mapbox": {
           "style": "light"
          },
          "paper_bgcolor": "white",
          "plot_bgcolor": "#E5ECF6",
          "polar": {
           "angularaxis": {
            "gridcolor": "white",
            "linecolor": "white",
            "ticks": ""
           },
           "bgcolor": "#E5ECF6",
           "radialaxis": {
            "gridcolor": "white",
            "linecolor": "white",
            "ticks": ""
           }
          },
          "scene": {
           "xaxis": {
            "backgroundcolor": "#E5ECF6",
            "gridcolor": "white",
            "gridwidth": 2,
            "linecolor": "white",
            "showbackground": true,
            "ticks": "",
            "zerolinecolor": "white"
           },
           "yaxis": {
            "backgroundcolor": "#E5ECF6",
            "gridcolor": "white",
            "gridwidth": 2,
            "linecolor": "white",
            "showbackground": true,
            "ticks": "",
            "zerolinecolor": "white"
           },
           "zaxis": {
            "backgroundcolor": "#E5ECF6",
            "gridcolor": "white",
            "gridwidth": 2,
            "linecolor": "white",
            "showbackground": true,
            "ticks": "",
            "zerolinecolor": "white"
           }
          },
          "shapedefaults": {
           "line": {
            "color": "#2a3f5f"
           }
          },
          "ternary": {
           "aaxis": {
            "gridcolor": "white",
            "linecolor": "white",
            "ticks": ""
           },
           "baxis": {
            "gridcolor": "white",
            "linecolor": "white",
            "ticks": ""
           },
           "bgcolor": "#E5ECF6",
           "caxis": {
            "gridcolor": "white",
            "linecolor": "white",
            "ticks": ""
           }
          },
          "title": {
           "x": 0.05
          },
          "xaxis": {
           "automargin": true,
           "gridcolor": "white",
           "linecolor": "white",
           "ticks": "",
           "title": {
            "standoff": 15
           },
           "zerolinecolor": "white",
           "zerolinewidth": 2
          },
          "yaxis": {
           "automargin": true,
           "gridcolor": "white",
           "linecolor": "white",
           "ticks": "",
           "title": {
            "standoff": 15
           },
           "zerolinecolor": "white",
           "zerolinewidth": 2
          }
         }
        },
        "width": 1200,
        "xaxis": {
         "showgrid": false,
         "showticklabels": false,
         "zeroline": false
        },
        "yaxis": {
         "showgrid": false,
         "showticklabels": false,
         "zeroline": false
        }
       }
      },
      "text/html": [
       "<div>                            <div id=\"9646e560-2d0d-4493-bdc1-6113088fae42\" class=\"plotly-graph-div\" style=\"height:800px; width:1200px;\"></div>            <script type=\"text/javascript\">                require([\"plotly\"], function(Plotly) {                    window.PLOTLYENV=window.PLOTLYENV || {};                                    if (document.getElementById(\"9646e560-2d0d-4493-bdc1-6113088fae42\")) {                    Plotly.newPlot(                        \"9646e560-2d0d-4493-bdc1-6113088fae42\",                        [{\"hoverinfo\": \"text\", \"hovertext\": [\"patient1.0\", \"using0.9850780013565453\", \"used0.916346371241239\", \"method0.8984851910468008\", \"based0.7099253900067827\", \"model0.6719421207325345\", \"neural network0.6301153063531539\", \"study0.6151933077096993\", \"image0.584218855980104\", \"feature0.5665837666742031\", \"detection0.5665837666742031\", \"data0.5475921320370789\", \"system0.46416459416685507\", \"machine learning0.4628080488356319\", \"use0.45037304996608635\", \"algorithm0.43228577888311104\", \"result0.41600723490843317\", \"performance0.4128419624689125\", \"analysis0.4108071444720778\", \"classification0.40357223603888764\", \"accuracy0.3866154193985982\", \"compared0.38118923807370564\", \"Background0.3796066018539453\", \"one0.3741804205290527\", \"deep learning0.3705629663124576\", \"detect0.3703368754239204\", \"approach0.3631019669907303\", \"proposed0.3594845127741352\", \"region0.35315396789509385\", \"diagnosis0.35202351345240784\", \"paper0.32986660637576304\", \"two0.32376215238525885\", \"provide0.32082297083427536\", \"technique0.319240334614515\", \"breast cancer0.31607506217499437\", \"different0.3142663350666968\", \"developed0.3120054261813249\", \"objective0.3092923355188786\", \"information0.29979651820031655\", \"tumor0.2923355188785892\", \"new0.2880397919963825\", \"applied0.2875876102193082\", \"potential0.2869093375536966\", \"may0.2839701560027131\", \"area0.28012661089758084\", \"dataset0.2780917929007461\", \"treatment0.27718742934659735\", \"clinical0.27628306579244855\", \"case0.27379606601853945\", \"Purpose0.27356997513000225\", \"present0.27017861180194436\", \"s disease0.26746552113949806\", \"lesion0.2640741578114402\", \"associated0.25751752204386164\", \"segmentation0.2529957042731178\", \"sensitivity0.2529957042731178\", \"development0.24802170472529958\", \"application0.2439520687316301\", \"classifier0.24349988695455574\", \"improve0.2419172507347954\", \"detected0.241465068957721\", \"well0.23943025096088627\", \"including0.23807370562966312\", \"disease0.23490843319014243\", \"novel0.23445625141306806\", \"identify0.23151706986208456\", \"obtained0.22993443364232422\", \"propose0.2220212525435225\", \"change0.22021252543522496\", \"performed0.21727334388424147\", \"respectively0.2134297987791092\", \"first0.21252543522496042\", \"gene0.2104906172281257\", \"AD0.21003843545105133\", \"tissue0.20958625367397693\", \"identified0.20913407189690256\", \"computer aided0.2075514356771422\", \"group0.20642098123445626\", \"show0.20461225412615872\", \"work0.20393398146054714\", \"Alzheimer s0.20144698168663802\", \"problem0.20076870902102645\", \"develop0.20054261813248925\", \"specificity0.20054261813248925\", \"found0.20031652724395207\", \"set0.19986434546687767\", \"support vector0.19873389102419173\", \"D0.19828170924711735\", \"time0.19760343658150575\", \"sample0.19715125480443138\", \"pattern0.1962468912502826\", \"lung cancer0.19556861858467103\", \"due0.19489034591905946\", \"vector machine0.19489034591905946\", \"subject0.1939859823649107\", \"detecting0.1937598914763735\", \"evaluate0.19172507347953877\", \"number0.1914989825910016\", \"prediction0.19036852814831562\", \"convolutional neural0.18991634637124125\", \"important0.18923807370562967\", \"level0.18878589192855527\", \"aim0.1883337101514809\", \"test0.18765543748586933\", \"task0.18652498304318335\", \"three0.1856206194890346\", \"tool0.18335971060366268\", \"evaluated0.1824553470495139\", \"parameter0.1820031652724395\", \"normal0.18109880171829076\", \"studies0.180194438164142\", \"human0.1799683472756048\", \"trained0.17906398372145602\", \"artificial intelligence0.17861180194438164\", \"several0.17793352927877007\", \"magnetic resonance0.17657698394754692\", \"training0.17522043861632378\", \"individual0.17499434772778658\", \"structure0.17205516617680308\", \"within0.17160298439972868\", \"signal0.1709247117341171\", \"proposed method0.16956816640289396\", \"early detection0.16934207551435676\", \"accurate0.1679855301831336\", \"high0.16640289396337327\", \"cell0.16414198507800135\", \"biomarker0.16391589418946417\", \"effect0.16346371241238977\", \"specific0.1630115306353154\", \"achieved0.16255934885824103\", \"measure0.16255934885824103\", \"p0.16188107619262943\", \"diagnostic0.16142889441555505\", \"multiple0.16120280352701785\", \"evaluation0.15826362197603436\", \"many0.15577662220212526\", \"research0.15351571331675334\", \"function0.15306353153967894\", \"order0.15283744065114177\", \"database0.15261134976260457\", \"predict0.15102871354284422\", \"identification0.14808953199186073\", \"type0.14741125932624916\", \"various0.14741125932624916\", \"thus0.14741125932624916\", \"screening0.14718516843771196\", \"tested0.14447207777526566\", \"data set0.14424598688672846\", \"early0.1433416233325797\", \"without0.14266335066696811\", \"related0.14175898711281934\", \"framework0.14108071444720777\", \"process0.1408546235586706\", \"value0.13836762378476147\", \"difference0.1376893511191499\", \"target0.13701107845353833\", \"common0.13655889667646393\", \"automated0.13610671489938955\", \"combination0.13588062401085235\", \"extracted0.13429798779109203\", \"improved0.13407189690255483\", \"false positive0.13316753334840606\", \"effective0.1315848971286457\", \"demonstrate0.13090662446303414\", \"non0.13068053357449694\", \"assessment0.13000226090888536\", \"classify0.1290978973547366\", \"challenge0.1290978973547366\", \"control0.12887180646619942\", \"presented0.12887180646619942\", \"risk0.12864571557766222\", \"will0.12864571557766222\", \"approaches0.1268369884693647\", \"state0.1266108975808275\", \"radiologist0.1266108975808275\", \"protein0.1263848066922903\", \"single0.1261587158037531\", \"experiment0.12548044313814152\", \"increase0.12548044313814152\", \"stage0.12548044313814152\", \"mean0.12457607958399276\", \"addition0.12434998869545558\", \"schizophrenia0.123671716029844\", \"need0.1234456251413068\", \"ability0.12163689803300927\", \"cancer0.12141080714447208\", \"require0.12141080714447208\", \"shown0.12050644359032331\", \"measurement0.12028035270178612\", \"total0.11982817092471174\", \"combined0.11982817092471174\", \"current0.11982817092471174\", \"standard0.11914989825910016\", \"n0.11869771648202578\", \"comparison0.11824553470495139\", \"artificial neural0.11824553470495139\", \"brain0.117793352927877\", \"Finally0.117793352927877\", \"automatic0.11756726203933981\"], \"mode\": \"text\", \"text\": [\"patient\", \"using\", \"used\", \"method\", \"based\", \"model\", \"neural network\", \"study\", \"image\", \"feature\", \"detection\", \"data\", \"system\", \"machine learning\", \"use\", \"algorithm\", \"result\", \"performance\", \"analysis\", \"classification\", \"accuracy\", \"compared\", \"Background\", \"one\", \"deep learning\", \"detect\", \"approach\", \"proposed\", \"region\", \"diagnosis\", \"paper\", \"two\", \"provide\", \"technique\", \"breast cancer\", \"different\", \"developed\", \"objective\", \"information\", \"tumor\", \"new\", \"applied\", \"potential\", \"may\", \"area\", \"dataset\", \"treatment\", \"clinical\", \"case\", \"Purpose\", \"present\", \"s disease\", \"lesion\", \"associated\", \"segmentation\", \"sensitivity\", \"development\", \"application\", \"classifier\", \"improve\", \"detected\", \"well\", \"including\", \"disease\", \"novel\", \"identify\", \"obtained\", \"propose\", \"change\", \"performed\", \"respectively\", \"first\", \"gene\", \"AD\", \"tissue\", \"identified\", \"computer aided\", \"group\", \"show\", \"work\", \"Alzheimer s\", \"problem\", \"develop\", \"specificity\", \"found\", \"set\", \"support vector\", \"D\", \"time\", \"sample\", \"pattern\", \"lung cancer\", \"due\", \"vector machine\", \"subject\", \"detecting\", \"evaluate\", \"number\", \"prediction\", \"convolutional neural\", \"important\", \"level\", \"aim\", \"test\", \"task\", \"three\", \"tool\", \"evaluated\", \"parameter\", \"normal\", \"studies\", \"human\", \"trained\", \"artificial intelligence\", \"several\", \"magnetic resonance\", \"training\", \"individual\", \"structure\", \"within\", \"signal\", \"proposed method\", \"early detection\", \"accurate\", \"high\", \"cell\", \"biomarker\", \"effect\", \"specific\", \"achieved\", \"measure\", \"p\", \"diagnostic\", \"multiple\", \"evaluation\", \"many\", \"research\", \"function\", \"order\", \"database\", \"predict\", \"identification\", \"type\", \"various\", \"thus\", \"screening\", \"tested\", \"data set\", \"early\", \"without\", \"related\", \"framework\", \"process\", \"value\", \"difference\", \"target\", \"common\", \"automated\", \"combination\", \"extracted\", \"improved\", \"false positive\", \"effective\", \"demonstrate\", \"non\", \"assessment\", \"classify\", \"challenge\", \"control\", \"presented\", \"risk\", \"will\", \"approaches\", \"state\", \"radiologist\", \"protein\", \"single\", \"experiment\", \"increase\", \"stage\", \"mean\", \"addition\", \"schizophrenia\", \"need\", \"ability\", \"cancer\", \"require\", \"shown\", \"measurement\", \"total\", \"combined\", \"current\", \"standard\", \"n\", \"comparison\", \"artificial neural\", \"brain\", \"Finally\", \"automatic\"], \"textfont\": {\"color\": [\"rgb(30, 155, 138)\", \"rgb(38, 173, 129)\", \"rgb(70, 192, 111)\", \"rgb(86, 198, 103)\", \"rgb(58, 84, 140)\", \"rgb(72, 36, 117)\", \"rgb(46, 110, 142)\", \"rgb(53, 183, 121)\", \"rgb(54, 93, 141)\", \"rgb(69, 55, 129)\", \"rgb(72, 27, 109)\", \"rgb(80, 196, 106)\", \"rgb(134, 213, 73)\", \"rgb(72, 35, 116)\", \"rgb(173, 220, 48)\", \"rgb(34, 167, 133)\", \"rgb(49, 102, 142)\", \"rgb(127, 211, 78)\", \"rgb(112, 207, 87)\", \"rgb(139, 214, 70)\", \"rgb(61, 77, 138)\", \"rgb(47, 107, 142)\", \"rgb(92, 200, 99)\", \"rgb(42, 119, 142)\", \"rgb(47, 107, 142)\", \"rgb(108, 205, 90)\", \"rgb(66, 190, 113)\", \"rgb(160, 218, 57)\", \"rgb(69, 53, 129)\", \"rgb(56, 88, 140)\", \"rgb(234, 229, 26)\", \"rgb(31, 151, 139)\", \"rgb(33, 143, 141)\", \"rgb(70, 11, 94)\", \"rgb(31, 151, 139)\", \"rgb(231, 228, 25)\", \"rgb(70, 51, 127)\", \"rgb(127, 211, 78)\", \"rgb(32, 163, 134)\", \"rgb(31, 161, 136)\", \"rgb(49, 103, 142)\", \"rgb(152, 216, 62)\", \"rgb(31, 152, 139)\", \"rgb(92, 200, 99)\", \"rgb(226, 228, 24)\", \"rgb(43, 117, 142)\", \"rgb(34, 141, 141)\", \"rgb(50, 182, 122)\", \"rgb(56, 88, 140)\", \"rgb(38, 130, 142)\", \"rgb(60, 79, 138)\", \"rgb(58, 186, 118)\", \"rgb(71, 19, 101)\", \"rgb(55, 184, 120)\", \"rgb(31, 154, 138)\", \"rgb(216, 226, 25)\", \"rgb(34, 141, 141)\", \"rgb(31, 161, 136)\", \"rgb(68, 58, 131)\", \"rgb(65, 68, 135)\", \"rgb(56, 88, 140)\", \"rgb(68, 57, 131)\", \"rgb(162, 218, 55)\", \"rgb(55, 184, 120)\", \"rgb(52, 97, 141)\", \"rgb(205, 225, 29)\", \"rgb(70, 192, 111)\", \"rgb(72, 36, 117)\", \"rgb(74, 193, 109)\", \"rgb(34, 167, 133)\", \"rgb(194, 223, 35)\", \"rgb(33, 143, 141)\", \"rgb(139, 214, 70)\", \"rgb(38, 129, 142)\", \"rgb(30, 156, 137)\", \"rgb(149, 216, 64)\", \"rgb(71, 44, 122)\", \"rgb(33, 166, 133)\", \"rgb(59, 82, 139)\", \"rgb(41, 123, 142)\", \"rgb(71, 19, 101)\", \"rgb(251, 231, 35)\", \"rgb(47, 107, 142)\", \"rgb(71, 45, 123)\", \"rgb(55, 90, 140)\", \"rgb(61, 77, 138)\", \"rgb(103, 204, 92)\", \"rgb(244, 230, 30)\", \"rgb(122, 209, 81)\", \"rgb(94, 201, 98)\", \"rgb(50, 182, 122)\", \"rgb(134, 213, 73)\", \"rgb(69, 56, 130)\", \"rgb(58, 186, 118)\", \"rgb(57, 85, 140)\", \"rgb(86, 198, 103)\", \"rgb(45, 112, 142)\", \"rgb(239, 229, 28)\", \"rgb(43, 116, 142)\", \"rgb(71, 16, 99)\", \"rgb(51, 98, 141)\", \"rgb(62, 76, 138)\", \"rgb(72, 36, 117)\", \"rgb(129, 211, 77)\", \"rgb(33, 145, 140)\", \"rgb(32, 147, 140)\", \"rgb(117, 208, 84)\", \"rgb(241, 229, 29)\", \"rgb(31, 161, 135)\", \"rgb(205, 225, 29)\", \"rgb(41, 123, 142)\", \"rgb(122, 209, 81)\", \"rgb(35, 138, 141)\", \"rgb(103, 204, 92)\", \"rgb(213, 226, 26)\", \"rgb(31, 159, 136)\", \"rgb(39, 128, 142)\", \"rgb(129, 211, 77)\", \"rgb(170, 220, 50)\", \"rgb(72, 23, 105)\", \"rgb(31, 153, 138)\", \"rgb(210, 226, 27)\", \"rgb(59, 82, 139)\", \"rgb(82, 197, 105)\", \"rgb(47, 108, 142)\", \"rgb(49, 181, 123)\", \"rgb(72, 41, 121)\", \"rgb(253, 231, 37)\", \"rgb(47, 108, 142)\", \"rgb(208, 225, 28)\", \"rgb(162, 218, 55)\", \"rgb(119, 209, 83)\", \"rgb(48, 106, 142)\", \"rgb(239, 229, 28)\", \"rgb(50, 101, 142)\", \"rgb(34, 141, 141)\", \"rgb(132, 212, 75)\", \"rgb(168, 219, 52)\", \"rgb(48, 105, 142)\", \"rgb(181, 222, 43)\", \"rgb(78, 195, 107)\", \"rgb(176, 221, 47)\", \"rgb(178, 221, 45)\", \"rgb(31, 161, 136)\", \"rgb(59, 187, 117)\", \"rgb(33, 145, 140)\", \"rgb(192, 223, 37)\", \"rgb(56, 185, 119)\", \"rgb(54, 92, 141)\", \"rgb(40, 124, 142)\", \"rgb(72, 37, 118)\", \"rgb(205, 225, 29)\", \"rgb(47, 108, 142)\", \"rgb(34, 140, 141)\", \"rgb(194, 223, 35)\", \"rgb(71, 16, 99)\", \"rgb(46, 109, 142)\", \"rgb(49, 181, 123)\", \"rgb(170, 220, 50)\", \"rgb(36, 170, 131)\", \"rgb(35, 137, 142)\", \"rgb(59, 187, 117)\", \"rgb(127, 211, 78)\", \"rgb(41, 123, 142)\", \"rgb(173, 220, 48)\", \"rgb(57, 86, 140)\", \"rgb(70, 50, 126)\", \"rgb(184, 222, 41)\", \"rgb(32, 163, 134)\", \"rgb(60, 80, 139)\", \"rgb(253, 231, 37)\", \"rgb(51, 98, 141)\", \"rgb(35, 169, 131)\", \"rgb(108, 205, 90)\", \"rgb(119, 209, 83)\", \"rgb(43, 116, 142)\", \"rgb(31, 151, 139)\", \"rgb(194, 223, 35)\", \"rgb(33, 142, 141)\", \"rgb(31, 162, 135)\", \"rgb(49, 103, 142)\", \"rgb(64, 70, 136)\", \"rgb(92, 200, 99)\", \"rgb(124, 210, 80)\", \"rgb(41, 122, 142)\", \"rgb(32, 146, 140)\", \"rgb(52, 96, 141)\", \"rgb(71, 19, 101)\", \"rgb(144, 215, 67)\", \"rgb(40, 174, 128)\", \"rgb(41, 123, 142)\", \"rgb(76, 194, 108)\", \"rgb(58, 84, 140)\", \"rgb(229, 228, 25)\", \"rgb(44, 113, 142)\", \"rgb(189, 223, 38)\", \"rgb(31, 161, 135)\", \"rgb(71, 17, 100)\", \"rgb(31, 152, 139)\"], \"size\": [100.0, 98.50780013565453, 91.6346371241239, 89.84851910468008, 70.99253900067826, 67.19421207325344, 63.011530635315395, 61.51933077096993, 58.421885598010405, 56.658376667420306, 56.658376667420306, 54.75921320370789, 46.416459416685505, 46.28080488356319, 45.03730499660863, 43.2285778883111, 41.600723490843315, 41.284196246891256, 41.080714447207775, 40.35722360388876, 38.66154193985982, 38.118923807370564, 37.96066018539453, 37.41804205290527, 37.05629663124576, 37.03368754239204, 36.310196699073025, 35.94845127741352, 35.315396789509386, 35.202351345240785, 32.98666063757631, 32.37621523852589, 32.082297083427534, 31.9240334614515, 31.607506217499438, 31.42663350666968, 31.200542618132488, 30.929233551887858, 29.979651820031656, 29.233551887858923, 28.803979199638253, 28.758761021930816, 28.690933755369656, 28.39701560027131, 28.012661089758083, 27.80917929007461, 27.718742934659733, 27.628306579244853, 27.379606601853943, 27.356997513000223, 27.017861180194437, 26.746552113949807, 26.40741578114402, 25.751752204386165, 25.299570427311778, 25.299570427311778, 24.80217047252996, 24.395206873163012, 24.349988695455576, 24.19172507347954, 24.1465068957721, 23.943025096088626, 23.807370562966312, 23.490843319014242, 23.445625141306806, 23.151706986208456, 22.993443364232423, 22.20212525435225, 22.021252543522497, 21.727334388424147, 21.34297987791092, 21.252543522496044, 21.04906172281257, 21.003843545105134, 20.958625367397694, 20.913407189690254, 20.75514356771422, 20.642098123445628, 20.46122541261587, 20.393398146054714, 20.1446981686638, 20.076870902102645, 20.054261813248925, 20.054261813248925, 20.031652724395208, 19.986434546687768, 19.87338910241917, 19.828170924711735, 19.760343658150575, 19.715125480443138, 19.62468912502826, 19.556861858467105, 19.489034591905945, 19.489034591905945, 19.39859823649107, 19.375989147637352, 19.172507347953875, 19.14989825910016, 19.036852814831562, 18.991634637124125, 18.92380737056297, 18.87858919285553, 18.83337101514809, 18.765543748586932, 18.652498304318335, 18.56206194890346, 18.33597106036627, 18.245534704951393, 18.200316527243952, 18.109880171829076, 18.0194438164142, 17.99683472756048, 17.906398372145603, 17.861180194438163, 17.793352927877006, 17.657698394754693, 17.522043861632376, 17.499434772778656, 17.20551661768031, 17.16029843997287, 17.09247117341171, 16.956816640289397, 16.934207551435676, 16.79855301831336, 16.640289396337327, 16.414198507800133, 16.391589418946417, 16.346371241238977, 16.30115306353154, 16.255934885824104, 16.255934885824104, 16.188107619262944, 16.142889441555504, 16.120280352701783, 15.826362197603435, 15.577662220212526, 15.351571331675334, 15.306353153967894, 15.283744065114178, 15.261134976260458, 15.102871354284423, 14.808953199186073, 14.741125932624916, 14.741125932624916, 14.741125932624916, 14.718516843771196, 14.447207777526566, 14.424598688672846, 14.334162333257968, 14.266335066696811, 14.175898711281935, 14.108071444720776, 14.08546235586706, 13.836762378476147, 13.76893511191499, 13.701107845353832, 13.655889667646392, 13.610671489938955, 13.588062401085235, 13.429798779109204, 13.407189690255484, 13.316753334840605, 13.15848971286457, 13.090662446303414, 13.068053357449694, 13.000226090888537, 12.909789735473659, 12.909789735473659, 12.887180646619942, 12.887180646619942, 12.864571557766222, 12.864571557766222, 12.683698846936469, 12.661089758082749, 12.661089758082749, 12.638480669229029, 12.615871580375309, 12.548044313814152, 12.548044313814152, 12.548044313814152, 12.457607958399276, 12.434998869545558, 12.367171602984401, 12.344562514130681, 12.163689803300928, 12.141080714447208, 12.141080714447208, 12.050644359032331, 12.028035270178613, 11.982817092471173, 11.982817092471173, 11.982817092471173, 11.914989825910016, 11.869771648202578, 11.82455347049514, 11.82455347049514, 11.7793352927877, 11.7793352927877, 11.756726203933981]}, \"type\": \"scatter\", \"x\": [66, 1, 1, 138, 46, 48, 182, 148, 178, 11, 167, 80, 103, 182, 9, 51, 25, 47, 56, 67, 37, 138, 164, 147, 1, 103, 1, 2, 158, 68, 147, 136, 60, 99, 1, 138, 138, 119, 76, 43, 43, 1, 88, 61, 138, 77, 76, 1, 114, 22, 171, 191, 155, 46, 96, 86, 83, 85, 13, 97, 77, 99, 8, 99, 161, 138, 138, 98, 77, 28, 77, 4, 111, 35, 2, 193, 12, 74, 181, 159, 193, 183, 48, 10, 100, 34, 168, 121, 107, 160, 80, 193, 48, 8, 95, 77, 142, 66, 49, 8, 48, 60, 177, 77, 57, 178, 33, 171, 190, 69, 48, 163, 169, 110, 194, 194, 31, 105, 143, 67, 172, 95, 104, 145, 4, 79, 139, 183, 123, 8, 137, 82, 140, 145, 96, 171, 152, 20, 83, 119, 49, 11, 16, 180, 161, 143, 8, 151, 32, 54, 129, 9, 153, 6, 8, 25, 173, 145, 110, 72, 8, 38, 107, 158, 14, 23, 57, 98, 175, 17, 176, 1, 12, 129, 25, 159, 161, 52, 154, 25, 180, 8, 152, 50, 193, 77, 165, 84, 84, 184, 132, 121, 58, 172, 141, 137, 176, 186, 151], \"y\": [1, 215, 76, 117, 7, 225, 155, 35, 345, 2, 12, 162, 333, 11, 312, 207, 29, 128, 130, 385, 17, 317, 336, 97, 46, 305, 341, 218, 83, 140, 354, 51, 331, 115, 113, 130, 241, 144, 56, 14, 39, 258, 277, 366, 72, 261, 8, 1, 248, 335, 369, 334, 358, 54, 345, 105, 53, 221, 247, 64, 301, 144, 282, 374, 39, 17, 354, 25, 176, 1, 218, 177, 140, 315, 309, 30, 392, 370, 139, 213, 71, 295, 298, 107, 246, 4, 163, 262, 368, 6, 140, 104, 97, 355, 330, 112, 203, 124, 224, 63, 34, 384, 329, 335, 195, 229, 119, 339, 297, 340, 271, 297, 101, 1, 3, 295, 159, 141, 286, 358, 180, 124, 298, 23, 193, 372, 176, 332, 203, 39, 292, 161, 92, 52, 179, 229, 85, 129, 325, 73, 345, 213, 87, 180, 59, 175, 172, 17, 289, 341, 161, 13, 326, 385, 322, 191, 101, 75, 312, 394, 293, 1, 394, 125, 177, 321, 185, 184, 352, 357, 336, 328, 230, 49, 142, 19, 263, 318, 202, 88, 68, 137, 249, 254, 139, 117, 1, 226, 2, 212, 219, 245, 220, 4, 394, 330, 101, 139, 284]}],                        {\"autosize\": true, \"height\": 800, \"template\": {\"data\": {\"bar\": [{\"error_x\": {\"color\": \"#2a3f5f\"}, \"error_y\": {\"color\": \"#2a3f5f\"}, \"marker\": {\"line\": {\"color\": \"#E5ECF6\", \"width\": 0.5}}, \"type\": \"bar\"}], \"barpolar\": [{\"marker\": {\"line\": {\"color\": \"#E5ECF6\", \"width\": 0.5}}, \"type\": \"barpolar\"}], \"carpet\": [{\"aaxis\": {\"endlinecolor\": \"#2a3f5f\", \"gridcolor\": \"white\", \"linecolor\": \"white\", \"minorgridcolor\": \"white\", \"startlinecolor\": \"#2a3f5f\"}, \"baxis\": {\"endlinecolor\": \"#2a3f5f\", \"gridcolor\": \"white\", \"linecolor\": \"white\", \"minorgridcolor\": \"white\", \"startlinecolor\": \"#2a3f5f\"}, \"type\": \"carpet\"}], \"choropleth\": [{\"colorbar\": {\"outlinewidth\": 0, \"ticks\": \"\"}, \"type\": \"choropleth\"}], \"contour\": [{\"colorbar\": {\"outlinewidth\": 0, \"ticks\": \"\"}, \"colorscale\": [[0.0, \"#0d0887\"], [0.1111111111111111, \"#46039f\"], [0.2222222222222222, \"#7201a8\"], [0.3333333333333333, \"#9c179e\"], [0.4444444444444444, \"#bd3786\"], [0.5555555555555556, \"#d8576b\"], [0.6666666666666666, \"#ed7953\"], [0.7777777777777778, \"#fb9f3a\"], [0.8888888888888888, \"#fdca26\"], [1.0, \"#f0f921\"]], \"type\": \"contour\"}], \"contourcarpet\": [{\"colorbar\": {\"outlinewidth\": 0, \"ticks\": \"\"}, \"type\": \"contourcarpet\"}], \"heatmap\": [{\"colorbar\": {\"outlinewidth\": 0, \"ticks\": \"\"}, \"colorscale\": [[0.0, \"#0d0887\"], [0.1111111111111111, \"#46039f\"], [0.2222222222222222, \"#7201a8\"], [0.3333333333333333, \"#9c179e\"], [0.4444444444444444, \"#bd3786\"], [0.5555555555555556, \"#d8576b\"], [0.6666666666666666, \"#ed7953\"], [0.7777777777777778, \"#fb9f3a\"], [0.8888888888888888, \"#fdca26\"], [1.0, \"#f0f921\"]], \"type\": \"heatmap\"}], \"heatmapgl\": [{\"colorbar\": {\"outlinewidth\": 0, \"ticks\": \"\"}, \"colorscale\": [[0.0, \"#0d0887\"], [0.1111111111111111, \"#46039f\"], [0.2222222222222222, \"#7201a8\"], [0.3333333333333333, \"#9c179e\"], [0.4444444444444444, \"#bd3786\"], [0.5555555555555556, \"#d8576b\"], [0.6666666666666666, \"#ed7953\"], [0.7777777777777778, \"#fb9f3a\"], [0.8888888888888888, \"#fdca26\"], [1.0, \"#f0f921\"]], \"type\": \"heatmapgl\"}], \"histogram\": [{\"marker\": {\"colorbar\": {\"outlinewidth\": 0, \"ticks\": \"\"}}, \"type\": \"histogram\"}], \"histogram2d\": [{\"colorbar\": {\"outlinewidth\": 0, \"ticks\": \"\"}, \"colorscale\": [[0.0, \"#0d0887\"], [0.1111111111111111, \"#46039f\"], [0.2222222222222222, \"#7201a8\"], [0.3333333333333333, \"#9c179e\"], [0.4444444444444444, \"#bd3786\"], [0.5555555555555556, \"#d8576b\"], [0.6666666666666666, \"#ed7953\"], [0.7777777777777778, \"#fb9f3a\"], [0.8888888888888888, \"#fdca26\"], [1.0, \"#f0f921\"]], \"type\": \"histogram2d\"}], \"histogram2dcontour\": [{\"colorbar\": {\"outlinewidth\": 0, \"ticks\": \"\"}, \"colorscale\": [[0.0, \"#0d0887\"], [0.1111111111111111, \"#46039f\"], [0.2222222222222222, \"#7201a8\"], [0.3333333333333333, \"#9c179e\"], [0.4444444444444444, \"#bd3786\"], [0.5555555555555556, \"#d8576b\"], [0.6666666666666666, \"#ed7953\"], [0.7777777777777778, \"#fb9f3a\"], [0.8888888888888888, \"#fdca26\"], [1.0, \"#f0f921\"]], \"type\": \"histogram2dcontour\"}], \"mesh3d\": [{\"colorbar\": {\"outlinewidth\": 0, \"ticks\": \"\"}, \"type\": \"mesh3d\"}], \"parcoords\": [{\"line\": {\"colorbar\": {\"outlinewidth\": 0, \"ticks\": \"\"}}, \"type\": \"parcoords\"}], \"pie\": [{\"automargin\": true, \"type\": \"pie\"}], \"scatter\": [{\"marker\": {\"colorbar\": {\"outlinewidth\": 0, \"ticks\": \"\"}}, \"type\": \"scatter\"}], \"scatter3d\": [{\"line\": {\"colorbar\": {\"outlinewidth\": 0, \"ticks\": \"\"}}, \"marker\": {\"colorbar\": {\"outlinewidth\": 0, \"ticks\": \"\"}}, \"type\": \"scatter3d\"}], \"scattercarpet\": [{\"marker\": {\"colorbar\": {\"outlinewidth\": 0, \"ticks\": \"\"}}, \"type\": \"scattercarpet\"}], \"scattergeo\": [{\"marker\": {\"colorbar\": {\"outlinewidth\": 0, \"ticks\": \"\"}}, \"type\": \"scattergeo\"}], \"scattergl\": [{\"marker\": {\"colorbar\": {\"outlinewidth\": 0, \"ticks\": \"\"}}, \"type\": \"scattergl\"}], \"scattermapbox\": [{\"marker\": {\"colorbar\": {\"outlinewidth\": 0, \"ticks\": \"\"}}, \"type\": \"scattermapbox\"}], \"scatterpolar\": [{\"marker\": {\"colorbar\": {\"outlinewidth\": 0, \"ticks\": \"\"}}, \"type\": \"scatterpolar\"}], \"scatterpolargl\": [{\"marker\": {\"colorbar\": {\"outlinewidth\": 0, \"ticks\": \"\"}}, \"type\": \"scatterpolargl\"}], \"scatterternary\": [{\"marker\": {\"colorbar\": {\"outlinewidth\": 0, \"ticks\": \"\"}}, \"type\": \"scatterternary\"}], \"surface\": [{\"colorbar\": {\"outlinewidth\": 0, \"ticks\": \"\"}, \"colorscale\": [[0.0, \"#0d0887\"], [0.1111111111111111, \"#46039f\"], [0.2222222222222222, \"#7201a8\"], [0.3333333333333333, \"#9c179e\"], [0.4444444444444444, \"#bd3786\"], [0.5555555555555556, \"#d8576b\"], [0.6666666666666666, \"#ed7953\"], [0.7777777777777778, \"#fb9f3a\"], [0.8888888888888888, \"#fdca26\"], [1.0, \"#f0f921\"]], \"type\": \"surface\"}], \"table\": [{\"cells\": {\"fill\": {\"color\": \"#EBF0F8\"}, \"line\": {\"color\": \"white\"}}, \"header\": {\"fill\": {\"color\": \"#C8D4E3\"}, \"line\": {\"color\": \"white\"}}, \"type\": \"table\"}]}, \"layout\": {\"annotationdefaults\": {\"arrowcolor\": \"#2a3f5f\", \"arrowhead\": 0, \"arrowwidth\": 1}, \"autotypenumbers\": \"strict\", \"coloraxis\": {\"colorbar\": {\"outlinewidth\": 0, \"ticks\": \"\"}}, \"colorscale\": {\"diverging\": [[0, \"#8e0152\"], [0.1, \"#c51b7d\"], [0.2, \"#de77ae\"], [0.3, \"#f1b6da\"], [0.4, \"#fde0ef\"], [0.5, \"#f7f7f7\"], [0.6, \"#e6f5d0\"], [0.7, \"#b8e186\"], [0.8, \"#7fbc41\"], [0.9, \"#4d9221\"], [1, \"#276419\"]], \"sequential\": [[0.0, \"#0d0887\"], [0.1111111111111111, \"#46039f\"], [0.2222222222222222, \"#7201a8\"], [0.3333333333333333, \"#9c179e\"], [0.4444444444444444, \"#bd3786\"], [0.5555555555555556, \"#d8576b\"], [0.6666666666666666, \"#ed7953\"], [0.7777777777777778, \"#fb9f3a\"], [0.8888888888888888, \"#fdca26\"], [1.0, \"#f0f921\"]], \"sequentialminus\": [[0.0, \"#0d0887\"], [0.1111111111111111, \"#46039f\"], [0.2222222222222222, \"#7201a8\"], [0.3333333333333333, \"#9c179e\"], [0.4444444444444444, \"#bd3786\"], [0.5555555555555556, \"#d8576b\"], [0.6666666666666666, \"#ed7953\"], [0.7777777777777778, \"#fb9f3a\"], [0.8888888888888888, \"#fdca26\"], [1.0, \"#f0f921\"]]}, \"colorway\": [\"#636efa\", \"#EF553B\", \"#00cc96\", \"#ab63fa\", \"#FFA15A\", \"#19d3f3\", \"#FF6692\", \"#B6E880\", \"#FF97FF\", \"#FECB52\"], \"font\": {\"color\": \"#2a3f5f\"}, \"geo\": {\"bgcolor\": \"white\", \"lakecolor\": \"white\", \"landcolor\": \"#E5ECF6\", \"showlakes\": true, \"showland\": true, \"subunitcolor\": \"white\"}, \"hoverlabel\": {\"align\": \"left\"}, \"hovermode\": \"closest\", \"mapbox\": {\"style\": \"light\"}, \"paper_bgcolor\": \"white\", \"plot_bgcolor\": \"#E5ECF6\", \"polar\": {\"angularaxis\": {\"gridcolor\": \"white\", \"linecolor\": \"white\", \"ticks\": \"\"}, \"bgcolor\": \"#E5ECF6\", \"radialaxis\": {\"gridcolor\": \"white\", \"linecolor\": \"white\", \"ticks\": \"\"}}, \"scene\": {\"xaxis\": {\"backgroundcolor\": \"#E5ECF6\", \"gridcolor\": \"white\", \"gridwidth\": 2, \"linecolor\": \"white\", \"showbackground\": true, \"ticks\": \"\", \"zerolinecolor\": \"white\"}, \"yaxis\": {\"backgroundcolor\": \"#E5ECF6\", \"gridcolor\": \"white\", \"gridwidth\": 2, \"linecolor\": \"white\", \"showbackground\": true, \"ticks\": \"\", \"zerolinecolor\": \"white\"}, \"zaxis\": {\"backgroundcolor\": \"#E5ECF6\", \"gridcolor\": \"white\", \"gridwidth\": 2, \"linecolor\": \"white\", \"showbackground\": true, \"ticks\": \"\", \"zerolinecolor\": \"white\"}}, \"shapedefaults\": {\"line\": {\"color\": \"#2a3f5f\"}}, \"ternary\": {\"aaxis\": {\"gridcolor\": \"white\", \"linecolor\": \"white\", \"ticks\": \"\"}, \"baxis\": {\"gridcolor\": \"white\", \"linecolor\": \"white\", \"ticks\": \"\"}, \"bgcolor\": \"#E5ECF6\", \"caxis\": {\"gridcolor\": \"white\", \"linecolor\": \"white\", \"ticks\": \"\"}}, \"title\": {\"x\": 0.05}, \"xaxis\": {\"automargin\": true, \"gridcolor\": \"white\", \"linecolor\": \"white\", \"ticks\": \"\", \"title\": {\"standoff\": 15}, \"zerolinecolor\": \"white\", \"zerolinewidth\": 2}, \"yaxis\": {\"automargin\": true, \"gridcolor\": \"white\", \"linecolor\": \"white\", \"ticks\": \"\", \"title\": {\"standoff\": 15}, \"zerolinecolor\": \"white\", \"zerolinewidth\": 2}}}, \"width\": 1200, \"xaxis\": {\"showgrid\": false, \"showticklabels\": false, \"zeroline\": false}, \"yaxis\": {\"showgrid\": false, \"showticklabels\": false, \"zeroline\": false}},                        {\"responsive\": true}                    ).then(function(){\n",
       "                            \n",
       "var gd = document.getElementById('9646e560-2d0d-4493-bdc1-6113088fae42');\n",
       "var x = new MutationObserver(function (mutations, observer) {{\n",
       "        var display = window.getComputedStyle(gd).display;\n",
       "        if (!display || display === 'none') {{\n",
       "            console.log([gd, 'removed!']);\n",
       "            Plotly.purge(gd);\n",
       "            observer.disconnect();\n",
       "        }}\n",
       "}});\n",
       "\n",
       "// Listen for the removal of the full notebook cells\n",
       "var notebookContainer = gd.closest('#notebook-container');\n",
       "if (notebookContainer) {{\n",
       "    x.observe(notebookContainer, {childList: true});\n",
       "}}\n",
       "\n",
       "// Listen for the clearing of the current output cell\n",
       "var outputEl = gd.closest('.output');\n",
       "if (outputEl) {{\n",
       "    x.observe(outputEl, {childList: true});\n",
       "}}\n",
       "\n",
       "                        })                };                });            </script>        </div>"
      ]
     },
     "metadata": {},
     "output_type": "display_data"
    }
   ],
   "source": [
    "# github \n",
    "def plotly_wordcloud(text):\n",
    "    wc = WordCloud(stopwords = set(STOPWORDS),\n",
    "                   max_words = 200,\n",
    "                   max_font_size = 100)\n",
    "    wc.generate(text)\n",
    "    \n",
    "    word_list=[]\n",
    "    freq_list=[]\n",
    "    fontsize_list=[]\n",
    "    position_list=[]\n",
    "    orientation_list=[]\n",
    "    color_list=[]\n",
    "\n",
    "    for (word, freq), fontsize, position, orientation, color in wc.layout_:\n",
    "        word_list.append(word)\n",
    "        freq_list.append(freq)\n",
    "        fontsize_list.append(fontsize)\n",
    "        position_list.append(position)\n",
    "        orientation_list.append(orientation)\n",
    "        color_list.append(color)\n",
    "        \n",
    "    # get the positions\n",
    "    x=[]\n",
    "    y=[]\n",
    "    for i in position_list:\n",
    "        x.append(i[0])\n",
    "        y.append(i[1])\n",
    "            \n",
    "    # get the relative occurence frequencies\n",
    "    new_freq_list = []\n",
    "    for i in freq_list:\n",
    "        new_freq_list.append(i*100)\n",
    "    new_freq_list\n",
    "    \n",
    "    trace = go.Scatter(x=x, \n",
    "                       y=y, \n",
    "                       textfont = dict(size=new_freq_list,\n",
    "                                       color=color_list),\n",
    "                       hoverinfo='text',\n",
    "                       hovertext=['{0}{1}'.format(w, f) for w, f in zip(word_list, freq_list)],\n",
    "                       mode='text',  \n",
    "                       text=word_list\n",
    "                      )\n",
    "    \n",
    "    layout = go.Layout({'xaxis': {'showgrid': False, 'showticklabels': False, 'zeroline': False},\n",
    "                        'yaxis': {'showgrid': False, 'showticklabels': False, 'zeroline': False}})\n",
    "    \n",
    "    fig = go.Figure(data=[trace], layout=layout)\n",
    "    \n",
    "    return fig\n",
    "### application sur tout la dataframe\n",
    "T=[]\n",
    "for k in range(len(df)):\n",
    "    T.append(df['Abstract'][k])\n",
    "    \n",
    "figwc=plotly_wordcloud(str(T))\n",
    "figwc['layout'].update(width=1200, height=800, autosize=True)\n",
    "figwc"
   ]
  },
  {
   "cell_type": "markdown",
   "metadata": {},
   "source": [
    "## 2-2 getting the necessary data to plot the graphes"
   ]
  },
  {
   "cell_type": "markdown",
   "metadata": {},
   "source": [
    "# 3 Graphes for each disease or IA tech"
   ]
  },
  {
   "cell_type": "markdown",
   "metadata": {},
   "source": [
    "# 4 pages for each deseas or each IA tech"
   ]
  },
  {
   "cell_type": "code",
   "execution_count": 95,
   "metadata": {},
   "outputs": [],
   "source": [
    "##### main page\n",
    "p_g = html.P([html.Div(children=[\n",
    "    # All elements from the top of the page\n",
    "    html.Div([\n",
    "            html.H1(children='Graphes des publications des articles des maladies incurables selon les pays'),\n",
    "            dcc.Graph(id='graph1',figure=fig_p\n",
    "            ),  \n",
    "        ])\n",
    "   ])\n",
    "])\n",
    "\n",
    "############\n",
    "px1 = html.P([html.Div(children=[\n",
    "    # All elements from the top of the page\n",
    "    html.Div([\n",
    "            html.H1(children='Cardiovascular diseas'),\n",
    "            dcc.Graph(id='graph1',figure=fig1\n",
    "            ),  \n",
    "        ])\n",
    "   ])\n",
    "])\n",
    "\n",
    "###############\n",
    "px2 = html.P([html.Div(children=[\n",
    "    # All elements from the top of the page\n",
    "    html.Div([\n",
    "            html.H1(children='Cancer'),\n",
    "            dcc.Graph(id='graph1',figure=fig2\n",
    "            ),  \n",
    "        ])\n",
    "   ])\n",
    "])\n",
    "######\n",
    "px3 = html.P([html.Div(children=[\n",
    "    # All elements from the top of the page\n",
    "    html.Div([\n",
    "            html.H1(children='Schizophrenia'),\n",
    "            dcc.Graph(id='graph1',figure=fig3\n",
    "            ),  \n",
    "        ])\n",
    "   ])\n",
    "])\n",
    "\n",
    "#####\n",
    "px4 = html.P([html.Div(children=[\n",
    "    # All elements from the top of the page\n",
    "    html.Div([\n",
    "            html.H1(children='Diabetes'),\n",
    "            dcc.Graph(id='graph1',figure=fig4\n",
    "            ),  \n",
    "        ])\n",
    "   ])\n",
    "])\n",
    "\n",
    "#####\n",
    "px5 = html.P([html.Div(children=[\n",
    "    # All elements from the top of the page\n",
    "    html.Div([\n",
    "            html.H1(children='AIDS'),\n",
    "            dcc.Graph(id='graph1',figure=fig5\n",
    "            ),  \n",
    "        ])\n",
    "   ])\n",
    "])\n",
    "\n",
    "\n",
    "######\n",
    "px6 = html.P([html.Div(children=[\n",
    "    # All elements from the top of the page\n",
    "    html.Div([\n",
    "            html.H1(children='Asthma'),\n",
    "            dcc.Graph(id='graph1',figure=fig6\n",
    "            ),\n",
    "        ])\n",
    "   ])\n",
    "])\n",
    "\n",
    "\n",
    "#######\n",
    "px7 = html.P([html.Div(children=[\n",
    "    # All elements from the top of the page\n",
    "    html.Div([\n",
    "            html.H1(children='Alzheimer'),\n",
    "            dcc.Graph(id='graph1',figure=fig7\n",
    "            ),\n",
    "        ])\n",
    "   ])\n",
    "])\n",
    "\n",
    "#######\n",
    "px8 = html.P([html.Div(children=[\n",
    "    # All elements from the top of the page\n",
    "    html.Div([\n",
    "            html.H1(children='Nuage des mots dans notre scrapping abstracts'),\n",
    "            dcc.Graph(id='graph1',figure=figwc\n",
    "            ),\n",
    "        ])\n",
    "   ])\n",
    "])"
   ]
  },
  {
   "cell_type": "code",
   "execution_count": null,
   "metadata": {},
   "outputs": [
    {
     "name": "stdout",
     "output_type": "stream",
     "text": [
      "Dash is running on http://127.0.0.1:8050/\n",
      "\n",
      "Dash is running on http://127.0.0.1:8050/\n",
      "\n",
      "Dash is running on http://127.0.0.1:8050/\n",
      "\n",
      "Dash is running on http://127.0.0.1:8050/\n",
      "\n",
      "Dash is running on http://127.0.0.1:8050/\n",
      "\n",
      " * Serving Flask app \"__main__\" (lazy loading)\n",
      " * Environment: production\n",
      "\u001b[31m   WARNING: This is a development server. Do not use it in a production deployment.\u001b[0m\n",
      "\u001b[2m   Use a production WSGI server instead.\u001b[0m\n",
      " * Debug mode: off\n"
     ]
    },
    {
     "name": "stderr",
     "output_type": "stream",
     "text": [
      " * Running on http://127.0.0.1:8050/ (Press CTRL+C to quit)\n",
      "127.0.0.1 - - [18/Mar/2021 01:26:33] \"\u001b[37mGET / HTTP/1.1\u001b[0m\" 200 -\n",
      "127.0.0.1 - - [18/Mar/2021 01:26:34] \"\u001b[37mGET /_dash-layout HTTP/1.1\u001b[0m\" 200 -\n",
      "127.0.0.1 - - [18/Mar/2021 01:26:34] \"\u001b[37mGET /_dash-dependencies HTTP/1.1\u001b[0m\" 200 -\n",
      "127.0.0.1 - - [18/Mar/2021 01:26:34] \"\u001b[37mPOST /_dash-update-component HTTP/1.1\u001b[0m\" 200 -\n",
      "127.0.0.1 - - [18/Mar/2021 01:26:35] \"\u001b[37mPOST /_dash-update-component HTTP/1.1\u001b[0m\" 200 -\n",
      "127.0.0.1 - - [18/Mar/2021 01:26:36] \"\u001b[37mPOST /_dash-update-component HTTP/1.1\u001b[0m\" 200 -\n",
      "127.0.0.1 - - [18/Mar/2021 01:26:37] \"\u001b[37mPOST /_dash-update-component HTTP/1.1\u001b[0m\" 200 -\n",
      "127.0.0.1 - - [18/Mar/2021 01:26:38] \"\u001b[37mPOST /_dash-update-component HTTP/1.1\u001b[0m\" 200 -\n",
      "127.0.0.1 - - [18/Mar/2021 01:26:39] \"\u001b[37mPOST /_dash-update-component HTTP/1.1\u001b[0m\" 200 -\n",
      "127.0.0.1 - - [18/Mar/2021 01:26:40] \"\u001b[37mPOST /_dash-update-component HTTP/1.1\u001b[0m\" 200 -\n",
      "127.0.0.1 - - [18/Mar/2021 01:26:41] \"\u001b[37mPOST /_dash-update-component HTTP/1.1\u001b[0m\" 200 -\n",
      "127.0.0.1 - - [18/Mar/2021 01:26:42] \"\u001b[37mPOST /_dash-update-component HTTP/1.1\u001b[0m\" 200 -\n"
     ]
    }
   ],
   "source": [
    "# 5 Run app\n",
    "@app.callback(Output(\"page-content\", \"children\"), [Input(\"url\", \"pathname\")])\n",
    "def render_page_content(pathname):\n",
    "    if pathname == \"/\":\n",
    "        return p_g\n",
    "    elif pathname == \"/page-1\":\n",
    "        return px1\n",
    "    elif pathname == \"/page-2\":\n",
    "        return px2\n",
    "    elif pathname == \"/page-3\":\n",
    "        return px3\n",
    "    elif pathname == \"/page-4\":\n",
    "        return px4\n",
    "    elif pathname == \"/page-5\":\n",
    "        return px5\n",
    "    elif pathname == \"/page-6\":\n",
    "        return px6\n",
    "    elif pathname == \"/page-7\":\n",
    "        return px7\n",
    "    elif pathname == \"/page-8\":\n",
    "        return px8\n",
    "        \n",
    "        \n",
    "    # If the user tries to reach a different page, return a 404 message\n",
    "    return dbc.Jumbotron(\n",
    "        [\n",
    "            html.H1(\"404: Not found\", className=\"text-danger\"),\n",
    "            html.Hr(),\n",
    "            html.P(f\"The pathname {pathname} was not recognised...\"),\n",
    "        ]\n",
    "    )\n",
    "\n",
    "if __name__ == '__main__':\n",
    "    app.run_server(debug=False)"
   ]
  },
  {
   "cell_type": "code",
   "execution_count": 3,
   "metadata": {},
   "outputs": [],
   "source": []
  },
  {
   "cell_type": "code",
   "execution_count": null,
   "metadata": {},
   "outputs": [],
   "source": [
    "\n"
   ]
  },
  {
   "cell_type": "code",
   "execution_count": null,
   "metadata": {},
   "outputs": [
    {
     "name": "stdout",
     "output_type": "stream",
     "text": [
      "Dash is running on http://127.0.0.1:8050/\n",
      "\n",
      " * Serving Flask app \"__main__\" (lazy loading)\n",
      " * Environment: production\n",
      "\u001b[31m   WARNING: This is a development server. Do not use it in a production deployment.\u001b[0m\n",
      "\u001b[2m   Use a production WSGI server instead.\u001b[0m\n",
      " * Debug mode: off\n"
     ]
    },
    {
     "name": "stderr",
     "output_type": "stream",
     "text": [
      " * Running on http://127.0.0.1:8050/ (Press CTRL+C to quit)\n",
      "127.0.0.1 - - [24/Feb/2021 22:21:44] \"\u001b[37mGET / HTTP/1.1\u001b[0m\" 200 -\n",
      "127.0.0.1 - - [24/Feb/2021 22:21:44] \"\u001b[37mGET /_dash-layout HTTP/1.1\u001b[0m\" 200 -\n",
      "127.0.0.1 - - [24/Feb/2021 22:21:44] \"\u001b[37mGET /_dash-dependencies HTTP/1.1\u001b[0m\" 200 -\n",
      "127.0.0.1 - - [24/Feb/2021 22:21:44] \"\u001b[37mPOST /_dash-update-component HTTP/1.1\u001b[0m\" 200 -\n",
      "127.0.0.1 - - [24/Feb/2021 22:21:46] \"\u001b[37mPOST /_dash-update-component HTTP/1.1\u001b[0m\" 200 -\n"
     ]
    }
   ],
   "source": []
  }
 ],
 "metadata": {
  "kernelspec": {
   "display_name": "Python 3",
   "language": "python",
   "name": "python3"
  },
  "language_info": {
   "codemirror_mode": {
    "name": "ipython",
    "version": 3
   },
   "file_extension": ".py",
   "mimetype": "text/x-python",
   "name": "python",
   "nbconvert_exporter": "python",
   "pygments_lexer": "ipython3",
   "version": "3.8.3"
  }
 },
 "nbformat": 4,
 "nbformat_minor": 4
}
